{
 "cells": [
  {
   "metadata": {},
   "cell_type": "markdown",
   "source": "# Décorateurs",
   "id": "4c73924d92cf9825"
  },
  {
   "cell_type": "code",
   "id": "initial_id",
   "metadata": {
    "collapsed": true,
    "ExecuteTime": {
     "end_time": "2025-06-04T10:00:57.490244Z",
     "start_time": "2025-06-04T10:00:57.487766Z"
    }
   },
   "source": [
    "def sandwich(garniture):\n",
    "    def wrapper(*args, **kwargs):\n",
    "        print(\"/TTTTTTTT\\\\\")\n",
    "        price = garniture(*args, **kwargs)\n",
    "        print(\"\\\\________/\")\n",
    "\n",
    "        return price + 2\n",
    "\n",
    "    return wrapper"
   ],
   "outputs": [],
   "execution_count": 18
  },
  {
   "metadata": {
    "ExecuteTime": {
     "end_time": "2025-06-04T10:01:26.418551Z",
     "start_time": "2025-06-04T10:01:26.413666Z"
    }
   },
   "cell_type": "code",
   "source": [
    "@sandwich\n",
    "def parisien():\n",
    "    print(\"Jambon\")\n",
    "    print(\"Beurre\")\n",
    "\n",
    "    return 8\n",
    "\n",
    "@sandwich\n",
    "def kebab(salade_tomate_oignons:bool=True):\n",
    "    if salade_tomate_oignons:\n",
    "        print(\"salade\")\n",
    "        print(\"tomates\")\n",
    "        print(\"oignons\")\n",
    "    print(\"viande\")\n",
    "    return 5.5\n",
    "\n",
    "parisien()\n",
    "print(parisien())\n",
    "kebab(salade_tomate_oignons=True)"
   ],
   "id": "47deda8c32461899",
   "outputs": [
    {
     "name": "stdout",
     "output_type": "stream",
     "text": [
      "/TTTTTTTT\\\n",
      "Jambon\n",
      "Beurre\n",
      "\\________/\n",
      "/TTTTTTTT\\\n",
      "Jambon\n",
      "Beurre\n",
      "\\________/\n",
      "10\n",
      "/TTTTTTTT\\\n",
      "salade\n",
      "tomates\n",
      "oignons\n",
      "viande\n",
      "\\________/\n"
     ]
    },
    {
     "data": {
      "text/plain": [
       "7.5"
      ]
     },
     "execution_count": 21,
     "metadata": {},
     "output_type": "execute_result"
    }
   ],
   "execution_count": 21
  },
  {
   "metadata": {},
   "cell_type": "code",
   "outputs": [],
   "execution_count": null,
   "source": "",
   "id": "164f92bdbdd55d3f"
  }
 ],
 "metadata": {
  "kernelspec": {
   "display_name": "Python 3",
   "language": "python",
   "name": "python3"
  },
  "language_info": {
   "codemirror_mode": {
    "name": "ipython",
    "version": 2
   },
   "file_extension": ".py",
   "mimetype": "text/x-python",
   "name": "python",
   "nbconvert_exporter": "python",
   "pygments_lexer": "ipython2",
   "version": "2.7.6"
  }
 },
 "nbformat": 4,
 "nbformat_minor": 5
}
