{
 "cells": [
  {
   "metadata": {},
   "cell_type": "markdown",
   "source": [
    "# Itérateurs\n",
    "\n",
    "Un **itérateur** est un objet qui permet de retourner le prochain élément d’un **itérable**. Les exemples les plus simples d’itérateurs sont les séquences mais aussi les générateurs.\n",
    "Un **itérable** est un objet implantant la méthode spéciale `__iter__()`  qui doit retourner un itérateur. Un **itérateur** est un objet implantant la méthode spéciale `__next__()`. Cette méthode doit retourner l’élément suivant ou lever une exception de type StopIteration."
   ],
   "id": "3a86d34434572aa5"
  },
  {
   "cell_type": "code",
   "id": "initial_id",
   "metadata": {
    "collapsed": true,
    "ExecuteTime": {
     "end_time": "2025-06-03T14:26:27.913380Z",
     "start_time": "2025-06-03T14:26:27.910926Z"
    }
   },
   "source": "camelot = [\"Arthur\", \"Merlin\", \"Lancelot\", \"Robin\", \"Perceval\", \"Karadoc\"]",
   "outputs": [],
   "execution_count": 3
  },
  {
   "metadata": {
    "ExecuteTime": {
     "end_time": "2025-06-03T14:26:28.271720Z",
     "start_time": "2025-06-03T14:26:28.269269Z"
    }
   },
   "cell_type": "code",
   "source": [
    "class kingdomIterator:\n",
    "    def __init__(self, kingdom):\n",
    "        self.kingdom:list = kingdom\n",
    "        self.cursor = 0\n",
    "\n",
    "    def __iter__(self):\n",
    "        return self\n",
    "\n",
    "    def __next__(self):\n",
    "        try:\n",
    "            element = self.kingdom[self.cursor]\n",
    "            self.cursor += 1\n",
    "            return element\n",
    "        except IndexError:\n",
    "            raise StopIteration()"
   ],
   "id": "a84231e90a28a2c2",
   "outputs": [],
   "execution_count": 4
  },
  {
   "metadata": {
    "ExecuteTime": {
     "end_time": "2025-06-03T14:26:29.517684Z",
     "start_time": "2025-06-03T14:26:29.515507Z"
    }
   },
   "cell_type": "code",
   "source": [
    "for items in kingdomIterator(camelot):\n",
    "    print(items)"
   ],
   "id": "bcef980439430a27",
   "outputs": [
    {
     "name": "stdout",
     "output_type": "stream",
     "text": [
      "Arthur\n",
      "Merlin\n",
      "Lancelot\n",
      "Robin\n",
      "Perceval\n",
      "Karadoc\n"
     ]
    }
   ],
   "execution_count": 5
  },
  {
   "metadata": {},
   "cell_type": "code",
   "outputs": [],
   "execution_count": null,
   "source": "",
   "id": "882a33cf306993df"
  }
 ],
 "metadata": {
  "kernelspec": {
   "display_name": "Python 3",
   "language": "python",
   "name": "python3"
  },
  "language_info": {
   "codemirror_mode": {
    "name": "ipython",
    "version": 2
   },
   "file_extension": ".py",
   "mimetype": "text/x-python",
   "name": "python",
   "nbconvert_exporter": "python",
   "pygments_lexer": "ipython2",
   "version": "2.7.6"
  }
 },
 "nbformat": 4,
 "nbformat_minor": 5
}
