{
 "cells": [
  {
   "metadata": {},
   "cell_type": "markdown",
   "source": "# Context Managers",
   "id": "3d0c2b3c320bd6f0"
  },
  {
   "cell_type": "code",
   "id": "initial_id",
   "metadata": {
    "collapsed": true,
    "ExecuteTime": {
     "end_time": "2025-06-04T14:29:16.533843Z",
     "start_time": "2025-06-04T14:29:16.530149Z"
    }
   },
   "source": [
    "class DemoContextManager:\n",
    "    def __init__(self):\n",
    "        self.name = \"my name\"\n",
    "\n",
    "    def __enter__(self):\n",
    "        print(\"Entering\")\n",
    "        return self\n",
    "\n",
    "    def __exit__(self, exc_type, exc_val, exc_tb):\n",
    "        print(exc_type)\n",
    "        print(exc_val)\n",
    "        print(exc_tb)\n",
    "\n",
    "        return 1\n",
    "\n",
    "    def say_hello(self):\n",
    "        print(\"Hello\")"
   ],
   "outputs": [],
   "execution_count": 10
  },
  {
   "metadata": {
    "ExecuteTime": {
     "end_time": "2025-06-04T14:29:16.985026Z",
     "start_time": "2025-06-04T14:29:16.982646Z"
    }
   },
   "cell_type": "code",
   "source": [
    "print(\"Before\")\n",
    "with DemoContextManager() as my_cm:\n",
    "    print(\"into\")\n",
    "\n",
    "    raise ValueError('coucou')\n",
    "\n",
    "print(\"After\")\n"
   ],
   "id": "3cb7cfeea842fb45",
   "outputs": [
    {
     "name": "stdout",
     "output_type": "stream",
     "text": [
      "Before\n",
      "Entering\n",
      "into\n",
      "<class 'ValueError'>\n",
      "coucou\n",
      "<traceback object at 0x10b0c3a00>\n",
      "After\n"
     ]
    }
   ],
   "execution_count": 11
  },
  {
   "metadata": {},
   "cell_type": "markdown",
   "source": [
    "## Exercices\n",
    "### Exercice 1"
   ],
   "id": "b8dbaaae0669612f"
  },
  {
   "metadata": {
    "ExecuteTime": {
     "end_time": "2025-06-04T14:42:28.029677Z",
     "start_time": "2025-06-04T14:42:27.954390Z"
    }
   },
   "cell_type": "code",
   "source": [
    "import time\n",
    "\n",
    "class TimeCounter:\n",
    "    def __enter__(self):\n",
    "        self.start = time.time()\n",
    "        return self\n",
    "\n",
    "    def __exit__(self, exc_type, exc_val, exc_tb):\n",
    "        self.end = time.time()\n",
    "        print(self.end - self.start, \"secondes se sont écoulées\")\n",
    "\n",
    "with TimeCounter():\n",
    "    for x in range(1_000_000):\n",
    "            y = x ** 2\n"
   ],
   "id": "4bcd2729e63efba",
   "outputs": [
    {
     "name": "stdout",
     "output_type": "stream",
     "text": [
      "0.06686115264892578 secondes se sont écoulées\n"
     ]
    }
   ],
   "execution_count": 12
  },
  {
   "metadata": {},
   "cell_type": "markdown",
   "source": "### Exercice 2",
   "id": "ea94168fcf0a1645"
  },
  {
   "metadata": {
    "ExecuteTime": {
     "end_time": "2025-06-04T15:04:07.320751Z",
     "start_time": "2025-06-04T15:04:07.316813Z"
    }
   },
   "cell_type": "code",
   "source": [
    "class IndentContext:\n",
    "    def __init__(self):\n",
    "        self.indent = -1\n",
    "\n",
    "    def print(self, sentence:str):\n",
    "        print(\"    \" * self.indent, end=\"\")\n",
    "        print(sentence)\n",
    "\n",
    "    def __enter__(self):\n",
    "        self.indent += 1\n",
    "\n",
    "        return self\n",
    "\n",
    "    def __exit__(self, exc_type, exc_val, exc_tb):\n",
    "        self.indent -= 1"
   ],
   "id": "6b19ff96bad3a0d6",
   "outputs": [],
   "execution_count": 20
  },
  {
   "metadata": {
    "ExecuteTime": {
     "end_time": "2025-06-04T15:04:07.535241Z",
     "start_time": "2025-06-04T15:04:07.532891Z"
    }
   },
   "cell_type": "code",
   "source": [
    "print('start')\n",
    "with IndentContext() as ic:\n",
    "    ic.print(\"une ligne\")\n",
    "    ic.print(\"une autre ligne\")\n",
    "    with ic:\n",
    "        ic.print(\"une ligne indentée\")\n",
    "    ic.print(\"une autre ligne\")"
   ],
   "id": "17b7f62b8a7f861d",
   "outputs": [
    {
     "name": "stdout",
     "output_type": "stream",
     "text": [
      "start\n",
      "une ligne\n",
      "une autre ligne\n",
      "    une ligne indentée\n",
      "une autre ligne\n"
     ]
    }
   ],
   "execution_count": 21
  },
  {
   "metadata": {},
   "cell_type": "markdown",
   "source": "### Exercice 3",
   "id": "800dcd8531510e5d"
  },
  {
   "metadata": {
    "ExecuteTime": {
     "end_time": "2025-06-05T07:43:50.837989Z",
     "start_time": "2025-06-05T07:43:50.834686Z"
    }
   },
   "cell_type": "code",
   "source": [
    "import os\n",
    "\n",
    "class changedir:\n",
    "    def __init__(self, target_dir):\n",
    "        self._target_dir = target_dir\n",
    "        self._from_dir = None\n",
    "\n",
    "    def __enter__(self):\n",
    "        self._from_dir = os.getcwd()\n",
    "        os.chdir(self._target_dir)\n",
    "\n",
    "        return self\n",
    "\n",
    "    def __exit__(self, exc_type, exc_val, exc_tb):\n",
    "        os.chdir(self._from_dir)\n",
    "        self._from_dir = None"
   ],
   "id": "5d4742ff53e279a",
   "outputs": [],
   "execution_count": 3
  },
  {
   "metadata": {
    "ExecuteTime": {
     "end_time": "2025-06-05T07:43:52.404519Z",
     "start_time": "2025-06-05T07:43:52.401103Z"
    }
   },
   "cell_type": "code",
   "source": [
    "print(os.getcwd())\n",
    "\n",
    "with changedir('/tmp'):\n",
    "    print(os.getcwd())\n",
    "\n",
    "print(os.getcwd())"
   ],
   "id": "4177a476eda03fa",
   "outputs": [
    {
     "name": "stdout",
     "output_type": "stream",
     "text": [
      "/Users/dad3zero/formation/formation_strasbourg/demos\n",
      "/private/tmp\n",
      "/Users/dad3zero/formation/formation_strasbourg/demos\n"
     ]
    }
   ],
   "execution_count": 4
  },
  {
   "metadata": {},
   "cell_type": "code",
   "outputs": [],
   "execution_count": null,
   "source": "",
   "id": "70c5092bf675ac7"
  }
 ],
 "metadata": {
  "kernelspec": {
   "display_name": "Python 3",
   "language": "python",
   "name": "python3"
  },
  "language_info": {
   "codemirror_mode": {
    "name": "ipython",
    "version": 2
   },
   "file_extension": ".py",
   "mimetype": "text/x-python",
   "name": "python",
   "nbconvert_exporter": "python",
   "pygments_lexer": "ipython2",
   "version": "2.7.6"
  }
 },
 "nbformat": 4,
 "nbformat_minor": 5
}
