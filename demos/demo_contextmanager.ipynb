{
 "cells": [
  {
   "metadata": {},
   "cell_type": "markdown",
   "source": "# Context Managers",
   "id": "3d0c2b3c320bd6f0"
  },
  {
   "cell_type": "code",
   "id": "initial_id",
   "metadata": {
    "collapsed": true,
    "ExecuteTime": {
     "end_time": "2025-06-04T14:29:16.533843Z",
     "start_time": "2025-06-04T14:29:16.530149Z"
    }
   },
   "source": [
    "class DemoContextManager:\n",
    "    def __init__(self):\n",
    "        self.name = \"my name\"\n",
    "\n",
    "    def __enter__(self):\n",
    "        print(\"Entering\")\n",
    "        return self\n",
    "\n",
    "    def __exit__(self, exc_type, exc_val, exc_tb):\n",
    "        print(exc_type)\n",
    "        print(exc_val)\n",
    "        print(exc_tb)\n",
    "\n",
    "        return 1\n",
    "\n",
    "    def say_hello(self):\n",
    "        print(\"Hello\")"
   ],
   "outputs": [],
   "execution_count": 10
  },
  {
   "metadata": {
    "ExecuteTime": {
     "end_time": "2025-06-04T14:29:16.985026Z",
     "start_time": "2025-06-04T14:29:16.982646Z"
    }
   },
   "cell_type": "code",
   "source": [
    "print(\"Before\")\n",
    "with DemoContextManager() as my_cm:\n",
    "    print(\"into\")\n",
    "\n",
    "    raise ValueError('coucou')\n",
    "\n",
    "print(\"After\")\n"
   ],
   "id": "3cb7cfeea842fb45",
   "outputs": [
    {
     "name": "stdout",
     "output_type": "stream",
     "text": [
      "Before\n",
      "Entering\n",
      "into\n",
      "<class 'ValueError'>\n",
      "coucou\n",
      "<traceback object at 0x10b0c3a00>\n",
      "After\n"
     ]
    }
   ],
   "execution_count": 11
  },
  {
   "metadata": {},
   "cell_type": "code",
   "outputs": [],
   "execution_count": null,
   "source": "",
   "id": "4bcd2729e63efba"
  }
 ],
 "metadata": {
  "kernelspec": {
   "display_name": "Python 3",
   "language": "python",
   "name": "python3"
  },
  "language_info": {
   "codemirror_mode": {
    "name": "ipython",
    "version": 2
   },
   "file_extension": ".py",
   "mimetype": "text/x-python",
   "name": "python",
   "nbconvert_exporter": "python",
   "pygments_lexer": "ipython2",
   "version": "2.7.6"
  }
 },
 "nbformat": 4,
 "nbformat_minor": 5
}
