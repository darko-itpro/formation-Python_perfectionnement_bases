{
 "cells": [
  {
   "metadata": {},
   "cell_type": "markdown",
   "source": "# Demo",
   "id": "8c08540428424324"
  },
  {
   "cell_type": "code",
   "id": "initial_id",
   "metadata": {
    "collapsed": true,
    "ExecuteTime": {
     "end_time": "2025-06-03T07:58:06.240684Z",
     "start_time": "2025-06-03T07:58:06.236878Z"
    }
   },
   "source": "from pylib.datasources import pyacademy",
   "outputs": [],
   "execution_count": 1
  },
  {
   "metadata": {
    "ExecuteTime": {
     "end_time": "2025-06-03T07:59:30.399345Z",
     "start_time": "2025-06-03T07:59:30.396236Z"
    }
   },
   "cell_type": "code",
   "source": [
    "students = (item for item in zip(pyacademy.load_students_list(),\n",
    "                                               pyacademy.load_grades(\"math\"),\n",
    "                                               pyacademy.load_grades(\"english\")))"
   ],
   "id": "3024739e5b30c0ac",
   "outputs": [],
   "execution_count": 5
  },
  {
   "metadata": {
    "ExecuteTime": {
     "end_time": "2025-06-03T07:59:41.189955Z",
     "start_time": "2025-06-03T07:59:41.186696Z"
    }
   },
   "cell_type": "code",
   "source": "students",
   "id": "c123848dc513ac77",
   "outputs": [
    {
     "data": {
      "text/plain": [
       "<generator object <genexpr> at 0x1045c3c40>"
      ]
     },
     "execution_count": 6,
     "metadata": {},
     "output_type": "execute_result"
    }
   ],
   "execution_count": 6
  },
  {
   "metadata": {
    "ExecuteTime": {
     "end_time": "2025-06-03T08:00:48.714659Z",
     "start_time": "2025-06-03T08:00:48.712063Z"
    }
   },
   "cell_type": "code",
   "source": [
    "for i in students:\n",
    "    print(i)"
   ],
   "id": "2c50e81623e0b37a",
   "outputs": [],
   "execution_count": 14
  },
  {
   "metadata": {
    "ExecuteTime": {
     "end_time": "2025-06-03T08:06:04.946433Z",
     "start_time": "2025-06-03T08:06:04.943145Z"
    }
   },
   "cell_type": "code",
   "source": [
    "def get_students():\n",
    "    for item in zip(pyacademy.load_students_list(),\n",
    "                                               pyacademy.load_grades(\"math\"),\n",
    "                                               pyacademy.load_grades(\"english\")):\n",
    "        yield item\n",
    "\n",
    "    for item in zip(pyacademy.load_students_list(),\n",
    "                                               pyacademy.load_grades(\"math\"),\n",
    "                                               pyacademy.load_grades(\"english\")):\n",
    "        yield item\n",
    "    print(\"done\")"
   ],
   "id": "401c7fc51863f72c",
   "outputs": [],
   "execution_count": 21
  },
  {
   "metadata": {
    "ExecuteTime": {
     "end_time": "2025-06-03T08:06:06.756861Z",
     "start_time": "2025-06-03T08:06:06.753884Z"
    }
   },
   "cell_type": "code",
   "source": [
    "for i in get_students():\n",
    "    print(i)"
   ],
   "id": "c5cfefd0644a0f1a",
   "outputs": [
    {
     "name": "stdout",
     "output_type": "stream",
     "text": [
      "('Agnan', 20, 19)\n",
      "('Alceste', 15, 14)\n",
      "('Clotaire', 2, 3)\n",
      "('Eudes', 17, 15)\n",
      "('Geoffroy', 15, 8)\n",
      "('Joachim', 6, 12)\n",
      "('Maixent', 9, 13)\n",
      "('Nicolas', 12, 14)\n",
      "('Rufus', 14, 16)\n",
      "done\n"
     ]
    }
   ],
   "execution_count": 22
  },
  {
   "metadata": {},
   "cell_type": "code",
   "outputs": [],
   "execution_count": null,
   "source": "",
   "id": "82ab0676aa5534a4"
  },
  {
   "metadata": {},
   "cell_type": "code",
   "outputs": [],
   "execution_count": null,
   "source": [
    "network = get_network()\n",
    "\n",
    "if network:\n",
    "    import webservice as ds\n",
    "else:\n",
    "    import localcache as ds\n",
    "\n",
    "ds.save(data)"
   ],
   "id": "26cb94f3ee1c7859"
  }
 ],
 "metadata": {
  "kernelspec": {
   "display_name": "Python 3",
   "language": "python",
   "name": "python3"
  },
  "language_info": {
   "codemirror_mode": {
    "name": "ipython",
    "version": 2
   },
   "file_extension": ".py",
   "mimetype": "text/x-python",
   "name": "python",
   "nbconvert_exporter": "python",
   "pygments_lexer": "ipython2",
   "version": "2.7.6"
  }
 },
 "nbformat": 4,
 "nbformat_minor": 5
}
