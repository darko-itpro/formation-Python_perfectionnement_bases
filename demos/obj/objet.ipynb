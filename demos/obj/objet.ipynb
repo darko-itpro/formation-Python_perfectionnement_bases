{
 "cells": [
  {
   "metadata": {},
   "cell_type": "markdown",
   "source": "# La programmation orientée objet",
   "id": "999220d1125c244d"
  },
  {
   "cell_type": "code",
   "id": "initial_id",
   "metadata": {
    "collapsed": true,
    "ExecuteTime": {
     "end_time": "2025-06-19T12:55:55.283204Z",
     "start_time": "2025-06-19T12:55:55.277886Z"
    }
   },
   "source": [
    "class Training:\n",
    "    def __init__(self, subject:str, duration:int, seats:int=12):\n",
    "        self._subject = subject.title()\n",
    "        self.duration = duration\n",
    "        self._students = []\n",
    "        self.seats = seats\n",
    "\n",
    "    @property\n",
    "    def available_seats(self):\n",
    "        return self.seats - len(self._students)\n",
    "\n",
    "\n",
    "    @classmethod\n",
    "    def create_with_students(cls, subject:str, duration:int, seats:int=12, students:list=None):\n",
    "        training = cls.__init__(subject=subject, duration=duration, seats=seats)\n",
    "        for student in students:\n",
    "            training.add_student(student)\n",
    "\n",
    "        return training\n",
    "\n",
    "    @property\n",
    "    def students(self):\n",
    "        return self._students.copy()\n",
    "\n",
    "    @property\n",
    "    def subject(self):\n",
    "        return self._subject\n",
    "\n",
    "    @subject.setter\n",
    "    def subject(self, new_name):\n",
    "        self._subject = new_name.title()\n",
    "\n",
    "    def add_student(self, name):\n",
    "        if len(self._students) >= self.seats:\n",
    "            raise ValueError('Too many students.')\n",
    "\n",
    "        self._students.append(name)\n",
    "\n",
    "    def __str__(self):\n",
    "        return f'Training \"{self.subject}\" with {self.seats} seats.'\n",
    "\n",
    "    def __repr__(self):\n",
    "        return f'Training({self.subject}, {self.duration}, {self.seats})'\n",
    "\n"
   ],
   "outputs": [],
   "execution_count": 104
  },
  {
   "metadata": {
    "ExecuteTime": {
     "end_time": "2025-06-19T12:55:55.848215Z",
     "start_time": "2025-06-19T12:55:55.845402Z"
    }
   },
   "cell_type": "code",
   "source": "t = Training(\"Python\", 5, 2)",
   "id": "3f29a4bd0143a642",
   "outputs": [],
   "execution_count": 105
  },
  {
   "metadata": {
    "ExecuteTime": {
     "end_time": "2025-06-19T12:55:56.623903Z",
     "start_time": "2025-06-19T12:55:56.621938Z"
    }
   },
   "cell_type": "code",
   "source": [
    "t.add_student(\"Kevin\")\n",
    "t.add_student(\"Mitnick\")"
   ],
   "id": "e2d884cd2e912921",
   "outputs": [],
   "execution_count": 106
  },
  {
   "metadata": {
    "ExecuteTime": {
     "end_time": "2025-06-19T12:55:57.216202Z",
     "start_time": "2025-06-19T12:55:57.212225Z"
    }
   },
   "cell_type": "code",
   "source": "t.students\n",
   "id": "6586096f2de16e44",
   "outputs": [
    {
     "data": {
      "text/plain": [
       "['Kevin', 'Mitnick']"
      ]
     },
     "execution_count": 107,
     "metadata": {},
     "output_type": "execute_result"
    }
   ],
   "execution_count": 107
  },
  {
   "metadata": {
    "ExecuteTime": {
     "end_time": "2025-06-19T12:55:59.037786Z",
     "start_time": "2025-06-19T12:55:59.005912Z"
    }
   },
   "cell_type": "code",
   "source": "t.add_student(\"Elliot\")",
   "id": "6030988d66b8db3",
   "outputs": [
    {
     "ename": "ValueError",
     "evalue": "Too many students.",
     "output_type": "error",
     "traceback": [
      "\u001B[31m---------------------------------------------------------------------------\u001B[39m",
      "\u001B[31mValueError\u001B[39m                                Traceback (most recent call last)",
      "\u001B[36mCell\u001B[39m\u001B[36m \u001B[39m\u001B[32mIn[108]\u001B[39m\u001B[32m, line 1\u001B[39m\n\u001B[32m----> \u001B[39m\u001B[32m1\u001B[39m \u001B[43mt\u001B[49m\u001B[43m.\u001B[49m\u001B[43madd_student\u001B[49m\u001B[43m(\u001B[49m\u001B[33;43m\"\u001B[39;49m\u001B[33;43mElliot\u001B[39;49m\u001B[33;43m\"\u001B[39;49m\u001B[43m)\u001B[49m\n",
      "\u001B[36mCell\u001B[39m\u001B[36m \u001B[39m\u001B[32mIn[104]\u001B[39m\u001B[32m, line 22\u001B[39m, in \u001B[36mTraining.add_student\u001B[39m\u001B[34m(self, name)\u001B[39m\n\u001B[32m     20\u001B[39m \u001B[38;5;28;01mdef\u001B[39;00m\u001B[38;5;250m \u001B[39m\u001B[34madd_student\u001B[39m(\u001B[38;5;28mself\u001B[39m, name):\n\u001B[32m     21\u001B[39m     \u001B[38;5;28;01mif\u001B[39;00m \u001B[38;5;28mlen\u001B[39m(\u001B[38;5;28mself\u001B[39m._students) >= \u001B[38;5;28mself\u001B[39m.seats:\n\u001B[32m---> \u001B[39m\u001B[32m22\u001B[39m         \u001B[38;5;28;01mraise\u001B[39;00m \u001B[38;5;167;01mValueError\u001B[39;00m(\u001B[33m'\u001B[39m\u001B[33mToo many students.\u001B[39m\u001B[33m'\u001B[39m)\n\u001B[32m     24\u001B[39m     \u001B[38;5;28mself\u001B[39m._students.append(name)\n",
      "\u001B[31mValueError\u001B[39m: Too many students."
     ]
    }
   ],
   "execution_count": 108
  },
  {
   "metadata": {
    "ExecuteTime": {
     "end_time": "2025-06-19T12:56:03.267547Z",
     "start_time": "2025-06-19T12:56:03.265127Z"
    }
   },
   "cell_type": "code",
   "source": [
    "session = t.students\n",
    "session"
   ],
   "id": "4e416632a84dd797",
   "outputs": [
    {
     "data": {
      "text/plain": [
       "['Kevin', 'Mitnick']"
      ]
     },
     "execution_count": 109,
     "metadata": {},
     "output_type": "execute_result"
    }
   ],
   "execution_count": 109
  },
  {
   "metadata": {
    "ExecuteTime": {
     "end_time": "2025-06-19T12:56:04.473052Z",
     "start_time": "2025-06-19T12:56:04.469997Z"
    }
   },
   "cell_type": "code",
   "source": "session.append(\"Elliot\")",
   "id": "85d2912fc5aeaaa2",
   "outputs": [],
   "execution_count": 110
  },
  {
   "metadata": {
    "ExecuteTime": {
     "end_time": "2025-06-19T12:56:06.319561Z",
     "start_time": "2025-06-19T12:56:06.315777Z"
    }
   },
   "cell_type": "code",
   "source": "session",
   "id": "8e8afda69226b3da",
   "outputs": [
    {
     "data": {
      "text/plain": [
       "['Kevin', 'Mitnick', 'Elliot']"
      ]
     },
     "execution_count": 111,
     "metadata": {},
     "output_type": "execute_result"
    }
   ],
   "execution_count": 111
  },
  {
   "metadata": {
    "ExecuteTime": {
     "end_time": "2025-06-19T12:56:08.453610Z",
     "start_time": "2025-06-19T12:56:08.449838Z"
    }
   },
   "cell_type": "code",
   "source": "t.students",
   "id": "a8fc50dda0fc203a",
   "outputs": [
    {
     "data": {
      "text/plain": [
       "['Kevin', 'Mitnick']"
      ]
     },
     "execution_count": 112,
     "metadata": {},
     "output_type": "execute_result"
    }
   ],
   "execution_count": 112
  },
  {
   "metadata": {},
   "cell_type": "code",
   "outputs": [],
   "execution_count": null,
   "source": "",
   "id": "dfe6b017e38fe8aa"
  },
  {
   "metadata": {},
   "cell_type": "code",
   "outputs": [],
   "execution_count": null,
   "source": [
    "from datetime import datetime\n",
    "\n",
    "class Venue:\n",
    "    def __init__(self, address, room, seats):\n",
    "        self.address = address\n",
    "        self.room = room\n",
    "        self.seats = seats\n",
    "\n",
    "class TrainingSession:\n",
    "    def __init__(self, subject:str, duration:int, max_seats, start:datetime, venue:Venue):\n",
    "        self._subject = subject.title()\n",
    "        self.duration = duration\n",
    "        self._students = []\n",
    "        self._max_seats = max_seats\n",
    "        self._start = start\n",
    "        self._venue = venue\n",
    "\n",
    "    @property\n",
    "    def seats(self):\n",
    "        return min(self._max_seats, self._venue.seats)\n",
    "\n",
    "    @property\n",
    "    def available_seats(self):\n",
    "        return self.seats - len(self._students)"
   ],
   "id": "862491038de55e95"
  },
  {
   "metadata": {
    "ExecuteTime": {
     "end_time": "2025-06-19T14:08:35.445900Z",
     "start_time": "2025-06-19T14:08:35.440943Z"
    }
   },
   "cell_type": "code",
   "source": [
    "class DemoItem:\n",
    "    def __getitem__(self, item):\n",
    "        if isinstance(item, slice):\n",
    "\n",
    "        print(item, type(item))"
   ],
   "id": "8d2816e8f6fa972f",
   "outputs": [],
   "execution_count": 113
  },
  {
   "metadata": {
    "ExecuteTime": {
     "end_time": "2025-06-19T14:14:05.822269Z",
     "start_time": "2025-06-19T14:14:05.818942Z"
    }
   },
   "cell_type": "code",
   "source": [
    "di = DemoItem()\n",
    "di[(1, 8):\"toto\":\"titi\"]"
   ],
   "id": "26c77eb0e395cb5a",
   "outputs": [
    {
     "name": "stdout",
     "output_type": "stream",
     "text": [
      "slice((1, 8), 'toto', 'titi') <class 'slice'>\n"
     ]
    }
   ],
   "execution_count": 120
  },
  {
   "metadata": {
    "ExecuteTime": {
     "end_time": "2025-06-19T14:13:26.315075Z",
     "start_time": "2025-06-19T14:13:26.312045Z"
    }
   },
   "cell_type": "code",
   "source": "s = slice(2, 8, 9)",
   "id": "eb596ee37f205927",
   "outputs": [],
   "execution_count": 119
  },
  {
   "metadata": {},
   "cell_type": "code",
   "outputs": [],
   "execution_count": null,
   "source": "seq[2:6]",
   "id": "d5ce6e7893ae89c2"
  }
 ],
 "metadata": {
  "kernelspec": {
   "display_name": "Python 3",
   "language": "python",
   "name": "python3"
  },
  "language_info": {
   "codemirror_mode": {
    "name": "ipython",
    "version": 2
   },
   "file_extension": ".py",
   "mimetype": "text/x-python",
   "name": "python",
   "nbconvert_exporter": "python",
   "pygments_lexer": "ipython2",
   "version": "2.7.6"
  }
 },
 "nbformat": 4,
 "nbformat_minor": 5
}
