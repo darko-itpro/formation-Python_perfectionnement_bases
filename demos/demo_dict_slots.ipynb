{
 "cells": [
  {
   "metadata": {},
   "cell_type": "markdown",
   "source": "# Dicts and Slots",
   "id": "ac1bd38314b66ad9"
  },
  {
   "cell_type": "code",
   "id": "initial_id",
   "metadata": {
    "collapsed": true,
    "ExecuteTime": {
     "end_time": "2025-06-04T07:14:57.591019Z",
     "start_time": "2025-06-04T07:14:57.588804Z"
    }
   },
   "source": [
    "class Point:\n",
    "    def __init__(self, x, y):\n",
    "        self.x = x\n",
    "        self.y = y\n",
    "\n",
    "    def distance(self, x_other, y_other):\n",
    "        pass"
   ],
   "outputs": [],
   "execution_count": 2
  },
  {
   "metadata": {
    "ExecuteTime": {
     "end_time": "2025-06-04T07:15:03.361403Z",
     "start_time": "2025-06-04T07:15:03.359219Z"
    }
   },
   "cell_type": "code",
   "source": [
    "p = Point(6, 2)\n",
    "print(p.x, p.y)"
   ],
   "id": "252168294d7043e6",
   "outputs": [
    {
     "name": "stdout",
     "output_type": "stream",
     "text": [
      "6 2\n"
     ]
    }
   ],
   "execution_count": 3
  },
  {
   "metadata": {
    "ExecuteTime": {
     "end_time": "2025-06-04T07:15:15.640739Z",
     "start_time": "2025-06-04T07:15:15.636442Z"
    }
   },
   "cell_type": "code",
   "source": "dir(p)",
   "id": "feb48b46cbffe583",
   "outputs": [
    {
     "data": {
      "text/plain": [
       "['__class__',\n",
       " '__delattr__',\n",
       " '__dict__',\n",
       " '__dir__',\n",
       " '__doc__',\n",
       " '__eq__',\n",
       " '__firstlineno__',\n",
       " '__format__',\n",
       " '__ge__',\n",
       " '__getattribute__',\n",
       " '__getstate__',\n",
       " '__gt__',\n",
       " '__hash__',\n",
       " '__init__',\n",
       " '__init_subclass__',\n",
       " '__le__',\n",
       " '__lt__',\n",
       " '__module__',\n",
       " '__ne__',\n",
       " '__new__',\n",
       " '__reduce__',\n",
       " '__reduce_ex__',\n",
       " '__repr__',\n",
       " '__setattr__',\n",
       " '__sizeof__',\n",
       " '__static_attributes__',\n",
       " '__str__',\n",
       " '__subclasshook__',\n",
       " '__weakref__',\n",
       " 'distance',\n",
       " 'x',\n",
       " 'y']"
      ]
     },
     "execution_count": 4,
     "metadata": {},
     "output_type": "execute_result"
    }
   ],
   "execution_count": 4
  },
  {
   "metadata": {
    "ExecuteTime": {
     "end_time": "2025-06-04T07:15:34.776264Z",
     "start_time": "2025-06-04T07:15:34.773839Z"
    }
   },
   "cell_type": "code",
   "source": "p.__dict__",
   "id": "b4b2b8de282359d4",
   "outputs": [
    {
     "data": {
      "text/plain": [
       "{'x': 6, 'y': 2}"
      ]
     },
     "execution_count": 5,
     "metadata": {},
     "output_type": "execute_result"
    }
   ],
   "execution_count": 5
  },
  {
   "metadata": {
    "ExecuteTime": {
     "end_time": "2025-06-04T07:16:06.935321Z",
     "start_time": "2025-06-04T07:16:06.933162Z"
    }
   },
   "cell_type": "code",
   "source": "p.__dict__[\"x\"] = 8",
   "id": "881052673cdace60",
   "outputs": [],
   "execution_count": 6
  },
  {
   "metadata": {
    "ExecuteTime": {
     "end_time": "2025-06-04T07:16:09.030099Z",
     "start_time": "2025-06-04T07:16:09.027007Z"
    }
   },
   "cell_type": "code",
   "source": "p.x",
   "id": "ff59203d2026deca",
   "outputs": [
    {
     "data": {
      "text/plain": [
       "8"
      ]
     },
     "execution_count": 7,
     "metadata": {},
     "output_type": "execute_result"
    }
   ],
   "execution_count": 7
  },
  {
   "metadata": {
    "ExecuteTime": {
     "end_time": "2025-06-04T07:16:27.492697Z",
     "start_time": "2025-06-04T07:16:27.490914Z"
    }
   },
   "cell_type": "code",
   "source": "p.__dict__[\"z\"] = 10",
   "id": "95ee91f866fbcc45",
   "outputs": [],
   "execution_count": 8
  },
  {
   "metadata": {
    "ExecuteTime": {
     "end_time": "2025-06-04T07:16:30.617589Z",
     "start_time": "2025-06-04T07:16:30.615502Z"
    }
   },
   "cell_type": "code",
   "source": "p.z",
   "id": "214a6d8d4eda5b20",
   "outputs": [
    {
     "data": {
      "text/plain": [
       "10"
      ]
     },
     "execution_count": 9,
     "metadata": {},
     "output_type": "execute_result"
    }
   ],
   "execution_count": 9
  },
  {
   "metadata": {
    "ExecuteTime": {
     "end_time": "2025-06-04T07:18:05.014157Z",
     "start_time": "2025-06-04T07:18:05.012043Z"
    }
   },
   "cell_type": "code",
   "source": [
    "class Point:\n",
    "    __slots__ = (\"x\", \"y\")\n",
    "    def __init__(self, x, y):\n",
    "        self.x = x\n",
    "        self.y = y\n",
    "\n",
    "    def distance(self, x_other, y_other):\n",
    "        pass"
   ],
   "id": "8bf0c1022111a0e",
   "outputs": [],
   "execution_count": 10
  },
  {
   "metadata": {
    "ExecuteTime": {
     "end_time": "2025-06-04T07:18:12.571829Z",
     "start_time": "2025-06-04T07:18:12.570128Z"
    }
   },
   "cell_type": "code",
   "source": "p = Point(6, 2)",
   "id": "f0e55b3e7647544",
   "outputs": [],
   "execution_count": 11
  },
  {
   "metadata": {
    "ExecuteTime": {
     "end_time": "2025-06-04T07:18:16.103020Z",
     "start_time": "2025-06-04T07:18:16.100713Z"
    }
   },
   "cell_type": "code",
   "source": "dir(p)",
   "id": "fe886fe99ce153d",
   "outputs": [
    {
     "data": {
      "text/plain": [
       "['__class__',\n",
       " '__delattr__',\n",
       " '__dir__',\n",
       " '__doc__',\n",
       " '__eq__',\n",
       " '__firstlineno__',\n",
       " '__format__',\n",
       " '__ge__',\n",
       " '__getattribute__',\n",
       " '__getstate__',\n",
       " '__gt__',\n",
       " '__hash__',\n",
       " '__init__',\n",
       " '__init_subclass__',\n",
       " '__le__',\n",
       " '__lt__',\n",
       " '__module__',\n",
       " '__ne__',\n",
       " '__new__',\n",
       " '__reduce__',\n",
       " '__reduce_ex__',\n",
       " '__repr__',\n",
       " '__setattr__',\n",
       " '__sizeof__',\n",
       " '__slots__',\n",
       " '__static_attributes__',\n",
       " '__str__',\n",
       " '__subclasshook__',\n",
       " 'distance',\n",
       " 'x',\n",
       " 'y']"
      ]
     },
     "execution_count": 12,
     "metadata": {},
     "output_type": "execute_result"
    }
   ],
   "execution_count": 12
  },
  {
   "metadata": {
    "ExecuteTime": {
     "end_time": "2025-06-04T07:18:57.339880Z",
     "start_time": "2025-06-04T07:18:57.337252Z"
    }
   },
   "cell_type": "code",
   "source": "p.__slots__",
   "id": "1fa2b3a6aed2d857",
   "outputs": [
    {
     "data": {
      "text/plain": [
       "('x', 'y')"
      ]
     },
     "execution_count": 13,
     "metadata": {},
     "output_type": "execute_result"
    }
   ],
   "execution_count": 13
  },
  {
   "metadata": {
    "ExecuteTime": {
     "end_time": "2025-06-04T07:19:04.403096Z",
     "start_time": "2025-06-04T07:19:04.400517Z"
    }
   },
   "cell_type": "code",
   "source": "p.x",
   "id": "f1b6590c6751adc7",
   "outputs": [
    {
     "data": {
      "text/plain": [
       "6"
      ]
     },
     "execution_count": 14,
     "metadata": {},
     "output_type": "execute_result"
    }
   ],
   "execution_count": 14
  },
  {
   "metadata": {
    "ExecuteTime": {
     "end_time": "2025-06-04T07:19:08.667770Z",
     "start_time": "2025-06-04T07:19:08.666207Z"
    }
   },
   "cell_type": "code",
   "source": "p.x = 10",
   "id": "fb9c4f37c2beef85",
   "outputs": [],
   "execution_count": 15
  },
  {
   "metadata": {
    "ExecuteTime": {
     "end_time": "2025-06-04T07:19:26.966058Z",
     "start_time": "2025-06-04T07:19:26.875797Z"
    }
   },
   "cell_type": "code",
   "source": "p.z = 4",
   "id": "dc15b2e5b06b258",
   "outputs": [
    {
     "ename": "AttributeError",
     "evalue": "'Point' object has no attribute 'z' and no __dict__ for setting new attributes",
     "output_type": "error",
     "traceback": [
      "\u001B[31m---------------------------------------------------------------------------\u001B[39m",
      "\u001B[31mAttributeError\u001B[39m                            Traceback (most recent call last)",
      "\u001B[36mCell\u001B[39m\u001B[36m \u001B[39m\u001B[32mIn[16]\u001B[39m\u001B[32m, line 1\u001B[39m\n\u001B[32m----> \u001B[39m\u001B[32m1\u001B[39m \u001B[43mp\u001B[49m\u001B[43m.\u001B[49m\u001B[43mz\u001B[49m = \u001B[32m4\u001B[39m\n",
      "\u001B[31mAttributeError\u001B[39m: 'Point' object has no attribute 'z' and no __dict__ for setting new attributes"
     ]
    }
   ],
   "execution_count": 16
  },
  {
   "metadata": {
    "ExecuteTime": {
     "end_time": "2025-06-04T07:19:52.149570Z",
     "start_time": "2025-06-04T07:19:52.147746Z"
    }
   },
   "cell_type": "code",
   "source": "del(p.x)",
   "id": "88a73bab46d8c0a4",
   "outputs": [],
   "execution_count": 17
  },
  {
   "metadata": {
    "ExecuteTime": {
     "end_time": "2025-06-04T07:19:56.316828Z",
     "start_time": "2025-06-04T07:19:56.301401Z"
    }
   },
   "cell_type": "code",
   "source": "p.x",
   "id": "fbeb0435ab9647f0",
   "outputs": [
    {
     "ename": "AttributeError",
     "evalue": "'Point' object has no attribute 'x'",
     "output_type": "error",
     "traceback": [
      "\u001B[31m---------------------------------------------------------------------------\u001B[39m",
      "\u001B[31mAttributeError\u001B[39m                            Traceback (most recent call last)",
      "\u001B[36mCell\u001B[39m\u001B[36m \u001B[39m\u001B[32mIn[18]\u001B[39m\u001B[32m, line 1\u001B[39m\n\u001B[32m----> \u001B[39m\u001B[32m1\u001B[39m \u001B[43mp\u001B[49m\u001B[43m.\u001B[49m\u001B[43mx\u001B[49m\n",
      "\u001B[31mAttributeError\u001B[39m: 'Point' object has no attribute 'x'"
     ]
    }
   ],
   "execution_count": 18
  },
  {
   "metadata": {
    "ExecuteTime": {
     "end_time": "2025-06-04T07:20:08.654592Z",
     "start_time": "2025-06-04T07:20:08.652367Z"
    }
   },
   "cell_type": "code",
   "source": "p.__slots__",
   "id": "8d5f76651b124d47",
   "outputs": [
    {
     "data": {
      "text/plain": [
       "('x', 'y')"
      ]
     },
     "execution_count": 19,
     "metadata": {},
     "output_type": "execute_result"
    }
   ],
   "execution_count": 19
  },
  {
   "metadata": {},
   "cell_type": "code",
   "outputs": [],
   "execution_count": null,
   "source": "",
   "id": "523a9461ed85bfe"
  }
 ],
 "metadata": {
  "kernelspec": {
   "display_name": "Python 3",
   "language": "python",
   "name": "python3"
  },
  "language_info": {
   "codemirror_mode": {
    "name": "ipython",
    "version": 2
   },
   "file_extension": ".py",
   "mimetype": "text/x-python",
   "name": "python",
   "nbconvert_exporter": "python",
   "pygments_lexer": "ipython2",
   "version": "2.7.6"
  }
 },
 "nbformat": 4,
 "nbformat_minor": 5
}
