{
 "cells": [
  {
   "metadata": {},
   "cell_type": "markdown",
   "source": "# Closures",
   "id": "ff283e9b9f17a7f2"
  },
  {
   "cell_type": "code",
   "id": "initial_id",
   "metadata": {
    "collapsed": true,
    "ExecuteTime": {
     "end_time": "2025-06-04T08:53:22.604375Z",
     "start_time": "2025-06-04T08:53:22.602230Z"
    }
   },
   "source": [
    "def outer(name):\n",
    "\n",
    "\n",
    "    def inner():\n",
    "        print(name)\n",
    "\n",
    "    return inner"
   ],
   "outputs": [],
   "execution_count": 11
  },
  {
   "metadata": {
    "ExecuteTime": {
     "end_time": "2025-06-04T08:53:36.838691Z",
     "start_time": "2025-06-04T08:53:36.837050Z"
    }
   },
   "cell_type": "code",
   "source": "me = outer(\"my name\")",
   "id": "eea242443e840f06",
   "outputs": [],
   "execution_count": 14
  },
  {
   "metadata": {
    "ExecuteTime": {
     "end_time": "2025-06-04T08:53:37.861802Z",
     "start_time": "2025-06-04T08:53:37.859345Z"
    }
   },
   "cell_type": "code",
   "source": "me()",
   "id": "97950c9d97b11635",
   "outputs": [
    {
     "name": "stdout",
     "output_type": "stream",
     "text": [
      "my name\n"
     ]
    }
   ],
   "execution_count": 15
  },
  {
   "metadata": {
    "ExecuteTime": {
     "end_time": "2025-06-04T08:53:47.702293Z",
     "start_time": "2025-06-04T08:53:47.700446Z"
    }
   },
   "cell_type": "code",
   "source": "you = outer(\"you\")",
   "id": "11f08ffb04dc2776",
   "outputs": [],
   "execution_count": 16
  },
  {
   "metadata": {
    "ExecuteTime": {
     "end_time": "2025-06-04T08:53:50.075681Z",
     "start_time": "2025-06-04T08:53:50.073826Z"
    }
   },
   "cell_type": "code",
   "source": "you()",
   "id": "a157b25c8d42437d",
   "outputs": [
    {
     "name": "stdout",
     "output_type": "stream",
     "text": [
      "you\n"
     ]
    }
   ],
   "execution_count": 17
  },
  {
   "metadata": {
    "ExecuteTime": {
     "end_time": "2025-06-04T08:53:54.235009Z",
     "start_time": "2025-06-04T08:53:54.232067Z"
    }
   },
   "cell_type": "code",
   "source": "me()",
   "id": "4e82dff39376d796",
   "outputs": [
    {
     "name": "stdout",
     "output_type": "stream",
     "text": [
      "my name\n"
     ]
    }
   ],
   "execution_count": 18
  },
  {
   "metadata": {
    "ExecuteTime": {
     "end_time": "2025-06-04T09:04:11.733002Z",
     "start_time": "2025-06-04T09:04:11.729516Z"
    }
   },
   "cell_type": "code",
   "source": [
    "def counter():\n",
    "    count = 0\n",
    "\n",
    "    def inner():\n",
    "        nonlocal count\n",
    "        count += 1\n",
    "\n",
    "    def get_count():\n",
    "        return count\n",
    "\n",
    "    inner.nb_counts = get_count\n",
    "\n",
    "    return inner"
   ],
   "id": "83072745dff3b3a2",
   "outputs": [],
   "execution_count": 32
  },
  {
   "metadata": {
    "ExecuteTime": {
     "end_time": "2025-06-04T09:04:11.929879Z",
     "start_time": "2025-06-04T09:04:11.927554Z"
    }
   },
   "cell_type": "code",
   "source": "c = counter()",
   "id": "a51c29a5658dc3b1",
   "outputs": [],
   "execution_count": 33
  },
  {
   "metadata": {
    "ExecuteTime": {
     "end_time": "2025-06-04T09:04:12.178590Z",
     "start_time": "2025-06-04T09:04:12.176393Z"
    }
   },
   "cell_type": "code",
   "source": "c()",
   "id": "eab5d976fcf27b8f",
   "outputs": [],
   "execution_count": 34
  },
  {
   "metadata": {
    "ExecuteTime": {
     "end_time": "2025-06-04T09:04:12.505092Z",
     "start_time": "2025-06-04T09:04:12.503185Z"
    }
   },
   "cell_type": "code",
   "source": "c()",
   "id": "3aec17b374d06a32",
   "outputs": [],
   "execution_count": 35
  },
  {
   "metadata": {
    "ExecuteTime": {
     "end_time": "2025-06-04T09:04:12.890012Z",
     "start_time": "2025-06-04T09:04:12.887807Z"
    }
   },
   "cell_type": "code",
   "source": "c.nb_counts()",
   "id": "e677a3e968f3446e",
   "outputs": [
    {
     "data": {
      "text/plain": [
       "2"
      ]
     },
     "execution_count": 36,
     "metadata": {},
     "output_type": "execute_result"
    }
   ],
   "execution_count": 36
  },
  {
   "metadata": {},
   "cell_type": "code",
   "outputs": [],
   "execution_count": null,
   "source": "",
   "id": "62106627ffe84789"
  }
 ],
 "metadata": {
  "kernelspec": {
   "display_name": "Python 3",
   "language": "python",
   "name": "python3"
  },
  "language_info": {
   "codemirror_mode": {
    "name": "ipython",
    "version": 2
   },
   "file_extension": ".py",
   "mimetype": "text/x-python",
   "name": "python",
   "nbconvert_exporter": "python",
   "pygments_lexer": "ipython2",
   "version": "2.7.6"
  }
 },
 "nbformat": 4,
 "nbformat_minor": 5
}
