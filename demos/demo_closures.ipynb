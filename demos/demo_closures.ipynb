{
 "cells": [
  {
   "metadata": {},
   "cell_type": "markdown",
   "source": [
    "# Closures\n",
    "## Démo"
   ],
   "id": "ff283e9b9f17a7f2"
  },
  {
   "cell_type": "code",
   "id": "initial_id",
   "metadata": {
    "collapsed": true,
    "ExecuteTime": {
     "end_time": "2025-06-04T08:53:22.604375Z",
     "start_time": "2025-06-04T08:53:22.602230Z"
    }
   },
   "source": [
    "def outer(name):\n",
    "\n",
    "\n",
    "    def inner():\n",
    "        print(name)\n",
    "\n",
    "    return inner"
   ],
   "outputs": [],
   "execution_count": 11
  },
  {
   "metadata": {
    "ExecuteTime": {
     "end_time": "2025-06-04T08:53:36.838691Z",
     "start_time": "2025-06-04T08:53:36.837050Z"
    }
   },
   "cell_type": "code",
   "source": [
    "me = outer(\"my name\")\n",
    "me()"
   ],
   "id": "eea242443e840f06",
   "outputs": [],
   "execution_count": 14
  },
  {
   "metadata": {
    "ExecuteTime": {
     "end_time": "2025-06-04T08:53:47.702293Z",
     "start_time": "2025-06-04T08:53:47.700446Z"
    }
   },
   "cell_type": "code",
   "source": [
    "you = outer(\"you\")\n",
    "you()"
   ],
   "id": "11f08ffb04dc2776",
   "outputs": [],
   "execution_count": 16
  },
  {
   "metadata": {
    "ExecuteTime": {
     "end_time": "2025-06-04T08:53:54.235009Z",
     "start_time": "2025-06-04T08:53:54.232067Z"
    }
   },
   "cell_type": "code",
   "source": "me()",
   "id": "4e82dff39376d796",
   "outputs": [
    {
     "name": "stdout",
     "output_type": "stream",
     "text": [
      "my name\n"
     ]
    }
   ],
   "execution_count": 18
  },
  {
   "metadata": {
    "ExecuteTime": {
     "end_time": "2025-06-04T09:04:11.733002Z",
     "start_time": "2025-06-04T09:04:11.729516Z"
    }
   },
   "cell_type": "code",
   "source": [
    "def counter():\n",
    "    count = 0\n",
    "\n",
    "    def inner():\n",
    "        nonlocal count\n",
    "        count += 1\n",
    "\n",
    "    def get_count():\n",
    "        return count\n",
    "\n",
    "    inner.nb_counts = get_count\n",
    "\n",
    "    return inner"
   ],
   "id": "83072745dff3b3a2",
   "outputs": [],
   "execution_count": 32
  },
  {
   "metadata": {
    "ExecuteTime": {
     "end_time": "2025-06-04T09:04:12.178590Z",
     "start_time": "2025-06-04T09:04:12.176393Z"
    }
   },
   "cell_type": "code",
   "source": [
    "c = counter()\n",
    "c()\n",
    "c()\n",
    "c()\n",
    "c.nb_counts()"
   ],
   "id": "eab5d976fcf27b8f",
   "outputs": [],
   "execution_count": 34
  },
  {
   "metadata": {},
   "cell_type": "markdown",
   "source": "## Exercice",
   "id": "6463d226312e1766"
  },
  {
   "metadata": {
    "ExecuteTime": {
     "end_time": "2025-06-04T09:40:46.606982Z",
     "start_time": "2025-06-04T09:40:46.604184Z"
    }
   },
   "cell_type": "code",
   "source": [
    "import time\n",
    "from collections import OrderedDict\n",
    "\n",
    "def long_call():\n",
    "\n",
    "    cached_values = OrderedDict()\n",
    "\n",
    "    def inner(value:int):\n",
    "        if value not in cached_values:\n",
    "            time.sleep(2)\n",
    "            result = value**2\n",
    "            cached_values[value] = result\n",
    "\n",
    "        cached_values.move_to_end(value)\n",
    "\n",
    "        if len(cached_values) > 4:\n",
    "            cached_values.popitem(last=False)\n",
    "\n",
    "        return cached_values[value]\n",
    "\n",
    "    return inner"
   ],
   "id": "62106627ffe84789",
   "outputs": [],
   "execution_count": 54
  },
  {
   "metadata": {
    "ExecuteTime": {
     "end_time": "2025-06-04T09:40:58.951226Z",
     "start_time": "2025-06-04T09:40:46.927424Z"
    }
   },
   "cell_type": "code",
   "source": [
    "cached = long_call()\n",
    "print(cached(1))\n",
    "print(cached(2))\n",
    "print(cached(3))\n",
    "print(cached(4))\n",
    "print(cached(1))\n",
    "print(cached(5))\n",
    "print(cached(2))"
   ],
   "id": "a3ad3cf6542b2748",
   "outputs": [
    {
     "name": "stdout",
     "output_type": "stream",
     "text": [
      "1\n",
      "4\n",
      "9\n",
      "16\n",
      "1\n",
      "25\n",
      "4\n"
     ]
    }
   ],
   "execution_count": 55
  },
  {
   "metadata": {},
   "cell_type": "code",
   "outputs": [],
   "execution_count": null,
   "source": "",
   "id": "b903dfd41329a7f9"
  }
 ],
 "metadata": {
  "kernelspec": {
   "display_name": "Python 3",
   "language": "python",
   "name": "python3"
  },
  "language_info": {
   "codemirror_mode": {
    "name": "ipython",
    "version": 2
   },
   "file_extension": ".py",
   "mimetype": "text/x-python",
   "name": "python",
   "nbconvert_exporter": "python",
   "pygments_lexer": "ipython2",
   "version": "2.7.6"
  }
 },
 "nbformat": 4,
 "nbformat_minor": 5
}
