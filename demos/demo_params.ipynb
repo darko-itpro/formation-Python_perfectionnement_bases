{
 "cells": [
  {
   "metadata": {},
   "cell_type": "markdown",
   "source": "# Paramètres",
   "id": "3f78b2fe32102d77"
  },
  {
   "cell_type": "code",
   "id": "initial_id",
   "metadata": {
    "collapsed": true,
    "ExecuteTime": {
     "end_time": "2025-06-02T13:23:11.507714Z",
     "start_time": "2025-06-02T13:23:11.504855Z"
    }
   },
   "source": [
    "def say_hello(name:str=\"World\"):\n",
    "    print(f\"Hello, {name}!\")\n",
    "\n",
    "say_hello()\n",
    "say_hello(\"John\")"
   ],
   "outputs": [
    {
     "name": "stdout",
     "output_type": "stream",
     "text": [
      "Hello, World!\n",
      "Hello, John!\n"
     ]
    }
   ],
   "execution_count": 1
  },
  {
   "metadata": {
    "ExecuteTime": {
     "end_time": "2025-06-02T13:28:58.884451Z",
     "start_time": "2025-06-02T13:28:58.881623Z"
    }
   },
   "cell_type": "code",
   "source": [
    "def create_account(numid:str, value:float|int=100, overdraft:bool=False):\n",
    "    print(numid, value, overdraft)"
   ],
   "id": "c660bb7525142fe5",
   "outputs": [],
   "execution_count": 5
  },
  {
   "metadata": {
    "ExecuteTime": {
     "end_time": "2025-06-02T13:29:09.345874Z",
     "start_time": "2025-06-02T13:29:09.343450Z"
    }
   },
   "cell_type": "code",
   "source": [
    "create_account(\"My id\", 1_000_000_000, True)\n",
    "create_account(\"My id\", 1_000_000_000)"
   ],
   "id": "82b26ae69359f86f",
   "outputs": [
    {
     "name": "stdout",
     "output_type": "stream",
     "text": [
      "My id 1000000000 True\n",
      "My id 1000000000 False\n"
     ]
    }
   ],
   "execution_count": 7
  },
  {
   "metadata": {
    "ExecuteTime": {
     "end_time": "2025-06-02T13:29:47.845159Z",
     "start_time": "2025-06-02T13:29:47.841953Z"
    }
   },
   "cell_type": "code",
   "source": "create_account(\"My id\", overdraft=True)",
   "id": "68562d0f0fd33c57",
   "outputs": [
    {
     "name": "stdout",
     "output_type": "stream",
     "text": [
      "My id 100 True\n"
     ]
    }
   ],
   "execution_count": 8
  },
  {
   "metadata": {},
   "cell_type": "code",
   "outputs": [],
   "execution_count": null,
   "source": "",
   "id": "6f56645266c72e34"
  }
 ],
 "metadata": {
  "kernelspec": {
   "display_name": "Python 3",
   "language": "python",
   "name": "python3"
  },
  "language_info": {
   "codemirror_mode": {
    "name": "ipython",
    "version": 2
   },
   "file_extension": ".py",
   "mimetype": "text/x-python",
   "name": "python",
   "nbconvert_exporter": "python",
   "pygments_lexer": "ipython2",
   "version": "2.7.6"
  }
 },
 "nbformat": 4,
 "nbformat_minor": 5
}
