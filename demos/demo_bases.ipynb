{
 "cells": [
  {
   "metadata": {},
   "cell_type": "markdown",
   "source": "# Bases",
   "id": "7d403d9326a55e68"
  },
  {
   "metadata": {
    "ExecuteTime": {
     "end_time": "2025-06-02T10:17:55.510905Z",
     "start_time": "2025-06-02T10:17:55.505643Z"
    }
   },
   "cell_type": "code",
   "source": "\"clone\" * 2",
   "id": "c45b386d00846476",
   "outputs": [
    {
     "data": {
      "text/plain": [
       "'cloneclone'"
      ]
     },
     "execution_count": 3,
     "metadata": {},
     "output_type": "execute_result"
    }
   ],
   "execution_count": 3
  },
  {
   "metadata": {
    "ExecuteTime": {
     "end_time": "2025-06-02T10:19:45.566552Z",
     "start_time": "2025-06-02T10:19:29.575496Z"
    }
   },
   "cell_type": "code",
   "source": "answer = input(\"question\")",
   "id": "6a27dd6d52485c6a",
   "outputs": [],
   "execution_count": 4
  },
  {
   "metadata": {},
   "cell_type": "code",
   "outputs": [],
   "execution_count": null,
   "source": "answer =  int(answer)",
   "id": "ddea1b69b4f6efe8"
  },
  {
   "metadata": {
    "ExecuteTime": {
     "end_time": "2025-06-02T10:24:24.911029Z",
     "start_time": "2025-06-02T10:24:24.908865Z"
    }
   },
   "cell_type": "code",
   "source": "camelot = [\"Arthur\", \"Merlin\"]",
   "id": "2de8d9ea13f1b490",
   "outputs": [],
   "execution_count": 5
  },
  {
   "metadata": {
    "ExecuteTime": {
     "end_time": "2025-06-02T10:24:33.259044Z",
     "start_time": "2025-06-02T10:24:33.257048Z"
    }
   },
   "cell_type": "code",
   "source": "camelot[0] = \"Pendragon\"",
   "id": "d2affa83ed35275a",
   "outputs": [],
   "execution_count": 6
  },
  {
   "metadata": {
    "ExecuteTime": {
     "end_time": "2025-06-02T10:24:52.517535Z",
     "start_time": "2025-06-02T10:24:52.500610Z"
    }
   },
   "cell_type": "code",
   "source": [
    "king = \"Arthur\"\n",
    "king[0]=\"r\""
   ],
   "id": "ae65ccc6e453149d",
   "outputs": [
    {
     "ename": "TypeError",
     "evalue": "'str' object does not support item assignment",
     "output_type": "error",
     "traceback": [
      "\u001B[31m---------------------------------------------------------------------------\u001B[39m",
      "\u001B[31mTypeError\u001B[39m                                 Traceback (most recent call last)",
      "\u001B[36mCell\u001B[39m\u001B[36m \u001B[39m\u001B[32mIn[8]\u001B[39m\u001B[32m, line 2\u001B[39m\n\u001B[32m      1\u001B[39m king = \u001B[33m\"\u001B[39m\u001B[33mArthur\u001B[39m\u001B[33m\"\u001B[39m\n\u001B[32m----> \u001B[39m\u001B[32m2\u001B[39m \u001B[43mking\u001B[49m\u001B[43m[\u001B[49m\u001B[32;43m0\u001B[39;49m\u001B[43m]\u001B[49m=\u001B[33m\"\u001B[39m\u001B[33mr\u001B[39m\u001B[33m\"\u001B[39m\n",
      "\u001B[31mTypeError\u001B[39m: 'str' object does not support item assignment"
     ]
    }
   ],
   "execution_count": 8
  },
  {
   "metadata": {
    "ExecuteTime": {
     "end_time": "2025-06-02T10:26:30.348393Z",
     "start_time": "2025-06-02T10:26:30.345417Z"
    }
   },
   "cell_type": "code",
   "source": "value = 1,",
   "id": "12dd20d036ab1b36",
   "outputs": [],
   "execution_count": 17
  },
  {
   "metadata": {
    "ExecuteTime": {
     "end_time": "2025-06-02T10:26:30.668939Z",
     "start_time": "2025-06-02T10:26:30.666374Z"
    }
   },
   "cell_type": "code",
   "source": "type(value)",
   "id": "8c5a2e5e92969f4e",
   "outputs": [
    {
     "data": {
      "text/plain": [
       "tuple"
      ]
     },
     "execution_count": 18,
     "metadata": {},
     "output_type": "execute_result"
    }
   ],
   "execution_count": 18
  },
  {
   "metadata": {
    "ExecuteTime": {
     "end_time": "2025-06-02T10:27:35.842869Z",
     "start_time": "2025-06-02T10:27:35.841113Z"
    }
   },
   "cell_type": "code",
   "source": [
    "question = 42\n",
    "answer = 'Meaning of life'"
   ],
   "id": "4eecf20d3a9d1c10",
   "outputs": [],
   "execution_count": 19
  },
  {
   "metadata": {
    "ExecuteTime": {
     "end_time": "2025-06-02T10:28:25.946608Z",
     "start_time": "2025-06-02T10:28:25.943676Z"
    }
   },
   "cell_type": "code",
   "source": "answer, question = question, answer",
   "id": "210fa869df98d427",
   "outputs": [],
   "execution_count": 20
  },
  {
   "metadata": {
    "ExecuteTime": {
     "end_time": "2025-06-02T10:28:32.612513Z",
     "start_time": "2025-06-02T10:28:32.609969Z"
    }
   },
   "cell_type": "code",
   "source": "answer",
   "id": "2af9da2e4f04ff9f",
   "outputs": [
    {
     "data": {
      "text/plain": [
       "42"
      ]
     },
     "execution_count": 21,
     "metadata": {},
     "output_type": "execute_result"
    }
   ],
   "execution_count": 21
  },
  {
   "metadata": {},
   "cell_type": "code",
   "outputs": [],
   "execution_count": null,
   "source": "answer, question = [42, \"Meaning of life\"]",
   "id": "5be7a7a60d12a518"
  },
  {
   "metadata": {
    "ExecuteTime": {
     "end_time": "2025-06-02T10:36:48.627013Z",
     "start_time": "2025-06-02T10:36:48.624885Z"
    }
   },
   "cell_type": "code",
   "source": "camelot = [\"Arthur\", \"Merlin\", \"Lancelot\", \"Robin\", \"Perceval\", \"Karadoc\"]",
   "id": "85ff183adb081bcf",
   "outputs": [],
   "execution_count": 32
  },
  {
   "metadata": {
    "ExecuteTime": {
     "end_time": "2025-06-02T10:36:48.878706Z",
     "start_time": "2025-06-02T10:36:48.862259Z"
    }
   },
   "cell_type": "code",
   "source": "king, wizard, *knights, saucisse = camelot",
   "id": "aefab078544a2e47",
   "outputs": [
    {
     "ename": "ValueError",
     "evalue": "not enough values to unpack (expected at least 3, got 2)",
     "output_type": "error",
     "traceback": [
      "\u001B[31m---------------------------------------------------------------------------\u001B[39m",
      "\u001B[31mValueError\u001B[39m                                Traceback (most recent call last)",
      "\u001B[36mCell\u001B[39m\u001B[36m \u001B[39m\u001B[32mIn[33]\u001B[39m\u001B[32m, line 1\u001B[39m\n\u001B[32m----> \u001B[39m\u001B[32m1\u001B[39m king, wizard, *knights, saucisse = camelot\n",
      "\u001B[31mValueError\u001B[39m: not enough values to unpack (expected at least 3, got 2)"
     ]
    }
   ],
   "execution_count": 33
  },
  {
   "metadata": {
    "ExecuteTime": {
     "end_time": "2025-06-02T10:35:57.548833Z",
     "start_time": "2025-06-02T10:35:57.544956Z"
    }
   },
   "cell_type": "code",
   "source": "knights",
   "id": "2a3ea7a16ac2b6f0",
   "outputs": [
    {
     "data": {
      "text/plain": [
       "[]"
      ]
     },
     "execution_count": 31,
     "metadata": {},
     "output_type": "execute_result"
    }
   ],
   "execution_count": 31
  },
  {
   "metadata": {
    "ExecuteTime": {
     "end_time": "2025-06-02T10:35:27.581346Z",
     "start_time": "2025-06-02T10:35:27.578062Z"
    }
   },
   "cell_type": "code",
   "source": "saucisse",
   "id": "9b94c448c4a3a249",
   "outputs": [
    {
     "data": {
      "text/plain": [
       "'Karadoc'"
      ]
     },
     "execution_count": 28,
     "metadata": {},
     "output_type": "execute_result"
    }
   ],
   "execution_count": 28
  },
  {
   "metadata": {
    "ExecuteTime": {
     "end_time": "2025-06-02T10:37:50.728488Z",
     "start_time": "2025-06-02T10:37:50.725359Z"
    }
   },
   "cell_type": "code",
   "source": "924 // 60",
   "id": "1824ce715857cfa9",
   "outputs": [
    {
     "data": {
      "text/plain": [
       "15"
      ]
     },
     "execution_count": 35,
     "metadata": {},
     "output_type": "execute_result"
    }
   ],
   "execution_count": 35
  },
  {
   "metadata": {
    "ExecuteTime": {
     "end_time": "2025-06-02T10:38:10.920581Z",
     "start_time": "2025-06-02T10:38:10.917897Z"
    }
   },
   "cell_type": "code",
   "source": "924 % 60",
   "id": "39827447f8a7fff7",
   "outputs": [
    {
     "data": {
      "text/plain": [
       "24"
      ]
     },
     "execution_count": 36,
     "metadata": {},
     "output_type": "execute_result"
    }
   ],
   "execution_count": 36
  },
  {
   "metadata": {
    "ExecuteTime": {
     "end_time": "2025-06-02T10:40:18.095901Z",
     "start_time": "2025-06-02T10:40:18.093153Z"
    }
   },
   "cell_type": "code",
   "source": "\"Il est {}h{:02}\".format(*divmod(924, 60))",
   "id": "bcdfeaaf6d9436bf",
   "outputs": [
    {
     "data": {
      "text/plain": [
       "'Il est 15h24'"
      ]
     },
     "execution_count": 39,
     "metadata": {},
     "output_type": "execute_result"
    }
   ],
   "execution_count": 39
  },
  {
   "metadata": {
    "ExecuteTime": {
     "end_time": "2025-06-02T10:40:59.978306Z",
     "start_time": "2025-06-02T10:40:59.976163Z"
    }
   },
   "cell_type": "code",
   "source": [
    "def func(*args):\n",
    "    print(args)"
   ],
   "id": "91f2fe0d0d5db6a2",
   "outputs": [],
   "execution_count": 40
  },
  {
   "metadata": {
    "ExecuteTime": {
     "end_time": "2025-06-02T10:41:16.211932Z",
     "start_time": "2025-06-02T10:41:16.209485Z"
    }
   },
   "cell_type": "code",
   "source": "func(2, 7)",
   "id": "d953bace611ff567",
   "outputs": [
    {
     "name": "stdout",
     "output_type": "stream",
     "text": [
      "(2, 7)\n"
     ]
    }
   ],
   "execution_count": 42
  },
  {
   "metadata": {
    "ExecuteTime": {
     "end_time": "2025-06-02T10:41:53.167237Z",
     "start_time": "2025-06-02T10:41:53.164908Z"
    }
   },
   "cell_type": "code",
   "source": [
    "def func(**schtroumpf):\n",
    "    print(schtroumpf)"
   ],
   "id": "11679d81d5054c34",
   "outputs": [],
   "execution_count": 43
  },
  {
   "metadata": {
    "ExecuteTime": {
     "end_time": "2025-06-02T10:42:31.885339Z",
     "start_time": "2025-06-02T10:42:31.882588Z"
    }
   },
   "cell_type": "code",
   "source": "func(param=2)",
   "id": "86855f3e856efdae",
   "outputs": [
    {
     "name": "stdout",
     "output_type": "stream",
     "text": [
      "{'param': 2}\n"
     ]
    }
   ],
   "execution_count": 46
  },
  {
   "metadata": {
    "ExecuteTime": {
     "end_time": "2025-06-02T10:44:16.434218Z",
     "start_time": "2025-06-02T10:44:16.431067Z"
    }
   },
   "cell_type": "code",
   "source": [
    "def point(*, x, y):\n",
    "    print(x, y)"
   ],
   "id": "bd5ad8ae5b9d675e",
   "outputs": [],
   "execution_count": 51
  },
  {
   "metadata": {
    "ExecuteTime": {
     "end_time": "2025-06-02T10:45:58.049019Z",
     "start_time": "2025-06-02T10:45:58.047237Z"
    }
   },
   "cell_type": "code",
   "source": "point(x=2, y=8)",
   "id": "e0596487d7becd03",
   "outputs": [
    {
     "name": "stdout",
     "output_type": "stream",
     "text": [
      "2 8\n"
     ]
    }
   ],
   "execution_count": 53
  },
  {
   "metadata": {
    "ExecuteTime": {
     "end_time": "2025-06-02T10:46:22.311122Z",
     "start_time": "2025-06-02T10:46:22.309379Z"
    }
   },
   "cell_type": "code",
   "source": "coord = {\"x\":10, \"y\":12}",
   "id": "e1a989c8cbc568eb",
   "outputs": [],
   "execution_count": 54
  },
  {
   "metadata": {
    "ExecuteTime": {
     "end_time": "2025-06-02T10:46:29.145443Z",
     "start_time": "2025-06-02T10:46:29.142292Z"
    }
   },
   "cell_type": "code",
   "source": "point(**coord)",
   "id": "6fc05431ee013da2",
   "outputs": [
    {
     "name": "stdout",
     "output_type": "stream",
     "text": [
      "10 12\n"
     ]
    }
   ],
   "execution_count": 55
  },
  {
   "metadata": {
    "ExecuteTime": {
     "end_time": "2025-06-02T10:47:43.807239Z",
     "start_time": "2025-06-02T10:47:43.803872Z"
    }
   },
   "cell_type": "code",
   "source": "**coord",
   "id": "158fcf4a8502e555",
   "outputs": [
    {
     "ename": "SyntaxError",
     "evalue": "invalid syntax (2454242127.py, line 1)",
     "output_type": "error",
     "traceback": [
      "  \u001B[36mCell\u001B[39m\u001B[36m \u001B[39m\u001B[32mIn[56]\u001B[39m\u001B[32m, line 1\u001B[39m\n\u001B[31m    \u001B[39m\u001B[31m**coord\u001B[39m\n    ^\n\u001B[31mSyntaxError\u001B[39m\u001B[31m:\u001B[39m invalid syntax\n"
     ]
    }
   ],
   "execution_count": 56
  },
  {
   "metadata": {
    "ExecuteTime": {
     "end_time": "2025-06-02T10:49:40.396819Z",
     "start_time": "2025-06-02T10:49:40.394455Z"
    }
   },
   "cell_type": "code",
   "source": "camelot = [\"Arthur\", \"Merlin\", \"Lancelot\", \"Robin\", \"Perceval\", \"Karadoc\"]",
   "id": "ab416cf115246e0b",
   "outputs": [],
   "execution_count": 58
  },
  {
   "metadata": {
    "ExecuteTime": {
     "end_time": "2025-06-02T10:51:42.249208Z",
     "start_time": "2025-06-02T10:51:42.246777Z"
    }
   },
   "cell_type": "code",
   "source": "camelot[1:4]",
   "id": "6280791e9b2684c5",
   "outputs": [
    {
     "data": {
      "text/plain": [
       "['Merlin', 'Lancelot', 'Robin']"
      ]
     },
     "execution_count": 63,
     "metadata": {},
     "output_type": "execute_result"
    }
   ],
   "execution_count": 63
  },
  {
   "metadata": {
    "ExecuteTime": {
     "end_time": "2025-06-02T10:51:56.440107Z",
     "start_time": "2025-06-02T10:51:56.437230Z"
    }
   },
   "cell_type": "code",
   "source": "camelot[:2]",
   "id": "223b74db728ec25e",
   "outputs": [
    {
     "data": {
      "text/plain": [
       "['Arthur', 'Merlin']"
      ]
     },
     "execution_count": 64,
     "metadata": {},
     "output_type": "execute_result"
    }
   ],
   "execution_count": 64
  },
  {
   "metadata": {
    "ExecuteTime": {
     "end_time": "2025-06-02T10:53:05.499762Z",
     "start_time": "2025-06-02T10:53:05.496026Z"
    }
   },
   "cell_type": "code",
   "source": "camelot[-2:]",
   "id": "ac66069e75de4d91",
   "outputs": [
    {
     "data": {
      "text/plain": [
       "['Perceval', 'Karadoc']"
      ]
     },
     "execution_count": 65,
     "metadata": {},
     "output_type": "execute_result"
    }
   ],
   "execution_count": 65
  },
  {
   "metadata": {
    "ExecuteTime": {
     "end_time": "2025-06-02T10:53:34.204544Z",
     "start_time": "2025-06-02T10:53:34.200062Z"
    }
   },
   "cell_type": "code",
   "source": "camelot[::2]",
   "id": "5ade795f22993591",
   "outputs": [
    {
     "data": {
      "text/plain": [
       "['Arthur', 'Lancelot', 'Perceval']"
      ]
     },
     "execution_count": 67,
     "metadata": {},
     "output_type": "execute_result"
    }
   ],
   "execution_count": 67
  },
  {
   "metadata": {
    "ExecuteTime": {
     "end_time": "2025-06-02T10:54:32.263094Z",
     "start_time": "2025-06-02T10:54:32.258923Z"
    }
   },
   "cell_type": "code",
   "source": "camelot[::-1]",
   "id": "e7b54636060040b8",
   "outputs": [
    {
     "data": {
      "text/plain": [
       "['Karadoc', 'Perceval', 'Robin', 'Lancelot', 'Merlin', 'Arthur']"
      ]
     },
     "execution_count": 72,
     "metadata": {},
     "output_type": "execute_result"
    }
   ],
   "execution_count": 72
  },
  {
   "metadata": {
    "ExecuteTime": {
     "end_time": "2025-06-02T10:57:30.163258Z",
     "start_time": "2025-06-02T10:57:30.160076Z"
    }
   },
   "cell_type": "code",
   "source": "camelot[0:2]",
   "id": "1be192179d829b8c",
   "outputs": [
    {
     "data": {
      "text/plain": [
       "['Arthur', 'Merlin']"
      ]
     },
     "execution_count": 73,
     "metadata": {},
     "output_type": "execute_result"
    }
   ],
   "execution_count": 73
  },
  {
   "metadata": {
    "ExecuteTime": {
     "end_time": "2025-06-02T10:57:44.436828Z",
     "start_time": "2025-06-02T10:57:44.433632Z"
    }
   },
   "cell_type": "code",
   "source": "camelot[2:4]",
   "id": "551d581230f51337",
   "outputs": [
    {
     "data": {
      "text/plain": [
       "['Lancelot', 'Robin']"
      ]
     },
     "execution_count": 74,
     "metadata": {},
     "output_type": "execute_result"
    }
   ],
   "execution_count": 74
  },
  {
   "metadata": {
    "ExecuteTime": {
     "end_time": "2025-06-02T11:02:55.789602Z",
     "start_time": "2025-06-02T11:02:55.787274Z"
    }
   },
   "cell_type": "code",
   "source": [
    "start = 0\n",
    "step = 2\n",
    "\n",
    "while team := camelot[start:start+step]:\n",
    "    print(team)\n",
    "    start += step"
   ],
   "id": "d2ff94db728a8dbe",
   "outputs": [
    {
     "name": "stdout",
     "output_type": "stream",
     "text": [
      "['Arthur', 'Merlin']\n",
      "['Lancelot', 'Robin']\n",
      "['Perceval', 'Karadoc']\n"
     ]
    }
   ],
   "execution_count": 76
  },
  {
   "metadata": {},
   "cell_type": "markdown",
   "source": "## Type Hint",
   "id": "c6cfd8de0a9bf286"
  },
  {
   "metadata": {
    "ExecuteTime": {
     "end_time": "2025-06-02T12:31:46.985212Z",
     "start_time": "2025-06-02T12:31:46.970122Z"
    }
   },
   "cell_type": "code",
   "source": [
    "def func(value:str=\"\"):\n",
    "    pass"
   ],
   "id": "c6cbd5f387696374",
   "outputs": [
    {
     "name": "stdout",
     "output_type": "stream",
     "text": [
      "42\n"
     ]
    }
   ],
   "execution_count": 77
  },
  {
   "metadata": {},
   "cell_type": "code",
   "outputs": [],
   "execution_count": null,
   "source": "",
   "id": "dbdc11480d2bc987"
  }
 ],
 "metadata": {
  "kernelspec": {
   "display_name": "Python 3 (ipykernel)",
   "language": "python",
   "name": "python3"
  },
  "language_info": {
   "codemirror_mode": {
    "name": "ipython",
    "version": 3
   },
   "file_extension": ".py",
   "mimetype": "text/x-python",
   "name": "python",
   "nbconvert_exporter": "python",
   "pygments_lexer": "ipython3",
   "version": "3.13.3"
  }
 },
 "nbformat": 4,
 "nbformat_minor": 5
}
