{
 "cells": [
  {
   "metadata": {},
   "cell_type": "markdown",
   "source": "# Pathlib",
   "id": "f63fda57cb058852"
  },
  {
   "cell_type": "code",
   "id": "initial_id",
   "metadata": {
    "collapsed": true,
    "ExecuteTime": {
     "end_time": "2025-06-05T07:46:11.887772Z",
     "start_time": "2025-06-05T07:46:11.885346Z"
    }
   },
   "source": "from pathlib import Path",
   "outputs": [],
   "execution_count": 1
  },
  {
   "metadata": {
    "ExecuteTime": {
     "end_time": "2025-06-05T07:49:04.217638Z",
     "start_time": "2025-06-05T07:49:04.215562Z"
    }
   },
   "cell_type": "code",
   "source": "local = Path(\".\")",
   "id": "e5b2fcf2403471ed",
   "outputs": [],
   "execution_count": 4
  },
  {
   "metadata": {
    "ExecuteTime": {
     "end_time": "2025-06-05T07:49:12.306516Z",
     "start_time": "2025-06-05T07:49:12.302867Z"
    }
   },
   "cell_type": "code",
   "source": "local.resolve()",
   "id": "efae0fbef3647703",
   "outputs": [
    {
     "data": {
      "text/plain": [
       "PosixPath('/Users/dad3zero/formation/formation_strasbourg/demos')"
      ]
     },
     "execution_count": 5,
     "metadata": {},
     "output_type": "execute_result"
    }
   ],
   "execution_count": 5
  },
  {
   "metadata": {
    "ExecuteTime": {
     "end_time": "2025-06-05T07:49:17.898014Z",
     "start_time": "2025-06-05T07:49:17.894941Z"
    }
   },
   "cell_type": "code",
   "source": "local",
   "id": "f5d1989d3e316ea2",
   "outputs": [
    {
     "data": {
      "text/plain": [
       "PosixPath('.')"
      ]
     },
     "execution_count": 6,
     "metadata": {},
     "output_type": "execute_result"
    }
   ],
   "execution_count": 6
  },
  {
   "metadata": {
    "ExecuteTime": {
     "end_time": "2025-06-05T07:50:19.700066Z",
     "start_time": "2025-06-05T07:50:19.696412Z"
    }
   },
   "cell_type": "code",
   "source": "Path('/riri/fifi/loulou').exists()",
   "id": "19b8f593b1bcfd25",
   "outputs": [
    {
     "data": {
      "text/plain": [
       "False"
      ]
     },
     "execution_count": 8,
     "metadata": {},
     "output_type": "execute_result"
    }
   ],
   "execution_count": 8
  },
  {
   "metadata": {
    "ExecuteTime": {
     "end_time": "2025-06-05T07:50:40.318100Z",
     "start_time": "2025-06-05T07:50:40.314612Z"
    }
   },
   "cell_type": "code",
   "source": "local.resolve().is_file()",
   "id": "8bf5b963f7a14301",
   "outputs": [
    {
     "data": {
      "text/plain": [
       "False"
      ]
     },
     "execution_count": 9,
     "metadata": {},
     "output_type": "execute_result"
    }
   ],
   "execution_count": 9
  },
  {
   "metadata": {
    "ExecuteTime": {
     "end_time": "2025-06-05T07:51:22.872403Z",
     "start_time": "2025-06-05T07:51:22.870080Z"
    }
   },
   "cell_type": "code",
   "source": "home = local.resolve()",
   "id": "fd1b0151b297518f",
   "outputs": [],
   "execution_count": 10
  },
  {
   "metadata": {
    "ExecuteTime": {
     "end_time": "2025-06-05T07:51:49.051678Z",
     "start_time": "2025-06-05T07:51:49.048746Z"
    }
   },
   "cell_type": "code",
   "source": "home.parent.parent",
   "id": "c8168bc7679d3c87",
   "outputs": [
    {
     "data": {
      "text/plain": [
       "PosixPath('/Users/dad3zero/formation')"
      ]
     },
     "execution_count": 13,
     "metadata": {},
     "output_type": "execute_result"
    }
   ],
   "execution_count": 13
  },
  {
   "metadata": {
    "ExecuteTime": {
     "end_time": "2025-06-05T07:53:49.360661Z",
     "start_time": "2025-06-05T07:53:49.357385Z"
    }
   },
   "cell_type": "code",
   "source": [
    "for item in home.parents:\n",
    "    print(item)"
   ],
   "id": "5b1952032b7e291",
   "outputs": [
    {
     "name": "stdout",
     "output_type": "stream",
     "text": [
      "/Users/dad3zero/formation/formation_strasbourg\n",
      "/Users/dad3zero/formation\n",
      "/Users/dad3zero\n",
      "/Users\n",
      "/\n"
     ]
    }
   ],
   "execution_count": 18
  },
  {
   "metadata": {
    "ExecuteTime": {
     "end_time": "2025-06-05T07:54:55.496868Z",
     "start_time": "2025-06-05T07:54:55.493478Z"
    }
   },
   "cell_type": "code",
   "source": "home / \"assets\"",
   "id": "d0a82264e9f7ab94",
   "outputs": [
    {
     "data": {
      "text/plain": [
       "PosixPath('/Users/dad3zero/formation/formation_strasbourg/demos/assets')"
      ]
     },
     "execution_count": 19,
     "metadata": {},
     "output_type": "execute_result"
    }
   ],
   "execution_count": 19
  },
  {
   "metadata": {
    "ExecuteTime": {
     "end_time": "2025-06-05T07:57:04.767134Z",
     "start_time": "2025-06-05T07:57:04.762972Z"
    }
   },
   "cell_type": "code",
   "source": "list(home.iterdir())",
   "id": "7dcca56f6412faa1",
   "outputs": [
    {
     "data": {
      "text/plain": [
       "[PosixPath('/Users/dad3zero/formation/formation_strasbourg/demos/pylogging'),\n",
       " PosixPath('/Users/dad3zero/formation/formation_strasbourg/demos/demo_dict_slots.ipynb'),\n",
       " PosixPath('/Users/dad3zero/formation/formation_strasbourg/demos/parallelism'),\n",
       " PosixPath('/Users/dad3zero/formation/formation_strasbourg/demos/demo_loops.ipynb'),\n",
       " PosixPath('/Users/dad3zero/formation/formation_strasbourg/demos/demo_deco.ipynb'),\n",
       " PosixPath('/Users/dad3zero/formation/formation_strasbourg/demos/demo_contextmanager.ipynb'),\n",
       " PosixPath('/Users/dad3zero/formation/formation_strasbourg/demos/demo_obj.ipynb'),\n",
       " PosixPath('/Users/dad3zero/formation/formation_strasbourg/demos/__init__.py'),\n",
       " PosixPath('/Users/dad3zero/formation/formation_strasbourg/demos/pyacademy'),\n",
       " PosixPath('/Users/dad3zero/formation/formation_strasbourg/demos/demo_closures.ipynb'),\n",
       " PosixPath('/Users/dad3zero/formation/formation_strasbourg/demos/demo_datastructure.ipynb'),\n",
       " PosixPath('/Users/dad3zero/formation/formation_strasbourg/demos/demo_01.py'),\n",
       " PosixPath('/Users/dad3zero/formation/formation_strasbourg/demos/demo_gen.ipynb'),\n",
       " PosixPath('/Users/dad3zero/formation/formation_strasbourg/demos/demo_visibilite.ipynb'),\n",
       " PosixPath('/Users/dad3zero/formation/formation_strasbourg/demos/demo_params.ipynb'),\n",
       " PosixPath('/Users/dad3zero/formation/formation_strasbourg/demos/demo_bases.ipynb'),\n",
       " PosixPath('/Users/dad3zero/formation/formation_strasbourg/demos/.ipynb_checkpoints'),\n",
       " PosixPath('/Users/dad3zero/formation/formation_strasbourg/demos/demo_pathlib.ipynb'),\n",
       " PosixPath('/Users/dad3zero/formation/formation_strasbourg/demos/demo_iterateur.ipynb'),\n",
       " PosixPath('/Users/dad3zero/formation/formation_strasbourg/demos/training.py')]"
      ]
     },
     "execution_count": 21,
     "metadata": {},
     "output_type": "execute_result"
    }
   ],
   "execution_count": 21
  },
  {
   "metadata": {
    "ExecuteTime": {
     "end_time": "2025-06-05T07:58:23.142258Z",
     "start_time": "2025-06-05T07:58:23.140124Z"
    }
   },
   "cell_type": "code",
   "source": "file = home / \"training.py\"",
   "id": "f9e1a1ced76118fa",
   "outputs": [],
   "execution_count": 24
  },
  {
   "metadata": {
    "ExecuteTime": {
     "end_time": "2025-06-05T07:58:24.440346Z",
     "start_time": "2025-06-05T07:58:24.436454Z"
    }
   },
   "cell_type": "code",
   "source": "file.stem",
   "id": "a64cdd487c01c9c2",
   "outputs": [
    {
     "data": {
      "text/plain": [
       "'training'"
      ]
     },
     "execution_count": 25,
     "metadata": {},
     "output_type": "execute_result"
    }
   ],
   "execution_count": 25
  },
  {
   "metadata": {
    "ExecuteTime": {
     "end_time": "2025-06-05T07:58:29.554604Z",
     "start_time": "2025-06-05T07:58:29.551511Z"
    }
   },
   "cell_type": "code",
   "source": "file.exists()",
   "id": "c0303146ee819d84",
   "outputs": [
    {
     "data": {
      "text/plain": [
       "True"
      ]
     },
     "execution_count": 26,
     "metadata": {},
     "output_type": "execute_result"
    }
   ],
   "execution_count": 26
  },
  {
   "metadata": {
    "ExecuteTime": {
     "end_time": "2025-06-05T07:58:42.840661Z",
     "start_time": "2025-06-05T07:58:42.837860Z"
    }
   },
   "cell_type": "code",
   "source": "file.open()",
   "id": "9a822de83858268c",
   "outputs": [
    {
     "data": {
      "text/plain": [
       "<_io.TextIOWrapper name='/Users/dad3zero/formation/formation_strasbourg/demos/training.py' mode='r' encoding='UTF-8'>"
      ]
     },
     "execution_count": 27,
     "metadata": {},
     "output_type": "execute_result"
    }
   ],
   "execution_count": 27
  },
  {
   "metadata": {
    "ExecuteTime": {
     "end_time": "2025-06-05T07:59:11.766405Z",
     "start_time": "2025-06-05T07:59:11.763043Z"
    }
   },
   "cell_type": "code",
   "source": "open(file)",
   "id": "6ebe0b02464cf413",
   "outputs": [
    {
     "data": {
      "text/plain": [
       "<_io.TextIOWrapper name='/Users/dad3zero/formation/formation_strasbourg/demos/training.py' mode='r' encoding='UTF-8'>"
      ]
     },
     "execution_count": 28,
     "metadata": {},
     "output_type": "execute_result"
    }
   ],
   "execution_count": 28
  },
  {
   "metadata": {},
   "cell_type": "code",
   "outputs": [],
   "execution_count": null,
   "source": "",
   "id": "f1f2570f3cd73fd9"
  }
 ],
 "metadata": {
  "kernelspec": {
   "display_name": "Python 3",
   "language": "python",
   "name": "python3"
  },
  "language_info": {
   "codemirror_mode": {
    "name": "ipython",
    "version": 2
   },
   "file_extension": ".py",
   "mimetype": "text/x-python",
   "name": "python",
   "nbconvert_exporter": "python",
   "pygments_lexer": "ipython2",
   "version": "2.7.6"
  }
 },
 "nbformat": 4,
 "nbformat_minor": 5
}
