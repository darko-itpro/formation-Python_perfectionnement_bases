{
 "cells": [
  {
   "metadata": {},
   "cell_type": "markdown",
   "source": [
    "# Dicts and slots\n",
    "## Dicts"
   ],
   "id": "57455b0f3ed25943"
  },
  {
   "cell_type": "code",
   "id": "initial_id",
   "metadata": {
    "collapsed": true,
    "ExecuteTime": {
     "end_time": "2025-06-12T09:42:40.913893Z",
     "start_time": "2025-06-12T09:42:40.911030Z"
    }
   },
   "source": [
    "class Point:\n",
    "    def __init__(self, x, y):\n",
    "        self.x = x\n",
    "        self.y = y\n",
    "\n",
    "    def distancde(self, point):\n",
    "        pass"
   ],
   "outputs": [],
   "execution_count": 13
  },
  {
   "metadata": {
    "ExecuteTime": {
     "end_time": "2025-06-12T09:42:42.645013Z",
     "start_time": "2025-06-12T09:42:42.642273Z"
    }
   },
   "cell_type": "code",
   "source": "p = Point(42, 100)",
   "id": "3d91fe98ffe9e7c3",
   "outputs": [],
   "execution_count": 14
  },
  {
   "metadata": {
    "ExecuteTime": {
     "end_time": "2025-06-12T09:42:44.189057Z",
     "start_time": "2025-06-12T09:42:44.185218Z"
    }
   },
   "cell_type": "code",
   "source": "dir(p)",
   "id": "ff5db8001694fb1c",
   "outputs": [
    {
     "data": {
      "text/plain": [
       "['__class__',\n",
       " '__delattr__',\n",
       " '__dir__',\n",
       " '__doc__',\n",
       " '__eq__',\n",
       " '__firstlineno__',\n",
       " '__format__',\n",
       " '__ge__',\n",
       " '__getattribute__',\n",
       " '__getstate__',\n",
       " '__gt__',\n",
       " '__hash__',\n",
       " '__init__',\n",
       " '__init_subclass__',\n",
       " '__le__',\n",
       " '__lt__',\n",
       " '__module__',\n",
       " '__ne__',\n",
       " '__new__',\n",
       " '__reduce__',\n",
       " '__reduce_ex__',\n",
       " '__repr__',\n",
       " '__setattr__',\n",
       " '__sizeof__',\n",
       " '__slots__',\n",
       " '__static_attributes__',\n",
       " '__str__',\n",
       " '__subclasshook__',\n",
       " 'distancde',\n",
       " 'x',\n",
       " 'y']"
      ]
     },
     "execution_count": 15,
     "metadata": {},
     "output_type": "execute_result"
    }
   ],
   "execution_count": 15
  },
  {
   "metadata": {
    "ExecuteTime": {
     "end_time": "2025-06-12T09:36:37.894056Z",
     "start_time": "2025-06-12T09:36:37.891424Z"
    }
   },
   "cell_type": "code",
   "source": "p.__dict__",
   "id": "c64d9f781591a59c",
   "outputs": [
    {
     "data": {
      "text/plain": [
       "{'x': 42, 'y': 100}"
      ]
     },
     "execution_count": 4,
     "metadata": {},
     "output_type": "execute_result"
    }
   ],
   "execution_count": 4
  },
  {
   "metadata": {
    "ExecuteTime": {
     "end_time": "2025-06-12T09:36:56.978519Z",
     "start_time": "2025-06-12T09:36:56.976111Z"
    }
   },
   "cell_type": "code",
   "source": "p.__dict__['z'] = 40",
   "id": "359bca0a143b1bca",
   "outputs": [],
   "execution_count": 5
  },
  {
   "metadata": {
    "ExecuteTime": {
     "end_time": "2025-06-12T09:37:05.658433Z",
     "start_time": "2025-06-12T09:37:05.655326Z"
    }
   },
   "cell_type": "code",
   "source": "p.z",
   "id": "61a89928a76cb4fb",
   "outputs": [
    {
     "data": {
      "text/plain": [
       "40"
      ]
     },
     "execution_count": 6,
     "metadata": {},
     "output_type": "execute_result"
    }
   ],
   "execution_count": 6
  },
  {
   "metadata": {
    "ExecuteTime": {
     "end_time": "2025-06-12T09:37:24.314906Z",
     "start_time": "2025-06-12T09:37:24.312621Z"
    }
   },
   "cell_type": "code",
   "source": "p.color = [3, 78, 43]",
   "id": "996c5e850a13d840",
   "outputs": [],
   "execution_count": 7
  },
  {
   "metadata": {
    "ExecuteTime": {
     "end_time": "2025-06-12T09:37:28.696846Z",
     "start_time": "2025-06-12T09:37:28.693996Z"
    }
   },
   "cell_type": "code",
   "source": "p.__dict__",
   "id": "788417f9add3766a",
   "outputs": [
    {
     "data": {
      "text/plain": [
       "{'x': 42, 'y': 100, 'z': 40, 'color': [3, 78, 43]}"
      ]
     },
     "execution_count": 8,
     "metadata": {},
     "output_type": "execute_result"
    }
   ],
   "execution_count": 8
  },
  {
   "metadata": {},
   "cell_type": "code",
   "outputs": [],
   "execution_count": null,
   "source": "",
   "id": "9782112cc164ae2c"
  },
  {
   "metadata": {},
   "cell_type": "markdown",
   "source": "## Slots",
   "id": "a05b7b84bff9ac33"
  },
  {
   "metadata": {
    "ExecuteTime": {
     "end_time": "2025-06-12T09:43:39.389413Z",
     "start_time": "2025-06-12T09:43:39.385820Z"
    }
   },
   "cell_type": "code",
   "source": [
    "class Point:\n",
    "\n",
    "    __slots__ = ('x', 'y')\n",
    "\n",
    "    def __init__(self, x, y):\n",
    "        self.x = x\n",
    "        self.y = y\n",
    "\n",
    "    def distancde(self, point):\n",
    "        pass"
   ],
   "id": "415cb38d8ea37c79",
   "outputs": [],
   "execution_count": 16
  },
  {
   "metadata": {
    "ExecuteTime": {
     "end_time": "2025-06-12T09:43:47.035601Z",
     "start_time": "2025-06-12T09:43:47.033399Z"
    }
   },
   "cell_type": "code",
   "source": "p = Point(42, 100)",
   "id": "d43a622dc64dbd4a",
   "outputs": [],
   "execution_count": 17
  },
  {
   "metadata": {
    "ExecuteTime": {
     "end_time": "2025-06-12T09:43:52.268308Z",
     "start_time": "2025-06-12T09:43:52.265175Z"
    }
   },
   "cell_type": "code",
   "source": "p.x",
   "id": "646e5fc1cabcecca",
   "outputs": [
    {
     "data": {
      "text/plain": [
       "42"
      ]
     },
     "execution_count": 18,
     "metadata": {},
     "output_type": "execute_result"
    }
   ],
   "execution_count": 18
  },
  {
   "metadata": {
    "ExecuteTime": {
     "end_time": "2025-06-12T09:43:57.920943Z",
     "start_time": "2025-06-12T09:43:57.918510Z"
    }
   },
   "cell_type": "code",
   "source": "p.__slots__",
   "id": "3d7af1536260c353",
   "outputs": [
    {
     "data": {
      "text/plain": [
       "('x', 'y')"
      ]
     },
     "execution_count": 19,
     "metadata": {},
     "output_type": "execute_result"
    }
   ],
   "execution_count": 19
  },
  {
   "metadata": {
    "ExecuteTime": {
     "end_time": "2025-06-12T09:44:07.585563Z",
     "start_time": "2025-06-12T09:44:07.483285Z"
    }
   },
   "cell_type": "code",
   "source": "p.z = 42",
   "id": "2f1a33e3531884fd",
   "outputs": [
    {
     "ename": "AttributeError",
     "evalue": "'Point' object has no attribute 'z' and no __dict__ for setting new attributes",
     "output_type": "error",
     "traceback": [
      "\u001B[31m---------------------------------------------------------------------------\u001B[39m",
      "\u001B[31mAttributeError\u001B[39m                            Traceback (most recent call last)",
      "\u001B[36mCell\u001B[39m\u001B[36m \u001B[39m\u001B[32mIn[20]\u001B[39m\u001B[32m, line 1\u001B[39m\n\u001B[32m----> \u001B[39m\u001B[32m1\u001B[39m \u001B[43mp\u001B[49m\u001B[43m.\u001B[49m\u001B[43mz\u001B[49m = \u001B[32m42\u001B[39m\n",
      "\u001B[31mAttributeError\u001B[39m: 'Point' object has no attribute 'z' and no __dict__ for setting new attributes"
     ]
    }
   ],
   "execution_count": 20
  },
  {
   "metadata": {},
   "cell_type": "code",
   "outputs": [],
   "execution_count": null,
   "source": "",
   "id": "41c54c7237dbfc56"
  }
 ],
 "metadata": {
  "kernelspec": {
   "display_name": "Python 3",
   "language": "python",
   "name": "python3"
  },
  "language_info": {
   "codemirror_mode": {
    "name": "ipython",
    "version": 2
   },
   "file_extension": ".py",
   "mimetype": "text/x-python",
   "name": "python",
   "nbconvert_exporter": "python",
   "pygments_lexer": "ipython2",
   "version": "2.7.6"
  }
 },
 "nbformat": 4,
 "nbformat_minor": 5
}
