{
 "cells": [
  {
   "metadata": {},
   "cell_type": "markdown",
   "source": "# Metaclasses",
   "id": "6fb89e3df6d22d46"
  },
  {
   "metadata": {
    "ExecuteTime": {
     "end_time": "2025-06-12T12:51:54.523140Z",
     "start_time": "2025-06-12T12:51:54.520610Z"
    }
   },
   "cell_type": "code",
   "source": "king = \"Arthur\"",
   "id": "253bc7fedd38efd4",
   "outputs": [],
   "execution_count": 1
  },
  {
   "metadata": {
    "ExecuteTime": {
     "end_time": "2025-06-12T12:52:52.251379Z",
     "start_time": "2025-06-12T12:52:52.248840Z"
    }
   },
   "cell_type": "code",
   "source": "king.__class__.__class__.__class__",
   "id": "30a413e8b1dd93c4",
   "outputs": [
    {
     "data": {
      "text/plain": [
       "type"
      ]
     },
     "execution_count": 4,
     "metadata": {},
     "output_type": "execute_result"
    }
   ],
   "execution_count": 4
  },
  {
   "metadata": {
    "ExecuteTime": {
     "end_time": "2025-06-12T12:55:47.954632Z",
     "start_time": "2025-06-12T12:55:47.951874Z"
    }
   },
   "cell_type": "code",
   "source": "Point = type('Point', (), {'x':3, 'y':6})",
   "id": "d101b43dedd665f9",
   "outputs": [],
   "execution_count": 7
  },
  {
   "metadata": {
    "ExecuteTime": {
     "end_time": "2025-06-12T12:56:04.602790Z",
     "start_time": "2025-06-12T12:56:04.600313Z"
    }
   },
   "cell_type": "code",
   "source": "p = Point()",
   "id": "ca68c10db02cf447",
   "outputs": [],
   "execution_count": 9
  },
  {
   "metadata": {
    "ExecuteTime": {
     "end_time": "2025-06-12T12:56:34.608021Z",
     "start_time": "2025-06-12T12:56:34.604101Z"
    }
   },
   "cell_type": "code",
   "source": "p.__class__.__class__",
   "id": "19d7c9742a337922",
   "outputs": [
    {
     "data": {
      "text/plain": [
       "type"
      ]
     },
     "execution_count": 13,
     "metadata": {},
     "output_type": "execute_result"
    }
   ],
   "execution_count": 13
  },
  {
   "metadata": {},
   "cell_type": "code",
   "outputs": [],
   "execution_count": null,
   "source": "",
   "id": "e93d6e4b52c94a9b"
  },
  {
   "cell_type": "code",
   "id": "initial_id",
   "metadata": {
    "collapsed": true,
    "ExecuteTime": {
     "end_time": "2025-06-12T12:58:46.475881Z",
     "start_time": "2025-06-12T12:58:46.473394Z"
    }
   },
   "source": [
    "def construct(self, name):\n",
    "    self.name = name\n",
    "    self.episodes = []\n",
    "\n",
    "def add_one(self, title, season_number, number):\n",
    "    self.episodes.append(title)\n",
    "\n",
    "TvShow = type('TvShow', (), {'__init__':construct, 'add_episode':add_one})"
   ],
   "outputs": [],
   "execution_count": 14
  },
  {
   "metadata": {
    "ExecuteTime": {
     "end_time": "2025-06-12T12:59:16.257045Z",
     "start_time": "2025-06-12T12:59:16.254752Z"
    }
   },
   "cell_type": "code",
   "source": "tv = TvShow(\"My Show\")",
   "id": "583c59911b1c16d2",
   "outputs": [],
   "execution_count": 15
  },
  {
   "metadata": {
    "ExecuteTime": {
     "end_time": "2025-06-12T12:59:19.711053Z",
     "start_time": "2025-06-12T12:59:19.707878Z"
    }
   },
   "cell_type": "code",
   "source": "tv.name",
   "id": "76cb98b6fbb4edea",
   "outputs": [
    {
     "data": {
      "text/plain": [
       "'My Show'"
      ]
     },
     "execution_count": 16,
     "metadata": {},
     "output_type": "execute_result"
    }
   ],
   "execution_count": 16
  },
  {
   "metadata": {
    "ExecuteTime": {
     "end_time": "2025-06-12T12:59:23.577461Z",
     "start_time": "2025-06-12T12:59:23.573859Z"
    }
   },
   "cell_type": "code",
   "source": "tv.episodes",
   "id": "dae3ae70ecaa25ef",
   "outputs": [
    {
     "data": {
      "text/plain": [
       "[]"
      ]
     },
     "execution_count": 17,
     "metadata": {},
     "output_type": "execute_result"
    }
   ],
   "execution_count": 17
  },
  {
   "metadata": {
    "ExecuteTime": {
     "end_time": "2025-06-12T12:59:31.781979Z",
     "start_time": "2025-06-12T12:59:31.778211Z"
    }
   },
   "cell_type": "code",
   "source": "tv.__dict__",
   "id": "eaf9979bfbf23dce",
   "outputs": [
    {
     "data": {
      "text/plain": [
       "{'name': 'My Show', 'episodes': []}"
      ]
     },
     "execution_count": 18,
     "metadata": {},
     "output_type": "execute_result"
    }
   ],
   "execution_count": 18
  },
  {
   "metadata": {},
   "cell_type": "markdown",
   "source": "## Notion de métaclasse",
   "id": "12f8b418f879f103"
  },
  {
   "metadata": {
    "ExecuteTime": {
     "end_time": "2025-06-12T13:11:22.208036Z",
     "start_time": "2025-06-12T13:11:22.205911Z"
    }
   },
   "cell_type": "code",
   "source": [
    "class MyMeta(type):\n",
    "    def __call__(self, *args, **kwargs):\n",
    "        return type(self)(*args, **kwargs)\n",
    "#        return super().__call__(*args, **kwargs) même choque qu'au dessus\n",
    "\n",
    "    def __new__(cls, name, bases, attrs):\n",
    "        return super().__new__(cls, name, bases, attrs)\n",
    "\n",
    "    def __init__(self, *args, **kargs):\n",
    "        super().__init__(*args, **kargs)"
   ],
   "id": "c2534794bf82ae71",
   "outputs": [],
   "execution_count": 25
  },
  {
   "metadata": {},
   "cell_type": "code",
   "outputs": [],
   "execution_count": null,
   "source": [
    "class MaClass(metaclass=MyMeta):\n",
    "    pass"
   ],
   "id": "ee8f524740e6ed89"
  }
 ],
 "metadata": {
  "kernelspec": {
   "display_name": "Python 3",
   "language": "python",
   "name": "python3"
  },
  "language_info": {
   "codemirror_mode": {
    "name": "ipython",
    "version": 2
   },
   "file_extension": ".py",
   "mimetype": "text/x-python",
   "name": "python",
   "nbconvert_exporter": "python",
   "pygments_lexer": "ipython2",
   "version": "2.7.6"
  }
 },
 "nbformat": 4,
 "nbformat_minor": 5
}
