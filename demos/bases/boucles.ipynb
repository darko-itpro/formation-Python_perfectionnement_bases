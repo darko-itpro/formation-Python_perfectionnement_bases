{
 "cells": [
  {
   "metadata": {},
   "cell_type": "markdown",
   "source": "# Boucles et itérations",
   "id": "21a2a25a4e7772e3"
  },
  {
   "cell_type": "code",
   "id": "initial_id",
   "metadata": {
    "collapsed": true,
    "ExecuteTime": {
     "end_time": "2025-06-11T07:15:34.499317Z",
     "start_time": "2025-06-11T07:15:34.496186Z"
    }
   },
   "source": [
    "camelot = [\"Arthur\", \"Merlin\", \"Lancelot\", \"Robin\", \"Perceval\", \"Karadoc\"]\n",
    "jobs = [\"king\", \"wizard\", \"knight\", \"knight\", \"knight\", \"knight\", \"Emperor\"]"
   ],
   "outputs": [],
   "execution_count": 9
  },
  {
   "metadata": {},
   "cell_type": "code",
   "source": "[name.upper() for name in camelot]",
   "id": "2f80e01c569590e6",
   "outputs": [],
   "execution_count": null
  },
  {
   "metadata": {},
   "cell_type": "code",
   "source": "kingdom = list(zip(camelot, jobs))",
   "id": "93a326d57bc1155",
   "outputs": [],
   "execution_count": null
  },
  {
   "metadata": {},
   "cell_type": "code",
   "source": "kingdom",
   "id": "6c001e792d93f1ce",
   "outputs": [],
   "execution_count": null
  },
  {
   "metadata": {},
   "cell_type": "code",
   "source": [
    "[name.upper()\n",
    " for name, job in kingdom\n",
    " if job != \"wizard\"]"
   ],
   "id": "f09065e49dc6ba5a",
   "outputs": [],
   "execution_count": null
  },
  {
   "metadata": {},
   "cell_type": "code",
   "source": "{name: job for name, job in zip(camelot, jobs)}\n",
   "id": "5b160a05bba6e7d8",
   "outputs": [],
   "execution_count": null
  },
  {
   "metadata": {},
   "cell_type": "code",
   "source": "[{\"name\":name, \"job\": job} for name, job in zip(camelot, jobs)]\n",
   "id": "929fca5c39625e5c",
   "outputs": [],
   "execution_count": null
  },
  {
   "metadata": {},
   "cell_type": "code",
   "outputs": [],
   "execution_count": null,
   "source": "",
   "id": "1bb4ce95f8121a71"
  },
  {
   "metadata": {
    "ExecuteTime": {
     "end_time": "2025-06-11T07:11:59.299948Z",
     "start_time": "2025-06-11T07:11:59.297109Z"
    }
   },
   "cell_type": "code",
   "source": [
    "camelot = ((name, job) for name, job in zip(camelot, jobs))\n",
    "camelot"
   ],
   "id": "d1b8a117cbd0e7bc",
   "outputs": [
    {
     "data": {
      "text/plain": [
       "<generator object <genexpr> at 0x105fa9630>"
      ]
     },
     "execution_count": 4,
     "metadata": {},
     "output_type": "execute_result"
    }
   ],
   "execution_count": 4
  },
  {
   "metadata": {
    "ExecuteTime": {
     "end_time": "2025-06-11T07:13:34.533076Z",
     "start_time": "2025-06-11T07:13:34.530462Z"
    }
   },
   "cell_type": "code",
   "source": [
    "for i in camelot:\n",
    "    print(i)"
   ],
   "id": "f08e41e521fe3a24",
   "outputs": [],
   "execution_count": 7
  },
  {
   "metadata": {
    "ExecuteTime": {
     "end_time": "2025-06-11T07:14:03.283496Z",
     "start_time": "2025-06-11T07:14:03.280097Z"
    }
   },
   "cell_type": "code",
   "source": "dir(camelot)",
   "id": "2f63a0695948a496",
   "outputs": [
    {
     "data": {
      "text/plain": [
       "['__class__',\n",
       " '__class_getitem__',\n",
       " '__del__',\n",
       " '__delattr__',\n",
       " '__dir__',\n",
       " '__doc__',\n",
       " '__eq__',\n",
       " '__format__',\n",
       " '__ge__',\n",
       " '__getattribute__',\n",
       " '__getstate__',\n",
       " '__gt__',\n",
       " '__hash__',\n",
       " '__init__',\n",
       " '__init_subclass__',\n",
       " '__iter__',\n",
       " '__le__',\n",
       " '__lt__',\n",
       " '__name__',\n",
       " '__ne__',\n",
       " '__new__',\n",
       " '__next__',\n",
       " '__qualname__',\n",
       " '__reduce__',\n",
       " '__reduce_ex__',\n",
       " '__repr__',\n",
       " '__setattr__',\n",
       " '__sizeof__',\n",
       " '__str__',\n",
       " '__subclasshook__',\n",
       " 'close',\n",
       " 'gi_code',\n",
       " 'gi_frame',\n",
       " 'gi_running',\n",
       " 'gi_suspended',\n",
       " 'gi_yieldfrom',\n",
       " 'send',\n",
       " 'throw']"
      ]
     },
     "execution_count": 8,
     "metadata": {},
     "output_type": "execute_result"
    }
   ],
   "execution_count": 8
  },
  {
   "metadata": {
    "ExecuteTime": {
     "end_time": "2025-06-11T07:48:21.928241Z",
     "start_time": "2025-06-11T07:48:21.926070Z"
    }
   },
   "cell_type": "code",
   "source": [
    "def capitalize(kingdom):\n",
    "    for name in kingdom:\n",
    "        yield name.upper()\n",
    "\n",
    "    print(\"done\")\n",
    "\n",
    "for i in capitalize(camelot):\n",
    "    print(i)"
   ],
   "id": "f6c4c001ad0a6a17",
   "outputs": [
    {
     "name": "stdout",
     "output_type": "stream",
     "text": [
      "ARTHUR\n",
      "MERLIN\n",
      "LANCELOT\n",
      "ROBIN\n",
      "PERCEVAL\n",
      "KARADOC\n"
     ]
    }
   ],
   "execution_count": 22
  },
  {
   "metadata": {
    "ExecuteTime": {
     "end_time": "2025-06-11T07:27:07.528743Z",
     "start_time": "2025-06-11T07:27:07.526284Z"
    }
   },
   "cell_type": "code",
   "source": "next(c)",
   "id": "bd68cbb3b2d945c5",
   "outputs": [
    {
     "data": {
      "text/plain": [
       "'LANCELOT'"
      ]
     },
     "execution_count": 15,
     "metadata": {},
     "output_type": "execute_result"
    }
   ],
   "execution_count": 15
  },
  {
   "metadata": {
    "ExecuteTime": {
     "end_time": "2025-06-11T07:28:04.379269Z",
     "start_time": "2025-06-11T07:28:04.376867Z"
    }
   },
   "cell_type": "code",
   "source": "dir(zip(camelot, jobs))",
   "id": "e5e145847fa3d576",
   "outputs": [
    {
     "data": {
      "text/plain": [
       "['__class__',\n",
       " '__delattr__',\n",
       " '__dir__',\n",
       " '__doc__',\n",
       " '__eq__',\n",
       " '__format__',\n",
       " '__ge__',\n",
       " '__getattribute__',\n",
       " '__getstate__',\n",
       " '__gt__',\n",
       " '__hash__',\n",
       " '__init__',\n",
       " '__init_subclass__',\n",
       " '__iter__',\n",
       " '__le__',\n",
       " '__lt__',\n",
       " '__ne__',\n",
       " '__new__',\n",
       " '__next__',\n",
       " '__reduce__',\n",
       " '__reduce_ex__',\n",
       " '__repr__',\n",
       " '__setattr__',\n",
       " '__setstate__',\n",
       " '__sizeof__',\n",
       " '__str__',\n",
       " '__subclasshook__']"
      ]
     },
     "execution_count": 17,
     "metadata": {},
     "output_type": "execute_result"
    }
   ],
   "execution_count": 17
  },
  {
   "metadata": {},
   "cell_type": "code",
   "outputs": [],
   "execution_count": null,
   "source": "",
   "id": "29eced08b101214e"
  },
  {
   "metadata": {
    "ExecuteTime": {
     "end_time": "2025-06-11T07:50:28.312253Z",
     "start_time": "2025-06-11T07:50:28.310290Z"
    }
   },
   "cell_type": "code",
   "source": "camelot = [\"Arthur\", \"Merlin\", \"Lancelot\", \"Robin\", \"Perceval\", \"Karadoc\"]",
   "id": "1acab0aa1c927fe1",
   "outputs": [],
   "execution_count": 23
  },
  {
   "metadata": {
    "ExecuteTime": {
     "end_time": "2025-06-11T07:51:11.438204Z",
     "start_time": "2025-06-11T07:51:11.435421Z"
    }
   },
   "cell_type": "code",
   "source": "75 // 60",
   "id": "ee7b32a4030960b8",
   "outputs": [
    {
     "data": {
      "text/plain": [
       "1"
      ]
     },
     "execution_count": 24,
     "metadata": {},
     "output_type": "execute_result"
    }
   ],
   "execution_count": 24
  },
  {
   "metadata": {
    "ExecuteTime": {
     "end_time": "2025-06-11T07:51:16.677814Z",
     "start_time": "2025-06-11T07:51:16.675403Z"
    }
   },
   "cell_type": "code",
   "source": "75 % 60",
   "id": "9950999c6f3bf82a",
   "outputs": [
    {
     "data": {
      "text/plain": [
       "15"
      ]
     },
     "execution_count": 25,
     "metadata": {},
     "output_type": "execute_result"
    }
   ],
   "execution_count": 25
  },
  {
   "metadata": {
    "ExecuteTime": {
     "end_time": "2025-06-11T07:52:11.545304Z",
     "start_time": "2025-06-11T07:52:11.542387Z"
    }
   },
   "cell_type": "code",
   "source": "divmod(75, 60)",
   "id": "bdc0bd25a525815a",
   "outputs": [
    {
     "data": {
      "text/plain": [
       "(1, 15)"
      ]
     },
     "execution_count": 26,
     "metadata": {},
     "output_type": "execute_result"
    }
   ],
   "execution_count": 26
  },
  {
   "metadata": {
    "ExecuteTime": {
     "end_time": "2025-06-11T07:53:48.023612Z",
     "start_time": "2025-06-11T07:53:48.020774Z"
    }
   },
   "cell_type": "code",
   "source": "\"Il est {}h{:02}\".format(274 // 60, 274 % 60)",
   "id": "46304f73395f604",
   "outputs": [
    {
     "data": {
      "text/plain": [
       "'Il est 4h34'"
      ]
     },
     "execution_count": 27,
     "metadata": {},
     "output_type": "execute_result"
    }
   ],
   "execution_count": 27
  },
  {
   "metadata": {
    "ExecuteTime": {
     "end_time": "2025-06-11T07:55:04.419928Z",
     "start_time": "2025-06-11T07:55:04.417136Z"
    }
   },
   "cell_type": "code",
   "source": "\"Il est {}h{:02}\".format(*divmod(274, 60))",
   "id": "4acf0f54d3afc797",
   "outputs": [
    {
     "data": {
      "text/plain": [
       "'Il est 4h34'"
      ]
     },
     "execution_count": 29,
     "metadata": {},
     "output_type": "execute_result"
    }
   ],
   "execution_count": 29
  },
  {
   "metadata": {
    "ExecuteTime": {
     "end_time": "2025-06-11T07:57:09.332465Z",
     "start_time": "2025-06-11T07:57:09.329397Z"
    }
   },
   "cell_type": "code",
   "source": "camelot",
   "id": "b6fb7b0b4c0f678e",
   "outputs": [
    {
     "data": {
      "text/plain": [
       "['Arthur', 'Merlin', 'Lancelot', 'Robin', 'Perceval', 'Karadoc']"
      ]
     },
     "execution_count": 31,
     "metadata": {},
     "output_type": "execute_result"
    }
   ],
   "execution_count": 31
  },
  {
   "metadata": {
    "ExecuteTime": {
     "end_time": "2025-06-11T07:59:35.779349Z",
     "start_time": "2025-06-11T07:59:35.777018Z"
    }
   },
   "cell_type": "code",
   "source": "king, wizard, *knights, saucisse = camelot",
   "id": "5f8ebf86bb431210",
   "outputs": [],
   "execution_count": 34
  },
  {
   "metadata": {
    "ExecuteTime": {
     "end_time": "2025-06-11T07:59:40.501363Z",
     "start_time": "2025-06-11T07:59:40.497818Z"
    }
   },
   "cell_type": "code",
   "source": "knights",
   "id": "3363ed23526cd7bf",
   "outputs": [
    {
     "data": {
      "text/plain": [
       "['Lancelot', 'Robin', 'Perceval']"
      ]
     },
     "execution_count": 35,
     "metadata": {},
     "output_type": "execute_result"
    }
   ],
   "execution_count": 35
  },
  {
   "metadata": {
    "ExecuteTime": {
     "end_time": "2025-06-11T08:01:13.762613Z",
     "start_time": "2025-06-11T08:01:13.760939Z"
    }
   },
   "cell_type": "code",
   "source": [
    "def func(*args):\n",
    "    print(args)"
   ],
   "id": "e1bbe662eaab81c4",
   "outputs": [],
   "execution_count": 36
  },
  {
   "metadata": {
    "ExecuteTime": {
     "end_time": "2025-06-11T08:03:31.333683Z",
     "start_time": "2025-06-11T08:03:31.319976Z"
    }
   },
   "cell_type": "code",
   "source": "func(param=1)",
   "id": "ebdd05b188807a94",
   "outputs": [
    {
     "ename": "TypeError",
     "evalue": "func() got an unexpected keyword argument 'param'",
     "output_type": "error",
     "traceback": [
      "\u001B[31m---------------------------------------------------------------------------\u001B[39m",
      "\u001B[31mTypeError\u001B[39m                                 Traceback (most recent call last)",
      "\u001B[36mCell\u001B[39m\u001B[36m \u001B[39m\u001B[32mIn[41]\u001B[39m\u001B[32m, line 1\u001B[39m\n\u001B[32m----> \u001B[39m\u001B[32m1\u001B[39m \u001B[43mfunc\u001B[49m\u001B[43m(\u001B[49m\u001B[43mparam\u001B[49m\u001B[43m=\u001B[49m\u001B[32;43m1\u001B[39;49m\u001B[43m)\u001B[49m\n",
      "\u001B[31mTypeError\u001B[39m: func() got an unexpected keyword argument 'param'"
     ]
    }
   ],
   "execution_count": 41
  },
  {
   "metadata": {
    "ExecuteTime": {
     "end_time": "2025-06-11T08:03:38.298024Z",
     "start_time": "2025-06-11T08:03:38.296096Z"
    }
   },
   "cell_type": "code",
   "source": [
    "def truc(**kwargs):\n",
    "    print(kwargs)"
   ],
   "id": "c691245a20e2dd8b",
   "outputs": [],
   "execution_count": 42
  },
  {
   "metadata": {
    "ExecuteTime": {
     "end_time": "2025-06-11T08:03:55.883652Z",
     "start_time": "2025-06-11T08:03:55.881430Z"
    }
   },
   "cell_type": "code",
   "source": "truc(param=1)",
   "id": "6c22f8d8acba14b1",
   "outputs": [
    {
     "name": "stdout",
     "output_type": "stream",
     "text": [
      "{'param': 1}\n"
     ]
    }
   ],
   "execution_count": 45
  },
  {
   "metadata": {
    "ExecuteTime": {
     "end_time": "2025-06-11T08:06:43.529965Z",
     "start_time": "2025-06-11T08:06:43.528196Z"
    }
   },
   "cell_type": "code",
   "source": "",
   "id": "a414b1860effcdfe",
   "outputs": [],
   "execution_count": null
  },
  {
   "metadata": {
    "ExecuteTime": {
     "end_time": "2025-06-11T08:10:51.953017Z",
     "start_time": "2025-06-11T08:10:51.951281Z"
    }
   },
   "cell_type": "code",
   "source": "camelot = [\"Arthur\", \"Merlin\", \"Lancelot\", \"Robin\", \"Perceval\", \"Karadoc\"]",
   "id": "d2baaafecbdb51b0",
   "outputs": [],
   "execution_count": 58
  },
  {
   "metadata": {
    "ExecuteTime": {
     "end_time": "2025-06-11T08:10:52.241685Z",
     "start_time": "2025-06-11T08:10:52.239840Z"
    }
   },
   "cell_type": "code",
   "source": "visitors = ['John Snow', 'Igryd']",
   "id": "2e04132fe7e808fa",
   "outputs": [],
   "execution_count": 59
  },
  {
   "metadata": {
    "ExecuteTime": {
     "end_time": "2025-06-11T08:08:09.028714Z",
     "start_time": "2025-06-11T08:08:09.026202Z"
    }
   },
   "cell_type": "code",
   "source": "camelot[2:4]",
   "id": "f4bfc8d22c711c4a",
   "outputs": [
    {
     "data": {
      "text/plain": [
       "['Lancelot', 'Robin']"
      ]
     },
     "execution_count": 48,
     "metadata": {},
     "output_type": "execute_result"
    }
   ],
   "execution_count": 48
  },
  {
   "metadata": {
    "ExecuteTime": {
     "end_time": "2025-06-11T08:09:56.156285Z",
     "start_time": "2025-06-11T08:09:56.153653Z"
    }
   },
   "cell_type": "code",
   "source": "camelot[10:100]",
   "id": "95982e2628c31ca4",
   "outputs": [
    {
     "data": {
      "text/plain": [
       "[]"
      ]
     },
     "execution_count": 55,
     "metadata": {},
     "output_type": "execute_result"
    }
   ],
   "execution_count": 55
  },
  {
   "metadata": {
    "ExecuteTime": {
     "end_time": "2025-06-11T08:10:58.517139Z",
     "start_time": "2025-06-11T08:10:58.515398Z"
    }
   },
   "cell_type": "code",
   "source": "camelot[:] = visitors",
   "id": "11d161bb6ac86c0f",
   "outputs": [],
   "execution_count": 60
  },
  {
   "metadata": {
    "ExecuteTime": {
     "end_time": "2025-06-11T08:10:59.075870Z",
     "start_time": "2025-06-11T08:10:59.073818Z"
    }
   },
   "cell_type": "code",
   "source": "camelot",
   "id": "c18c4b83ca97e82d",
   "outputs": [
    {
     "data": {
      "text/plain": [
       "['Arthur', 'Merlin', 'John Snow', 'Igryd']"
      ]
     },
     "execution_count": 61,
     "metadata": {},
     "output_type": "execute_result"
    }
   ],
   "execution_count": 61
  },
  {
   "metadata": {},
   "cell_type": "code",
   "outputs": [],
   "execution_count": null,
   "source": "",
   "id": "f0fa4b73c0d83ce4"
  },
  {
   "metadata": {
    "ExecuteTime": {
     "end_time": "2025-06-11T08:23:24.564901Z",
     "start_time": "2025-06-11T08:23:24.562647Z"
    }
   },
   "cell_type": "code",
   "source": [
    "camelot = [\"Arthur\", \"Merlin\", \"Lancelot\", \"Robin\", \"Perceval\", \"Karadoc\"]\n",
    "\n",
    "start = 0\n",
    "step = 2\n",
    "\n",
    "while group := camelot[start:start+step]:\n",
    "    print(group)\n",
    "    start = start + step\n"
   ],
   "id": "b76eb3e10a5de4e2",
   "outputs": [
    {
     "name": "stdout",
     "output_type": "stream",
     "text": [
      "['Arthur', 'Merlin']\n",
      "['Lancelot', 'Robin']\n",
      "['Perceval', 'Karadoc']\n"
     ]
    }
   ],
   "execution_count": 65
  },
  {
   "metadata": {
    "ExecuteTime": {
     "end_time": "2025-06-11T08:22:17.378656Z",
     "start_time": "2025-06-11T08:22:17.376198Z"
    }
   },
   "cell_type": "code",
   "source": "del group",
   "id": "f9ae86e31303ec46",
   "outputs": [],
   "execution_count": 64
  },
  {
   "metadata": {},
   "cell_type": "code",
   "outputs": [],
   "execution_count": null,
   "source": "",
   "id": "ef69ff41f7ab3332"
  },
  {
   "metadata": {
    "ExecuteTime": {
     "end_time": "2025-06-11T08:49:18.659411Z",
     "start_time": "2025-06-11T08:49:18.653914Z"
    }
   },
   "cell_type": "code",
   "source": [
    "camelot = [\"Arthur\", \"Merlin\", \"Lancelot\", \"Robin\", \"Perceval\", \"Karadoc\"]\n",
    "jobs = [\"king\", \"wizard\", \"knight\", \"knight\", \"knight\", \"knight\", \"Emperor\"]\n",
    "\n",
    "kingdom = list(zip(camelot, jobs))\n",
    "\n",
    "kingdom"
   ],
   "id": "7ed955955e6fd7c",
   "outputs": [
    {
     "data": {
      "text/plain": [
       "[('Arthur', 'king'),\n",
       " ('Merlin', 'wizard'),\n",
       " ('Lancelot', 'knight'),\n",
       " ('Robin', 'knight'),\n",
       " ('Perceval', 'knight'),\n",
       " ('Karadoc', 'knight')]"
      ]
     },
     "execution_count": 66,
     "metadata": {},
     "output_type": "execute_result"
    }
   ],
   "execution_count": 66
  },
  {
   "metadata": {
    "ExecuteTime": {
     "end_time": "2025-06-11T08:58:32.793446Z",
     "start_time": "2025-06-11T08:58:32.791529Z"
    }
   },
   "cell_type": "code",
   "source": [
    "for name, job in kingdom:\n",
    "    if job == \"wiard\":\n",
    "        print(\"You have a wizard, cool\")\n",
    "        break\n",
    "else:\n",
    "    print(\"You NEED a wizard, call kingdom emploi\")"
   ],
   "id": "249b308009dffc5d",
   "outputs": [
    {
     "name": "stdout",
     "output_type": "stream",
     "text": [
      "You NEED a wizard, call kingdom emploi\n"
     ]
    }
   ],
   "execution_count": 71
  },
  {
   "metadata": {},
   "cell_type": "code",
   "outputs": [],
   "execution_count": null,
   "source": "",
   "id": "cdbcb686cff3587f"
  }
 ],
 "metadata": {
  "kernelspec": {
   "display_name": "Python 3",
   "language": "python",
   "name": "python3"
  },
  "language_info": {
   "codemirror_mode": {
    "name": "ipython",
    "version": 2
   },
   "file_extension": ".py",
   "mimetype": "text/x-python",
   "name": "python",
   "nbconvert_exporter": "python",
   "pygments_lexer": "ipython2",
   "version": "2.7.6"
  }
 },
 "nbformat": 4,
 "nbformat_minor": 5
}
