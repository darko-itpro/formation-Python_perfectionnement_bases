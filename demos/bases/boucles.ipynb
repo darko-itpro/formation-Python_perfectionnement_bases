{
 "cells": [
  {
   "metadata": {},
   "cell_type": "markdown",
   "source": "# Boucles et itérations",
   "id": "21a2a25a4e7772e3"
  },
  {
   "cell_type": "code",
   "id": "initial_id",
   "metadata": {
    "collapsed": true,
    "ExecuteTime": {
     "end_time": "2025-06-18T07:58:36.129283Z",
     "start_time": "2025-06-18T07:58:36.123304Z"
    }
   },
   "source": [
    "camelot = [\"Arthur\", \"Merlin\", \"Lancelot\", \"Robin\", \"Perceval\", \"Karadoc\"]\n",
    "jobs = [\"king\", \"wizard\", \"knight\", \"knight\", \"knight\", \"knight\",]"
   ],
   "outputs": [],
   "execution_count": 9
  },
  {
   "metadata": {
    "ExecuteTime": {
     "end_time": "2025-06-18T07:59:57.924722Z",
     "start_time": "2025-06-18T07:59:57.920792Z"
    }
   },
   "cell_type": "code",
   "source": [
    "for item in zip(camelot, jobs):\n",
    "    print(item)"
   ],
   "id": "1d0d6fab6f5bd58c",
   "outputs": [
    {
     "name": "stdout",
     "output_type": "stream",
     "text": [
      "('Arthur', 'king')\n",
      "('Merlin', 'wizard')\n",
      "('Lancelot', 'knight')\n",
      "('Robin', 'knight')\n",
      "('Perceval', 'knight')\n",
      "('Karadoc', 'knight')\n"
     ]
    }
   ],
   "execution_count": 11
  },
  {
   "metadata": {
    "ExecuteTime": {
     "end_time": "2025-06-18T08:01:41.752474Z",
     "start_time": "2025-06-18T08:01:41.747323Z"
    }
   },
   "cell_type": "code",
   "source": "camelot = [\"Arthur\", \"Merlin\", \"Lancelot\", \"Robin\", \"Perceval\", \"Karadoc\"]",
   "id": "c779e922b332d68e",
   "outputs": [],
   "execution_count": 12
  },
  {
   "metadata": {
    "ExecuteTime": {
     "end_time": "2025-06-18T08:04:16.532593Z",
     "start_time": "2025-06-18T08:04:16.520085Z"
    }
   },
   "cell_type": "code",
   "source": "[item for item in zip(camelot, jobs)]",
   "id": "1f8e9a378b796ffc",
   "outputs": [
    {
     "data": {
      "text/plain": [
       "[('Arthur', 'king'),\n",
       " ('Merlin', 'wizard'),\n",
       " ('Lancelot', 'knight'),\n",
       " ('Robin', 'knight'),\n",
       " ('Perceval', 'knight'),\n",
       " ('Karadoc', 'knight')]"
      ]
     },
     "execution_count": 14,
     "metadata": {},
     "output_type": "execute_result"
    }
   ],
   "execution_count": 14
  },
  {
   "metadata": {
    "ExecuteTime": {
     "end_time": "2025-06-18T08:06:15.844768Z",
     "start_time": "2025-06-18T08:06:15.835883Z"
    }
   },
   "cell_type": "code",
   "source": "{name:job for name, job in zip(camelot, jobs)}",
   "id": "7f565393896dc033",
   "outputs": [
    {
     "data": {
      "text/plain": [
       "{'Arthur': 'king',\n",
       " 'Merlin': 'wizard',\n",
       " 'Lancelot': 'knight',\n",
       " 'Robin': 'knight',\n",
       " 'Perceval': 'knight',\n",
       " 'Karadoc': 'knight'}"
      ]
     },
     "execution_count": 16,
     "metadata": {},
     "output_type": "execute_result"
    }
   ],
   "execution_count": 16
  },
  {
   "metadata": {
    "ExecuteTime": {
     "end_time": "2025-06-18T08:11:03.809060Z",
     "start_time": "2025-06-18T08:11:03.799768Z"
    }
   },
   "cell_type": "code",
   "source": [
    "[name.upper()\n",
    " for name, job in zip(camelot, jobs)\n",
    " if job != \"wizard\"]"
   ],
   "id": "c83cd6324822d05a",
   "outputs": [
    {
     "data": {
      "text/plain": [
       "['ARTHUR', 'LANCELOT', 'ROBIN', 'PERCEVAL', 'KARADOC']"
      ]
     },
     "execution_count": 18,
     "metadata": {},
     "output_type": "execute_result"
    }
   ],
   "execution_count": 18
  },
  {
   "metadata": {},
   "cell_type": "code",
   "outputs": [],
   "execution_count": null,
   "source": "",
   "id": "230d985a4439bb4e"
  },
  {
   "metadata": {},
   "cell_type": "markdown",
   "source": "## Affichage",
   "id": "8ce9ed93ac0a3c4d"
  },
  {
   "metadata": {
    "ExecuteTime": {
     "end_time": "2025-06-18T08:36:25.865728Z",
     "start_time": "2025-06-18T08:36:25.861893Z"
    }
   },
   "cell_type": "code",
   "source": [
    "result = 42\n",
    "\"Résultat : {:10.2f}\".format(result)"
   ],
   "id": "79b72cc4f6301a5b",
   "outputs": [
    {
     "data": {
      "text/plain": [
       "'Résultat :      42.00'"
      ]
     },
     "execution_count": 22,
     "metadata": {},
     "output_type": "execute_result"
    }
   ],
   "execution_count": 22
  },
  {
   "metadata": {
    "ExecuteTime": {
     "end_time": "2025-06-18T08:36:35.431288Z",
     "start_time": "2025-06-18T08:36:35.425157Z"
    }
   },
   "cell_type": "code",
   "source": "f\"Résultat : {result:10.2f}\"",
   "id": "d2b49a6b3d9dfda1",
   "outputs": [
    {
     "data": {
      "text/plain": [
       "'Résultat :      42.00'"
      ]
     },
     "execution_count": 23,
     "metadata": {},
     "output_type": "execute_result"
    }
   ],
   "execution_count": 23
  },
  {
   "metadata": {
    "ExecuteTime": {
     "end_time": "2025-06-18T08:47:01.261030Z",
     "start_time": "2025-06-18T08:47:01.258091Z"
    }
   },
   "cell_type": "code",
   "source": [
    "def display_price(template, price:float, currency:str):\n",
    "    print(template.format(price, currency))\n",
    "\n",
    "t_fr = \"prix du produit : {:.2f} {}\"\n",
    "t_us = \"Price of product: {1}{0:.2f}\""
   ],
   "id": "230dde58b2150c15",
   "outputs": [],
   "execution_count": 26
  },
  {
   "metadata": {
    "ExecuteTime": {
     "end_time": "2025-06-18T08:47:02.566322Z",
     "start_time": "2025-06-18T08:47:02.559161Z"
    }
   },
   "cell_type": "code",
   "source": "display_price(t_fr, 42, '€')",
   "id": "69a20b49ff4a4840",
   "outputs": [
    {
     "name": "stdout",
     "output_type": "stream",
     "text": [
      "prix : 42.00 €\n"
     ]
    }
   ],
   "execution_count": 27
  },
  {
   "metadata": {
    "ExecuteTime": {
     "end_time": "2025-06-18T08:47:15.386365Z",
     "start_time": "2025-06-18T08:47:15.376882Z"
    }
   },
   "cell_type": "code",
   "source": "display_price(t_us, 42, '$')",
   "id": "a6e2133885cddae7",
   "outputs": [
    {
     "name": "stdout",
     "output_type": "stream",
     "text": [
      "Price: $42.00\n"
     ]
    }
   ],
   "execution_count": 28
  },
  {
   "metadata": {},
   "cell_type": "code",
   "outputs": [],
   "execution_count": null,
   "source": "",
   "id": "2e6e59a46edc5d76"
  }
 ],
 "metadata": {
  "kernelspec": {
   "display_name": "Python 3",
   "language": "python",
   "name": "python3"
  },
  "language_info": {
   "codemirror_mode": {
    "name": "ipython",
    "version": 2
   },
   "file_extension": ".py",
   "mimetype": "text/x-python",
   "name": "python",
   "nbconvert_exporter": "python",
   "pygments_lexer": "ipython2",
   "version": "2.7.6"
  }
 },
 "nbformat": 4,
 "nbformat_minor": 5
}
