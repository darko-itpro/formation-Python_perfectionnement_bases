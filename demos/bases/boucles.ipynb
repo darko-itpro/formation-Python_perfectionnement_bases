{
 "cells": [
  {
   "metadata": {},
   "cell_type": "markdown",
   "source": "# Boucles et itérations",
   "id": "21a2a25a4e7772e3"
  },
  {
   "cell_type": "code",
   "id": "initial_id",
   "metadata": {
    "collapsed": true,
    "ExecuteTime": {
     "end_time": "2025-06-10T14:21:55.633749Z",
     "start_time": "2025-06-10T14:21:55.630648Z"
    }
   },
   "source": [
    "camelot = [\"Arthur\", \"Merlin\", \"Lancelot\", \"Robin\", \"Perceval\", \"Karadoc\"]\n",
    "jobs = [\"king\", \"wizard\", \"knight\", \"knight\", \"knight\", \"knight\", \"Emperor\"]"
   ],
   "outputs": [],
   "execution_count": 5
  },
  {
   "metadata": {
    "ExecuteTime": {
     "end_time": "2025-06-10T14:18:43.996277Z",
     "start_time": "2025-06-10T14:18:43.991385Z"
    }
   },
   "cell_type": "code",
   "source": "[name.upper() for name in camelot]",
   "id": "2f80e01c569590e6",
   "outputs": [
    {
     "data": {
      "text/plain": [
       "['ARTHUR', 'MERLIN', 'LANCELOT', 'ROBIN', 'PERCEVAL', 'KARADOC']"
      ]
     },
     "execution_count": 2,
     "metadata": {},
     "output_type": "execute_result"
    }
   ],
   "execution_count": 2
  },
  {
   "metadata": {
    "ExecuteTime": {
     "end_time": "2025-06-10T14:24:07.308016Z",
     "start_time": "2025-06-10T14:24:07.306089Z"
    }
   },
   "cell_type": "code",
   "source": "kingdom = list(zip(camelot, jobs))",
   "id": "93a326d57bc1155",
   "outputs": [],
   "execution_count": 9
  },
  {
   "metadata": {
    "ExecuteTime": {
     "end_time": "2025-06-10T14:24:12.008455Z",
     "start_time": "2025-06-10T14:24:12.005164Z"
    }
   },
   "cell_type": "code",
   "source": "kingdom",
   "id": "6c001e792d93f1ce",
   "outputs": [
    {
     "data": {
      "text/plain": [
       "[('Arthur', 'king'),\n",
       " ('Merlin', 'wizard'),\n",
       " ('Lancelot', 'knight'),\n",
       " ('Robin', 'knight'),\n",
       " ('Perceval', 'knight'),\n",
       " ('Karadoc', 'knight')]"
      ]
     },
     "execution_count": 10,
     "metadata": {},
     "output_type": "execute_result"
    }
   ],
   "execution_count": 10
  },
  {
   "metadata": {
    "ExecuteTime": {
     "end_time": "2025-06-10T14:25:41.303453Z",
     "start_time": "2025-06-10T14:25:41.297848Z"
    }
   },
   "cell_type": "code",
   "source": [
    "[name.upper()\n",
    " for name, job in kingdom\n",
    " if job != \"wizard\"]"
   ],
   "id": "f09065e49dc6ba5a",
   "outputs": [
    {
     "data": {
      "text/plain": [
       "['ARTHUR', 'LANCELOT', 'ROBIN', 'PERCEVAL', 'KARADOC']"
      ]
     },
     "execution_count": 12,
     "metadata": {},
     "output_type": "execute_result"
    }
   ],
   "execution_count": 12
  },
  {
   "metadata": {
    "ExecuteTime": {
     "end_time": "2025-06-10T14:31:01.172050Z",
     "start_time": "2025-06-10T14:31:01.168717Z"
    }
   },
   "cell_type": "code",
   "source": "{name: job for name, job in zip(camelot, jobs)}\n",
   "id": "5b160a05bba6e7d8",
   "outputs": [
    {
     "data": {
      "text/plain": [
       "{'Arthur': 'king',\n",
       " 'Merlin': 'wizard',\n",
       " 'Lancelot': 'knight',\n",
       " 'Robin': 'knight',\n",
       " 'Perceval': 'knight',\n",
       " 'Karadoc': 'knight'}"
      ]
     },
     "execution_count": 13,
     "metadata": {},
     "output_type": "execute_result"
    }
   ],
   "execution_count": 13
  },
  {
   "metadata": {},
   "cell_type": "code",
   "outputs": [],
   "execution_count": null,
   "source": "[{\"name\":name, \"job\": job} for name, job in zip(camelot, jobs)]\n",
   "id": "929fca5c39625e5c"
  }
 ],
 "metadata": {
  "kernelspec": {
   "display_name": "Python 3",
   "language": "python",
   "name": "python3"
  },
  "language_info": {
   "codemirror_mode": {
    "name": "ipython",
    "version": 2
   },
   "file_extension": ".py",
   "mimetype": "text/x-python",
   "name": "python",
   "nbconvert_exporter": "python",
   "pygments_lexer": "ipython2",
   "version": "2.7.6"
  }
 },
 "nbformat": 4,
 "nbformat_minor": 5
}
