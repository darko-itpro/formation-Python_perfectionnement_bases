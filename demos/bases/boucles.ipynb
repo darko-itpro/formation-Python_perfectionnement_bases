{
 "cells": [
  {
   "metadata": {},
   "cell_type": "markdown",
   "source": "# Boucles et itérations",
   "id": "21a2a25a4e7772e3"
  },
  {
   "cell_type": "code",
   "id": "initial_id",
   "metadata": {
    "collapsed": true,
    "ExecuteTime": {
     "end_time": "2025-06-18T07:58:36.129283Z",
     "start_time": "2025-06-18T07:58:36.123304Z"
    }
   },
   "source": [
    "camelot = [\"Arthur\", \"Merlin\", \"Lancelot\", \"Robin\", \"Perceval\", \"Karadoc\"]\n",
    "jobs = [\"king\", \"wizard\", \"knight\", \"knight\", \"knight\", \"knight\",]"
   ],
   "outputs": [],
   "execution_count": 9
  },
  {
   "metadata": {
    "ExecuteTime": {
     "end_time": "2025-06-18T07:59:57.924722Z",
     "start_time": "2025-06-18T07:59:57.920792Z"
    }
   },
   "cell_type": "code",
   "source": [
    "for item in zip(camelot, jobs):\n",
    "    print(item)"
   ],
   "id": "1d0d6fab6f5bd58c",
   "outputs": [
    {
     "name": "stdout",
     "output_type": "stream",
     "text": [
      "('Arthur', 'king')\n",
      "('Merlin', 'wizard')\n",
      "('Lancelot', 'knight')\n",
      "('Robin', 'knight')\n",
      "('Perceval', 'knight')\n",
      "('Karadoc', 'knight')\n"
     ]
    }
   ],
   "execution_count": 11
  },
  {
   "metadata": {
    "ExecuteTime": {
     "end_time": "2025-06-18T08:01:41.752474Z",
     "start_time": "2025-06-18T08:01:41.747323Z"
    }
   },
   "cell_type": "code",
   "source": "camelot = [\"Arthur\", \"Merlin\", \"Lancelot\", \"Robin\", \"Perceval\", \"Karadoc\"]",
   "id": "c779e922b332d68e",
   "outputs": [],
   "execution_count": 12
  },
  {
   "metadata": {
    "ExecuteTime": {
     "end_time": "2025-06-18T08:04:16.532593Z",
     "start_time": "2025-06-18T08:04:16.520085Z"
    }
   },
   "cell_type": "code",
   "source": "[item for item in zip(camelot, jobs)]",
   "id": "1f8e9a378b796ffc",
   "outputs": [
    {
     "data": {
      "text/plain": [
       "[('Arthur', 'king'),\n",
       " ('Merlin', 'wizard'),\n",
       " ('Lancelot', 'knight'),\n",
       " ('Robin', 'knight'),\n",
       " ('Perceval', 'knight'),\n",
       " ('Karadoc', 'knight')]"
      ]
     },
     "execution_count": 14,
     "metadata": {},
     "output_type": "execute_result"
    }
   ],
   "execution_count": 14
  },
  {
   "metadata": {
    "ExecuteTime": {
     "end_time": "2025-06-18T08:06:15.844768Z",
     "start_time": "2025-06-18T08:06:15.835883Z"
    }
   },
   "cell_type": "code",
   "source": "{name:job for name, job in zip(camelot, jobs)}",
   "id": "7f565393896dc033",
   "outputs": [
    {
     "data": {
      "text/plain": [
       "{'Arthur': 'king',\n",
       " 'Merlin': 'wizard',\n",
       " 'Lancelot': 'knight',\n",
       " 'Robin': 'knight',\n",
       " 'Perceval': 'knight',\n",
       " 'Karadoc': 'knight'}"
      ]
     },
     "execution_count": 16,
     "metadata": {},
     "output_type": "execute_result"
    }
   ],
   "execution_count": 16
  },
  {
   "metadata": {
    "ExecuteTime": {
     "end_time": "2025-06-18T08:11:03.809060Z",
     "start_time": "2025-06-18T08:11:03.799768Z"
    }
   },
   "cell_type": "code",
   "source": [
    "[name.upper()\n",
    " for name, job in zip(camelot, jobs)\n",
    " if job != \"wizard\"]"
   ],
   "id": "c83cd6324822d05a",
   "outputs": [
    {
     "data": {
      "text/plain": [
       "['ARTHUR', 'LANCELOT', 'ROBIN', 'PERCEVAL', 'KARADOC']"
      ]
     },
     "execution_count": 18,
     "metadata": {},
     "output_type": "execute_result"
    }
   ],
   "execution_count": 18
  },
  {
   "metadata": {},
   "cell_type": "code",
   "outputs": [],
   "execution_count": null,
   "source": "",
   "id": "230d985a4439bb4e"
  },
  {
   "metadata": {},
   "cell_type": "markdown",
   "source": "## Affichage",
   "id": "8ce9ed93ac0a3c4d"
  },
  {
   "metadata": {
    "ExecuteTime": {
     "end_time": "2025-06-18T08:36:25.865728Z",
     "start_time": "2025-06-18T08:36:25.861893Z"
    }
   },
   "cell_type": "code",
   "source": [
    "result = 42\n",
    "\"Résultat : {:10.2f}\".format(result)"
   ],
   "id": "79b72cc4f6301a5b",
   "outputs": [
    {
     "data": {
      "text/plain": [
       "'Résultat :      42.00'"
      ]
     },
     "execution_count": 22,
     "metadata": {},
     "output_type": "execute_result"
    }
   ],
   "execution_count": 22
  },
  {
   "metadata": {
    "ExecuteTime": {
     "end_time": "2025-06-18T08:36:35.431288Z",
     "start_time": "2025-06-18T08:36:35.425157Z"
    }
   },
   "cell_type": "code",
   "source": "f\"Résultat : {result:10.2f}\"",
   "id": "d2b49a6b3d9dfda1",
   "outputs": [
    {
     "data": {
      "text/plain": [
       "'Résultat :      42.00'"
      ]
     },
     "execution_count": 23,
     "metadata": {},
     "output_type": "execute_result"
    }
   ],
   "execution_count": 23
  },
  {
   "metadata": {
    "ExecuteTime": {
     "end_time": "2025-06-18T08:47:01.261030Z",
     "start_time": "2025-06-18T08:47:01.258091Z"
    }
   },
   "cell_type": "code",
   "source": [
    "def display_price(template, price:float, currency:str):\n",
    "    print(template.format(price, currency))\n",
    "\n",
    "t_fr = \"prix du produit : {:.2f} {}\"\n",
    "t_us = \"Price of product: {1}{0:.2f}\""
   ],
   "id": "230dde58b2150c15",
   "outputs": [],
   "execution_count": 26
  },
  {
   "metadata": {
    "ExecuteTime": {
     "end_time": "2025-06-18T08:47:02.566322Z",
     "start_time": "2025-06-18T08:47:02.559161Z"
    }
   },
   "cell_type": "code",
   "source": "display_price(t_fr, 42, '€')",
   "id": "69a20b49ff4a4840",
   "outputs": [
    {
     "name": "stdout",
     "output_type": "stream",
     "text": [
      "prix : 42.00 €\n"
     ]
    }
   ],
   "execution_count": 27
  },
  {
   "metadata": {
    "ExecuteTime": {
     "end_time": "2025-06-18T08:47:15.386365Z",
     "start_time": "2025-06-18T08:47:15.376882Z"
    }
   },
   "cell_type": "code",
   "source": "display_price(t_us, 42, '$')",
   "id": "a6e2133885cddae7",
   "outputs": [
    {
     "name": "stdout",
     "output_type": "stream",
     "text": [
      "Price: $42.00\n"
     ]
    }
   ],
   "execution_count": 28
  },
  {
   "metadata": {},
   "cell_type": "code",
   "outputs": [],
   "execution_count": null,
   "source": "",
   "id": "2e6e59a46edc5d76"
  },
  {
   "metadata": {},
   "cell_type": "markdown",
   "source": "## Tuples ou N-uplets",
   "id": "1e8bdf1079365b83"
  },
  {
   "metadata": {
    "ExecuteTime": {
     "end_time": "2025-06-18T09:16:34.313366Z",
     "start_time": "2025-06-18T09:16:34.310225Z"
    }
   },
   "cell_type": "code",
   "source": "val = 1,",
   "id": "f5ea38ae23f69188",
   "outputs": [],
   "execution_count": 35
  },
  {
   "metadata": {
    "ExecuteTime": {
     "end_time": "2025-06-18T09:16:39.949977Z",
     "start_time": "2025-06-18T09:16:39.946654Z"
    }
   },
   "cell_type": "code",
   "source": "type(val)",
   "id": "ef6d5ca37b344d58",
   "outputs": [
    {
     "data": {
      "text/plain": [
       "tuple"
      ]
     },
     "execution_count": 37,
     "metadata": {},
     "output_type": "execute_result"
    }
   ],
   "execution_count": 37
  },
  {
   "metadata": {},
   "cell_type": "code",
   "outputs": [],
   "execution_count": null,
   "source": [
    "def truc():\n",
    "    return 1, 2, 3"
   ],
   "id": "a5633af450cbc572"
  },
  {
   "metadata": {
    "ExecuteTime": {
     "end_time": "2025-06-18T09:20:15.010418Z",
     "start_time": "2025-06-18T09:20:15.005844Z"
    }
   },
   "cell_type": "code",
   "source": [
    "question = 42\n",
    "answer = \"Meaning of life\""
   ],
   "id": "d0968efb2246c4ec",
   "outputs": [],
   "execution_count": 40
  },
  {
   "metadata": {},
   "cell_type": "code",
   "outputs": [],
   "execution_count": null,
   "source": "(question, answer) = (answer, question)",
   "id": "596e4798a500a9f4"
  },
  {
   "metadata": {},
   "cell_type": "markdown",
   "source": "## Unpack",
   "id": "c784d6adbc7238e9"
  },
  {
   "metadata": {
    "ExecuteTime": {
     "end_time": "2025-06-18T09:22:58.073613Z",
     "start_time": "2025-06-18T09:22:58.033253Z"
    }
   },
   "cell_type": "code",
   "source": "camelot = [\"Arthur\", \"Merlin\", \"Lancelot\", \"Robin\", \"Perceval\", \"Karadoc\"]",
   "id": "1ec708daf17d8976",
   "outputs": [],
   "execution_count": 41
  },
  {
   "metadata": {},
   "cell_type": "code",
   "outputs": [],
   "execution_count": null,
   "source": "king, wizard, k1, k2, k3, k4 = camelot",
   "id": "12aef1bfc7f53848"
  },
  {
   "metadata": {
    "ExecuteTime": {
     "end_time": "2025-06-18T09:38:20.093948Z",
     "start_time": "2025-06-18T09:38:20.074535Z"
    }
   },
   "cell_type": "code",
   "source": "king, wizard, *knights = camelot",
   "id": "1a7b3b065d956e4b",
   "outputs": [],
   "execution_count": 63
  },
  {
   "metadata": {
    "ExecuteTime": {
     "end_time": "2025-06-18T09:38:22.737891Z",
     "start_time": "2025-06-18T09:38:22.734675Z"
    }
   },
   "cell_type": "code",
   "source": "knights",
   "id": "cc704a872509e5c7",
   "outputs": [
    {
     "data": {
      "text/plain": [
       "['Lancelot', 'Robin', 'Perceval']"
      ]
     },
     "execution_count": 64,
     "metadata": {},
     "output_type": "execute_result"
    }
   ],
   "execution_count": 64
  },
  {
   "metadata": {},
   "cell_type": "code",
   "outputs": [],
   "execution_count": null,
   "source": "",
   "id": "b1dab70be36081e1"
  },
  {
   "metadata": {
    "ExecuteTime": {
     "end_time": "2025-06-18T09:26:48.624259Z",
     "start_time": "2025-06-18T09:26:48.617398Z"
    }
   },
   "cell_type": "code",
   "source": [
    "timestamp = 1243\n",
    "\"Il est {:02}h{:02}\".format(*divmod(1243, 60))"
   ],
   "id": "23f421ffed63bc04",
   "outputs": [
    {
     "data": {
      "text/plain": [
       "'Il est 20h43'"
      ]
     },
     "execution_count": 44,
     "metadata": {},
     "output_type": "execute_result"
    }
   ],
   "execution_count": 44
  },
  {
   "metadata": {
    "ExecuteTime": {
     "end_time": "2025-06-18T09:28:26.638235Z",
     "start_time": "2025-06-18T09:28:26.636005Z"
    }
   },
   "cell_type": "code",
   "source": [
    "def func(*args):\n",
    "    print(args)"
   ],
   "id": "bd8d45b6b03af224",
   "outputs": [],
   "execution_count": 48
  },
  {
   "metadata": {
    "ExecuteTime": {
     "end_time": "2025-06-18T09:30:18.681490Z",
     "start_time": "2025-06-18T09:30:18.545082Z"
    }
   },
   "cell_type": "code",
   "source": "func(prama=10)",
   "id": "4c7d84d12f069357",
   "outputs": [
    {
     "ename": "TypeError",
     "evalue": "func() got an unexpected keyword argument 'prama'",
     "output_type": "error",
     "traceback": [
      "\u001B[31m---------------------------------------------------------------------------\u001B[39m",
      "\u001B[31mTypeError\u001B[39m                                 Traceback (most recent call last)",
      "\u001B[36mCell\u001B[39m\u001B[36m \u001B[39m\u001B[32mIn[54]\u001B[39m\u001B[32m, line 1\u001B[39m\n\u001B[32m----> \u001B[39m\u001B[32m1\u001B[39m \u001B[43mfunc\u001B[49m\u001B[43m(\u001B[49m\u001B[43mprama\u001B[49m\u001B[43m=\u001B[49m\u001B[32;43m10\u001B[39;49m\u001B[43m)\u001B[49m\n",
      "\u001B[31mTypeError\u001B[39m: func() got an unexpected keyword argument 'prama'"
     ]
    }
   ],
   "execution_count": 54
  },
  {
   "metadata": {
    "ExecuteTime": {
     "end_time": "2025-06-18T09:29:42.554359Z",
     "start_time": "2025-06-18T09:29:42.548862Z"
    }
   },
   "cell_type": "code",
   "source": [
    "def funk(**kwargs):\n",
    "    print(kwargs)"
   ],
   "id": "2f078b692dfd4ff5",
   "outputs": [],
   "execution_count": 52
  },
  {
   "metadata": {
    "ExecuteTime": {
     "end_time": "2025-06-18T09:30:31.043243Z",
     "start_time": "2025-06-18T09:30:31.041102Z"
    }
   },
   "cell_type": "code",
   "source": "funk(param=1)",
   "id": "42624cb578e96ce",
   "outputs": [
    {
     "name": "stdout",
     "output_type": "stream",
     "text": [
      "{'param': 1}\n"
     ]
    }
   ],
   "execution_count": 56
  },
  {
   "metadata": {},
   "cell_type": "code",
   "outputs": [],
   "execution_count": null,
   "source": [
    "def funck(*args, **kwargs):\n",
    "    print(args, kwargs)"
   ],
   "id": "287717899e9298b5"
  },
  {
   "metadata": {
    "ExecuteTime": {
     "end_time": "2025-06-18T09:32:33.839649Z",
     "start_time": "2025-06-18T09:32:33.820086Z"
    }
   },
   "cell_type": "code",
   "source": "help(str.format)",
   "id": "f177b95d9fb94506",
   "outputs": [
    {
     "name": "stdout",
     "output_type": "stream",
     "text": [
      "Help on method_descriptor:\n",
      "\n",
      "format(self, /, *args, **kwargs) unbound builtins.str method\n",
      "    Return a formatted version of the string, using substitutions from args and kwargs.\n",
      "    The substitutions are identified by braces ('{' and '}').\n",
      "\n"
     ]
    }
   ],
   "execution_count": 58
  },
  {
   "metadata": {
    "ExecuteTime": {
     "end_time": "2025-06-18T09:33:33.993688Z",
     "start_time": "2025-06-18T09:33:33.987744Z"
    }
   },
   "cell_type": "code",
   "source": "\"{}{param}\".format(2, param=\"value\")",
   "id": "aee0a5f56ffedc71",
   "outputs": [
    {
     "data": {
      "text/plain": [
       "'2value'"
      ]
     },
     "execution_count": 60,
     "metadata": {},
     "output_type": "execute_result"
    }
   ],
   "execution_count": 60
  },
  {
   "metadata": {},
   "cell_type": "code",
   "outputs": [],
   "execution_count": null,
   "source": "",
   "id": "6e110465b4d9fb64"
  },
  {
   "metadata": {},
   "cell_type": "markdown",
   "source": "## Slicing",
   "id": "3ead13fe59de4c70"
  },
  {
   "metadata": {
    "ExecuteTime": {
     "end_time": "2025-06-18T09:41:47.284665Z",
     "start_time": "2025-06-18T09:41:47.272035Z"
    }
   },
   "cell_type": "code",
   "source": "camelot = [\"Arthur\", \"Merlin\", \"Lancelot\", \"Robin\", \"Perceval\", \"Karadoc\"]",
   "id": "a5b65e7450b42dd7",
   "outputs": [],
   "execution_count": 65
  },
  {
   "metadata": {
    "ExecuteTime": {
     "end_time": "2025-06-18T09:42:19.888885Z",
     "start_time": "2025-06-18T09:42:19.881527Z"
    }
   },
   "cell_type": "code",
   "source": "camelot[1:4]",
   "id": "7ba3225f36df916a",
   "outputs": [
    {
     "data": {
      "text/plain": [
       "['Merlin', 'Lancelot', 'Robin']"
      ]
     },
     "execution_count": 66,
     "metadata": {},
     "output_type": "execute_result"
    }
   ],
   "execution_count": 66
  },
  {
   "metadata": {
    "ExecuteTime": {
     "end_time": "2025-06-18T09:43:47.639574Z",
     "start_time": "2025-06-18T09:43:47.625201Z"
    }
   },
   "cell_type": "code",
   "source": "camelot[:2]",
   "id": "cff77538d73a9f2e",
   "outputs": [
    {
     "data": {
      "text/plain": [
       "['Arthur', 'Merlin']"
      ]
     },
     "execution_count": 67,
     "metadata": {},
     "output_type": "execute_result"
    }
   ],
   "execution_count": 67
  },
  {
   "metadata": {
    "ExecuteTime": {
     "end_time": "2025-06-18T09:45:38.946385Z",
     "start_time": "2025-06-18T09:45:38.933147Z"
    }
   },
   "cell_type": "code",
   "source": "camelot[-2:]",
   "id": "ecef7fa5d35cd32f",
   "outputs": [
    {
     "data": {
      "text/plain": [
       "['Perceval', 'Karadoc']"
      ]
     },
     "execution_count": 70,
     "metadata": {},
     "output_type": "execute_result"
    }
   ],
   "execution_count": 70
  },
  {
   "metadata": {
    "ExecuteTime": {
     "end_time": "2025-06-18T09:46:19.546059Z",
     "start_time": "2025-06-18T09:46:19.541797Z"
    }
   },
   "cell_type": "code",
   "source": "camelot[20:100]",
   "id": "8988666abc49166e",
   "outputs": [
    {
     "data": {
      "text/plain": [
       "[]"
      ]
     },
     "execution_count": 72,
     "metadata": {},
     "output_type": "execute_result"
    }
   ],
   "execution_count": 72
  },
  {
   "metadata": {
    "ExecuteTime": {
     "end_time": "2025-06-18T09:47:26.559282Z",
     "start_time": "2025-06-18T09:47:26.555685Z"
    }
   },
   "cell_type": "code",
   "source": "camelot[::-1]",
   "id": "622fd256c60c2269",
   "outputs": [
    {
     "data": {
      "text/plain": [
       "['Karadoc', 'Perceval', 'Robin', 'Lancelot', 'Merlin', 'Arthur']"
      ]
     },
     "execution_count": 77,
     "metadata": {},
     "output_type": "execute_result"
    }
   ],
   "execution_count": 77
  },
  {
   "metadata": {
    "ExecuteTime": {
     "end_time": "2025-06-18T09:48:14.333971Z",
     "start_time": "2025-06-18T09:48:14.322930Z"
    }
   },
   "cell_type": "code",
   "source": "westeros = [\"John\", \"Brian\"]",
   "id": "85cee23cca9886b9",
   "outputs": [],
   "execution_count": 78
  },
  {
   "metadata": {
    "ExecuteTime": {
     "end_time": "2025-06-18T09:48:57.902483Z",
     "start_time": "2025-06-18T09:48:57.895501Z"
    }
   },
   "cell_type": "code",
   "source": "camelot[1:4] = westeros",
   "id": "b1e748adcd47c48",
   "outputs": [],
   "execution_count": 79
  },
  {
   "metadata": {
    "ExecuteTime": {
     "end_time": "2025-06-18T09:49:00.025984Z",
     "start_time": "2025-06-18T09:49:00.019420Z"
    }
   },
   "cell_type": "code",
   "source": "camelot",
   "id": "84bd986c2f427070",
   "outputs": [
    {
     "data": {
      "text/plain": [
       "['Arthur', 'John', 'Brian', 'Perceval', 'Karadoc']"
      ]
     },
     "execution_count": 80,
     "metadata": {},
     "output_type": "execute_result"
    }
   ],
   "execution_count": 80
  },
  {
   "metadata": {
    "ExecuteTime": {
     "end_time": "2025-06-18T09:50:13.852212Z",
     "start_time": "2025-06-18T09:50:13.849920Z"
    }
   },
   "cell_type": "code",
   "source": "camelot.extend(westeros)",
   "id": "8e8872068e04f0b3",
   "outputs": [],
   "execution_count": 83
  },
  {
   "metadata": {
    "ExecuteTime": {
     "end_time": "2025-06-18T09:50:14.101619Z",
     "start_time": "2025-06-18T09:50:14.098437Z"
    }
   },
   "cell_type": "code",
   "source": "camelot",
   "id": "10cf4a9a9a8e48c9",
   "outputs": [
    {
     "data": {
      "text/plain": [
       "['Arthur',\n",
       " 'John',\n",
       " 'Brian',\n",
       " 'Perceval',\n",
       " 'Karadoc',\n",
       " ['John', 'Brian'],\n",
       " 'John',\n",
       " 'Brian']"
      ]
     },
     "execution_count": 84,
     "metadata": {},
     "output_type": "execute_result"
    }
   ],
   "execution_count": 84
  },
  {
   "metadata": {
    "ExecuteTime": {
     "end_time": "2025-06-18T09:50:46.930543Z",
     "start_time": "2025-06-18T09:50:46.923794Z"
    }
   },
   "cell_type": "code",
   "source": [
    "camelot = [\"Arthur\", \"Merlin\", \"Lancelot\", \"Robin\", \"Perceval\", \"Karadoc\"]\n",
    "westeros = [\"John\", \"Brian\"]"
   ],
   "id": "4dae843f71a2972c",
   "outputs": [],
   "execution_count": 85
  },
  {
   "metadata": {
    "ExecuteTime": {
     "end_time": "2025-06-18T09:51:09.239031Z",
     "start_time": "2025-06-18T09:51:09.236522Z"
    }
   },
   "cell_type": "code",
   "source": "camelot[1:1] = westeros",
   "id": "b4a6301b1f6d1980",
   "outputs": [],
   "execution_count": 86
  },
  {
   "metadata": {
    "ExecuteTime": {
     "end_time": "2025-06-18T09:51:11.706378Z",
     "start_time": "2025-06-18T09:51:11.701831Z"
    }
   },
   "cell_type": "code",
   "source": "camelot",
   "id": "d18f6344c2bb07b7",
   "outputs": [
    {
     "data": {
      "text/plain": [
       "['Arthur',\n",
       " 'John',\n",
       " 'Brian',\n",
       " 'Merlin',\n",
       " 'Lancelot',\n",
       " 'Robin',\n",
       " 'Perceval',\n",
       " 'Karadoc']"
      ]
     },
     "execution_count": 87,
     "metadata": {},
     "output_type": "execute_result"
    }
   ],
   "execution_count": 87
  },
  {
   "metadata": {
    "ExecuteTime": {
     "end_time": "2025-06-18T09:57:10.762646Z",
     "start_time": "2025-06-18T09:57:10.750161Z"
    }
   },
   "cell_type": "code",
   "source": [
    "camelot = [\"Arthur\", \"Merlin\", \"Lancelot\", \"Robin\", \"Perceval\", \"Karadoc\"]\n",
    "westeros = [\"John\", \"Brian\"]\n",
    "\n",
    "kingdom = []\n",
    "observer = kingdom\n",
    "\n",
    "kingdom[:] = camelot\n",
    "print(id(kingdom), id(observer))\n",
    "# traiter camelot\n",
    "kingdom[:] = westeros\n",
    "# traiter westeros\n",
    "print(id(kingdom), id(observer))"
   ],
   "id": "21288561c60907c",
   "outputs": [
    {
     "name": "stdout",
     "output_type": "stream",
     "text": [
      "4708511872 4708511872\n",
      "4708511872 4708511872\n"
     ]
    }
   ],
   "execution_count": 89
  },
  {
   "metadata": {},
   "cell_type": "code",
   "outputs": [],
   "execution_count": null,
   "source": "",
   "id": "278b84970af34788"
  },
  {
   "metadata": {
    "ExecuteTime": {
     "end_time": "2025-06-18T10:04:14.038781Z",
     "start_time": "2025-06-18T10:04:14.036028Z"
    }
   },
   "cell_type": "code",
   "source": "camelot = [\"Arthur\", \"Merlin\", \"Lancelot\", \"Robin\", \"Perceval\", \"Karadoc\"]",
   "id": "155f3bd255f7c206",
   "outputs": [],
   "execution_count": 91
  },
  {
   "metadata": {
    "ExecuteTime": {
     "end_time": "2025-06-18T10:06:16.313420Z",
     "start_time": "2025-06-18T10:06:16.309023Z"
    }
   },
   "cell_type": "code",
   "source": "camelot[0:2]",
   "id": "24ade5439f173347",
   "outputs": [
    {
     "data": {
      "text/plain": [
       "['Arthur', 'Merlin']"
      ]
     },
     "execution_count": 92,
     "metadata": {},
     "output_type": "execute_result"
    }
   ],
   "execution_count": 92
  },
  {
   "metadata": {
    "ExecuteTime": {
     "end_time": "2025-06-18T10:06:28.817474Z",
     "start_time": "2025-06-18T10:06:28.813564Z"
    }
   },
   "cell_type": "code",
   "source": "camelot[2:4]",
   "id": "1e55bb33a9192606",
   "outputs": [
    {
     "data": {
      "text/plain": [
       "['Lancelot', 'Robin']"
      ]
     },
     "execution_count": 93,
     "metadata": {},
     "output_type": "execute_result"
    }
   ],
   "execution_count": 93
  },
  {
   "metadata": {},
   "cell_type": "code",
   "outputs": [],
   "execution_count": null,
   "source": "",
   "id": "26c1fcdfeb36208c"
  },
  {
   "metadata": {
    "ExecuteTime": {
     "end_time": "2025-06-18T10:16:02.338781Z",
     "start_time": "2025-06-18T10:16:02.334679Z"
    }
   },
   "cell_type": "code",
   "source": [
    "camelot = [\"Arthur\", \"Merlin\", \"Lancelot\", \"Robin\", \"Perceval\", \"Karadoc\", \"Bohort\"]\n",
    "\n",
    "start = 0\n",
    "step = 2\n",
    "\n",
    "\n",
    "while team := camelot[start:start+step]:\n",
    "    print(team)\n",
    "    start += step\n"
   ],
   "id": "9bd60a1ffeb668eb",
   "outputs": [
    {
     "name": "stdout",
     "output_type": "stream",
     "text": [
      "['Arthur', 'Merlin']\n",
      "['Lancelot', 'Robin']\n",
      "['Perceval', 'Karadoc']\n",
      "['Bohort']\n"
     ]
    }
   ],
   "execution_count": 99
  },
  {
   "metadata": {
    "ExecuteTime": {
     "end_time": "2025-06-18T10:21:37.900115Z",
     "start_time": "2025-06-18T10:21:37.890977Z"
    }
   },
   "cell_type": "code",
   "source": [
    "sentence = \"One sentence of funy things\"\n",
    "\n",
    "eval = {\"sentence\": sentence,\n",
    "        \"elements\": (elements := sentence.split()),\n",
    "        \"count\": len(elements)\n",
    "        }\n",
    "\n",
    "elements"
   ],
   "id": "a7cc1f054687ac3d",
   "outputs": [
    {
     "data": {
      "text/plain": [
       "['One', 'sentence', 'of', 'funy', 'things']"
      ]
     },
     "execution_count": 102,
     "metadata": {},
     "output_type": "execute_result"
    }
   ],
   "execution_count": 102
  },
  {
   "metadata": {},
   "cell_type": "code",
   "outputs": [],
   "execution_count": null,
   "source": "",
   "id": "944ae90801246e4b"
  },
  {
   "metadata": {},
   "cell_type": "code",
   "outputs": [],
   "execution_count": null,
   "source": "",
   "id": "fe19be6b25a6c0dd"
  },
  {
   "metadata": {
    "ExecuteTime": {
     "end_time": "2025-06-18T10:23:07.549706Z",
     "start_time": "2025-06-18T10:23:07.536738Z"
    }
   },
   "cell_type": "code",
   "source": [
    "camelot = [\"Arthur\", \"Merlin\", \"Lancelot\", \"Robin\", \"Perceval\", \"Karadoc\"]\n",
    "jobs = [\"king\", \"wizard\", \"knight\", \"knight\", \"knight\", \"knight\",]\n",
    "camelot = list(zip(camelot, jobs))"
   ],
   "id": "5e49a91fbd4eacb6",
   "outputs": [],
   "execution_count": 103
  },
  {
   "metadata": {
    "ExecuteTime": {
     "end_time": "2025-06-18T10:23:09.309253Z",
     "start_time": "2025-06-18T10:23:09.305766Z"
    }
   },
   "cell_type": "code",
   "source": "camelot",
   "id": "f29d97dff24d6c99",
   "outputs": [
    {
     "data": {
      "text/plain": [
       "[('Arthur', 'king'),\n",
       " ('Merlin', 'wizard'),\n",
       " ('Lancelot', 'knight'),\n",
       " ('Robin', 'knight'),\n",
       " ('Perceval', 'knight'),\n",
       " ('Karadoc', 'knight')]"
      ]
     },
     "execution_count": 104,
     "metadata": {},
     "output_type": "execute_result"
    }
   ],
   "execution_count": 104
  },
  {
   "metadata": {
    "ExecuteTime": {
     "end_time": "2025-06-18T10:39:08.733420Z",
     "start_time": "2025-06-18T10:39:08.729946Z"
    }
   },
   "cell_type": "code",
   "source": [
    "\n",
    "for name, job in camelot:\n",
    "    if job == \"wizar\":\n",
    "        print('You have a wizard')\n",
    "        break\n",
    "else:\n",
    "    print('You NEED a wizard')"
   ],
   "id": "28ff2d1060a8f4bd",
   "outputs": [
    {
     "name": "stdout",
     "output_type": "stream",
     "text": [
      "You NEED a wizard\n"
     ]
    }
   ],
   "execution_count": 107
  },
  {
   "metadata": {},
   "cell_type": "code",
   "outputs": [],
   "execution_count": null,
   "source": "",
   "id": "919077c3d9973649"
  }
 ],
 "metadata": {
  "kernelspec": {
   "display_name": "Python 3",
   "language": "python",
   "name": "python3"
  },
  "language_info": {
   "codemirror_mode": {
    "name": "ipython",
    "version": 2
   },
   "file_extension": ".py",
   "mimetype": "text/x-python",
   "name": "python",
   "nbconvert_exporter": "python",
   "pygments_lexer": "ipython2",
   "version": "2.7.6"
  }
 },
 "nbformat": 4,
 "nbformat_minor": 5
}
