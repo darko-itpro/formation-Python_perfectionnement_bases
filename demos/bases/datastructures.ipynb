{
 "cells": [
  {
   "metadata": {},
   "cell_type": "markdown",
   "source": [
    "# Structures de données\n",
    "## Namedtuples"
   ],
   "id": "3af5a831168f02fd"
  },
  {
   "cell_type": "code",
   "id": "initial_id",
   "metadata": {
    "collapsed": true,
    "ExecuteTime": {
     "end_time": "2025-06-20T07:20:44.690351Z",
     "start_time": "2025-06-20T07:20:44.688224Z"
    }
   },
   "source": [
    "from collections import namedtuple\n",
    "\n",
    "Point = namedtuple('Point', 'x y z color',\n",
    "                              defaults=(0, (0, 0, 0)))"
   ],
   "outputs": [],
   "execution_count": 27
  },
  {
   "metadata": {
    "ExecuteTime": {
     "end_time": "2025-06-20T07:20:44.899285Z",
     "start_time": "2025-06-20T07:20:44.896407Z"
    }
   },
   "cell_type": "code",
   "source": "p1 = Point(5, 8, 10, (12, 234, 128))",
   "id": "6e369db19af9054b",
   "outputs": [],
   "execution_count": 28
  },
  {
   "metadata": {
    "ExecuteTime": {
     "end_time": "2025-06-20T07:20:45.047169Z",
     "start_time": "2025-06-20T07:20:45.044894Z"
    }
   },
   "cell_type": "code",
   "source": "p2 = Point(3, 9)",
   "id": "2c90c8e6e1042c1d",
   "outputs": [],
   "execution_count": 29
  },
  {
   "metadata": {
    "ExecuteTime": {
     "end_time": "2025-06-20T07:20:45.242084Z",
     "start_time": "2025-06-20T07:20:45.239063Z"
    }
   },
   "cell_type": "code",
   "source": "p2.x",
   "id": "1a191d04476557be",
   "outputs": [
    {
     "data": {
      "text/plain": [
       "3"
      ]
     },
     "execution_count": 30,
     "metadata": {},
     "output_type": "execute_result"
    }
   ],
   "execution_count": 30
  },
  {
   "metadata": {
    "ExecuteTime": {
     "end_time": "2025-06-20T07:16:43.433525Z",
     "start_time": "2025-06-20T07:16:43.429126Z"
    }
   },
   "cell_type": "code",
   "source": "p2.z",
   "id": "41bb3f1d389c709c",
   "outputs": [
    {
     "data": {
      "text/plain": [
       "0"
      ]
     },
     "execution_count": 15,
     "metadata": {},
     "output_type": "execute_result"
    }
   ],
   "execution_count": 15
  },
  {
   "metadata": {},
   "cell_type": "code",
   "outputs": [],
   "execution_count": null,
   "source": "",
   "id": "9034ba56f835bd7a"
  },
  {
   "metadata": {},
   "cell_type": "code",
   "outputs": [],
   "execution_count": null,
   "source": "",
   "id": "49b1846e0f8b4d27"
  },
  {
   "metadata": {},
   "cell_type": "markdown",
   "source": "## Les dataclasses",
   "id": "642874793029cff"
  },
  {
   "metadata": {},
   "cell_type": "code",
   "outputs": [],
   "execution_count": null,
   "source": [
    "class EpisodeObject:\n",
    "    def __init__(self, title:str, number:int, season_number:int, duration:int=None, year:int=None):\n",
    "        self.title = title\n",
    "        self.number = number\n",
    "        self.season_number = season_number\n",
    "        self.duration = int(duration) if duration is not None else None\n",
    "        self.year = int(year) if year is not None else None\n",
    "\n",
    "    def __eq__(self, other):\n",
    "        if not isinstance(other, self.__class__):\n",
    "            return False\n",
    "\n",
    "        return (self.number, self.season_number) == (other.number, other.season_number)\n",
    "\n",
    "    def __str__(self):\n",
    "        return f'Episode \"{self.title}\" s{self.season_number}e{self.number}'"
   ],
   "id": "2de10eb7957985ca"
  },
  {
   "metadata": {
    "ExecuteTime": {
     "end_time": "2025-06-20T07:34:59.808376Z",
     "start_time": "2025-06-20T07:34:59.804095Z"
    }
   },
   "cell_type": "code",
   "source": [
    "from dataclasses import dataclass, field\n",
    "\n",
    "@dataclass(frozen=True)\n",
    "class Episode:\n",
    "    title: str = field(compare=False)\n",
    "    number: int\n",
    "    season_number: int\n",
    "    duration: int = field(default=None, compare=False)\n",
    "    year: int = field(default=None, compare=False)\n"
   ],
   "id": "76b69bc621111fcc",
   "outputs": [],
   "execution_count": 45
  },
  {
   "metadata": {
    "ExecuteTime": {
     "end_time": "2025-06-20T07:35:05.702417Z",
     "start_time": "2025-06-20T07:35:05.697959Z"
    }
   },
   "cell_type": "code",
   "source": [
    "ep1 = Episode(\"Episode title\", 2, 4, 65)\n",
    "ep2 = Episode(\"Episode title\", 2, 4)\n",
    "\n",
    "ep1 == ep2"
   ],
   "id": "dae3836942bef915",
   "outputs": [
    {
     "data": {
      "text/plain": [
       "True"
      ]
     },
     "execution_count": 46,
     "metadata": {},
     "output_type": "execute_result"
    }
   ],
   "execution_count": 46
  },
  {
   "metadata": {
    "ExecuteTime": {
     "end_time": "2025-06-20T07:30:04.141929Z",
     "start_time": "2025-06-20T07:30:04.117626Z"
    }
   },
   "cell_type": "code",
   "source": "ep1.duration = 92",
   "id": "116b476bcf7db3ba",
   "outputs": [
    {
     "ename": "FrozenInstanceError",
     "evalue": "cannot assign to field 'duration'",
     "output_type": "error",
     "traceback": [
      "\u001B[31m---------------------------------------------------------------------------\u001B[39m",
      "\u001B[31mFrozenInstanceError\u001B[39m                       Traceback (most recent call last)",
      "\u001B[36mCell\u001B[39m\u001B[36m \u001B[39m\u001B[32mIn[42]\u001B[39m\u001B[32m, line 1\u001B[39m\n\u001B[32m----> \u001B[39m\u001B[32m1\u001B[39m \u001B[43mep1\u001B[49m\u001B[43m.\u001B[49m\u001B[43mduration\u001B[49m = \u001B[32m92\u001B[39m\n",
      "\u001B[36mFile \u001B[39m\u001B[32m<string>:19\u001B[39m, in \u001B[36m__setattr__\u001B[39m\u001B[34m(self, name, value)\u001B[39m\n",
      "\u001B[31mFrozenInstanceError\u001B[39m: cannot assign to field 'duration'"
     ]
    }
   ],
   "execution_count": 42
  },
  {
   "metadata": {
    "ExecuteTime": {
     "end_time": "2025-06-20T07:26:49.821352Z",
     "start_time": "2025-06-20T07:26:49.818885Z"
    }
   },
   "cell_type": "code",
   "source": "ep1.duration",
   "id": "6db66698aa8df21f",
   "outputs": [
    {
     "data": {
      "text/plain": [
       "92"
      ]
     },
     "execution_count": 39,
     "metadata": {},
     "output_type": "execute_result"
    }
   ],
   "execution_count": 39
  },
  {
   "metadata": {},
   "cell_type": "code",
   "outputs": [],
   "execution_count": null,
   "source": [
    "from dataclasses import dataclass, field\n",
    "\n",
    "@dataclass(frozen=True)\n",
    "class TvShow:\n",
    "    name: str\n",
    "    episodes: list = field(default_factory=list, init=False)\n",
    "\n",
    "    def add_episode(self, title, number, season_number, duration, year):\n",
    "        self.episodes.append(Episode(title, number, season_number, duration, year))"
   ],
   "id": "b4a9238ad74eea9e"
  }
 ],
 "metadata": {
  "kernelspec": {
   "display_name": "Python 3",
   "language": "python",
   "name": "python3"
  },
  "language_info": {
   "codemirror_mode": {
    "name": "ipython",
    "version": 2
   },
   "file_extension": ".py",
   "mimetype": "text/x-python",
   "name": "python",
   "nbconvert_exporter": "python",
   "pygments_lexer": "ipython2",
   "version": "2.7.6"
  }
 },
 "nbformat": 4,
 "nbformat_minor": 5
}
