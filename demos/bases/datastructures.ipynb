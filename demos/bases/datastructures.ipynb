{
 "cells": [
  {
   "metadata": {},
   "cell_type": "markdown",
   "source": [
    "# Structures de données\n",
    "## Namedtuples"
   ],
   "id": "3af5a831168f02fd"
  },
  {
   "cell_type": "code",
   "id": "initial_id",
   "metadata": {
    "collapsed": true,
    "ExecuteTime": {
     "end_time": "2025-06-12T12:02:37.982151Z",
     "start_time": "2025-06-12T12:02:37.979894Z"
    }
   },
   "source": [
    "from collections import namedtuple\n",
    "\n",
    "from pygments.lexer import default\n",
    "\n",
    "Point = namedtuple('Point', ['x', 'y', 'z', 'color'],\n",
    "                              defaults=(0, [255, 255, 255]))"
   ],
   "outputs": [],
   "execution_count": 11
  },
  {
   "metadata": {
    "ExecuteTime": {
     "end_time": "2025-06-12T12:02:38.623390Z",
     "start_time": "2025-06-12T12:02:38.620618Z"
    }
   },
   "cell_type": "code",
   "source": "p = Point(3, 8)",
   "id": "6e369db19af9054b",
   "outputs": [],
   "execution_count": 12
  },
  {
   "metadata": {
    "ExecuteTime": {
     "end_time": "2025-06-12T12:02:41.031074Z",
     "start_time": "2025-06-12T12:02:41.026905Z"
    }
   },
   "cell_type": "code",
   "source": "p.x",
   "id": "49b1846e0f8b4d27",
   "outputs": [
    {
     "data": {
      "text/plain": [
       "3"
      ]
     },
     "execution_count": 13,
     "metadata": {},
     "output_type": "execute_result"
    }
   ],
   "execution_count": 13
  },
  {
   "metadata": {
    "ExecuteTime": {
     "end_time": "2025-06-12T12:02:49.775078Z",
     "start_time": "2025-06-12T12:02:49.771419Z"
    }
   },
   "cell_type": "code",
   "source": "p.color",
   "id": "7ed95fdcecbc55f6",
   "outputs": [
    {
     "data": {
      "text/plain": [
       "[255, 255, 255]"
      ]
     },
     "execution_count": 14,
     "metadata": {},
     "output_type": "execute_result"
    }
   ],
   "execution_count": 14
  },
  {
   "metadata": {
    "ExecuteTime": {
     "end_time": "2025-06-12T11:59:20.973332Z",
     "start_time": "2025-06-12T11:59:20.969571Z"
    }
   },
   "cell_type": "code",
   "source": "p[0]",
   "id": "56bf3162b920147a",
   "outputs": [
    {
     "data": {
      "text/plain": [
       "3"
      ]
     },
     "execution_count": 10,
     "metadata": {},
     "output_type": "execute_result"
    }
   ],
   "execution_count": 10
  },
  {
   "metadata": {},
   "cell_type": "code",
   "outputs": [],
   "execution_count": null,
   "source": [
    "\n",
    "\n",
    "\n",
    "\n",
    "\n",
    "\n",
    "\n",
    "\n",
    "\n",
    "\n",
    "\n",
    "\n"
   ],
   "id": "4164a39ec75321be"
  },
  {
   "metadata": {},
   "cell_type": "markdown",
   "source": "## Les dataclasses",
   "id": "642874793029cff"
  },
  {
   "metadata": {},
   "cell_type": "code",
   "outputs": [],
   "execution_count": null,
   "source": [
    "class EpisodeObject:\n",
    "    def __init__(self, title:str, number:int, season_number:int, duration:int=None, year:int=None):\n",
    "        self.title = title\n",
    "        self.number = number\n",
    "        self.season_number = season_number\n",
    "        self.duration = int(duration) if duration is not None else None\n",
    "        self.year = int(year) if year is not None else None\n",
    "\n",
    "    def __eq__(self, other):\n",
    "        if not isinstance(other, self.__class__):\n",
    "            return False\n",
    "\n",
    "        return (self.number, self.season_number) == (other.number, other.season_number)\n",
    "\n",
    "    def __str__(self):\n",
    "        return f'Episode \"{self.title}\" s{self.season_number}e{self.number}'"
   ],
   "id": "2de10eb7957985ca"
  },
  {
   "metadata": {
    "ExecuteTime": {
     "end_time": "2025-06-12T12:41:22.541315Z",
     "start_time": "2025-06-12T12:41:22.537112Z"
    }
   },
   "cell_type": "code",
   "source": [
    "from dataclasses import dataclass, field\n",
    "\n",
    "@dataclass(frozen=True)\n",
    "class Episode:\n",
    "    title: str = field(compare=False)\n",
    "    season_number: int\n",
    "    number: int\n",
    "    duration: int = field(default=None, compare=False)\n",
    "    year: int = field(default=None, compare=False)\n",
    "\n"
   ],
   "id": "76b69bc621111fcc",
   "outputs": [],
   "execution_count": 58
  },
  {
   "metadata": {
    "ExecuteTime": {
     "end_time": "2025-06-12T12:41:34.197080Z",
     "start_time": "2025-06-12T12:41:34.194215Z"
    }
   },
   "cell_type": "code",
   "source": [
    "ep1 = Episode(\"zfdaf\", 1, 2)\n",
    "ep2 = Episode(\"Episode\", 1, 2, 65)"
   ],
   "id": "1e9921cf4ae50371",
   "outputs": [],
   "execution_count": 59
  },
  {
   "metadata": {
    "ExecuteTime": {
     "end_time": "2025-06-12T12:41:35.434193Z",
     "start_time": "2025-06-12T12:41:35.429741Z"
    }
   },
   "cell_type": "code",
   "source": "ep1.title",
   "id": "b3c0a70a05aa6aa0",
   "outputs": [
    {
     "data": {
      "text/plain": [
       "'zfdaf'"
      ]
     },
     "execution_count": 60,
     "metadata": {},
     "output_type": "execute_result"
    }
   ],
   "execution_count": 60
  },
  {
   "metadata": {
    "ExecuteTime": {
     "end_time": "2025-06-12T12:41:38.186420Z",
     "start_time": "2025-06-12T12:41:38.182705Z"
    }
   },
   "cell_type": "code",
   "source": "ep1 == ep2",
   "id": "9d697c3383287ccc",
   "outputs": [
    {
     "data": {
      "text/plain": [
       "True"
      ]
     },
     "execution_count": 61,
     "metadata": {},
     "output_type": "execute_result"
    }
   ],
   "execution_count": 61
  },
  {
   "metadata": {
    "ExecuteTime": {
     "end_time": "2025-06-12T12:16:16.864643Z",
     "start_time": "2025-06-12T12:16:16.862154Z"
    }
   },
   "cell_type": "code",
   "source": "ep1.title",
   "id": "8bd15334fd53dc57",
   "outputs": [
    {
     "data": {
      "text/plain": [
       "'new title'"
      ]
     },
     "execution_count": 30,
     "metadata": {},
     "output_type": "execute_result"
    }
   ],
   "execution_count": 30
  },
  {
   "metadata": {
    "ExecuteTime": {
     "end_time": "2025-06-12T12:46:29.681681Z",
     "start_time": "2025-06-12T12:46:29.677795Z"
    }
   },
   "cell_type": "code",
   "source": [
    "@dataclass\n",
    "class TvShow:\n",
    "    name: str\n",
    "    episodes: list =  field(default_factory=list, init=False)"
   ],
   "id": "8658a1d46bcca3a1",
   "outputs": [],
   "execution_count": 62
  },
  {
   "metadata": {
    "ExecuteTime": {
     "end_time": "2025-06-12T12:46:30.504329Z",
     "start_time": "2025-06-12T12:46:30.501173Z"
    }
   },
   "cell_type": "code",
   "source": "TvShow(\"toto\")",
   "id": "23046033eba9585e",
   "outputs": [
    {
     "data": {
      "text/plain": [
       "TvShow(name='toto', episodes=[])"
      ]
     },
     "execution_count": 63,
     "metadata": {},
     "output_type": "execute_result"
    }
   ],
   "execution_count": 63
  },
  {
   "metadata": {},
   "cell_type": "code",
   "outputs": [],
   "execution_count": null,
   "source": "",
   "id": "21c10dc4fbb36f74"
  }
 ],
 "metadata": {
  "kernelspec": {
   "display_name": "Python 3",
   "language": "python",
   "name": "python3"
  },
  "language_info": {
   "codemirror_mode": {
    "name": "ipython",
    "version": 2
   },
   "file_extension": ".py",
   "mimetype": "text/x-python",
   "name": "python",
   "nbconvert_exporter": "python",
   "pygments_lexer": "ipython2",
   "version": "2.7.6"
  }
 },
 "nbformat": 4,
 "nbformat_minor": 5
}
