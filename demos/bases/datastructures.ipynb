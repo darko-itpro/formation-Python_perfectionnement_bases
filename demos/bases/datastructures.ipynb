{
 "cells": [
  {
   "metadata": {},
   "cell_type": "markdown",
   "source": [
    "# Structures de données\n",
    "## Namedtuples"
   ],
   "id": "3af5a831168f02fd"
  },
  {
   "cell_type": "code",
   "execution_count": null,
   "id": "initial_id",
   "metadata": {
    "collapsed": true
   },
   "outputs": [],
   "source": [
    "from collections import namedtuple\n",
    "\n",
    "Point = namedtuple('Point', ['x', 'y', 'z', 'color'])"
   ]
  },
  {
   "metadata": {},
   "cell_type": "code",
   "outputs": [],
   "execution_count": null,
   "source": "",
   "id": "6e369db19af9054b"
  },
  {
   "metadata": {},
   "cell_type": "code",
   "outputs": [],
   "execution_count": null,
   "source": "",
   "id": "49b1846e0f8b4d27"
  },
  {
   "metadata": {},
   "cell_type": "markdown",
   "source": "## Les dataclasses",
   "id": "642874793029cff"
  },
  {
   "metadata": {},
   "cell_type": "code",
   "outputs": [],
   "execution_count": null,
   "source": [
    "class EpisodeObject:\n",
    "    def __init__(self, title:str, number:int, season_number:int, duration:int=None, year:int=None):\n",
    "        self.title = title\n",
    "        self.number = number\n",
    "        self.season_number = season_number\n",
    "        self.duration = int(duration) if duration is not None else None\n",
    "        self.year = int(year) if year is not None else None\n",
    "\n",
    "    def __eq__(self, other):\n",
    "        if not isinstance(other, self.__class__):\n",
    "            return False\n",
    "\n",
    "        return (self.number, self.season_number) == (other.number, other.season_number)\n",
    "\n",
    "    def __str__(self):\n",
    "        return f'Episode \"{self.title}\" s{self.season_number}e{self.number}'"
   ],
   "id": "2de10eb7957985ca"
  },
  {
   "metadata": {},
   "cell_type": "code",
   "outputs": [],
   "execution_count": null,
   "source": [
    "from dataclasses import dataclass, field\n",
    "\n",
    "@dataclass(frozen=True)\n",
    "class Episode:\n",
    "    title: str\n",
    "    number: int\n",
    "    season_number: int\n",
    "    duration: int = None\n",
    "    year: int = None"
   ],
   "id": "76b69bc621111fcc"
  }
 ],
 "metadata": {
  "kernelspec": {
   "display_name": "Python 3",
   "language": "python",
   "name": "python3"
  },
  "language_info": {
   "codemirror_mode": {
    "name": "ipython",
    "version": 2
   },
   "file_extension": ".py",
   "mimetype": "text/x-python",
   "name": "python",
   "nbconvert_exporter": "python",
   "pygments_lexer": "ipython2",
   "version": "2.7.6"
  }
 },
 "nbformat": 4,
 "nbformat_minor": 5
}
