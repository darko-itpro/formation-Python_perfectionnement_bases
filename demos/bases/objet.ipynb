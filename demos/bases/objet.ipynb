{
 "cells": [
  {
   "metadata": {},
   "cell_type": "markdown",
   "source": "# L'objet",
   "id": "47f721dd61b27e61"
  },
  {
   "cell_type": "code",
   "id": "initial_id",
   "metadata": {
    "collapsed": true,
    "ExecuteTime": {
     "end_time": "2025-10-16T14:34:18.568368Z",
     "start_time": "2025-10-16T14:34:18.563074Z"
    }
   },
   "source": [
    "class Training:\n",
    "    def __init__(self, subject:str, duration:int, seats:int=12):\n",
    "        self._subject = subject.title()\n",
    "        self.duration = duration\n",
    "        self.seats = seats\n",
    "        self._students:list = []\n",
    "\n",
    "    def __len__(self):\n",
    "        return len(self._students)\n",
    "\n",
    "    def __contains__(self, item):\n",
    "        return item in self._students\n",
    "\n",
    "    def __getitem__(self, item):\n",
    "        print(item, type(item))\n",
    "\n",
    "    @property\n",
    "    def subject(self):\n",
    "        return self._subject\n",
    "\n",
    "    @subject.setter\n",
    "    def subject(self, new_name):\n",
    "        self._subject = new_name.title()\n",
    "\n",
    "    @property\n",
    "    def available_seats(self):\n",
    "        return self.seats - len(self._students)\n",
    "\n",
    "    def __str__(self):\n",
    "        return f'Training {self.subject} ({self.duration} days) {self.seats - len(self._students)} seasts left'\n",
    "\n",
    "    def __repr__(self):\n",
    "        return f'Training({self.subject}, {self.duration}, {self.seats})'\n",
    "\n",
    "    def add_student(self, student):\n",
    "        self._students.append(student)\n",
    "\n",
    "    @property\n",
    "    def students(self):\n",
    "        return self._students"
   ],
   "outputs": [],
   "execution_count": 99
  },
  {
   "metadata": {
    "ExecuteTime": {
     "end_time": "2025-10-16T14:34:20.293170Z",
     "start_time": "2025-10-16T14:34:20.290134Z"
    }
   },
   "cell_type": "code",
   "source": [
    "t = Training(\"Python\", 5)\n",
    "t.add_student(\"John\")"
   ],
   "id": "f10638598303e27c",
   "outputs": [],
   "execution_count": 100
  },
  {
   "metadata": {
    "ExecuteTime": {
     "end_time": "2025-10-16T14:34:20.577178Z",
     "start_time": "2025-10-16T14:34:20.573326Z"
    }
   },
   "cell_type": "code",
   "source": "len(t)",
   "id": "8e477ed6a3fe3bf2",
   "outputs": [
    {
     "data": {
      "text/plain": [
       "1"
      ]
     },
     "execution_count": 101,
     "metadata": {},
     "output_type": "execute_result"
    }
   ],
   "execution_count": 101
  },
  {
   "metadata": {
    "ExecuteTime": {
     "end_time": "2025-10-16T14:34:20.885140Z",
     "start_time": "2025-10-16T14:34:20.881014Z"
    }
   },
   "cell_type": "code",
   "source": "\"John\" in t",
   "id": "f6216439e7b3b2ea",
   "outputs": [
    {
     "data": {
      "text/plain": [
       "True"
      ]
     },
     "execution_count": 102,
     "metadata": {},
     "output_type": "execute_result"
    }
   ],
   "execution_count": 102
  },
  {
   "metadata": {
    "ExecuteTime": {
     "end_time": "2025-10-16T14:38:57.024372Z",
     "start_time": "2025-10-16T14:38:57.022192Z"
    }
   },
   "cell_type": "code",
   "source": "t[(2, 7):(4,4)]",
   "id": "b44d0f5f7746187e",
   "outputs": [
    {
     "name": "stdout",
     "output_type": "stream",
     "text": [
      "slice((2, 7), (4, 4), None) <class 'slice'>\n"
     ]
    }
   ],
   "execution_count": 114
  },
  {
   "metadata": {
    "ExecuteTime": {
     "end_time": "2025-10-16T14:37:25.938672Z",
     "start_time": "2025-10-16T14:37:25.936315Z"
    }
   },
   "cell_type": "code",
   "source": [
    "s = slice(2, 7)\n",
    "s.start"
   ],
   "id": "dcc4e54b4c10274d",
   "outputs": [
    {
     "data": {
      "text/plain": [
       "2"
      ]
     },
     "execution_count": 112,
     "metadata": {},
     "output_type": "execute_result"
    }
   ],
   "execution_count": 112
  },
  {
   "metadata": {
    "ExecuteTime": {
     "end_time": "2025-10-16T14:37:21.620176Z",
     "start_time": "2025-10-16T14:37:21.618241Z"
    }
   },
   "cell_type": "code",
   "source": "",
   "id": "a7dc11541dd753e4",
   "outputs": [],
   "execution_count": null
  },
  {
   "metadata": {},
   "cell_type": "markdown",
   "source": "## Demo Prop",
   "id": "d8d54f1aa2ef860f"
  },
  {
   "metadata": {
    "ExecuteTime": {
     "end_time": "2025-10-16T14:11:34.310566Z",
     "start_time": "2025-10-16T14:11:34.306945Z"
    }
   },
   "cell_type": "code",
   "source": [
    "def getter(obj):\n",
    "    return obj._answer\n",
    "\n",
    "class DemoProp:\n",
    "    def __init__(self):\n",
    "        self._answer = 42\n",
    "\n",
    "    answer = property(getter )"
   ],
   "id": "e7345f0a38987722",
   "outputs": [],
   "execution_count": 89
  },
  {
   "metadata": {
    "ExecuteTime": {
     "end_time": "2025-10-16T14:11:35.314390Z",
     "start_time": "2025-10-16T14:11:35.311847Z"
    }
   },
   "cell_type": "code",
   "source": "d = DemoProp()",
   "id": "7b2236656183bae7",
   "outputs": [],
   "execution_count": 90
  },
  {
   "metadata": {
    "ExecuteTime": {
     "end_time": "2025-10-16T14:11:36.006745Z",
     "start_time": "2025-10-16T14:11:36.002574Z"
    }
   },
   "cell_type": "code",
   "source": "d.answer",
   "id": "e4917f9fd85a78fc",
   "outputs": [
    {
     "data": {
      "text/plain": [
       "42"
      ]
     },
     "execution_count": 91,
     "metadata": {},
     "output_type": "execute_result"
    }
   ],
   "execution_count": 91
  },
  {
   "metadata": {},
   "cell_type": "code",
   "outputs": [],
   "execution_count": null,
   "source": "",
   "id": "bf2656ca39affa7"
  }
 ],
 "metadata": {
  "kernelspec": {
   "display_name": "Python 3",
   "language": "python",
   "name": "python3"
  },
  "language_info": {
   "codemirror_mode": {
    "name": "ipython",
    "version": 2
   },
   "file_extension": ".py",
   "mimetype": "text/x-python",
   "name": "python",
   "nbconvert_exporter": "python",
   "pygments_lexer": "ipython2",
   "version": "2.7.6"
  }
 },
 "nbformat": 4,
 "nbformat_minor": 5
}
