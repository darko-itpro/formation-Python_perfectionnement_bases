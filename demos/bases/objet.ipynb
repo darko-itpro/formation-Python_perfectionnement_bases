{
 "cells": [
  {
   "metadata": {},
   "cell_type": "markdown",
   "source": "# POO",
   "id": "47e8b2a40eee272f"
  },
  {
   "cell_type": "code",
   "id": "initial_id",
   "metadata": {
    "collapsed": true,
    "ExecuteTime": {
     "end_time": "2025-06-11T09:17:40.183819Z",
     "start_time": "2025-06-11T09:17:40.179350Z"
    }
   },
   "source": [
    "class Training:\n",
    "    def __init__(self, subject:str, duration:int, seats:int=12):\n",
    "        self.subject = subject\n",
    "        self.duration = duration\n",
    "        self.seats = seats\n",
    "        self.students = []\n",
    "\n",
    "    def __str__(self):\n",
    "        return f'Training {self.subject})'\n",
    "\n",
    "    def __repr__(self):\n",
    "        return f'Training({self.subject}, {self.duration}, {self.seats})'\n",
    "\n",
    "    def add_student(self, name:str):\n",
    "        self.students.append(name)\n",
    "\n",
    "t = Training('Python', 4, 8)\n",
    "t.add_student(\"toto\")\n",
    "t.students"
   ],
   "outputs": [
    {
     "data": {
      "text/plain": [
       "['toto']"
      ]
     },
     "execution_count": 1,
     "metadata": {},
     "output_type": "execute_result"
    }
   ],
   "execution_count": 1
  },
  {
   "metadata": {
    "ExecuteTime": {
     "end_time": "2025-06-11T09:22:55.081195Z",
     "start_time": "2025-06-11T09:22:55.078228Z"
    }
   },
   "cell_type": "code",
   "source": "t.add_student",
   "id": "73d182fbc4efd40a",
   "outputs": [
    {
     "data": {
      "text/plain": [
       "<bound method Training.add_student of <__main__.Training object at 0x10636d7f0>>"
      ]
     },
     "execution_count": 2,
     "metadata": {},
     "output_type": "execute_result"
    }
   ],
   "execution_count": 2
  },
  {
   "metadata": {
    "ExecuteTime": {
     "end_time": "2025-06-11T09:27:46.617667Z",
     "start_time": "2025-06-11T09:27:46.614938Z"
    }
   },
   "cell_type": "code",
   "source": "Training.add_student(t, \"titi\")",
   "id": "c57735a8ebdf29af",
   "outputs": [],
   "execution_count": 7
  },
  {
   "metadata": {
    "ExecuteTime": {
     "end_time": "2025-06-11T09:27:53.063719Z",
     "start_time": "2025-06-11T09:27:53.061297Z"
    }
   },
   "cell_type": "code",
   "source": "t.students",
   "id": "86f9756cf12ec38",
   "outputs": [
    {
     "data": {
      "text/plain": [
       "['toto', 'titi']"
      ]
     },
     "execution_count": 8,
     "metadata": {},
     "output_type": "execute_result"
    }
   ],
   "execution_count": 8
  },
  {
   "metadata": {
    "ExecuteTime": {
     "end_time": "2025-06-11T09:32:06.212213Z",
     "start_time": "2025-06-11T09:32:06.210202Z"
    }
   },
   "cell_type": "code",
   "source": "t.start_date = \"Aujourd'hui\"",
   "id": "1a37a2cf1ddf6821",
   "outputs": [],
   "execution_count": 9
  },
  {
   "metadata": {
    "ExecuteTime": {
     "end_time": "2025-06-11T09:32:12.397050Z",
     "start_time": "2025-06-11T09:32:12.394712Z"
    }
   },
   "cell_type": "code",
   "source": "t.start_date",
   "id": "f20f91be21932468",
   "outputs": [
    {
     "data": {
      "text/plain": [
       "\"Aujourd'hui\""
      ]
     },
     "execution_count": 10,
     "metadata": {},
     "output_type": "execute_result"
    }
   ],
   "execution_count": 10
  },
  {
   "metadata": {
    "ExecuteTime": {
     "end_time": "2025-06-11T09:32:17.986600Z",
     "start_time": "2025-06-11T09:32:17.984906Z"
    }
   },
   "cell_type": "code",
   "source": "del t.start_date",
   "id": "499c7b0a5ad84952",
   "outputs": [],
   "execution_count": 11
  },
  {
   "metadata": {
    "ExecuteTime": {
     "end_time": "2025-06-11T09:32:22.527637Z",
     "start_time": "2025-06-11T09:32:22.512234Z"
    }
   },
   "cell_type": "code",
   "source": "t.start_date",
   "id": "6fc54936223bf7ed",
   "outputs": [
    {
     "ename": "AttributeError",
     "evalue": "'Training' object has no attribute 'start_date'",
     "output_type": "error",
     "traceback": [
      "\u001B[31m---------------------------------------------------------------------------\u001B[39m",
      "\u001B[31mAttributeError\u001B[39m                            Traceback (most recent call last)",
      "\u001B[36mCell\u001B[39m\u001B[36m \u001B[39m\u001B[32mIn[12]\u001B[39m\u001B[32m, line 1\u001B[39m\n\u001B[32m----> \u001B[39m\u001B[32m1\u001B[39m \u001B[43mt\u001B[49m\u001B[43m.\u001B[49m\u001B[43mstart_date\u001B[49m\n",
      "\u001B[31mAttributeError\u001B[39m: 'Training' object has no attribute 'start_date'"
     ]
    }
   ],
   "execution_count": 12
  },
  {
   "metadata": {},
   "cell_type": "code",
   "outputs": [],
   "execution_count": null,
   "source": "",
   "id": "816b859b6e03e7b5"
  }
 ],
 "metadata": {
  "kernelspec": {
   "display_name": "Python 3",
   "language": "python",
   "name": "python3"
  },
  "language_info": {
   "codemirror_mode": {
    "name": "ipython",
    "version": 2
   },
   "file_extension": ".py",
   "mimetype": "text/x-python",
   "name": "python",
   "nbconvert_exporter": "python",
   "pygments_lexer": "ipython2",
   "version": "2.7.6"
  }
 },
 "nbformat": 4,
 "nbformat_minor": 5
}
