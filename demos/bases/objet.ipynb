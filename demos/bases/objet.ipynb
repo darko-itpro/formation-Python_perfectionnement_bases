{
 "cells": [
  {
   "metadata": {},
   "cell_type": "markdown",
   "source": "# POO",
   "id": "47e8b2a40eee272f"
  },
  {
   "cell_type": "code",
   "id": "initial_id",
   "metadata": {
    "collapsed": true,
    "ExecuteTime": {
     "end_time": "2025-06-12T07:29:52.948942Z",
     "start_time": "2025-06-12T07:29:52.944703Z"
    }
   },
   "source": [
    "class Training:\n",
    "    def __init__(self, subject:str, duration:int, seats:int=12):\n",
    "        self.subject = subject\n",
    "        self.duration = duration\n",
    "        self.max_seats = seats\n",
    "        self._students = []\n",
    "\n",
    "\n",
    "    def __len__(self):\n",
    "        return len(self._students)\n",
    "\n",
    "    def __contains__(self, item):\n",
    "        return item in self._students\n",
    "\n",
    "    def __getitem__(self, item):\n",
    "        print(item, type(item))\n",
    "\n",
    "\n",
    "    @property\n",
    "    def seats(self):\n",
    "#        return min(self.max_seats, self.venue.seats)\n",
    "        return self.max_seats\n",
    "\n",
    "    @property\n",
    "    def available_seats(self):\n",
    "        return self.seats - len(self._students)\n",
    "\n",
    "\n",
    "    @property\n",
    "    def subject(self):\n",
    "        return self._subject\n",
    "\n",
    "    @subject.setter\n",
    "    def subject(self, new_subject:str):\n",
    "        self._subject = new_subject.title()\n",
    "\n",
    "    @property\n",
    "    def students(self):\n",
    "        return self._students\n",
    "\n",
    "\n",
    "#    def _get_students(self):\n",
    "#        return self._students\n",
    "#    students = property(_get_students)\n",
    "\n",
    "    def __str__(self):\n",
    "        return f'Training {self.subject})'\n",
    "\n",
    "    def __repr__(self):\n",
    "        return f'Training({self.subject}, {self.duration}, {self.seats})'\n",
    "\n",
    "    def add_student(self, name:str):\n",
    "        self._students.append(name)\n"
   ],
   "outputs": [],
   "execution_count": 10
  },
  {
   "metadata": {
    "ExecuteTime": {
     "end_time": "2025-06-12T07:29:54.390536Z",
     "start_time": "2025-06-12T07:29:54.388684Z"
    }
   },
   "cell_type": "code",
   "source": "t = Training(\"Python\", 4)",
   "id": "73d182fbc4efd40a",
   "outputs": [],
   "execution_count": 11
  },
  {
   "metadata": {
    "ExecuteTime": {
     "end_time": "2025-06-12T07:30:00.903223Z",
     "start_time": "2025-06-12T07:30:00.900882Z"
    }
   },
   "cell_type": "code",
   "source": "t[0]",
   "id": "c57735a8ebdf29af",
   "outputs": [
    {
     "name": "stdout",
     "output_type": "stream",
     "text": [
      "0 <class 'int'>\n"
     ]
    }
   ],
   "execution_count": 12
  },
  {
   "metadata": {
    "ExecuteTime": {
     "end_time": "2025-06-12T07:30:14.541404Z",
     "start_time": "2025-06-12T07:30:14.539186Z"
    }
   },
   "cell_type": "code",
   "source": "t[\"toto\"]",
   "id": "aafaa4cb94d89fe5",
   "outputs": [
    {
     "name": "stdout",
     "output_type": "stream",
     "text": [
      "toto <class 'str'>\n"
     ]
    }
   ],
   "execution_count": 13
  },
  {
   "metadata": {
    "ExecuteTime": {
     "end_time": "2025-06-12T07:38:54.815453Z",
     "start_time": "2025-06-12T07:38:54.811330Z"
    }
   },
   "cell_type": "code",
   "source": "t[(2,5):(4,2):1]",
   "id": "47e0dfbd3a182bdb",
   "outputs": [
    {
     "name": "stdout",
     "output_type": "stream",
     "text": [
      "slice((2, 5), (4, 2), 1) <class 'slice'>\n"
     ]
    }
   ],
   "execution_count": 26
  },
  {
   "metadata": {
    "ExecuteTime": {
     "end_time": "2025-06-12T07:36:09.765739Z",
     "start_time": "2025-06-12T07:36:09.747273Z"
    }
   },
   "cell_type": "code",
   "source": [
    "s = slice(2, 8)\n",
    "s.step = 10"
   ],
   "id": "fe3e245a7e5ab729",
   "outputs": [
    {
     "ename": "AttributeError",
     "evalue": "readonly attribute",
     "output_type": "error",
     "traceback": [
      "\u001B[31m---------------------------------------------------------------------------\u001B[39m",
      "\u001B[31mAttributeError\u001B[39m                            Traceback (most recent call last)",
      "\u001B[36mCell\u001B[39m\u001B[36m \u001B[39m\u001B[32mIn[24]\u001B[39m\u001B[32m, line 2\u001B[39m\n\u001B[32m      1\u001B[39m s = \u001B[38;5;28mslice\u001B[39m(\u001B[32m2\u001B[39m, \u001B[32m8\u001B[39m)\n\u001B[32m----> \u001B[39m\u001B[32m2\u001B[39m \u001B[43ms\u001B[49m\u001B[43m.\u001B[49m\u001B[43mstep\u001B[49m = \u001B[32m10\u001B[39m\n",
      "\u001B[31mAttributeError\u001B[39m: readonly attribute"
     ]
    }
   ],
   "execution_count": 24
  },
  {
   "metadata": {
    "ExecuteTime": {
     "end_time": "2025-06-12T07:20:33.440156Z",
     "start_time": "2025-06-12T07:20:33.423482Z"
    }
   },
   "cell_type": "code",
   "source": "t.students = []",
   "id": "89f8770ec6bc31d2",
   "outputs": [
    {
     "ename": "AttributeError",
     "evalue": "property 'students' of 'Training' object has no setter",
     "output_type": "error",
     "traceback": [
      "\u001B[31m---------------------------------------------------------------------------\u001B[39m",
      "\u001B[31mAttributeError\u001B[39m                            Traceback (most recent call last)",
      "\u001B[36mCell\u001B[39m\u001B[36m \u001B[39m\u001B[32mIn[8]\u001B[39m\u001B[32m, line 1\u001B[39m\n\u001B[32m----> \u001B[39m\u001B[32m1\u001B[39m \u001B[43mt\u001B[49m\u001B[43m.\u001B[49m\u001B[43mstudents\u001B[49m = []\n",
      "\u001B[31mAttributeError\u001B[39m: property 'students' of 'Training' object has no setter"
     ]
    }
   ],
   "execution_count": 8
  },
  {
   "metadata": {
    "ExecuteTime": {
     "end_time": "2025-06-11T09:27:53.063719Z",
     "start_time": "2025-06-11T09:27:53.061297Z"
    }
   },
   "cell_type": "code",
   "source": "t.students",
   "id": "86f9756cf12ec38",
   "outputs": [
    {
     "data": {
      "text/plain": [
       "['toto', 'titi']"
      ]
     },
     "execution_count": 8,
     "metadata": {},
     "output_type": "execute_result"
    }
   ],
   "execution_count": 8
  },
  {
   "metadata": {
    "ExecuteTime": {
     "end_time": "2025-06-11T09:32:06.212213Z",
     "start_time": "2025-06-11T09:32:06.210202Z"
    }
   },
   "cell_type": "code",
   "source": "t.start_date = \"Aujourd'hui\"",
   "id": "1a37a2cf1ddf6821",
   "outputs": [],
   "execution_count": 9
  },
  {
   "metadata": {
    "ExecuteTime": {
     "end_time": "2025-06-11T09:32:12.397050Z",
     "start_time": "2025-06-11T09:32:12.394712Z"
    }
   },
   "cell_type": "code",
   "source": "t.start_date",
   "id": "f20f91be21932468",
   "outputs": [
    {
     "data": {
      "text/plain": [
       "\"Aujourd'hui\""
      ]
     },
     "execution_count": 10,
     "metadata": {},
     "output_type": "execute_result"
    }
   ],
   "execution_count": 10
  },
  {
   "metadata": {
    "ExecuteTime": {
     "end_time": "2025-06-11T09:32:17.986600Z",
     "start_time": "2025-06-11T09:32:17.984906Z"
    }
   },
   "cell_type": "code",
   "source": "del t.start_date",
   "id": "499c7b0a5ad84952",
   "outputs": [],
   "execution_count": 11
  },
  {
   "metadata": {
    "ExecuteTime": {
     "end_time": "2025-06-11T09:32:22.527637Z",
     "start_time": "2025-06-11T09:32:22.512234Z"
    }
   },
   "cell_type": "code",
   "source": "t.start_date",
   "id": "6fc54936223bf7ed",
   "outputs": [
    {
     "ename": "AttributeError",
     "evalue": "'Training' object has no attribute 'start_date'",
     "output_type": "error",
     "traceback": [
      "\u001B[31m---------------------------------------------------------------------------\u001B[39m",
      "\u001B[31mAttributeError\u001B[39m                            Traceback (most recent call last)",
      "\u001B[36mCell\u001B[39m\u001B[36m \u001B[39m\u001B[32mIn[12]\u001B[39m\u001B[32m, line 1\u001B[39m\n\u001B[32m----> \u001B[39m\u001B[32m1\u001B[39m \u001B[43mt\u001B[49m\u001B[43m.\u001B[49m\u001B[43mstart_date\u001B[49m\n",
      "\u001B[31mAttributeError\u001B[39m: 'Training' object has no attribute 'start_date'"
     ]
    }
   ],
   "execution_count": 12
  },
  {
   "metadata": {},
   "cell_type": "code",
   "outputs": [],
   "execution_count": null,
   "source": "",
   "id": "816b859b6e03e7b5"
  }
 ],
 "metadata": {
  "kernelspec": {
   "display_name": "Python 3",
   "language": "python",
   "name": "python3"
  },
  "language_info": {
   "codemirror_mode": {
    "name": "ipython",
    "version": 2
   },
   "file_extension": ".py",
   "mimetype": "text/x-python",
   "name": "python",
   "nbconvert_exporter": "python",
   "pygments_lexer": "ipython2",
   "version": "2.7.6"
  }
 },
 "nbformat": 4,
 "nbformat_minor": 5
}
