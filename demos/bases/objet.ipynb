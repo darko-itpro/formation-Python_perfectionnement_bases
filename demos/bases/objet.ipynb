{
 "cells": [
  {
   "metadata": {},
   "cell_type": "markdown",
   "source": "# La programmation orientée objet",
   "id": "999220d1125c244d"
  },
  {
   "cell_type": "code",
   "id": "initial_id",
   "metadata": {
    "collapsed": true,
    "ExecuteTime": {
     "end_time": "2025-06-19T09:31:05.066131Z",
     "start_time": "2025-06-19T09:31:05.062840Z"
    }
   },
   "source": [
    "class Training:\n",
    "    def __init__(self, subject, duration, seats=12):\n",
    "        self.subject = subject\n",
    "        self.duration = duration\n",
    "        self.students = []\n",
    "        self.seats = seats\n",
    "\n",
    "    def __str__(self):\n",
    "        return f'Training \"{self.subject}\" with {self.seats} seats.'\n",
    "\n",
    "    def __repr__(self):\n",
    "        return f'Training({self.subject}, {self.duration}, {self.seats})'\n",
    "\n",
    "    def add_student(self, name):\n",
    "        self.students.append(name)"
   ],
   "outputs": [],
   "execution_count": 53
  },
  {
   "metadata": {
    "ExecuteTime": {
     "end_time": "2025-06-19T09:31:06.043576Z",
     "start_time": "2025-06-19T09:31:06.041280Z"
    }
   },
   "cell_type": "code",
   "source": "t = Training(\"Python\", 5)",
   "id": "3f29a4bd0143a642",
   "outputs": [],
   "execution_count": 54
  },
  {
   "metadata": {
    "ExecuteTime": {
     "end_time": "2025-06-19T09:31:06.197369Z",
     "start_time": "2025-06-19T09:31:06.194641Z"
    }
   },
   "cell_type": "code",
   "source": "t.subject",
   "id": "2bec0863f424f788",
   "outputs": [
    {
     "data": {
      "text/plain": [
       "'Python'"
      ]
     },
     "execution_count": 55,
     "metadata": {},
     "output_type": "execute_result"
    }
   ],
   "execution_count": 55
  },
  {
   "metadata": {
    "ExecuteTime": {
     "end_time": "2025-06-19T09:31:06.340247Z",
     "start_time": "2025-06-19T09:31:06.338129Z"
    }
   },
   "cell_type": "code",
   "source": [
    "t.add_student(\"Kevin\")\n",
    "t.add_student(\"Mitnick\")"
   ],
   "id": "e2d884cd2e912921",
   "outputs": [],
   "execution_count": 56
  },
  {
   "metadata": {
    "ExecuteTime": {
     "end_time": "2025-06-19T09:31:06.480406Z",
     "start_time": "2025-06-19T09:31:06.477533Z"
    }
   },
   "cell_type": "code",
   "source": "t.students",
   "id": "1195429016b36dac",
   "outputs": [
    {
     "data": {
      "text/plain": [
       "['Kevin', 'Mitnick']"
      ]
     },
     "execution_count": 57,
     "metadata": {},
     "output_type": "execute_result"
    }
   ],
   "execution_count": 57
  },
  {
   "metadata": {
    "ExecuteTime": {
     "end_time": "2025-06-19T09:31:06.611208Z",
     "start_time": "2025-06-19T09:31:06.609428Z"
    }
   },
   "cell_type": "code",
   "source": "print(t)",
   "id": "64932e236f6a82b2",
   "outputs": [
    {
     "name": "stdout",
     "output_type": "stream",
     "text": [
      "Training \"Python\" with 12 seats.\n"
     ]
    }
   ],
   "execution_count": 58
  },
  {
   "metadata": {
    "ExecuteTime": {
     "end_time": "2025-06-19T09:36:24.091964Z",
     "start_time": "2025-06-19T09:36:24.080965Z"
    }
   },
   "cell_type": "code",
   "source": "t",
   "id": "6d31cfc907d0156f",
   "outputs": [
    {
     "data": {
      "text/plain": [
       "Training(Python, 5, 12)"
      ]
     },
     "execution_count": 60,
     "metadata": {},
     "output_type": "execute_result"
    }
   ],
   "execution_count": 60
  },
  {
   "metadata": {},
   "cell_type": "code",
   "outputs": [],
   "execution_count": null,
   "source": "",
   "id": "235d666d05b723ab"
  }
 ],
 "metadata": {
  "kernelspec": {
   "display_name": "Python 3",
   "language": "python",
   "name": "python3"
  },
  "language_info": {
   "codemirror_mode": {
    "name": "ipython",
    "version": 2
   },
   "file_extension": ".py",
   "mimetype": "text/x-python",
   "name": "python",
   "nbconvert_exporter": "python",
   "pygments_lexer": "ipython2",
   "version": "2.7.6"
  }
 },
 "nbformat": 4,
 "nbformat_minor": 5
}
