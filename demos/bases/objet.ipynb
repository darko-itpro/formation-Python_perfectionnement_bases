{
 "cells": [
  {
   "metadata": {},
   "cell_type": "markdown",
   "source": "# L'objet",
   "id": "47f721dd61b27e61"
  },
  {
   "cell_type": "code",
   "id": "initial_id",
   "metadata": {
    "collapsed": true,
    "ExecuteTime": {
     "end_time": "2025-10-16T10:38:26.709934Z",
     "start_time": "2025-10-16T10:38:26.705313Z"
    }
   },
   "source": [
    "class Training:\n",
    "    def __init__(self, subject:str, duration:int, seats:int=12):\n",
    "        self.subject = subject\n",
    "        self.duration = duration\n",
    "        self.available_seats = seats\n",
    "        self.my_students:list = []\n",
    "\n",
    "    def __str__(self):\n",
    "        return f'Training {self.subject} ({self.duration} days) {self.available_seats - len(self.my_students)} seasts left'\n",
    "\n",
    "    def __repr__(self):\n",
    "        return f'Training({self.subject}, {self.duration}, {self.available_seats})'\n",
    "\n",
    "    def students(self):\n",
    "        return self.my_students"
   ],
   "outputs": [],
   "execution_count": 75
  },
  {
   "metadata": {
    "ExecuteTime": {
     "end_time": "2025-10-16T10:38:27.037112Z",
     "start_time": "2025-10-16T10:38:27.034383Z"
    }
   },
   "cell_type": "code",
   "source": "t = Training(\"Python\", 5)",
   "id": "f10638598303e27c",
   "outputs": [],
   "execution_count": 76
  },
  {
   "metadata": {
    "ExecuteTime": {
     "end_time": "2025-10-16T10:38:27.204122Z",
     "start_time": "2025-10-16T10:38:27.201170Z"
    }
   },
   "cell_type": "code",
   "source": "print(t)",
   "id": "8e477ed6a3fe3bf2",
   "outputs": [
    {
     "name": "stdout",
     "output_type": "stream",
     "text": [
      "Training Python (5 days) 12 seasts left\n"
     ]
    }
   ],
   "execution_count": 77
  },
  {
   "metadata": {
    "ExecuteTime": {
     "end_time": "2025-10-16T10:38:27.339317Z",
     "start_time": "2025-10-16T10:38:27.336953Z"
    }
   },
   "cell_type": "code",
   "source": "t",
   "id": "f6216439e7b3b2ea",
   "outputs": [
    {
     "data": {
      "text/plain": [
       "Training(Python, 5, 12)"
      ]
     },
     "execution_count": 78,
     "metadata": {},
     "output_type": "execute_result"
    }
   ],
   "execution_count": 78
  },
  {
   "metadata": {
    "ExecuteTime": {
     "end_time": "2025-10-16T10:38:27.946751Z",
     "start_time": "2025-10-16T10:38:27.944793Z"
    }
   },
   "cell_type": "code",
   "source": "",
   "id": "b44d0f5f7746187e",
   "outputs": [],
   "execution_count": null
  },
  {
   "metadata": {
    "ExecuteTime": {
     "end_time": "2025-10-16T10:39:41.740659Z",
     "start_time": "2025-10-16T10:39:41.738053Z"
    }
   },
   "cell_type": "code",
   "source": "t.my_students",
   "id": "15dbb2efdc51a2bb",
   "outputs": [
    {
     "data": {
      "text/plain": [
       "[]"
      ]
     },
     "execution_count": 79,
     "metadata": {},
     "output_type": "execute_result"
    }
   ],
   "execution_count": 79
  },
  {
   "metadata": {},
   "cell_type": "code",
   "outputs": [],
   "execution_count": null,
   "source": "",
   "id": "dcc4e54b4c10274d"
  }
 ],
 "metadata": {
  "kernelspec": {
   "display_name": "Python 3",
   "language": "python",
   "name": "python3"
  },
  "language_info": {
   "codemirror_mode": {
    "name": "ipython",
    "version": 2
   },
   "file_extension": ".py",
   "mimetype": "text/x-python",
   "name": "python",
   "nbconvert_exporter": "python",
   "pygments_lexer": "ipython2",
   "version": "2.7.6"
  }
 },
 "nbformat": 4,
 "nbformat_minor": 5
}
