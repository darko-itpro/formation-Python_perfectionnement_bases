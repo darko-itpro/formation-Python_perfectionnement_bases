{
 "cells": [
  {
   "metadata": {},
   "cell_type": "markdown",
   "source": [
    "# Closures\n",
    "## Principe"
   ],
   "id": "c127c37d754a5701"
  },
  {
   "cell_type": "code",
   "id": "initial_id",
   "metadata": {
    "collapsed": true,
    "ExecuteTime": {
     "end_time": "2025-06-18T12:51:17.433982Z",
     "start_time": "2025-06-18T12:51:17.429982Z"
    }
   },
   "source": [
    "def outer(name:str):\n",
    "    def inner():\n",
    "        print(f\"hello {name}\")\n",
    "\n",
    "    return inner\n"
   ],
   "outputs": [],
   "execution_count": 5
  },
  {
   "metadata": {
    "ExecuteTime": {
     "end_time": "2025-06-18T12:53:41.127541Z",
     "start_time": "2025-06-18T12:53:41.119405Z"
    }
   },
   "cell_type": "code",
   "source": [
    "greet_me = outer(\"me\")\n",
    "greet_you = outer(\"you\")"
   ],
   "id": "69e4aa99af4ee0aa",
   "outputs": [],
   "execution_count": 10
  },
  {
   "metadata": {
    "ExecuteTime": {
     "end_time": "2025-06-18T12:53:43.134308Z",
     "start_time": "2025-06-18T12:53:43.131646Z"
    }
   },
   "cell_type": "code",
   "source": "greet_me()",
   "id": "533d42c03256d3fe",
   "outputs": [
    {
     "name": "stdout",
     "output_type": "stream",
     "text": [
      "hello me\n"
     ]
    }
   ],
   "execution_count": 11
  },
  {
   "metadata": {
    "ExecuteTime": {
     "end_time": "2025-06-18T12:53:50.067034Z",
     "start_time": "2025-06-18T12:53:50.064180Z"
    }
   },
   "cell_type": "code",
   "source": "greet_you()",
   "id": "ee07746b94b06274",
   "outputs": [
    {
     "name": "stdout",
     "output_type": "stream",
     "text": [
      "hello you\n"
     ]
    }
   ],
   "execution_count": 12
  },
  {
   "metadata": {},
   "cell_type": "code",
   "outputs": [],
   "execution_count": null,
   "source": "",
   "id": "748baefa6ac2bec1"
  },
  {
   "metadata": {
    "ExecuteTime": {
     "end_time": "2025-06-18T13:04:28.605007Z",
     "start_time": "2025-06-18T13:04:28.597199Z"
    }
   },
   "cell_type": "code",
   "source": [
    "def counter():\n",
    "    count = 0\n",
    "\n",
    "    def inner():\n",
    "        nonlocal count\n",
    "        count += 1\n",
    "\n",
    "    def get_counts():\n",
    "        return count\n",
    "\n",
    "    inner.counts = get_counts\n",
    "\n",
    "    return inner"
   ],
   "id": "2bc51b24f6e90af0",
   "outputs": [],
   "execution_count": 21
  },
  {
   "metadata": {
    "ExecuteTime": {
     "end_time": "2025-06-18T13:04:28.941323Z",
     "start_time": "2025-06-18T13:04:28.938865Z"
    }
   },
   "cell_type": "code",
   "source": [
    "mycounter = counter()\n",
    "yourcounter = counter()\n",
    "mycounter()\n",
    "mycounter()\n",
    "yourcounter()\n",
    "mycounter()\n",
    "mycounter()"
   ],
   "id": "90dd200b1c285cce",
   "outputs": [],
   "execution_count": 22
  },
  {
   "metadata": {
    "ExecuteTime": {
     "end_time": "2025-06-18T13:04:43.696536Z",
     "start_time": "2025-06-18T13:04:43.693730Z"
    }
   },
   "cell_type": "code",
   "source": "mycounter.counts()",
   "id": "64c5d5b8bc99adf3",
   "outputs": [
    {
     "data": {
      "text/plain": [
       "0"
      ]
     },
     "execution_count": 25,
     "metadata": {},
     "output_type": "execute_result"
    }
   ],
   "execution_count": 25
  },
  {
   "metadata": {
    "ExecuteTime": {
     "end_time": "2025-06-18T13:03:13.113380Z",
     "start_time": "2025-06-18T13:03:13.110568Z"
    }
   },
   "cell_type": "code",
   "source": "yourcounter.counts()",
   "id": "b65f41c57ec87d92",
   "outputs": [
    {
     "data": {
      "text/plain": [
       "1"
      ]
     },
     "execution_count": 20,
     "metadata": {},
     "output_type": "execute_result"
    }
   ],
   "execution_count": 20
  },
  {
   "metadata": {},
   "cell_type": "code",
   "outputs": [],
   "execution_count": null,
   "source": "",
   "id": "344ddfa40a5f5b4e"
  },
  {
   "metadata": {},
   "cell_type": "markdown",
   "source": "## Exercice",
   "id": "2f0031db6d950a57"
  },
  {
   "metadata": {
    "ExecuteTime": {
     "end_time": "2025-06-18T13:33:26.627064Z",
     "start_time": "2025-06-18T13:33:26.613484Z"
    }
   },
   "cell_type": "code",
   "source": [
    "import time\n",
    "\n",
    "def long_call():\n",
    "\n",
    "    previous = (None, None)\n",
    "\n",
    "    def inner(value:int):\n",
    "        nonlocal previous\n",
    "\n",
    "        if value != previous[0]:\n",
    "            time.sleep(2)\n",
    "            result = value**2\n",
    "            previous = (value, result)\n",
    "\n",
    "        return previous[1]\n",
    "\n",
    "    return inner"
   ],
   "id": "4b290143d251e558",
   "outputs": [],
   "execution_count": 26
  },
  {
   "metadata": {
    "ExecuteTime": {
     "end_time": "2025-06-18T13:33:54.471402Z",
     "start_time": "2025-06-18T13:33:48.454179Z"
    }
   },
   "cell_type": "code",
   "source": [
    "cachable = long_call()\n",
    "print(cachable(42)) # 2 sec\n",
    "print(cachable(7)) # 2 sec\n",
    "print(cachable(42) )# 2 sec\n",
    "print(cachable(42)) # Instant"
   ],
   "id": "401441c1867ee6f4",
   "outputs": [
    {
     "name": "stdout",
     "output_type": "stream",
     "text": [
      "1764\n",
      "49\n",
      "1764\n",
      "1764\n"
     ]
    }
   ],
   "execution_count": 28
  },
  {
   "metadata": {},
   "cell_type": "code",
   "outputs": [],
   "execution_count": null,
   "source": "",
   "id": "2172c2a6c36f33c6"
  },
  {
   "metadata": {},
   "cell_type": "markdown",
   "source": [
    "## Version cache plusieurs valeurs\n",
    "Version *classique*"
   ],
   "id": "ea99ec561bf53048"
  },
  {
   "metadata": {},
   "cell_type": "code",
   "outputs": [],
   "execution_count": null,
   "source": [
    "import time\n",
    "from collections import OrderedDict\n",
    "\n",
    "def long_call():\n",
    "\n",
    "    previous = OrderedDict()\n",
    "\n",
    "    def inner(value:int):\n",
    "        if value not in previous:\n",
    "            time.sleep(2)\n",
    "            result = value**2\n",
    "            previous[value] = result\n",
    "            if len(previous) > 10:\n",
    "                previous.popitem(last=False)\n",
    "        else:\n",
    "            result = previous[value]\n",
    "            previous.move_to_end(value, last=True)\n",
    "\n",
    "        return result\n",
    "\n",
    "    return inner"
   ],
   "id": "7dad09df036a35b7"
  },
  {
   "metadata": {},
   "cell_type": "markdown",
   "source": "Version exception",
   "id": "de059e8464a966fd"
  },
  {
   "metadata": {
    "ExecuteTime": {
     "end_time": "2025-06-18T13:58:10.002103Z",
     "start_time": "2025-06-18T13:58:09.993287Z"
    }
   },
   "cell_type": "code",
   "source": [
    "import time\n",
    "from collections import OrderedDict\n",
    "\n",
    "def long_call():\n",
    "\n",
    "    previous = OrderedDict()\n",
    "\n",
    "    def inner(value:int):\n",
    "        try:\n",
    "            result = previous[value]\n",
    "            previous.move_to_end(value, last=True)\n",
    "        except KeyError:\n",
    "            time.sleep(2)\n",
    "            result = value**2\n",
    "            previous[value] = result\n",
    "            if len(previous) > 10:\n",
    "                previous.popitem(last=False)\n",
    "\n",
    "        return result\n",
    "\n",
    "    return inner"
   ],
   "id": "8c553f39045e55f7",
   "outputs": [],
   "execution_count": 40
  },
  {
   "metadata": {
    "ExecuteTime": {
     "end_time": "2025-06-18T13:58:22.533858Z",
     "start_time": "2025-06-18T13:58:10.492135Z"
    }
   },
   "cell_type": "code",
   "source": [
    "cachable = long_call()\n",
    "start = time.time()\n",
    "print(cachable(1)) # 2 sec\n",
    "print(time.time()-start)\n",
    "print(cachable(2)) # 2 sec\n",
    "print(time.time()-start)\n",
    "print(cachable(1)) # 2 sec\n",
    "print(time.time()-start)\n",
    "print(cachable(3) )# instant\n",
    "print(time.time()-start)\n",
    "print(cachable(4) )# instant\n",
    "print(cachable(1)) # 2 sec\n",
    "print(time.time()-start)\n",
    "print(time.time()-start)\n",
    "print(cachable(5) )# instant\n",
    "print(time.time()-start)\n",
    "print(cachable(1)) # 2 sec\n",
    "print(time.time()-start)\n",
    "print(cachable(2)) # 2 sec\n",
    "print(time.time()-start)"
   ],
   "id": "cb876a77a4cee0a3",
   "outputs": [
    {
     "name": "stdout",
     "output_type": "stream",
     "text": [
      "1\n",
      "2.005492925643921\n",
      "4\n",
      "4.011579990386963\n",
      "1\n",
      "4.013783931732178\n",
      "9\n",
      "6.020174026489258\n",
      "16\n",
      "1\n",
      "8.027294158935547\n",
      "8.027499914169312\n",
      "25\n",
      "10.032724142074585\n",
      "1\n",
      "10.032869100570679\n",
      "4\n",
      "12.038336992263794\n"
     ]
    }
   ],
   "execution_count": 41
  },
  {
   "metadata": {},
   "cell_type": "code",
   "outputs": [],
   "execution_count": null,
   "source": "",
   "id": "c9d90fe4d9493523"
  }
 ],
 "metadata": {
  "kernelspec": {
   "display_name": "Python 3",
   "language": "python",
   "name": "python3"
  },
  "language_info": {
   "codemirror_mode": {
    "name": "ipython",
    "version": 2
   },
   "file_extension": ".py",
   "mimetype": "text/x-python",
   "name": "python",
   "nbconvert_exporter": "python",
   "pygments_lexer": "ipython2",
   "version": "2.7.6"
  }
 },
 "nbformat": 4,
 "nbformat_minor": 5
}
