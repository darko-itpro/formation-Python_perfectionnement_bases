{
 "cells": [
  {
   "metadata": {},
   "cell_type": "markdown",
   "source": [
    "# Closures\n",
    "## Principe"
   ],
   "id": "c127c37d754a5701"
  },
  {
   "cell_type": "code",
   "id": "initial_id",
   "metadata": {
    "collapsed": true,
    "ExecuteTime": {
     "end_time": "2025-06-18T12:51:17.433982Z",
     "start_time": "2025-06-18T12:51:17.429982Z"
    }
   },
   "source": [
    "def outer(name:str):\n",
    "    def inner():\n",
    "        print(f\"hello {name}\")\n",
    "\n",
    "    return inner\n"
   ],
   "outputs": [],
   "execution_count": 5
  },
  {
   "metadata": {
    "ExecuteTime": {
     "end_time": "2025-06-18T12:53:41.127541Z",
     "start_time": "2025-06-18T12:53:41.119405Z"
    }
   },
   "cell_type": "code",
   "source": [
    "greet_me = outer(\"me\")\n",
    "greet_you = outer(\"you\")"
   ],
   "id": "69e4aa99af4ee0aa",
   "outputs": [],
   "execution_count": 10
  },
  {
   "metadata": {
    "ExecuteTime": {
     "end_time": "2025-06-18T12:53:43.134308Z",
     "start_time": "2025-06-18T12:53:43.131646Z"
    }
   },
   "cell_type": "code",
   "source": "greet_me()",
   "id": "533d42c03256d3fe",
   "outputs": [
    {
     "name": "stdout",
     "output_type": "stream",
     "text": [
      "hello me\n"
     ]
    }
   ],
   "execution_count": 11
  },
  {
   "metadata": {
    "ExecuteTime": {
     "end_time": "2025-06-18T12:53:50.067034Z",
     "start_time": "2025-06-18T12:53:50.064180Z"
    }
   },
   "cell_type": "code",
   "source": "greet_you()",
   "id": "ee07746b94b06274",
   "outputs": [
    {
     "name": "stdout",
     "output_type": "stream",
     "text": [
      "hello you\n"
     ]
    }
   ],
   "execution_count": 12
  },
  {
   "metadata": {},
   "cell_type": "code",
   "outputs": [],
   "execution_count": null,
   "source": "",
   "id": "748baefa6ac2bec1"
  },
  {
   "metadata": {
    "ExecuteTime": {
     "end_time": "2025-06-18T13:04:28.605007Z",
     "start_time": "2025-06-18T13:04:28.597199Z"
    }
   },
   "cell_type": "code",
   "source": [
    "def counter():\n",
    "    count = 0\n",
    "\n",
    "    def inner():\n",
    "        nonlocal count\n",
    "        count += 1\n",
    "\n",
    "    def get_counts():\n",
    "        return count\n",
    "\n",
    "    inner.counts = get_counts\n",
    "\n",
    "    return inner"
   ],
   "id": "2bc51b24f6e90af0",
   "outputs": [],
   "execution_count": 21
  },
  {
   "metadata": {
    "ExecuteTime": {
     "end_time": "2025-06-18T13:04:28.941323Z",
     "start_time": "2025-06-18T13:04:28.938865Z"
    }
   },
   "cell_type": "code",
   "source": [
    "mycounter = counter()\n",
    "yourcounter = counter()\n",
    "mycounter()\n",
    "mycounter()\n",
    "yourcounter()\n",
    "mycounter()\n",
    "mycounter()"
   ],
   "id": "90dd200b1c285cce",
   "outputs": [],
   "execution_count": 22
  },
  {
   "metadata": {
    "ExecuteTime": {
     "end_time": "2025-06-18T13:04:43.696536Z",
     "start_time": "2025-06-18T13:04:43.693730Z"
    }
   },
   "cell_type": "code",
   "source": "mycounter.counts()",
   "id": "64c5d5b8bc99adf3",
   "outputs": [
    {
     "data": {
      "text/plain": [
       "0"
      ]
     },
     "execution_count": 25,
     "metadata": {},
     "output_type": "execute_result"
    }
   ],
   "execution_count": 25
  },
  {
   "metadata": {
    "ExecuteTime": {
     "end_time": "2025-06-18T13:03:13.113380Z",
     "start_time": "2025-06-18T13:03:13.110568Z"
    }
   },
   "cell_type": "code",
   "source": "yourcounter.counts()",
   "id": "b65f41c57ec87d92",
   "outputs": [
    {
     "data": {
      "text/plain": [
       "1"
      ]
     },
     "execution_count": 20,
     "metadata": {},
     "output_type": "execute_result"
    }
   ],
   "execution_count": 20
  },
  {
   "metadata": {},
   "cell_type": "code",
   "outputs": [],
   "execution_count": null,
   "source": "",
   "id": "344ddfa40a5f5b4e"
  }
 ],
 "metadata": {
  "kernelspec": {
   "display_name": "Python 3",
   "language": "python",
   "name": "python3"
  },
  "language_info": {
   "codemirror_mode": {
    "name": "ipython",
    "version": 2
   },
   "file_extension": ".py",
   "mimetype": "text/x-python",
   "name": "python",
   "nbconvert_exporter": "python",
   "pygments_lexer": "ipython2",
   "version": "2.7.6"
  }
 },
 "nbformat": 4,
 "nbformat_minor": 5
}
