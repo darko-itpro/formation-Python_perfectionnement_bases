{
 "cells": [
  {
   "metadata": {},
   "cell_type": "markdown",
   "source": [
    "# Closures\n",
    "## Principe"
   ],
   "id": "c127c37d754a5701"
  },
  {
   "cell_type": "code",
   "id": "initial_id",
   "metadata": {
    "collapsed": true,
    "ExecuteTime": {
     "end_time": "2025-06-13T07:21:41.913808Z",
     "start_time": "2025-06-13T07:21:41.910388Z"
    }
   },
   "source": [
    "from linecache import cache\n",
    "\n",
    "\n",
    "def outer(name):\n",
    "    def inner():\n",
    "        print(\"hello\", name)\n",
    "    return inner\n"
   ],
   "outputs": [],
   "execution_count": 5
  },
  {
   "metadata": {
    "ExecuteTime": {
     "end_time": "2025-06-13T07:22:15.837608Z",
     "start_time": "2025-06-13T07:22:15.835121Z"
    }
   },
   "cell_type": "code",
   "source": "sayyou = outer(\"you\")",
   "id": "734b885691ef2327",
   "outputs": [],
   "execution_count": 8
  },
  {
   "metadata": {
    "ExecuteTime": {
     "end_time": "2025-06-13T07:22:28.554966Z",
     "start_time": "2025-06-13T07:22:28.553034Z"
    }
   },
   "cell_type": "code",
   "source": "sayyou()",
   "id": "cbc473c822cec374",
   "outputs": [
    {
     "name": "stdout",
     "output_type": "stream",
     "text": [
      "hello you\n"
     ]
    }
   ],
   "execution_count": 9
  },
  {
   "metadata": {
    "ExecuteTime": {
     "end_time": "2025-06-13T07:22:38.803513Z",
     "start_time": "2025-06-13T07:22:38.801325Z"
    }
   },
   "cell_type": "code",
   "source": "sayme = outer(\"me\")",
   "id": "91e076e6d2c34ebb",
   "outputs": [],
   "execution_count": 10
  },
  {
   "metadata": {
    "ExecuteTime": {
     "end_time": "2025-06-13T07:22:49.132104Z",
     "start_time": "2025-06-13T07:22:49.128666Z"
    }
   },
   "cell_type": "code",
   "source": "sayme()",
   "id": "4280a5631b9dd1d7",
   "outputs": [
    {
     "name": "stdout",
     "output_type": "stream",
     "text": [
      "hello me\n"
     ]
    }
   ],
   "execution_count": 11
  },
  {
   "metadata": {
    "ExecuteTime": {
     "end_time": "2025-06-13T07:22:58.567133Z",
     "start_time": "2025-06-13T07:22:58.564190Z"
    }
   },
   "cell_type": "code",
   "source": "sayyou()",
   "id": "a58ab6d629a49905",
   "outputs": [
    {
     "name": "stdout",
     "output_type": "stream",
     "text": [
      "hello you\n"
     ]
    }
   ],
   "execution_count": 12
  },
  {
   "metadata": {
    "ExecuteTime": {
     "end_time": "2025-06-13T07:31:16.107423Z",
     "start_time": "2025-06-13T07:31:16.104102Z"
    }
   },
   "cell_type": "code",
   "source": [
    "def counter():\n",
    "    count = 0\n",
    "\n",
    "    def inner():\n",
    "        nonlocal count\n",
    "        count += 1\n",
    "\n",
    "    def get_counts():\n",
    "        return count\n",
    "\n",
    "    inner.counts = get_counts\n",
    "\n",
    "    return inner"
   ],
   "id": "c83855f5fedf3a32",
   "outputs": [],
   "execution_count": 19
  },
  {
   "metadata": {
    "ExecuteTime": {
     "end_time": "2025-06-13T07:31:16.309409Z",
     "start_time": "2025-06-13T07:31:16.305705Z"
    }
   },
   "cell_type": "code",
   "source": [
    "mycounter = counter()\n",
    "othercounter = counter()\n",
    "mycounter()\n",
    "mycounter()\n",
    "othercounter()\n",
    "mycounter()\n",
    "mycounter()\n",
    "\n",
    "print(mycounter.counts(), othercounter.counts())"
   ],
   "id": "1fe095709de1ed72",
   "outputs": [
    {
     "name": "stdout",
     "output_type": "stream",
     "text": [
      "4 1\n"
     ]
    }
   ],
   "execution_count": 20
  },
  {
   "metadata": {
    "ExecuteTime": {
     "end_time": "2025-06-13T08:01:10.342917Z",
     "start_time": "2025-06-13T08:01:10.339956Z"
    }
   },
   "cell_type": "code",
   "source": [
    "import time\n",
    "\n",
    "def long_call():\n",
    "\n",
    "    previous = (None, None)\n",
    "\n",
    "    def inner(value:int):\n",
    "        nonlocal previous\n",
    "\n",
    "        if value != previous[0]:\n",
    "            time.sleep(2)\n",
    "            result = value**2\n",
    "            previous = (value, result)\n",
    "\n",
    "        return previous[1]\n",
    "\n",
    "    return inner"
   ],
   "id": "c0224933d8d05a74",
   "outputs": [],
   "execution_count": 21
  },
  {
   "metadata": {
    "ExecuteTime": {
     "end_time": "2025-06-13T08:02:32.348790Z",
     "start_time": "2025-06-13T08:02:24.322304Z"
    }
   },
   "cell_type": "code",
   "source": [
    "cachable = long_call()\n",
    "print(cachable(5)) # 2\n",
    "print(cachable(3)) # 2\n",
    "print(cachable(3)) # instant\n",
    "print(cachable(4)) # 2\n",
    "print(cachable(3)) # 2"
   ],
   "id": "1a2c74aba60eecdf",
   "outputs": [
    {
     "name": "stdout",
     "output_type": "stream",
     "text": [
      "25\n",
      "9\n",
      "9\n",
      "16\n",
      "9\n"
     ]
    }
   ],
   "execution_count": 24
  },
  {
   "metadata": {
    "ExecuteTime": {
     "end_time": "2025-06-13T08:16:47.609445Z",
     "start_time": "2025-06-13T08:16:47.606898Z"
    }
   },
   "cell_type": "code",
   "source": [
    "import time\n",
    "from collections import OrderedDict\n",
    "\n",
    "def long_calls():\n",
    "\n",
    "    previouses = OrderedDict()\n",
    "\n",
    "    def inner(value:int):\n",
    "        try:\n",
    "            result = previouses[value]\n",
    "            previouses.move_to_end(value)\n",
    "        except KeyError:\n",
    "            time.sleep(2)\n",
    "            result = value**2\n",
    "            previouses[value] = result\n",
    "            if len(previouses) > 5:\n",
    "                previouses.popitem(last=False)\n",
    "\n",
    "        return result\n",
    "\n",
    "    return inner"
   ],
   "id": "eb71029d8389f76b",
   "outputs": [],
   "execution_count": 30
  },
  {
   "metadata": {
    "ExecuteTime": {
     "end_time": "2025-06-13T08:17:03.850054Z",
     "start_time": "2025-06-13T08:16:47.801301Z"
    }
   },
   "cell_type": "code",
   "source": [
    "cachable = long_calls()\n",
    "print(cachable(1))\n",
    "print(cachable(2)) # 2\n",
    "print(cachable(3)) # 2\n",
    "print(cachable(4)) # instant\n",
    "print(cachable(5)) # 2\n",
    "print(cachable(2)) # 2\n",
    "print(cachable(6))\n",
    "print(cachable(1))\n",
    "print(cachable(2))"
   ],
   "id": "974e7dd08a9f3fbe",
   "outputs": [
    {
     "name": "stdout",
     "output_type": "stream",
     "text": [
      "1\n",
      "4\n",
      "9\n",
      "16\n",
      "25\n",
      "4\n",
      "36\n",
      "1\n",
      "4\n"
     ]
    }
   ],
   "execution_count": 31
  },
  {
   "metadata": {},
   "cell_type": "code",
   "outputs": [],
   "execution_count": null,
   "source": "",
   "id": "e7ca00731cd8b991"
  }
 ],
 "metadata": {
  "kernelspec": {
   "display_name": "Python 3",
   "language": "python",
   "name": "python3"
  },
  "language_info": {
   "codemirror_mode": {
    "name": "ipython",
    "version": 2
   },
   "file_extension": ".py",
   "mimetype": "text/x-python",
   "name": "python",
   "nbconvert_exporter": "python",
   "pygments_lexer": "ipython2",
   "version": "2.7.6"
  }
 },
 "nbformat": 4,
 "nbformat_minor": 5
}
