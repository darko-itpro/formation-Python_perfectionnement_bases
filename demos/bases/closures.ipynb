{
 "cells": [
  {
   "metadata": {},
   "cell_type": "markdown",
   "source": [
    "# Closures\n",
    "## Principe"
   ],
   "id": "c127c37d754a5701"
  },
  {
   "cell_type": "code",
   "id": "initial_id",
   "metadata": {
    "collapsed": true,
    "ExecuteTime": {
     "end_time": "2025-10-15T12:40:42.214688Z",
     "start_time": "2025-10-15T12:40:42.212034Z"
    }
   },
   "source": [
    "def outer(name:str):\n",
    "    count = 0\n",
    "    def inner():\n",
    "        nonlocal count\n",
    "        print(f'Hello, {name}')\n",
    "        count += 1\n",
    "\n",
    "    def inner_get_count():\n",
    "        return count\n",
    "\n",
    "    inner.get_count = inner_get_count\n",
    "\n",
    "    return inner\n"
   ],
   "outputs": [],
   "execution_count": 25
  },
  {
   "metadata": {
    "ExecuteTime": {
     "end_time": "2025-10-15T12:40:43.127858Z",
     "start_time": "2025-10-15T12:40:43.125172Z"
    }
   },
   "cell_type": "code",
   "source": [
    "action_me = outer(\"Me\")\n",
    "action_you = outer(\"You\")"
   ],
   "id": "79a65ba461514b75",
   "outputs": [],
   "execution_count": 26
  },
  {
   "metadata": {
    "ExecuteTime": {
     "end_time": "2025-10-15T12:40:51.020121Z",
     "start_time": "2025-10-15T12:40:51.017365Z"
    }
   },
   "cell_type": "code",
   "source": "action_me()",
   "id": "895d7c2ac03712e4",
   "outputs": [
    {
     "name": "stdout",
     "output_type": "stream",
     "text": [
      "Hello, Me\n"
     ]
    }
   ],
   "execution_count": 31
  },
  {
   "metadata": {
    "ExecuteTime": {
     "end_time": "2025-10-15T12:40:52.608903Z",
     "start_time": "2025-10-15T12:40:52.605950Z"
    }
   },
   "cell_type": "code",
   "source": "action_you()",
   "id": "5afd0014b597427d",
   "outputs": [
    {
     "name": "stdout",
     "output_type": "stream",
     "text": [
      "Hello, You\n"
     ]
    }
   ],
   "execution_count": 32
  },
  {
   "metadata": {
    "ExecuteTime": {
     "end_time": "2025-10-15T12:42:18.552617Z",
     "start_time": "2025-10-15T12:42:18.450565Z"
    }
   },
   "cell_type": "code",
   "source": "action_me.get_count()",
   "id": "88991f51aa18ab8",
   "outputs": [
    {
     "ename": "AttributeError",
     "evalue": "'function' object has no attribute 'get_count'",
     "output_type": "error",
     "traceback": [
      "\u001B[31m---------------------------------------------------------------------------\u001B[39m",
      "\u001B[31mAttributeError\u001B[39m                            Traceback (most recent call last)",
      "\u001B[36mCell\u001B[39m\u001B[36m \u001B[39m\u001B[32mIn[39]\u001B[39m\u001B[32m, line 1\u001B[39m\n\u001B[32m----> \u001B[39m\u001B[32m1\u001B[39m \u001B[43maction_me\u001B[49m\u001B[43m.\u001B[49m\u001B[43mget_count\u001B[49m()\n",
      "\u001B[31mAttributeError\u001B[39m: 'function' object has no attribute 'get_count'"
     ]
    }
   ],
   "execution_count": 39
  },
  {
   "metadata": {
    "ExecuteTime": {
     "end_time": "2025-10-15T12:42:28.507316Z",
     "start_time": "2025-10-15T12:42:28.503523Z"
    }
   },
   "cell_type": "code",
   "source": "action_you.get_count()",
   "id": "d8145bc6011c49c0",
   "outputs": [
    {
     "data": {
      "text/plain": [
       "2"
      ]
     },
     "execution_count": 40,
     "metadata": {},
     "output_type": "execute_result"
    }
   ],
   "execution_count": 40
  },
  {
   "metadata": {
    "ExecuteTime": {
     "end_time": "2025-10-15T12:41:38.641002Z",
     "start_time": "2025-10-15T12:41:38.639392Z"
    }
   },
   "cell_type": "code",
   "source": "action_me.name = \"toto\"",
   "id": "bb63b816a03972dc",
   "outputs": [],
   "execution_count": 35
  },
  {
   "metadata": {
    "ExecuteTime": {
     "end_time": "2025-10-15T12:42:12.003688Z",
     "start_time": "2025-10-15T12:42:12.000877Z"
    }
   },
   "cell_type": "code",
   "source": "del action_me.get_count",
   "id": "670ef4e818d7d4dc",
   "outputs": [],
   "execution_count": 38
  },
  {
   "metadata": {
    "ExecuteTime": {
     "end_time": "2025-10-15T12:44:53.124373Z",
     "start_time": "2025-10-15T12:44:53.121493Z"
    }
   },
   "cell_type": "code",
   "source": "action_me",
   "id": "2fb4081587d1cb98",
   "outputs": [
    {
     "data": {
      "text/plain": [
       "<function __main__.outer.<locals>.inner()>"
      ]
     },
     "execution_count": 41,
     "metadata": {},
     "output_type": "execute_result"
    }
   ],
   "execution_count": 41
  },
  {
   "metadata": {},
   "cell_type": "markdown",
   "source": [
    "## Exercices\n",
    "### Première question"
   ],
   "id": "51782839480aaee6"
  },
  {
   "metadata": {
    "ExecuteTime": {
     "end_time": "2025-10-15T13:24:06.777787Z",
     "start_time": "2025-10-15T13:24:06.773881Z"
    }
   },
   "cell_type": "code",
   "source": [
    "import time\n",
    "\n",
    "def long_call():\n",
    "\n",
    "    cached_values = (None, None)\n",
    "\n",
    "    def inner(value:int):\n",
    "        nonlocal cached_values\n",
    "        if cached_values[0] != value:\n",
    "            time.sleep(2)\n",
    "            result = value**2\n",
    "            cached_values = (value, result)\n",
    "\n",
    "        return cached_values[1]\n",
    "\n",
    "    return inner"
   ],
   "id": "6890a53dd8b00de7",
   "outputs": [],
   "execution_count": 46
  },
  {
   "metadata": {
    "ExecuteTime": {
     "end_time": "2025-10-15T13:24:13.250494Z",
     "start_time": "2025-10-15T13:24:07.226565Z"
    }
   },
   "cell_type": "code",
   "source": [
    "cachable = long_call()\n",
    "\n",
    "print(cachable(5)) # 2 secondes\n",
    "print(cachable(6)) # 2 secondes\n",
    "print(cachable(5)) # 2 secondes\n",
    "print(cachable(5)) # instant"
   ],
   "id": "b74720f7fd6ec172",
   "outputs": [
    {
     "name": "stdout",
     "output_type": "stream",
     "text": [
      "25\n",
      "36\n",
      "25\n",
      "25\n"
     ]
    }
   ],
   "execution_count": 47
  },
  {
   "metadata": {},
   "cell_type": "code",
   "outputs": [],
   "execution_count": null,
   "source": "",
   "id": "257313f17723eaec"
  },
  {
   "metadata": {},
   "cell_type": "markdown",
   "source": "### Avec historique",
   "id": "eee8fb8852a405b8"
  },
  {
   "metadata": {
    "ExecuteTime": {
     "end_time": "2025-10-15T13:27:07.502066Z",
     "start_time": "2025-10-15T13:27:07.498858Z"
    }
   },
   "cell_type": "code",
   "source": [
    "import time\n",
    "from collections import OrderedDict\n",
    "\n",
    "def long_call():\n",
    "\n",
    "    cached_values = OrderedDict()\n",
    "\n",
    "    def inner(value:int):\n",
    "        if value not in cached_values:\n",
    "            time.sleep(2)\n",
    "            result = value**2\n",
    "            cached_values[value] = result\n",
    "            if len(cached_values) > 10:\n",
    "                cached_values.popitem(last=False)\n",
    "\n",
    "        else:\n",
    "            result = cached_values[value]\n",
    "            cached_values.move_to_end(value)\n",
    "\n",
    "        return result\n",
    "\n",
    "    return inner"
   ],
   "id": "599f55877ee736cd",
   "outputs": [],
   "execution_count": 48
  },
  {
   "metadata": {
    "ExecuteTime": {
     "end_time": "2025-10-15T13:27:12.053002Z",
     "start_time": "2025-10-15T13:27:08.038765Z"
    }
   },
   "cell_type": "code",
   "source": [
    "cachable = long_call()\n",
    "\n",
    "print(cachable(5)) # 2 secondes\n",
    "print(cachable(6)) # 2 secondes\n",
    "print(cachable(5)) # 2 secondes\n",
    "print(cachable(5)) # instant"
   ],
   "id": "409e30fad3f7139d",
   "outputs": [
    {
     "name": "stdout",
     "output_type": "stream",
     "text": [
      "25\n",
      "36\n",
      "25\n",
      "25\n"
     ]
    }
   ],
   "execution_count": 49
  },
  {
   "metadata": {},
   "cell_type": "markdown",
   "source": "### Version avec historique et exceptions",
   "id": "48984f4ecb6afc0"
  },
  {
   "metadata": {},
   "cell_type": "code",
   "outputs": [],
   "execution_count": null,
   "source": [
    "import time\n",
    "from collections import OrderedDict\n",
    "\n",
    "def long_call():\n",
    "\n",
    "    cached_values = OrderedDict()\n",
    "\n",
    "    def inner(value:int):\n",
    "        try:\n",
    "            result = cached_values[value]\n",
    "            cached_values.move_to_end(value)\n",
    "        except KeyError:\n",
    "            time.sleep(2)\n",
    "            result = value**2\n",
    "            cached_values[value] = result\n",
    "            if len(cached_values) > 10:\n",
    "                cached_values.popitem(last=False)\n",
    "\n",
    "        return result\n",
    "\n",
    "    return inner"
   ],
   "id": "79bd50ad398e5ea3"
  }
 ],
 "metadata": {
  "kernelspec": {
   "display_name": "Python 3",
   "language": "python",
   "name": "python3"
  },
  "language_info": {
   "codemirror_mode": {
    "name": "ipython",
    "version": 2
   },
   "file_extension": ".py",
   "mimetype": "text/x-python",
   "name": "python",
   "nbconvert_exporter": "python",
   "pygments_lexer": "ipython2",
   "version": "2.7.6"
  }
 },
 "nbformat": 4,
 "nbformat_minor": 5
}
