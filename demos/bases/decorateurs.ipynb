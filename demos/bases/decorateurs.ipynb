{
 "cells": [
  {
   "metadata": {},
   "cell_type": "markdown",
   "source": "# Les décorateurs",
   "id": "6793557f60e1be7"
  },
  {
   "cell_type": "code",
   "id": "initial_id",
   "metadata": {
    "collapsed": true,
    "ExecuteTime": {
     "end_time": "2025-10-16T07:24:30.016034Z",
     "start_time": "2025-10-16T07:24:30.012236Z"
    }
   },
   "source": [
    "def sandwich(_func=None, *, hot=False):\n",
    "    def deco(garniture):\n",
    "        def wrapper(*args, **kargs):\n",
    "            if hot:\n",
    "                print('Chauffé')\n",
    "\n",
    "            print(\"/TTTTTTTT\\\\\")\n",
    "            value = garniture(*args, **kargs)\n",
    "            print(\"\\\\________/\")\n",
    "\n",
    "            return value + 2\n",
    "        return wrapper\n",
    "\n",
    "    if _func is None:\n",
    "        return deco\n",
    "    else:\n",
    "        return deco(_func)\n",
    "\n",
    "@sandwich()\n",
    "def parisien():\n",
    "    print(\"  Jambon \")\n",
    "    print(\"  Beurre \")\n",
    "    return 8\n",
    "\n",
    "@sandwich\n",
    "def lyonnais():\n",
    "    print(\"  rosette \")\n",
    "    print(\"  Beurre \")\n",
    "    return 5\n",
    "\n",
    "@sandwich(hot=True)\n",
    "def kebab(sauce=\"blanche\"):\n",
    "    print(f'  {sauce}')\n",
    "    print('  viande')\n",
    "    print('  salade tomates oignons')\n",
    "    return 4\n"
   ],
   "outputs": [],
   "execution_count": 11
  },
  {
   "metadata": {
    "ExecuteTime": {
     "end_time": "2025-10-16T07:24:30.355685Z",
     "start_time": "2025-10-16T07:24:30.353360Z"
    }
   },
   "cell_type": "code",
   "source": "print(parisien())",
   "id": "a8a684e47839f8f9",
   "outputs": [
    {
     "name": "stdout",
     "output_type": "stream",
     "text": [
      "/TTTTTTTT\\\n",
      "  Jambon \n",
      "  Beurre \n",
      "\\________/\n",
      "10\n"
     ]
    }
   ],
   "execution_count": 12
  },
  {
   "metadata": {
    "ExecuteTime": {
     "end_time": "2025-10-16T07:24:30.722956Z",
     "start_time": "2025-10-16T07:24:30.719399Z"
    }
   },
   "cell_type": "code",
   "source": "lyonnais()",
   "id": "c4b8758c11cd12c6",
   "outputs": [
    {
     "name": "stdout",
     "output_type": "stream",
     "text": [
      "/TTTTTTTT\\\n",
      "  rosette \n",
      "  Beurre \n",
      "\\________/\n"
     ]
    },
    {
     "data": {
      "text/plain": [
       "7"
      ]
     },
     "execution_count": 13,
     "metadata": {},
     "output_type": "execute_result"
    }
   ],
   "execution_count": 13
  },
  {
   "metadata": {
    "ExecuteTime": {
     "end_time": "2025-10-16T07:24:31.345264Z",
     "start_time": "2025-10-16T07:24:31.340867Z"
    }
   },
   "cell_type": "code",
   "source": "kebab('Samourai')",
   "id": "22bfd76ea4ebcf4",
   "outputs": [
    {
     "name": "stdout",
     "output_type": "stream",
     "text": [
      "Chauffé\n",
      "/TTTTTTTT\\\n",
      "  Samourai\n",
      "  viande\n",
      "  salade tomates oignons\n",
      "\\________/\n"
     ]
    },
    {
     "data": {
      "text/plain": [
       "6"
      ]
     },
     "execution_count": 14,
     "metadata": {},
     "output_type": "execute_result"
    }
   ],
   "execution_count": 14
  },
  {
   "metadata": {
    "ExecuteTime": {
     "end_time": "2025-10-15T14:23:07.581723Z",
     "start_time": "2025-10-15T14:23:07.578914Z"
    }
   },
   "cell_type": "code",
   "source": "kebab",
   "id": "ddc06b54a301c241",
   "outputs": [
    {
     "data": {
      "text/plain": [
       "<function __main__.sandwich.<locals>.wrapper()>"
      ]
     },
     "execution_count": 27,
     "metadata": {},
     "output_type": "execute_result"
    }
   ],
   "execution_count": 27
  },
  {
   "metadata": {},
   "cell_type": "markdown",
   "source": [
    "## Exercices\n",
    "### Durée d'exécution"
   ],
   "id": "68770d615e972307"
  },
  {
   "metadata": {
    "ExecuteTime": {
     "end_time": "2025-10-15T14:40:26.099955Z",
     "start_time": "2025-10-15T14:40:26.096287Z"
    }
   },
   "cell_type": "code",
   "source": [
    "import time\n",
    "\n",
    "def time_it(some_func):\n",
    "    def wrapper(*args, **kargs):\n",
    "        start = time.time()\n",
    "        value = some_func(*args, **kargs)\n",
    "        end = time.time()\n",
    "        print(end - start, \"secondes se sont écoulées\")\n",
    "        return value\n",
    "\n",
    "    return wrapper\n",
    "\n",
    "@time_it\n",
    "def func():\n",
    "    for x in range(1_000_000):\n",
    "        y = x ** 2\n"
   ],
   "id": "6369973822f8965a",
   "outputs": [],
   "execution_count": 41
  },
  {
   "metadata": {
    "ExecuteTime": {
     "end_time": "2025-10-15T14:40:37.749328Z",
     "start_time": "2025-10-15T14:40:37.698666Z"
    }
   },
   "cell_type": "code",
   "source": "func()",
   "id": "da8dfe3aa207ad4c",
   "outputs": [
    {
     "name": "stdout",
     "output_type": "stream",
     "text": [
      "0.048175811767578125 secondes se sont écoulées\n"
     ]
    }
   ],
   "execution_count": 48
  },
  {
   "metadata": {},
   "cell_type": "code",
   "outputs": [],
   "execution_count": null,
   "source": "",
   "id": "8e09a546ee4b2b4c"
  },
  {
   "metadata": {},
   "cell_type": "markdown",
   "source": "## Compteur",
   "id": "ee3c6e07b2712e3e"
  },
  {
   "metadata": {
    "ExecuteTime": {
     "end_time": "2025-10-15T15:03:00.261457Z",
     "start_time": "2025-10-15T15:03:00.258092Z"
    }
   },
   "cell_type": "code",
   "source": [
    "import functools\n",
    "\n",
    "def count_calls(func):\n",
    "    count = 0\n",
    "    @functools.wraps(func)\n",
    "    def inner():\n",
    "        nonlocal count\n",
    "        count += 1\n",
    "        func()\n",
    "\n",
    "    def inner_get_count():\n",
    "        return count\n",
    "\n",
    "    inner.nbcalls = inner_get_count\n",
    "\n",
    "\n",
    "    return inner\n",
    "\n",
    "@count_calls\n",
    "def some_func():\n",
    "    print(\"func called\")\n",
    "\n",
    "print(some_func.nbcalls())\n",
    "some_func()\n",
    "some_func()\n",
    "print(some_func.nbcalls())"
   ],
   "id": "a101d1fb2d5ffe17",
   "outputs": [
    {
     "name": "stdout",
     "output_type": "stream",
     "text": [
      "0\n",
      "func called\n",
      "func called\n",
      "2\n"
     ]
    }
   ],
   "execution_count": 61
  },
  {
   "metadata": {
    "ExecuteTime": {
     "end_time": "2025-10-15T15:03:04.267217Z",
     "start_time": "2025-10-15T15:03:04.264837Z"
    }
   },
   "cell_type": "code",
   "source": "some_func",
   "id": "95657f22491b7f30",
   "outputs": [
    {
     "data": {
      "text/plain": [
       "<function __main__.some_func()>"
      ]
     },
     "execution_count": 62,
     "metadata": {},
     "output_type": "execute_result"
    }
   ],
   "execution_count": 62
  },
  {
   "metadata": {},
   "cell_type": "code",
   "outputs": [],
   "execution_count": null,
   "source": "",
   "id": "32f1a3bebf17f3db"
  },
  {
   "metadata": {},
   "cell_type": "markdown",
   "source": "## Troisième exercice",
   "id": "a040609c1a98bbc1"
  },
  {
   "metadata": {
    "ExecuteTime": {
     "end_time": "2025-10-16T07:50:58.168323Z",
     "start_time": "2025-10-16T07:50:58.163790Z"
    }
   },
   "cell_type": "code",
   "source": [
    "import time\n",
    "from collections import OrderedDict\n",
    "\n",
    "def cachable(func):\n",
    "    cached_values = OrderedDict()\n",
    "    def inner(value:int):\n",
    "        if value not in cached_values:\n",
    "            result = func(value)\n",
    "            cached_values[value] = result\n",
    "            if len(cached_values) > 10:\n",
    "                cached_values.popitem(last=False)\n",
    "        else:\n",
    "            result = cached_values[value]\n",
    "            cached_values.move_to_end(value)\n",
    "\n",
    "        return result\n",
    "    return inner"
   ],
   "id": "d504b4c06010c333",
   "outputs": [],
   "execution_count": 19
  },
  {
   "metadata": {
    "ExecuteTime": {
     "end_time": "2025-10-16T07:53:08.496369Z",
     "start_time": "2025-10-16T07:53:08.493158Z"
    }
   },
   "cell_type": "code",
   "source": [
    "@cachable\n",
    "def long_call(value):\n",
    "    time.sleep(2)\n",
    "    return value**2\n"
   ],
   "id": "1792ae7354f091f1",
   "outputs": [],
   "execution_count": 22
  },
  {
   "metadata": {
    "ExecuteTime": {
     "end_time": "2025-10-16T07:53:22.377730Z",
     "start_time": "2025-10-16T07:53:16.358190Z"
    }
   },
   "cell_type": "code",
   "source": [
    "print(long_call(5))\n",
    "print(long_call(6))\n",
    "print(long_call(5))\n",
    "print(long_call(7))"
   ],
   "id": "29848f2c567fa3dd",
   "outputs": [
    {
     "name": "stdout",
     "output_type": "stream",
     "text": [
      "25\n",
      "36\n",
      "25\n",
      "49\n"
     ]
    }
   ],
   "execution_count": 23
  },
  {
   "metadata": {},
   "cell_type": "code",
   "outputs": [],
   "execution_count": null,
   "source": "",
   "id": "b98f96a9bd6b31f1"
  },
  {
   "metadata": {},
   "cell_type": "markdown",
   "source": "### Notifications",
   "id": "f3316ab2af496fea"
  },
  {
   "metadata": {
    "ExecuteTime": {
     "end_time": "2025-10-16T08:19:25.464127Z",
     "start_time": "2025-10-16T08:19:25.461014Z"
    }
   },
   "cell_type": "code",
   "source": [
    "notifications = []\n",
    "\n",
    "def register(_func=None, *, level:int=1):\n",
    "    def register_inner(func):\n",
    "        notifications.append((func, level))\n",
    "        return func\n",
    "\n",
    "    if _func is None:\n",
    "        return register_inner\n",
    "    else:\n",
    "        return register_inner(_func)\n",
    "\n",
    "@register(level=2)\n",
    "def notify_mail():\n",
    "    print(\"notification on mail\")\n",
    "\n",
    "def notify_sms():\n",
    "    print(\"notification on message\")\n",
    "\n",
    "@register\n",
    "def notify_push():\n",
    "    print(\"notification on push service\")\n",
    "\n",
    "def send_notifications(level:int=2):\n",
    "    for notification, notif_level in notifications:\n",
    "        if notif_level >= level:\n",
    "            notification()"
   ],
   "id": "31b55cd5b6981c91",
   "outputs": [],
   "execution_count": 24
  },
  {
   "metadata": {
    "ExecuteTime": {
     "end_time": "2025-10-16T08:19:30.944105Z",
     "start_time": "2025-10-16T08:19:30.942296Z"
    }
   },
   "cell_type": "code",
   "source": "send_notifications()",
   "id": "7252926d299553b1",
   "outputs": [
    {
     "name": "stdout",
     "output_type": "stream",
     "text": [
      "notification on mail\n",
      "notification on push service\n"
     ]
    }
   ],
   "execution_count": 25
  },
  {
   "metadata": {},
   "cell_type": "code",
   "outputs": [],
   "execution_count": null,
   "source": "",
   "id": "1678011c1547b65c"
  }
 ],
 "metadata": {
  "kernelspec": {
   "display_name": "Python 3",
   "language": "python",
   "name": "python3"
  },
  "language_info": {
   "codemirror_mode": {
    "name": "ipython",
    "version": 2
   },
   "file_extension": ".py",
   "mimetype": "text/x-python",
   "name": "python",
   "nbconvert_exporter": "python",
   "pygments_lexer": "ipython2",
   "version": "2.7.6"
  }
 },
 "nbformat": 4,
 "nbformat_minor": 5
}
