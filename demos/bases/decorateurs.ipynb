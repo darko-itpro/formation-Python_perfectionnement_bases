{
 "cells": [
  {
   "metadata": {},
   "cell_type": "markdown",
   "source": "# Les décorateurs",
   "id": "6793557f60e1be7"
  },
  {
   "cell_type": "code",
   "id": "initial_id",
   "metadata": {
    "collapsed": true,
    "ExecuteTime": {
     "end_time": "2025-10-15T14:25:42.233360Z",
     "start_time": "2025-10-15T14:25:42.229404Z"
    }
   },
   "source": [
    "def sandwich(garniture):\n",
    "    def wrapper(*args, **kargs):\n",
    "        print(\"/TTTTTTTT\\\\\")\n",
    "        value = garniture(*args, **kargs)\n",
    "        print(\"\\\\________/\")\n",
    "\n",
    "        return value + 2\n",
    "    return wrapper\n",
    "\n",
    "@sandwich\n",
    "def parisien():\n",
    "    print(\"  Jambon \")\n",
    "    print(\"  Beurre \")\n",
    "    return 8\n",
    "\n",
    "@sandwich\n",
    "def lyonnais():\n",
    "    print(\"  rosette \")\n",
    "    print(\"  Beurre \")\n",
    "    return 5\n",
    "\n",
    "@sandwich\n",
    "def kebab(sauce=\"blanche\"):\n",
    "    print(f'  {sauce}')\n",
    "    print('  viande')\n",
    "    print('  salade tomates oignons')\n",
    "    return 4\n"
   ],
   "outputs": [],
   "execution_count": 36
  },
  {
   "metadata": {
    "ExecuteTime": {
     "end_time": "2025-10-15T14:25:42.756035Z",
     "start_time": "2025-10-15T14:25:42.753161Z"
    }
   },
   "cell_type": "code",
   "source": "print(parisien())",
   "id": "a8a684e47839f8f9",
   "outputs": [
    {
     "name": "stdout",
     "output_type": "stream",
     "text": [
      "/TTTTTTTT\\\n",
      "  Jambon \n",
      "  Beurre \n",
      "\\________/\n",
      "10\n"
     ]
    }
   ],
   "execution_count": 37
  },
  {
   "metadata": {
    "ExecuteTime": {
     "end_time": "2025-10-15T14:25:43.185640Z",
     "start_time": "2025-10-15T14:25:43.181730Z"
    }
   },
   "cell_type": "code",
   "source": "lyonnais()",
   "id": "c4b8758c11cd12c6",
   "outputs": [
    {
     "name": "stdout",
     "output_type": "stream",
     "text": [
      "/TTTTTTTT\\\n",
      "  rosette \n",
      "  Beurre \n",
      "\\________/\n"
     ]
    },
    {
     "data": {
      "text/plain": [
       "7"
      ]
     },
     "execution_count": 38,
     "metadata": {},
     "output_type": "execute_result"
    }
   ],
   "execution_count": 38
  },
  {
   "metadata": {
    "ExecuteTime": {
     "end_time": "2025-10-15T14:25:47.894447Z",
     "start_time": "2025-10-15T14:25:47.890992Z"
    }
   },
   "cell_type": "code",
   "source": "kebab('Samourai')",
   "id": "22bfd76ea4ebcf4",
   "outputs": [
    {
     "name": "stdout",
     "output_type": "stream",
     "text": [
      "/TTTTTTTT\\\n",
      "  Samourai\n",
      "  viande\n",
      "  salade tomates oignons\n",
      "\\________/\n"
     ]
    },
    {
     "data": {
      "text/plain": [
       "6"
      ]
     },
     "execution_count": 40,
     "metadata": {},
     "output_type": "execute_result"
    }
   ],
   "execution_count": 40
  },
  {
   "metadata": {
    "ExecuteTime": {
     "end_time": "2025-10-15T14:23:07.581723Z",
     "start_time": "2025-10-15T14:23:07.578914Z"
    }
   },
   "cell_type": "code",
   "source": "kebab",
   "id": "ddc06b54a301c241",
   "outputs": [
    {
     "data": {
      "text/plain": [
       "<function __main__.sandwich.<locals>.wrapper()>"
      ]
     },
     "execution_count": 27,
     "metadata": {},
     "output_type": "execute_result"
    }
   ],
   "execution_count": 27
  }
 ],
 "metadata": {
  "kernelspec": {
   "display_name": "Python 3",
   "language": "python",
   "name": "python3"
  },
  "language_info": {
   "codemirror_mode": {
    "name": "ipython",
    "version": 2
   },
   "file_extension": ".py",
   "mimetype": "text/x-python",
   "name": "python",
   "nbconvert_exporter": "python",
   "pygments_lexer": "ipython2",
   "version": "2.7.6"
  }
 },
 "nbformat": 4,
 "nbformat_minor": 5
}
