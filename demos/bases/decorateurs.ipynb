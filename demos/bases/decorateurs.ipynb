{
 "cells": [
  {
   "metadata": {},
   "cell_type": "markdown",
   "source": "# Les décorateurs",
   "id": "6793557f60e1be7"
  },
  {
   "cell_type": "code",
   "id": "initial_id",
   "metadata": {
    "collapsed": true,
    "ExecuteTime": {
     "end_time": "2025-06-18T14:43:01.007936Z",
     "start_time": "2025-06-18T14:43:01.004352Z"
    }
   },
   "source": [
    "def sandwich(garniture):\n",
    "    def wrapper(*args, **kwargs):\n",
    "        print(\"/TTTTTTTT\\\\\")\n",
    "        price = garniture(*args, **kwargs)\n",
    "        print(\"\\\\________/\")\n",
    "\n",
    "        return price + 2\n",
    "\n",
    "    return wrapper\n",
    "\n",
    "@sandwich\n",
    "def kebab(salade_tomates_oignons:bool):\n",
    "    if salade_tomates_oignons:\n",
    "        print(\"Salade tomates oignons\")\n",
    "\n",
    "    print('viande')\n",
    "\n",
    "    return 5\n",
    "\n",
    "@sandwich\n",
    "def parisien():\n",
    "    print(\"  Jambon \")\n",
    "    print(\"  Beurre \")\n",
    "\n",
    "    return 6\n",
    "\n",
    "@sandwich\n",
    "def bagnat():\n",
    "    print(\"  niçoise \")\n",
    "    print(\"  salade \")\n",
    "\n",
    "    return 7\n"
   ],
   "outputs": [],
   "execution_count": 24
  },
  {
   "metadata": {
    "ExecuteTime": {
     "end_time": "2025-06-18T14:43:01.287587Z",
     "start_time": "2025-06-18T14:43:01.284536Z"
    }
   },
   "cell_type": "code",
   "source": "kebab(True)",
   "id": "716f13d6fac6a76f",
   "outputs": [
    {
     "name": "stdout",
     "output_type": "stream",
     "text": [
      "/TTTTTTTT\\\n",
      "Salade tomates oignons\n",
      "viande\n",
      "\\________/\n"
     ]
    },
    {
     "data": {
      "text/plain": [
       "7"
      ]
     },
     "execution_count": 25,
     "metadata": {},
     "output_type": "execute_result"
    }
   ],
   "execution_count": 25
  },
  {
   "metadata": {
    "ExecuteTime": {
     "end_time": "2025-06-18T14:39:18.115998Z",
     "start_time": "2025-06-18T14:39:18.113138Z"
    }
   },
   "cell_type": "code",
   "source": "print(parisien())",
   "id": "dff5dab2d7c1c3fc",
   "outputs": [
    {
     "name": "stdout",
     "output_type": "stream",
     "text": [
      "/TTTTTTTT\\\n",
      "  Jambon \n",
      "  Beurre \n",
      "\\________/\n",
      "8\n"
     ]
    }
   ],
   "execution_count": 18
  },
  {
   "metadata": {
    "ExecuteTime": {
     "end_time": "2025-06-18T14:39:20.851144Z",
     "start_time": "2025-06-18T14:39:20.846893Z"
    }
   },
   "cell_type": "code",
   "source": "bagnat()",
   "id": "fe7556c4e029419f",
   "outputs": [
    {
     "name": "stdout",
     "output_type": "stream",
     "text": [
      "/TTTTTTTT\\\n",
      "  niçoise \n",
      "  salade \n",
      "\\________/\n"
     ]
    },
    {
     "data": {
      "text/plain": [
       "9"
      ]
     },
     "execution_count": 19,
     "metadata": {},
     "output_type": "execute_result"
    }
   ],
   "execution_count": 19
  },
  {
   "metadata": {},
   "cell_type": "code",
   "outputs": [],
   "execution_count": null,
   "source": "",
   "id": "555834a7ef4e841f"
  },
  {
   "metadata": {},
   "cell_type": "markdown",
   "source": "## Exercice 1",
   "id": "ba8148fc5a143b90"
  },
  {
   "metadata": {
    "ExecuteTime": {
     "end_time": "2025-06-18T14:55:56.952207Z",
     "start_time": "2025-06-18T14:55:56.910483Z"
    }
   },
   "cell_type": "code",
   "source": [
    "import time\n",
    "\n",
    "def time_it(func):\n",
    "    def wrapper(*args, **kwargs):\n",
    "        start = time.time()\n",
    "        result = func(*args, **kwargs)\n",
    "        end = time.time()\n",
    "        print(end - start, \"secondes se sont écoulées\")\n",
    "        return result\n",
    "\n",
    "    return wrapper\n",
    "\n",
    "@time_it\n",
    "def calculate():\n",
    "    for x in range(1_000_000):\n",
    "        y = x ** 2\n",
    "\n",
    "calculate()"
   ],
   "id": "5467ef349d1828b8",
   "outputs": [
    {
     "name": "stdout",
     "output_type": "stream",
     "text": [
      "0.03767585754394531 secondes se sont écoulées\n"
     ]
    }
   ],
   "execution_count": 27
  },
  {
   "metadata": {},
   "cell_type": "code",
   "outputs": [],
   "execution_count": null,
   "source": "",
   "id": "19e639e1ffc9d51a"
  },
  {
   "metadata": {},
   "cell_type": "markdown",
   "source": "## Exercice 2",
   "id": "be61ef872eda94e1"
  },
  {
   "metadata": {
    "ExecuteTime": {
     "end_time": "2025-06-18T15:08:17.431309Z",
     "start_time": "2025-06-18T15:08:17.428342Z"
    }
   },
   "cell_type": "code",
   "source": [
    "def count_calls(func):\n",
    "    count = 0\n",
    "\n",
    "    def inner(*args, **kwargs):\n",
    "        nonlocal count\n",
    "        count += 1\n",
    "        return func(*args, **kwargs)\n",
    "\n",
    "    def get_counts():\n",
    "        return count\n",
    "\n",
    "    inner.nbcalls = get_counts\n",
    "\n",
    "    return inner"
   ],
   "id": "b3cd7696330a1409",
   "outputs": [],
   "execution_count": 30
  },
  {
   "metadata": {
    "ExecuteTime": {
     "end_time": "2025-06-18T15:10:11.587389Z",
     "start_time": "2025-06-18T15:10:11.553272Z"
    }
   },
   "cell_type": "code",
   "source": [
    "@count_calls\n",
    "@time_it\n",
    "def some_func():\n",
    "    print(\"func called\")\n",
    "\n",
    "print(some_func.nbcalls())\n",
    "some_func()\n",
    "some_func()\n",
    "print(some_func.nbcalls())\n"
   ],
   "id": "d83b4ac3f2098d3e",
   "outputs": [
    {
     "ename": "AttributeError",
     "evalue": "'function' object has no attribute 'nbcalls'",
     "output_type": "error",
     "traceback": [
      "\u001B[31m---------------------------------------------------------------------------\u001B[39m",
      "\u001B[31mAttributeError\u001B[39m                            Traceback (most recent call last)",
      "\u001B[36mCell\u001B[39m\u001B[36m \u001B[39m\u001B[32mIn[33]\u001B[39m\u001B[32m, line 6\u001B[39m\n\u001B[32m      1\u001B[39m \u001B[38;5;129m@time_it\u001B[39m\n\u001B[32m      2\u001B[39m \u001B[38;5;129m@count_calls\u001B[39m\n\u001B[32m      3\u001B[39m \u001B[38;5;28;01mdef\u001B[39;00m\u001B[38;5;250m \u001B[39m\u001B[34msome_func\u001B[39m():\n\u001B[32m      4\u001B[39m     \u001B[38;5;28mprint\u001B[39m(\u001B[33m\"\u001B[39m\u001B[33mfunc called\u001B[39m\u001B[33m\"\u001B[39m)\n\u001B[32m----> \u001B[39m\u001B[32m6\u001B[39m \u001B[38;5;28mprint\u001B[39m(\u001B[43msome_func\u001B[49m\u001B[43m.\u001B[49m\u001B[43mnbcalls\u001B[49m())\n\u001B[32m      7\u001B[39m some_func()\n\u001B[32m      8\u001B[39m some_func()\n",
      "\u001B[31mAttributeError\u001B[39m: 'function' object has no attribute 'nbcalls'"
     ]
    }
   ],
   "execution_count": 33
  },
  {
   "metadata": {},
   "cell_type": "markdown",
   "source": [
    "Je dois avoir :\n",
    "```bash\n",
    "0\n",
    "func called\n",
    "func called\n",
    "2\n",
    "```"
   ],
   "id": "d17944bd50c6008a"
  },
  {
   "metadata": {},
   "cell_type": "code",
   "outputs": [],
   "execution_count": null,
   "source": "",
   "id": "3bf80324e51dba41"
  }
 ],
 "metadata": {
  "kernelspec": {
   "display_name": "Python 3",
   "language": "python",
   "name": "python3"
  },
  "language_info": {
   "codemirror_mode": {
    "name": "ipython",
    "version": 2
   },
   "file_extension": ".py",
   "mimetype": "text/x-python",
   "name": "python",
   "nbconvert_exporter": "python",
   "pygments_lexer": "ipython2",
   "version": "2.7.6"
  }
 },
 "nbformat": 4,
 "nbformat_minor": 5
}
