{
 "cells": [
  {
   "metadata": {},
   "cell_type": "markdown",
   "source": "# Les décorateurs",
   "id": "6793557f60e1be7"
  },
  {
   "cell_type": "code",
   "id": "initial_id",
   "metadata": {
    "collapsed": true,
    "ExecuteTime": {
     "end_time": "2025-06-13T08:53:13.243641Z",
     "start_time": "2025-06-13T08:53:13.239161Z"
    }
   },
   "source": [
    "def tartine(garniture):\n",
    "    def wrapper(*args, **kwargs):\n",
    "        price = garniture(*args, **kwargs)\n",
    "        print(\"\\\\________/\")\n",
    "\n",
    "        return price + 1\n",
    "\n",
    "    return wrapper\n",
    "\n",
    "\n",
    "def sandwich(garniture):\n",
    "    def wrapper(*args, **kwargs):\n",
    "        print(\"/TTTTTTTT\\\\\")\n",
    "        price = garniture(*args, **kwargs)\n",
    "        print(\"\\\\________/\")\n",
    "\n",
    "        return price + 1\n",
    "\n",
    "    return wrapper\n",
    "\n",
    "@sandwich\n",
    "def kebab(salade_tomates_oignins:bool):\n",
    "    if salade_tomates_oignins:\n",
    "        print(\"salade_tomates_oignins\")\n",
    "    print('viande')\n",
    "\n",
    "    return 5\n",
    "\n",
    "@sandwich\n",
    "def parisien():\n",
    "    print(\"  Jambon \")\n",
    "    print(\"  Beurre \")\n",
    "\n",
    "    return 6\n",
    "\n",
    "@sandwich\n",
    "def bagnat():\n",
    "    print(\"  thon \")\n",
    "    print(\"  salade \")\n",
    "\n",
    "    return 7\n"
   ],
   "outputs": [],
   "execution_count": 21
  },
  {
   "metadata": {
    "ExecuteTime": {
     "end_time": "2025-06-13T08:53:13.746877Z",
     "start_time": "2025-06-13T08:53:13.743436Z"
    }
   },
   "cell_type": "code",
   "source": "kebab(True)",
   "id": "cde227ed73af61b3",
   "outputs": [
    {
     "name": "stdout",
     "output_type": "stream",
     "text": [
      "/TTTTTTTT\\\n",
      "salade_tomates_oignins\n",
      "viande\n",
      "\\________/\n"
     ]
    },
    {
     "data": {
      "text/plain": [
       "6"
      ]
     },
     "execution_count": 22,
     "metadata": {},
     "output_type": "execute_result"
    }
   ],
   "execution_count": 22
  },
  {
   "metadata": {
    "ExecuteTime": {
     "end_time": "2025-06-13T08:47:14.826884Z",
     "start_time": "2025-06-13T08:47:14.823619Z"
    }
   },
   "cell_type": "code",
   "source": [
    "print(parisien())\n",
    "print(parisien.__name__)"
   ],
   "id": "bc008092740dbff4",
   "outputs": [
    {
     "name": "stdout",
     "output_type": "stream",
     "text": [
      "/TTTTTTTT\\\n",
      "  Jambon \n",
      "  Beurre \n",
      "\\________/\n",
      "None\n",
      "wrapper\n"
     ]
    }
   ],
   "execution_count": 15
  },
  {
   "metadata": {
    "ExecuteTime": {
     "end_time": "2025-06-13T08:43:16.148721Z",
     "start_time": "2025-06-13T08:43:16.145835Z"
    }
   },
   "cell_type": "code",
   "source": "bagnat()",
   "id": "e9c31de11355b909",
   "outputs": [
    {
     "name": "stdout",
     "output_type": "stream",
     "text": [
      "/TTTTTTTT\\\n",
      "  thon \n",
      "  salade \n",
      "\\________/\n"
     ]
    }
   ],
   "execution_count": 11
  },
  {
   "metadata": {},
   "cell_type": "code",
   "outputs": [],
   "execution_count": null,
   "source": "sandwich(parisien)()",
   "id": "9c21f855a1c05ad8"
  }
 ],
 "metadata": {
  "kernelspec": {
   "display_name": "Python 3",
   "language": "python",
   "name": "python3"
  },
  "language_info": {
   "codemirror_mode": {
    "name": "ipython",
    "version": 2
   },
   "file_extension": ".py",
   "mimetype": "text/x-python",
   "name": "python",
   "nbconvert_exporter": "python",
   "pygments_lexer": "ipython2",
   "version": "2.7.6"
  }
 },
 "nbformat": 4,
 "nbformat_minor": 5
}
