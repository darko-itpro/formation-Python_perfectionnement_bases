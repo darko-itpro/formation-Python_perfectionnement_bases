{
 "cells": [
  {
   "metadata": {},
   "cell_type": "markdown",
   "source": [
    "# Les décorateurs\n",
    "## Décorateurs de base"
   ],
   "id": "6793557f60e1be7"
  },
  {
   "cell_type": "code",
   "id": "initial_id",
   "metadata": {
    "collapsed": true,
    "ExecuteTime": {
     "end_time": "2025-06-18T14:43:01.007936Z",
     "start_time": "2025-06-18T14:43:01.004352Z"
    }
   },
   "source": [
    "def sandwich(garniture):\n",
    "    def wrapper(*args, **kwargs):\n",
    "        print(\"/TTTTTTTT\\\\\")\n",
    "        price = garniture(*args, **kwargs)\n",
    "        print(\"\\\\________/\")\n",
    "\n",
    "        return price + 2\n",
    "\n",
    "    return wrapper\n",
    "\n",
    "@sandwich\n",
    "def kebab(salade_tomates_oignons:bool):\n",
    "    if salade_tomates_oignons:\n",
    "        print(\"Salade tomates oignons\")\n",
    "\n",
    "    print('viande')\n",
    "\n",
    "    return 5\n",
    "\n",
    "@sandwich\n",
    "def parisien():\n",
    "    print(\"  Jambon \")\n",
    "    print(\"  Beurre \")\n",
    "\n",
    "    return 6\n",
    "\n",
    "@sandwich\n",
    "def bagnat():\n",
    "    print(\"  niçoise \")\n",
    "    print(\"  salade \")\n",
    "\n",
    "    return 7\n",
    "\n"
   ],
   "outputs": [],
   "execution_count": 24
  },
  {
   "metadata": {
    "ExecuteTime": {
     "end_time": "2025-06-18T14:43:01.287587Z",
     "start_time": "2025-06-18T14:43:01.284536Z"
    }
   },
   "cell_type": "code",
   "source": "kebab(True)",
   "id": "716f13d6fac6a76f",
   "outputs": [
    {
     "name": "stdout",
     "output_type": "stream",
     "text": [
      "/TTTTTTTT\\\n",
      "Salade tomates oignons\n",
      "viande\n",
      "\\________/\n"
     ]
    },
    {
     "data": {
      "text/plain": [
       "7"
      ]
     },
     "execution_count": 25,
     "metadata": {},
     "output_type": "execute_result"
    }
   ],
   "execution_count": 25
  },
  {
   "metadata": {
    "ExecuteTime": {
     "end_time": "2025-06-18T14:39:18.115998Z",
     "start_time": "2025-06-18T14:39:18.113138Z"
    }
   },
   "cell_type": "code",
   "source": "print(parisien())",
   "id": "dff5dab2d7c1c3fc",
   "outputs": [
    {
     "name": "stdout",
     "output_type": "stream",
     "text": [
      "/TTTTTTTT\\\n",
      "  Jambon \n",
      "  Beurre \n",
      "\\________/\n",
      "8\n"
     ]
    }
   ],
   "execution_count": 18
  },
  {
   "metadata": {
    "ExecuteTime": {
     "end_time": "2025-06-18T14:39:20.851144Z",
     "start_time": "2025-06-18T14:39:20.846893Z"
    }
   },
   "cell_type": "code",
   "source": "bagnat()",
   "id": "fe7556c4e029419f",
   "outputs": [
    {
     "name": "stdout",
     "output_type": "stream",
     "text": [
      "/TTTTTTTT\\\n",
      "  niçoise \n",
      "  salade \n",
      "\\________/\n"
     ]
    },
    {
     "data": {
      "text/plain": [
       "9"
      ]
     },
     "execution_count": 19,
     "metadata": {},
     "output_type": "execute_result"
    }
   ],
   "execution_count": 19
  },
  {
   "metadata": {},
   "cell_type": "code",
   "outputs": [],
   "execution_count": null,
   "source": "",
   "id": "555834a7ef4e841f"
  },
  {
   "metadata": {},
   "cell_type": "markdown",
   "source": "## Rappel sur les paramètres de fonction",
   "id": "25c37a262aec4e5b"
  },
  {
   "metadata": {
    "ExecuteTime": {
     "end_time": "2025-06-19T08:36:47.642854Z",
     "start_time": "2025-06-19T08:36:47.640284Z"
    }
   },
   "cell_type": "code",
   "source": [
    "def func(param1, /, param2, *, param3):\n",
    "    pass\n",
    "\n",
    "func(1, param2=2, param3=3)"
   ],
   "id": "22574eb535d584cc",
   "outputs": [],
   "execution_count": 76
  },
  {
   "metadata": {},
   "cell_type": "markdown",
   "source": "## Décorateurs paramétrés",
   "id": "a1d5b7e8aa9529e7"
  },
  {
   "metadata": {
    "ExecuteTime": {
     "end_time": "2025-06-19T08:31:46.831034Z",
     "start_time": "2025-06-19T08:31:46.803222Z"
    }
   },
   "cell_type": "code",
   "source": [
    "def sandwich(_func=None, *, hot:bool=False):\n",
    "    def make_sandwich(garniture):\n",
    "        def wrapper(*args, **kwargs):\n",
    "            print(\"/TTTTTTTT\\\\\")\n",
    "            garniture(*args, **kwargs)\n",
    "            print(\"\\\\________/\")\n",
    "\n",
    "            print(\"chaud\" if hot else \"froid\")\n",
    "\n",
    "        return wrapper\n",
    "\n",
    "    if _func is None:\n",
    "        return make_sandwich\n",
    "    else:\n",
    "        return make_sandwich(_func)\n",
    "\n",
    "@sandwich(hot=True)\n",
    "def panini():\n",
    "    print('jambon')\n",
    "\n",
    "@sandwich\n",
    "def parisien():\n",
    "    print(\"  Jambon \")\n",
    "    print(\"  Beurre \")\n",
    "\n",
    "    return 6\n",
    "\n",
    "panini(True)"
   ],
   "id": "4a237c6133d3f272",
   "outputs": [
    {
     "name": "stdout",
     "output_type": "stream",
     "text": [
      "/TTTTTTTT\\\n"
     ]
    },
    {
     "ename": "TypeError",
     "evalue": "panini() takes 0 positional arguments but 1 was given",
     "output_type": "error",
     "traceback": [
      "\u001B[31m---------------------------------------------------------------------------\u001B[39m",
      "\u001B[31mTypeError\u001B[39m                                 Traceback (most recent call last)",
      "\u001B[36mCell\u001B[39m\u001B[36m \u001B[39m\u001B[32mIn[67]\u001B[39m\u001B[32m, line 28\u001B[39m\n\u001B[32m     24\u001B[39m     \u001B[38;5;28mprint\u001B[39m(\u001B[33m\"\u001B[39m\u001B[33m  Beurre \u001B[39m\u001B[33m\"\u001B[39m)\n\u001B[32m     26\u001B[39m     \u001B[38;5;28;01mreturn\u001B[39;00m \u001B[32m6\u001B[39m\n\u001B[32m---> \u001B[39m\u001B[32m28\u001B[39m \u001B[43mpanini\u001B[49m\u001B[43m(\u001B[49m\u001B[38;5;28;43;01mTrue\u001B[39;49;00m\u001B[43m)\u001B[49m\n",
      "\u001B[36mCell\u001B[39m\u001B[36m \u001B[39m\u001B[32mIn[67]\u001B[39m\u001B[32m, line 5\u001B[39m, in \u001B[36msandwich.<locals>.make_sandwich.<locals>.wrapper\u001B[39m\u001B[34m(*args, **kwargs)\u001B[39m\n\u001B[32m      3\u001B[39m \u001B[38;5;28;01mdef\u001B[39;00m\u001B[38;5;250m \u001B[39m\u001B[34mwrapper\u001B[39m(*args, **kwargs):\n\u001B[32m      4\u001B[39m     \u001B[38;5;28mprint\u001B[39m(\u001B[33m\"\u001B[39m\u001B[33m/TTTTTTTT\u001B[39m\u001B[38;5;130;01m\\\\\u001B[39;00m\u001B[33m\"\u001B[39m)\n\u001B[32m----> \u001B[39m\u001B[32m5\u001B[39m     \u001B[43mgarniture\u001B[49m\u001B[43m(\u001B[49m\u001B[43m*\u001B[49m\u001B[43margs\u001B[49m\u001B[43m,\u001B[49m\u001B[43m \u001B[49m\u001B[43m*\u001B[49m\u001B[43m*\u001B[49m\u001B[43mkwargs\u001B[49m\u001B[43m)\u001B[49m\n\u001B[32m      6\u001B[39m     \u001B[38;5;28mprint\u001B[39m(\u001B[33m\"\u001B[39m\u001B[38;5;130;01m\\\\\u001B[39;00m\u001B[33m________/\u001B[39m\u001B[33m\"\u001B[39m)\n\u001B[32m      8\u001B[39m     \u001B[38;5;28mprint\u001B[39m(\u001B[33m\"\u001B[39m\u001B[33mchaud\u001B[39m\u001B[33m\"\u001B[39m \u001B[38;5;28;01mif\u001B[39;00m hot \u001B[38;5;28;01melse\u001B[39;00m \u001B[33m\"\u001B[39m\u001B[33mfroid\u001B[39m\u001B[33m\"\u001B[39m)\n",
      "\u001B[31mTypeError\u001B[39m: panini() takes 0 positional arguments but 1 was given"
     ]
    }
   ],
   "execution_count": 67
  },
  {
   "metadata": {},
   "cell_type": "markdown",
   "source": "## Exercice 1",
   "id": "ba8148fc5a143b90"
  },
  {
   "metadata": {
    "ExecuteTime": {
     "end_time": "2025-06-18T14:55:56.952207Z",
     "start_time": "2025-06-18T14:55:56.910483Z"
    }
   },
   "cell_type": "code",
   "source": [
    "import time\n",
    "\n",
    "def time_it(func):\n",
    "    def wrapper(*args, **kwargs):\n",
    "        start = time.time()\n",
    "        result = func(*args, **kwargs)\n",
    "        end = time.time()\n",
    "        print(end - start, \"secondes se sont écoulées\")\n",
    "        return result\n",
    "\n",
    "    return wrapper\n",
    "\n",
    "@time_it\n",
    "def calculate():\n",
    "    for x in range(1_000_000):\n",
    "        y = x ** 2\n",
    "\n",
    "calculate()"
   ],
   "id": "5467ef349d1828b8",
   "outputs": [
    {
     "name": "stdout",
     "output_type": "stream",
     "text": [
      "0.03767585754394531 secondes se sont écoulées\n"
     ]
    }
   ],
   "execution_count": 27
  },
  {
   "metadata": {},
   "cell_type": "code",
   "outputs": [],
   "execution_count": null,
   "source": "",
   "id": "19e639e1ffc9d51a"
  },
  {
   "metadata": {},
   "cell_type": "markdown",
   "source": "## Exercice 2",
   "id": "be61ef872eda94e1"
  },
  {
   "metadata": {
    "ExecuteTime": {
     "end_time": "2025-06-18T15:11:51.646343Z",
     "start_time": "2025-06-18T15:11:51.639552Z"
    }
   },
   "cell_type": "code",
   "source": [
    "def count_calls(func):\n",
    "    count = 0\n",
    "\n",
    "    def inner(*args, **kwargs):\n",
    "        nonlocal count\n",
    "        count += 1\n",
    "        return func(*args, **kwargs)\n",
    "\n",
    "    def get_counts():\n",
    "        return count\n",
    "\n",
    "    inner.nbcalls = get_counts\n",
    "\n",
    "    return inner"
   ],
   "id": "b3cd7696330a1409",
   "outputs": [],
   "execution_count": 34
  },
  {
   "metadata": {
    "ExecuteTime": {
     "end_time": "2025-06-18T15:11:51.790836Z",
     "start_time": "2025-06-18T15:11:51.788125Z"
    }
   },
   "cell_type": "code",
   "source": [
    "@count_calls\n",
    "@time_it\n",
    "def some_func():\n",
    "    print(\"func called\")\n",
    "\n",
    "print(some_func.nbcalls())\n",
    "some_func()\n",
    "some_func()\n",
    "print(some_func.nbcalls())\n"
   ],
   "id": "d83b4ac3f2098d3e",
   "outputs": [
    {
     "name": "stdout",
     "output_type": "stream",
     "text": [
      "0\n",
      "func called\n",
      "1.0013580322265625e-05 secondes se sont écoulées\n",
      "func called\n",
      "6.9141387939453125e-06 secondes se sont écoulées\n",
      "2\n"
     ]
    }
   ],
   "execution_count": 35
  },
  {
   "metadata": {},
   "cell_type": "markdown",
   "source": [
    "Je dois avoir :\n",
    "```bash\n",
    "0\n",
    "func called\n",
    "func called\n",
    "2\n",
    "```"
   ],
   "id": "d17944bd50c6008a"
  },
  {
   "metadata": {},
   "cell_type": "code",
   "outputs": [],
   "execution_count": null,
   "source": "",
   "id": "3bf80324e51dba41"
  },
  {
   "metadata": {},
   "cell_type": "markdown",
   "source": "## Exercice 3",
   "id": "350f55e4885daba4"
  },
  {
   "metadata": {
    "ExecuteTime": {
     "end_time": "2025-06-19T07:30:46.766304Z",
     "start_time": "2025-06-19T07:30:46.756337Z"
    }
   },
   "cell_type": "code",
   "source": [
    "import time\n",
    "from collections import OrderedDict\n",
    "\n",
    "def cachable(func):\n",
    "\n",
    "    previous = OrderedDict()\n",
    "\n",
    "    def inner(value:int):\n",
    "        if value not in previous:\n",
    "            result = func(value)\n",
    "            previous[value] = result\n",
    "            if len(previous) > 10:\n",
    "                previous.popitem(last=False)\n",
    "        else:\n",
    "            result = previous[value]\n",
    "            previous.move_to_end(value, last=True)\n",
    "\n",
    "        return result\n",
    "\n",
    "    return inner"
   ],
   "id": "4f447a13ecc587f9",
   "outputs": [],
   "execution_count": 36
  },
  {
   "metadata": {
    "ExecuteTime": {
     "end_time": "2025-06-19T07:31:25.177080Z",
     "start_time": "2025-06-19T07:31:25.172894Z"
    }
   },
   "cell_type": "code",
   "source": [
    "@time_it\n",
    "@cachable\n",
    "def long_call(value:int):\n",
    "    time.sleep(2)\n",
    "    return value**2"
   ],
   "id": "e152b91da30e29f8",
   "outputs": [],
   "execution_count": 39
  },
  {
   "metadata": {
    "ExecuteTime": {
     "end_time": "2025-06-19T07:37:02.801901Z",
     "start_time": "2025-06-19T07:36:58.783543Z"
    }
   },
   "cell_type": "code",
   "source": [
    "print(f\"{long_call(1)=}\")\n",
    "print(f\"{long_call(4)=}\")\n",
    "print(f\"{long_call(5)=}\")\n",
    "print(f\"{long_call(6)=}\")\n",
    "print(f\"{long_call(7)=}\")\n",
    "print(f\"{long_call(8)=}\")\n",
    "print(f\"{long_call(9)=}\")\n",
    "print(f\"{long_call(10)=}\")\n",
    "print(f\"{long_call(11)=}\")\n",
    "print(f\"{long_call(12)=}\")\n",
    "print(f\"{long_call(2)=}\")\n",
    "print(f\"{long_call(1)=}\")\n"
   ],
   "id": "9dd7ecc88fa01156",
   "outputs": [
    {
     "name": "stdout",
     "output_type": "stream",
     "text": [
      "2.6226043701171875e-06 secondes se sont écoulées\n",
      "long_call(1)=1\n",
      "1.1920928955078125e-06 secondes se sont écoulées\n",
      "long_call(4)=16\n",
      "0.0 secondes se sont écoulées\n",
      "long_call(5)=25\n",
      "0.0 secondes se sont écoulées\n",
      "long_call(6)=36\n",
      "1.1920928955078125e-06 secondes se sont écoulées\n",
      "long_call(7)=49\n",
      "0.0 secondes se sont écoulées\n",
      "long_call(8)=64\n",
      "0.0 secondes se sont écoulées\n",
      "long_call(9)=81\n",
      "9.5367431640625e-07 secondes se sont écoulées\n",
      "long_call(10)=100\n",
      "0.0 secondes se sont écoulées\n",
      "long_call(11)=121\n",
      "3.814697265625e-06 secondes se sont écoulées\n",
      "long_call(12)=144\n",
      "2.005082845687866 secondes se sont écoulées\n",
      "long_call(2)=4\n",
      "2.002661943435669 secondes se sont écoulées\n",
      "long_call(1)=1\n"
     ]
    }
   ],
   "execution_count": 48
  },
  {
   "metadata": {},
   "cell_type": "code",
   "outputs": [],
   "execution_count": null,
   "source": "",
   "id": "684c4646fc6db608"
  },
  {
   "metadata": {},
   "cell_type": "markdown",
   "source": "## Exercice 4",
   "id": "d5d9486b552a8091"
  },
  {
   "metadata": {
    "ExecuteTime": {
     "end_time": "2025-06-19T08:01:23.162527Z",
     "start_time": "2025-06-19T08:01:23.158832Z"
    }
   },
   "cell_type": "code",
   "source": [
    "def register(func):\n",
    "    notifications.append(func)\n",
    "    return func\n",
    "\n",
    "notifications = []\n",
    "\n",
    "@register\n",
    "def notify_email():\n",
    "    print(\"notification from email\")\n",
    "\n",
    "def notify_sms():\n",
    "    print(\"notification from SMS\")\n",
    "\n",
    "@register\n",
    "def notify_push():\n",
    "    print(\"notification from push\")\n",
    "\n",
    "\n",
    "def send_notifications():\n",
    "    for notif in notifications:\n",
    "        notif()"
   ],
   "id": "c4e29e4c83759125",
   "outputs": [],
   "execution_count": 51
  },
  {
   "metadata": {
    "ExecuteTime": {
     "end_time": "2025-06-19T08:01:23.737911Z",
     "start_time": "2025-06-19T08:01:23.734036Z"
    }
   },
   "cell_type": "code",
   "source": "send_notifications()",
   "id": "5f47d1c91b139a2f",
   "outputs": [
    {
     "name": "stdout",
     "output_type": "stream",
     "text": [
      "notification from email\n",
      "notification from push\n"
     ]
    }
   ],
   "execution_count": 52
  },
  {
   "metadata": {},
   "cell_type": "code",
   "outputs": [],
   "execution_count": null,
   "source": "",
   "id": "87250df11d124405"
  },
  {
   "metadata": {},
   "cell_type": "markdown",
   "source": "## Exercice 4 bis",
   "id": "738c57f608a026d7"
  },
  {
   "metadata": {
    "ExecuteTime": {
     "end_time": "2025-06-19T08:26:17.168754Z",
     "start_time": "2025-06-19T08:26:17.163270Z"
    }
   },
   "cell_type": "code",
   "source": [
    "def register(level):\n",
    "    def notif_wrapper(func):\n",
    "        notifications.append((func, level))\n",
    "        return func\n",
    "    return notif_wrapper\n",
    "\n",
    "notifications = []\n",
    "\n",
    "@register(level=1)\n",
    "def notify_email():\n",
    "    print(\"notification from email\")\n",
    "\n",
    "@register(level=2)\n",
    "def notify_sms():\n",
    "    print(\"notification from SMS\")\n",
    "\n",
    "@register(level=1)\n",
    "def notify_push():\n",
    "    print(\"notification from push\")\n",
    "\n",
    "\n",
    "def send_notifications(level=1):\n",
    "    for notif, notif_level in notifications:\n",
    "        if notif_level >= level:\n",
    "            notif()\n",
    "\n",
    "send_notifications(3)"
   ],
   "id": "c6ae0675c983280c",
   "outputs": [],
   "execution_count": 61
  },
  {
   "metadata": {},
   "cell_type": "code",
   "outputs": [],
   "execution_count": null,
   "source": "",
   "id": "f1d8424b235b6aca"
  }
 ],
 "metadata": {
  "kernelspec": {
   "display_name": "Python 3",
   "language": "python",
   "name": "python3"
  },
  "language_info": {
   "codemirror_mode": {
    "name": "ipython",
    "version": 2
   },
   "file_extension": ".py",
   "mimetype": "text/x-python",
   "name": "python",
   "nbconvert_exporter": "python",
   "pygments_lexer": "ipython2",
   "version": "2.7.6"
  }
 },
 "nbformat": 4,
 "nbformat_minor": 5
}
