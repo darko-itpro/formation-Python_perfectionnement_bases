{
 "cells": [
  {
   "metadata": {},
   "cell_type": "markdown",
   "source": [
    "# Les décorateurs\n",
    "## Explications"
   ],
   "id": "6793557f60e1be7"
  },
  {
   "cell_type": "code",
   "id": "initial_id",
   "metadata": {
    "collapsed": true,
    "ExecuteTime": {
     "end_time": "2025-06-13T08:53:13.243641Z",
     "start_time": "2025-06-13T08:53:13.239161Z"
    }
   },
   "source": [
    "def tartine(garniture):\n",
    "    def wrapper(*args, **kwargs):\n",
    "        price = garniture(*args, **kwargs)\n",
    "        print(\"\\\\________/\")\n",
    "\n",
    "        return price + 1\n",
    "\n",
    "    return wrapper\n",
    "\n",
    "\n",
    "def sandwich(garniture):\n",
    "    def wrapper(*args, **kwargs):\n",
    "        print(\"/TTTTTTTT\\\\\")\n",
    "        price = garniture(*args, **kwargs)\n",
    "        print(\"\\\\________/\")\n",
    "\n",
    "        return price + 1\n",
    "\n",
    "    return wrapper\n",
    "\n",
    "@sandwich\n",
    "def kebab(salade_tomates_oignins:bool):\n",
    "    if salade_tomates_oignins:\n",
    "        print(\"salade_tomates_oignins\")\n",
    "    print('viande')\n",
    "\n",
    "    return 5\n",
    "\n",
    "@sandwich\n",
    "def parisien():\n",
    "    print(\"  Jambon \")\n",
    "    print(\"  Beurre \")\n",
    "\n",
    "    return 6\n",
    "\n",
    "@sandwich\n",
    "def bagnat():\n",
    "    print(\"  thon \")\n",
    "    print(\"  salade \")\n",
    "\n",
    "    return 7\n"
   ],
   "outputs": [],
   "execution_count": 21
  },
  {
   "metadata": {
    "ExecuteTime": {
     "end_time": "2025-06-13T08:53:13.746877Z",
     "start_time": "2025-06-13T08:53:13.743436Z"
    }
   },
   "cell_type": "code",
   "source": "kebab(True)",
   "id": "cde227ed73af61b3",
   "outputs": [
    {
     "name": "stdout",
     "output_type": "stream",
     "text": [
      "/TTTTTTTT\\\n",
      "salade_tomates_oignins\n",
      "viande\n",
      "\\________/\n"
     ]
    },
    {
     "data": {
      "text/plain": [
       "6"
      ]
     },
     "execution_count": 22,
     "metadata": {},
     "output_type": "execute_result"
    }
   ],
   "execution_count": 22
  },
  {
   "metadata": {
    "ExecuteTime": {
     "end_time": "2025-06-13T08:47:14.826884Z",
     "start_time": "2025-06-13T08:47:14.823619Z"
    }
   },
   "cell_type": "code",
   "source": [
    "print(parisien())\n",
    "print(parisien.__name__)"
   ],
   "id": "bc008092740dbff4",
   "outputs": [
    {
     "name": "stdout",
     "output_type": "stream",
     "text": [
      "/TTTTTTTT\\\n",
      "  Jambon \n",
      "  Beurre \n",
      "\\________/\n",
      "None\n",
      "wrapper\n"
     ]
    }
   ],
   "execution_count": 15
  },
  {
   "metadata": {
    "ExecuteTime": {
     "end_time": "2025-06-13T08:43:16.148721Z",
     "start_time": "2025-06-13T08:43:16.145835Z"
    }
   },
   "cell_type": "code",
   "source": "bagnat()",
   "id": "e9c31de11355b909",
   "outputs": [
    {
     "name": "stdout",
     "output_type": "stream",
     "text": [
      "/TTTTTTTT\\\n",
      "  thon \n",
      "  salade \n",
      "\\________/\n"
     ]
    }
   ],
   "execution_count": 11
  },
  {
   "metadata": {},
   "cell_type": "code",
   "outputs": [],
   "execution_count": null,
   "source": "sandwich(parisien)()",
   "id": "9c21f855a1c05ad8"
  },
  {
   "metadata": {},
   "cell_type": "markdown",
   "source": [
    "## Exercices\n",
    "### Exercice 1"
   ],
   "id": "8fc1ec5bf3fcd4bd"
  },
  {
   "metadata": {
    "ExecuteTime": {
     "end_time": "2025-06-13T09:38:51.958996Z",
     "start_time": "2025-06-13T09:38:51.956706Z"
    }
   },
   "cell_type": "code",
   "source": [
    "import time\n",
    "\n",
    "def time_it(func):\n",
    "    def wrapper(*args, **kwargs):\n",
    "        start = time.time()\n",
    "        value = func(*args, **kwargs)\n",
    "        end = time.time()\n",
    "        print(end - start, \"secondes se sont écoulées\")\n",
    "        return value\n",
    "\n",
    "    return wrapper\n",
    "\n",
    "@time_it\n",
    "def hard_work():\n",
    "    for x in range(1_000_000):\n",
    "        y = x ** 2\n"
   ],
   "id": "11d21535969fe88a",
   "outputs": [],
   "execution_count": 40
  },
  {
   "metadata": {
    "ExecuteTime": {
     "end_time": "2025-06-13T09:10:12.493905Z",
     "start_time": "2025-06-13T09:10:12.447885Z"
    }
   },
   "cell_type": "code",
   "source": "hard_work()",
   "id": "c63e5cd58ddddc8f",
   "outputs": [
    {
     "name": "stdout",
     "output_type": "stream",
     "text": [
      "0.043501853942871094 secondes se sont écoulées\n"
     ]
    }
   ],
   "execution_count": 26
  },
  {
   "metadata": {},
   "cell_type": "code",
   "outputs": [],
   "execution_count": null,
   "source": "",
   "id": "26009334f4ccc6e3"
  },
  {
   "metadata": {},
   "cell_type": "markdown",
   "source": "### Second exercice",
   "id": "cfc5711067f29928"
  },
  {
   "metadata": {
    "ExecuteTime": {
     "end_time": "2025-06-13T09:21:35.341225Z",
     "start_time": "2025-06-13T09:21:35.336407Z"
    }
   },
   "cell_type": "code",
   "source": [
    "def count_calls(func):\n",
    "    counts = 0\n",
    "    def wrapper(*args, **kwargs):\n",
    "        nonlocal counts\n",
    "        counts += 1\n",
    "        return func(*args, **kwargs)\n",
    "\n",
    "    def calls():\n",
    "        return counts\n",
    "\n",
    "    wrapper.nbcalls = calls\n",
    "\n",
    "    return wrapper\n",
    "\n",
    "@count_calls\n",
    "def some_func():\n",
    "    print(\"func called\")\n",
    "\n",
    "@count_calls\n",
    "def get_data(value):\n",
    "    return value * 2\n",
    "\n",
    "print(some_func.nbcalls())\n",
    "some_func()\n",
    "some_func()\n",
    "print(some_func.nbcalls())"
   ],
   "id": "fa9100edd6c26292",
   "outputs": [
    {
     "name": "stdout",
     "output_type": "stream",
     "text": [
      "0\n",
      "func called\n",
      "func called\n",
      "2\n"
     ]
    }
   ],
   "execution_count": 28
  },
  {
   "metadata": {},
   "cell_type": "code",
   "outputs": [],
   "execution_count": null,
   "source": "",
   "id": "360132bdf6f0a072"
  },
  {
   "metadata": {},
   "cell_type": "markdown",
   "source": "### Troisième exercice",
   "id": "a3e2593557580959"
  },
  {
   "metadata": {
    "ExecuteTime": {
     "end_time": "2025-06-13T09:39:17.628081Z",
     "start_time": "2025-06-13T09:39:17.625179Z"
    }
   },
   "cell_type": "code",
   "source": [
    "import time\n",
    "from collections import OrderedDict\n",
    "\n",
    "def long_calls(func):\n",
    "\n",
    "    previouses = OrderedDict()\n",
    "\n",
    "    def inner(value:int):\n",
    "        try:\n",
    "            result = previouses[value]\n",
    "            previouses.move_to_end(value)\n",
    "        except KeyError:\n",
    "            result = func(value)\n",
    "            previouses[value] = result\n",
    "            if len(previouses) > 5:\n",
    "                previouses.popitem(last=False)\n",
    "\n",
    "        return result\n",
    "\n",
    "    return inner\n",
    "\n",
    "@time_it\n",
    "@long_calls\n",
    "def process(value):\n",
    "    time.sleep(2)\n",
    "    return value**2\n"
   ],
   "id": "c0601a6e5f26beb5",
   "outputs": [],
   "execution_count": 41
  },
  {
   "metadata": {
    "ExecuteTime": {
     "end_time": "2025-06-13T09:39:32.349679Z",
     "start_time": "2025-06-13T09:39:18.306151Z"
    }
   },
   "cell_type": "code",
   "source": [
    "print(process(1))\n",
    "print(process(2))\n",
    "print(process(3))\n",
    "print(process(4))\n",
    "print(process(5))\n",
    "print(process(6))\n",
    "print(process(1))\n",
    "print(process(3))\n"
   ],
   "id": "59c752c2f04aac8f",
   "outputs": [
    {
     "name": "stdout",
     "output_type": "stream",
     "text": [
      "2.00510311126709 secondes se sont écoulées\n",
      "1\n",
      "2.003181219100952 secondes se sont écoulées\n",
      "4\n",
      "2.005270004272461 secondes se sont écoulées\n",
      "9\n",
      "2.005157947540283 secondes se sont écoulées\n",
      "16\n",
      "2.0048410892486572 secondes se sont écoulées\n",
      "25\n",
      "2.002764940261841 secondes se sont écoulées\n",
      "36\n",
      "2.0051159858703613 secondes se sont écoulées\n",
      "1\n",
      "5.9604644775390625e-06 secondes se sont écoulées\n",
      "9\n"
     ]
    }
   ],
   "execution_count": 42
  },
  {
   "metadata": {},
   "cell_type": "code",
   "outputs": [],
   "execution_count": null,
   "source": "",
   "id": "9cb8a915484a18f1"
  },
  {
   "metadata": {},
   "cell_type": "markdown",
   "source": "### Exercice 4",
   "id": "7bd38f7f61205034"
  },
  {
   "metadata": {
    "ExecuteTime": {
     "end_time": "2025-06-13T10:06:47.874477Z",
     "start_time": "2025-06-13T10:06:47.870280Z"
    }
   },
   "cell_type": "code",
   "source": [
    "def register(notification):\n",
    "    targets.append(notification)\n",
    "    return notification\n",
    "\n",
    "targets = []"
   ],
   "id": "4694b4fcacb9ce9",
   "outputs": [],
   "execution_count": 1
  },
  {
   "metadata": {
    "ExecuteTime": {
     "end_time": "2025-06-13T10:06:48.424490Z",
     "start_time": "2025-06-13T10:06:48.420856Z"
    }
   },
   "cell_type": "code",
   "source": [
    "@register\n",
    "def notify_mail():\n",
    "    print(\"Envoi mail\")\n",
    "\n",
    "def notify_SMS():\n",
    "    print(\"Envoi SMS\")\n",
    "\n",
    "@register\n",
    "def notify_push():\n",
    "    print(\"Push information\")"
   ],
   "id": "3af7f92326ce4717",
   "outputs": [],
   "execution_count": 2
  },
  {
   "metadata": {
    "ExecuteTime": {
     "end_time": "2025-06-13T10:06:48.789670Z",
     "start_time": "2025-06-13T10:06:48.787699Z"
    }
   },
   "cell_type": "code",
   "source": [
    "\n",
    "def send_notifications():\n",
    "    for func in targets:\n",
    "        func()\n",
    "\n",
    "send_notifications()"
   ],
   "id": "fe0cbe739ee240e6",
   "outputs": [
    {
     "name": "stdout",
     "output_type": "stream",
     "text": [
      "Envoi mail\n",
      "Push information\n"
     ]
    }
   ],
   "execution_count": 3
  },
  {
   "metadata": {
    "ExecuteTime": {
     "end_time": "2025-06-13T10:06:57.104231Z",
     "start_time": "2025-06-13T10:06:57.013308Z"
    }
   },
   "cell_type": "code",
   "source": "notify_mail()",
   "id": "98881816ab4e2d91",
   "outputs": [
    {
     "ename": "TypeError",
     "evalue": "'NoneType' object is not callable",
     "output_type": "error",
     "traceback": [
      "\u001B[31m---------------------------------------------------------------------------\u001B[39m",
      "\u001B[31mTypeError\u001B[39m                                 Traceback (most recent call last)",
      "\u001B[36mCell\u001B[39m\u001B[36m \u001B[39m\u001B[32mIn[4]\u001B[39m\u001B[32m, line 1\u001B[39m\n\u001B[32m----> \u001B[39m\u001B[32m1\u001B[39m \u001B[43mnotify_mail\u001B[49m\u001B[43m(\u001B[49m\u001B[43m)\u001B[49m\n",
      "\u001B[31mTypeError\u001B[39m: 'NoneType' object is not callable"
     ]
    }
   ],
   "execution_count": 4
  },
  {
   "metadata": {},
   "cell_type": "code",
   "outputs": [],
   "execution_count": null,
   "source": "",
   "id": "9fa974a306cc2f0b"
  }
 ],
 "metadata": {
  "kernelspec": {
   "display_name": "Python 3",
   "language": "python",
   "name": "python3"
  },
  "language_info": {
   "codemirror_mode": {
    "name": "ipython",
    "version": 2
   },
   "file_extension": ".py",
   "mimetype": "text/x-python",
   "name": "python",
   "nbconvert_exporter": "python",
   "pygments_lexer": "ipython2",
   "version": "2.7.6"
  }
 },
 "nbformat": 4,
 "nbformat_minor": 5
}
