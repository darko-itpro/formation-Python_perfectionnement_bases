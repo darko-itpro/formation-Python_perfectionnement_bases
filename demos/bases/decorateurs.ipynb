{
 "cells": [
  {
   "metadata": {},
   "cell_type": "markdown",
   "source": "# Les décorateurs",
   "id": "6793557f60e1be7"
  },
  {
   "cell_type": "code",
   "id": "initial_id",
   "metadata": {
    "collapsed": true,
    "ExecuteTime": {
     "end_time": "2025-10-15T14:25:42.233360Z",
     "start_time": "2025-10-15T14:25:42.229404Z"
    }
   },
   "source": [
    "def sandwich(garniture):\n",
    "    def wrapper(*args, **kargs):\n",
    "        print(\"/TTTTTTTT\\\\\")\n",
    "        value = garniture(*args, **kargs)\n",
    "        print(\"\\\\________/\")\n",
    "\n",
    "        return value + 2\n",
    "    return wrapper\n",
    "\n",
    "@sandwich\n",
    "def parisien():\n",
    "    print(\"  Jambon \")\n",
    "    print(\"  Beurre \")\n",
    "    return 8\n",
    "\n",
    "@sandwich\n",
    "def lyonnais():\n",
    "    print(\"  rosette \")\n",
    "    print(\"  Beurre \")\n",
    "    return 5\n",
    "\n",
    "@sandwich\n",
    "def kebab(sauce=\"blanche\"):\n",
    "    print(f'  {sauce}')\n",
    "    print('  viande')\n",
    "    print('  salade tomates oignons')\n",
    "    return 4\n"
   ],
   "outputs": [],
   "execution_count": 36
  },
  {
   "metadata": {
    "ExecuteTime": {
     "end_time": "2025-10-15T14:25:42.756035Z",
     "start_time": "2025-10-15T14:25:42.753161Z"
    }
   },
   "cell_type": "code",
   "source": "print(parisien())",
   "id": "a8a684e47839f8f9",
   "outputs": [
    {
     "name": "stdout",
     "output_type": "stream",
     "text": [
      "/TTTTTTTT\\\n",
      "  Jambon \n",
      "  Beurre \n",
      "\\________/\n",
      "10\n"
     ]
    }
   ],
   "execution_count": 37
  },
  {
   "metadata": {
    "ExecuteTime": {
     "end_time": "2025-10-15T14:25:43.185640Z",
     "start_time": "2025-10-15T14:25:43.181730Z"
    }
   },
   "cell_type": "code",
   "source": "lyonnais()",
   "id": "c4b8758c11cd12c6",
   "outputs": [
    {
     "name": "stdout",
     "output_type": "stream",
     "text": [
      "/TTTTTTTT\\\n",
      "  rosette \n",
      "  Beurre \n",
      "\\________/\n"
     ]
    },
    {
     "data": {
      "text/plain": [
       "7"
      ]
     },
     "execution_count": 38,
     "metadata": {},
     "output_type": "execute_result"
    }
   ],
   "execution_count": 38
  },
  {
   "metadata": {
    "ExecuteTime": {
     "end_time": "2025-10-15T14:25:47.894447Z",
     "start_time": "2025-10-15T14:25:47.890992Z"
    }
   },
   "cell_type": "code",
   "source": "kebab('Samourai')",
   "id": "22bfd76ea4ebcf4",
   "outputs": [
    {
     "name": "stdout",
     "output_type": "stream",
     "text": [
      "/TTTTTTTT\\\n",
      "  Samourai\n",
      "  viande\n",
      "  salade tomates oignons\n",
      "\\________/\n"
     ]
    },
    {
     "data": {
      "text/plain": [
       "6"
      ]
     },
     "execution_count": 40,
     "metadata": {},
     "output_type": "execute_result"
    }
   ],
   "execution_count": 40
  },
  {
   "metadata": {
    "ExecuteTime": {
     "end_time": "2025-10-15T14:23:07.581723Z",
     "start_time": "2025-10-15T14:23:07.578914Z"
    }
   },
   "cell_type": "code",
   "source": "kebab",
   "id": "ddc06b54a301c241",
   "outputs": [
    {
     "data": {
      "text/plain": [
       "<function __main__.sandwich.<locals>.wrapper()>"
      ]
     },
     "execution_count": 27,
     "metadata": {},
     "output_type": "execute_result"
    }
   ],
   "execution_count": 27
  },
  {
   "metadata": {},
   "cell_type": "markdown",
   "source": [
    "## Exercices\n",
    "### Durée d'exécution"
   ],
   "id": "68770d615e972307"
  },
  {
   "metadata": {
    "ExecuteTime": {
     "end_time": "2025-10-15T14:40:26.099955Z",
     "start_time": "2025-10-15T14:40:26.096287Z"
    }
   },
   "cell_type": "code",
   "source": [
    "import time\n",
    "\n",
    "def time_it(some_func):\n",
    "    def wrapper(*args, **kargs):\n",
    "        start = time.time()\n",
    "        value = some_func(*args, **kargs)\n",
    "        end = time.time()\n",
    "        print(end - start, \"secondes se sont écoulées\")\n",
    "        return value\n",
    "\n",
    "    return wrapper\n",
    "\n",
    "@time_it\n",
    "def func():\n",
    "    for x in range(1_000_000):\n",
    "        y = x ** 2\n"
   ],
   "id": "6369973822f8965a",
   "outputs": [],
   "execution_count": 41
  },
  {
   "metadata": {
    "ExecuteTime": {
     "end_time": "2025-10-15T14:40:37.749328Z",
     "start_time": "2025-10-15T14:40:37.698666Z"
    }
   },
   "cell_type": "code",
   "source": "func()",
   "id": "da8dfe3aa207ad4c",
   "outputs": [
    {
     "name": "stdout",
     "output_type": "stream",
     "text": [
      "0.048175811767578125 secondes se sont écoulées\n"
     ]
    }
   ],
   "execution_count": 48
  },
  {
   "metadata": {},
   "cell_type": "code",
   "outputs": [],
   "execution_count": null,
   "source": "",
   "id": "8e09a546ee4b2b4c"
  },
  {
   "metadata": {},
   "cell_type": "markdown",
   "source": "## Compteur",
   "id": "ee3c6e07b2712e3e"
  },
  {
   "metadata": {
    "ExecuteTime": {
     "end_time": "2025-10-15T15:03:00.261457Z",
     "start_time": "2025-10-15T15:03:00.258092Z"
    }
   },
   "cell_type": "code",
   "source": [
    "import functools\n",
    "\n",
    "def count_calls(func):\n",
    "    count = 0\n",
    "    @functools.wraps(func)\n",
    "    def inner():\n",
    "        nonlocal count\n",
    "        count += 1\n",
    "        func()\n",
    "\n",
    "    def inner_get_count():\n",
    "        return count\n",
    "\n",
    "    inner.nbcalls = inner_get_count\n",
    "\n",
    "\n",
    "    return inner\n",
    "\n",
    "@count_calls\n",
    "def some_func():\n",
    "    print(\"func called\")\n",
    "\n",
    "print(some_func.nbcalls())\n",
    "some_func()\n",
    "some_func()\n",
    "print(some_func.nbcalls())"
   ],
   "id": "a101d1fb2d5ffe17",
   "outputs": [
    {
     "name": "stdout",
     "output_type": "stream",
     "text": [
      "0\n",
      "func called\n",
      "func called\n",
      "2\n"
     ]
    }
   ],
   "execution_count": 61
  },
  {
   "metadata": {
    "ExecuteTime": {
     "end_time": "2025-10-15T15:03:04.267217Z",
     "start_time": "2025-10-15T15:03:04.264837Z"
    }
   },
   "cell_type": "code",
   "source": "some_func",
   "id": "95657f22491b7f30",
   "outputs": [
    {
     "data": {
      "text/plain": [
       "<function __main__.some_func()>"
      ]
     },
     "execution_count": 62,
     "metadata": {},
     "output_type": "execute_result"
    }
   ],
   "execution_count": 62
  },
  {
   "metadata": {},
   "cell_type": "code",
   "outputs": [],
   "execution_count": null,
   "source": "",
   "id": "32f1a3bebf17f3db"
  }
 ],
 "metadata": {
  "kernelspec": {
   "display_name": "Python 3",
   "language": "python",
   "name": "python3"
  },
  "language_info": {
   "codemirror_mode": {
    "name": "ipython",
    "version": 2
   },
   "file_extension": ".py",
   "mimetype": "text/x-python",
   "name": "python",
   "nbconvert_exporter": "python",
   "pygments_lexer": "ipython2",
   "version": "2.7.6"
  }
 },
 "nbformat": 4,
 "nbformat_minor": 5
}
