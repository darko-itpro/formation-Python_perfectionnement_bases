{
 "cells": [
  {
   "metadata": {},
   "cell_type": "markdown",
   "source": [
    "# Les décorateurs\n",
    "## Explications"
   ],
   "id": "6793557f60e1be7"
  },
  {
   "cell_type": "code",
   "id": "initial_id",
   "metadata": {
    "collapsed": true
   },
   "source": [
    "def tartine(garniture):\n",
    "    def wrapper(*args, **kwargs):\n",
    "        price = garniture(*args, **kwargs)\n",
    "        print(\"\\\\________/\")\n",
    "\n",
    "        return price + 1\n",
    "\n",
    "    return wrapper\n",
    "\n",
    "\n",
    "def sandwich(garniture):\n",
    "    def wrapper(*args, **kwargs):\n",
    "        print(\"/TTTTTTTT\\\\\")\n",
    "        price = garniture(*args, **kwargs)\n",
    "        print(\"\\\\________/\")\n",
    "\n",
    "        return price + 1\n",
    "\n",
    "    return wrapper\n",
    "\n",
    "@sandwich\n",
    "def kebab(salade_tomates_oignins:bool):\n",
    "    if salade_tomates_oignins:\n",
    "        print(\"salade_tomates_oignins\")\n",
    "    print('viande')\n",
    "\n",
    "    return 5\n",
    "\n",
    "@sandwich\n",
    "def parisien():\n",
    "    print(\"  Jambon \")\n",
    "    print(\"  Beurre \")\n",
    "\n",
    "    return 6\n",
    "\n",
    "@sandwich\n",
    "def bagnat():\n",
    "    print(\"  thon \")\n",
    "    print(\"  salade \")\n",
    "\n",
    "    return 7\n"
   ],
   "outputs": [],
   "execution_count": null
  },
  {
   "metadata": {},
   "cell_type": "code",
   "source": "kebab(True)",
   "id": "cde227ed73af61b3",
   "outputs": [],
   "execution_count": null
  },
  {
   "metadata": {},
   "cell_type": "code",
   "source": [
    "print(parisien())\n",
    "print(parisien.__name__)"
   ],
   "id": "bc008092740dbff4",
   "outputs": [],
   "execution_count": null
  },
  {
   "metadata": {},
   "cell_type": "code",
   "source": "bagnat()",
   "id": "e9c31de11355b909",
   "outputs": [],
   "execution_count": null
  },
  {
   "metadata": {},
   "cell_type": "code",
   "source": "sandwich(parisien)()",
   "id": "9c21f855a1c05ad8",
   "outputs": [],
   "execution_count": null
  },
  {
   "metadata": {},
   "cell_type": "markdown",
   "source": [
    "## Exercices\n",
    "### Exercice 1"
   ],
   "id": "8fc1ec5bf3fcd4bd"
  },
  {
   "metadata": {},
   "cell_type": "code",
   "source": [
    "import time\n",
    "\n",
    "def time_it(func):\n",
    "    def wrapper(*args, **kwargs):\n",
    "        start = time.time()\n",
    "        value = func(*args, **kwargs)\n",
    "        end = time.time()\n",
    "        print(end - start, \"secondes se sont écoulées\")\n",
    "        return value\n",
    "\n",
    "    return wrapper\n",
    "\n",
    "@time_it\n",
    "def hard_work():\n",
    "    for x in range(1_000_000):\n",
    "        y = x ** 2\n"
   ],
   "id": "11d21535969fe88a",
   "outputs": [],
   "execution_count": null
  },
  {
   "metadata": {},
   "cell_type": "code",
   "source": "hard_work()",
   "id": "c63e5cd58ddddc8f",
   "outputs": [],
   "execution_count": null
  },
  {
   "metadata": {},
   "cell_type": "code",
   "source": "",
   "id": "26009334f4ccc6e3",
   "outputs": [],
   "execution_count": null
  },
  {
   "metadata": {},
   "cell_type": "markdown",
   "source": "### Second exercice",
   "id": "cfc5711067f29928"
  },
  {
   "metadata": {},
   "cell_type": "code",
   "source": [
    "def count_calls(func):\n",
    "    counts = 0\n",
    "    def wrapper(*args, **kwargs):\n",
    "        nonlocal counts\n",
    "        counts += 1\n",
    "        return func(*args, **kwargs)\n",
    "\n",
    "    def calls():\n",
    "        return counts\n",
    "\n",
    "    wrapper.nbcalls = calls\n",
    "\n",
    "    return wrapper\n",
    "\n",
    "@count_calls\n",
    "def some_func():\n",
    "    print(\"func called\")\n",
    "\n",
    "@count_calls\n",
    "def get_data(value):\n",
    "    return value * 2\n",
    "\n",
    "print(some_func.nbcalls())\n",
    "some_func()\n",
    "some_func()\n",
    "print(some_func.nbcalls())"
   ],
   "id": "fa9100edd6c26292",
   "outputs": [],
   "execution_count": null
  },
  {
   "metadata": {},
   "cell_type": "code",
   "source": "",
   "id": "360132bdf6f0a072",
   "outputs": [],
   "execution_count": null
  },
  {
   "metadata": {},
   "cell_type": "markdown",
   "source": "### Troisième exercice",
   "id": "a3e2593557580959"
  },
  {
   "metadata": {},
   "cell_type": "code",
   "source": [
    "import time\n",
    "from collections import OrderedDict\n",
    "\n",
    "def long_calls(func):\n",
    "\n",
    "    previouses = OrderedDict()\n",
    "\n",
    "    def inner(value:int):\n",
    "        try:\n",
    "            result = previouses[value]\n",
    "            previouses.move_to_end(value)\n",
    "        except KeyError:\n",
    "            result = func(value)\n",
    "            previouses[value] = result\n",
    "            if len(previouses) > 5:\n",
    "                previouses.popitem(last=False)\n",
    "\n",
    "        return result\n",
    "\n",
    "    return inner\n",
    "\n",
    "@time_it\n",
    "@long_calls\n",
    "def process(value):\n",
    "    time.sleep(2)\n",
    "    return value**2\n"
   ],
   "id": "c0601a6e5f26beb5",
   "outputs": [],
   "execution_count": null
  },
  {
   "metadata": {},
   "cell_type": "code",
   "source": [
    "print(process(1))\n",
    "print(process(2))\n",
    "print(process(3))\n",
    "print(process(4))\n",
    "print(process(5))\n",
    "print(process(6))\n",
    "print(process(1))\n",
    "print(process(3))\n"
   ],
   "id": "59c752c2f04aac8f",
   "outputs": [],
   "execution_count": null
  },
  {
   "metadata": {},
   "cell_type": "code",
   "source": "",
   "id": "9cb8a915484a18f1",
   "outputs": [],
   "execution_count": null
  },
  {
   "metadata": {},
   "cell_type": "markdown",
   "source": [
    "### Exercice 4 - version de base\n",
    "Dans les codes suivants, nous utilisons un décorateur *simple*."
   ],
   "id": "7bd38f7f61205034"
  },
  {
   "metadata": {},
   "cell_type": "code",
   "source": [
    "def register(notification):\n",
    "    targets.append(notification)\n",
    "    return notification\n",
    "\n",
    "targets = []"
   ],
   "id": "4694b4fcacb9ce9",
   "outputs": [],
   "execution_count": null
  },
  {
   "metadata": {},
   "cell_type": "code",
   "source": [
    "@register\n",
    "def notify_mail():\n",
    "    print(\"Envoi mail\")\n",
    "\n",
    "def notify_SMS():\n",
    "    print(\"Envoi SMS\")\n",
    "\n",
    "@register\n",
    "def notify_push():\n",
    "    print(\"Push information\")"
   ],
   "id": "3af7f92326ce4717",
   "outputs": [],
   "execution_count": null
  },
  {
   "metadata": {},
   "cell_type": "code",
   "source": [
    "\n",
    "def send_notifications():\n",
    "    for func in targets:\n",
    "        func()\n",
    "\n",
    "send_notifications()"
   ],
   "id": "fe0cbe739ee240e6",
   "outputs": [],
   "execution_count": null
  },
  {
   "metadata": {},
   "cell_type": "markdown",
   "source": [
    "### Exercice 4 - avec niveaux\n",
    "Cette version utilise des décorateurs paramétrés."
   ],
   "id": "7854444b111e6840"
  },
  {
   "metadata": {},
   "cell_type": "code",
   "source": [
    "def register(level):\n",
    "    def register_decorator(notification):\n",
    "        targets.append((notification, level))\n",
    "        return notification\n",
    "    return register_decorator\n",
    "\n",
    "targets = []"
   ],
   "id": "9fa974a306cc2f0b",
   "outputs": [],
   "execution_count": null
  },
  {
   "metadata": {},
   "cell_type": "code",
   "source": [
    "@register(level=1)\n",
    "def notify_mail():\n",
    "    print(\"Envoi mail\")\n",
    "\n",
    "@register(level=2)\n",
    "def notify_SMS():\n",
    "    print(\"Envoi SMS\")\n",
    "\n",
    "@register(level=1)\n",
    "def notify_push():\n",
    "    print(\"Push information\")"
   ],
   "id": "9a9f209166dc4810",
   "outputs": [],
   "execution_count": null
  },
  {
   "metadata": {},
   "cell_type": "code",
   "source": [
    "\n",
    "def send_notifications(level:int=1):\n",
    "    for func, func_level in targets:\n",
    "        if func_level <= level:\n",
    "            func()\n",
    "\n",
    "send_notifications()"
   ],
   "id": "957211ee82afebd1",
   "outputs": [],
   "execution_count": null
  },
  {
   "metadata": {},
   "cell_type": "markdown",
   "source": [
    "La version ci-dessous du décorateur permet de l'utiliser de manière paramétré ou non. Ainsi, une fonction décorée de la manière suivante :\n",
    "```python\n",
    "@register\n",
    "def notify():\n",
    "    print(\"Envoi\")\n",
    "```\n",
    "Aura le comportement d'une fonction décorée avec `@register(level=1)`."
   ],
   "id": "21bef9b55c3f7ad1"
  },
  {
   "metadata": {},
   "cell_type": "code",
   "source": [
    "def register(_func=None, *, level=1):\n",
    "    def register_decorator(notification):\n",
    "        targets.append((notification, level))\n",
    "        return notification\n",
    "\n",
    "    if _func is None:\n",
    "        return register_decorator\n",
    "    else:\n",
    "        return register_decorator(_func)\n"
   ],
   "id": "7704b3618a3f7ef2",
   "outputs": [],
   "execution_count": null
  }
 ],
 "metadata": {
  "kernelspec": {
   "display_name": "Python 3",
   "language": "python",
   "name": "python3"
  },
  "language_info": {
   "codemirror_mode": {
    "name": "ipython",
    "version": 2
   },
   "file_extension": ".py",
   "mimetype": "text/x-python",
   "name": "python",
   "nbconvert_exporter": "python",
   "pygments_lexer": "ipython2",
   "version": "2.7.6"
  }
 },
 "nbformat": 4,
 "nbformat_minor": 5
}
