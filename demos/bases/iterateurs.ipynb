{
 "cells": [
  {
   "metadata": {},
   "cell_type": "markdown",
   "source": [
    "# Les Itérateurs\n",
    "\n",
    "Un **itérateur** est un objet qui permet de retourner le prochain élément d’un **itérable**. Les exemples les plus simples d’itérateurs sont les séquences mais aussi les générateurs.\n",
    "Un **itérable** est un objet implantant la méthode spéciale `__iter__()`  qui doit retourner un itérateur. Un **itérateur** est un objet implantant la méthode spéciale `__next__()`. Cette méthode doit retourner l’élément suivant ou lever une exception de type StopIteration."
   ],
   "id": "ba7a2f87677754d6"
  },
  {
   "cell_type": "code",
   "execution_count": null,
   "id": "initial_id",
   "metadata": {
    "collapsed": true
   },
   "outputs": [],
   "source": "camelot = [\"Arthur\", \"Merlin\", \"Lancelot\", \"Robin\", \"Perceval\", \"Karadoc\"]"
  }
 ],
 "metadata": {
  "kernelspec": {
   "display_name": "Python 3",
   "language": "python",
   "name": "python3"
  },
  "language_info": {
   "codemirror_mode": {
    "name": "ipython",
    "version": 2
   },
   "file_extension": ".py",
   "mimetype": "text/x-python",
   "name": "python",
   "nbconvert_exporter": "python",
   "pygments_lexer": "ipython2",
   "version": "2.7.6"
  }
 },
 "nbformat": 4,
 "nbformat_minor": 5
}
