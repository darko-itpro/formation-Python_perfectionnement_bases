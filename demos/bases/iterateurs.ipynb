{
 "cells": [
  {
   "metadata": {},
   "cell_type": "markdown",
   "source": [
    "# Les Itérateurs\n",
    "\n",
    "Un **itérateur** est un objet qui permet de retourner le prochain élément d’un **itérable**. Les exemples les plus simples d’itérateurs sont les séquences mais aussi les générateurs.\n",
    "Un **itérable** est un objet implantant la méthode spéciale `__iter__()`  qui doit retourner un itérateur. Un **itérateur** est un objet implantant la méthode spéciale `__next__()`. Cette méthode doit retourner l’élément suivant ou lever une exception de type StopIteration."
   ],
   "id": "ba7a2f87677754d6"
  },
  {
   "cell_type": "code",
   "id": "initial_id",
   "metadata": {
    "collapsed": true,
    "ExecuteTime": {
     "end_time": "2025-06-19T14:19:54.959883Z",
     "start_time": "2025-06-19T14:19:54.956377Z"
    }
   },
   "source": "camelot = [\"Arthur\", \"Merlin\", \"Lancelot\", \"Robin\", \"Perceval\", \"Karadoc\"]",
   "outputs": [],
   "execution_count": 1
  },
  {
   "metadata": {},
   "cell_type": "code",
   "outputs": [],
   "execution_count": null,
   "source": [
    "class DemoIter:\n",
    "    def __init__(self, kingdom):\n",
    "        self._kingdom = kingdom\n",
    "        self._cursor = 0\n",
    "\n",
    "    def __iter__(self):\n",
    "        return self\n",
    "\n",
    "    def __next__(self):\n",
    "        try:\n",
    "            element = self._kingdom[self._cursor]\n",
    "            self._cursor += 1\n",
    "            return element\n",
    "        except IndexError:\n",
    "            raise StopIteration\n"
   ],
   "id": "b5117e14756e4da9"
  },
  {
   "metadata": {
    "ExecuteTime": {
     "end_time": "2025-06-19T14:27:21.412639Z",
     "start_time": "2025-06-19T14:27:21.401025Z"
    }
   },
   "cell_type": "code",
   "source": [
    "class FiboIter:\n",
    "    def __init__(self, max_value=50):\n",
    "        self._max = max_value\n",
    "        self.value = 1\n",
    "        self.previous = 1\n",
    "\n",
    "    def __iter__(self):\n",
    "        return self\n",
    "\n",
    "    def __next__(self):\n",
    "        if self.value > self._max:\n",
    "            raise StopIteration\n",
    "\n",
    "        v = self.value\n",
    "        self.value, self.previous = self.value + self.previous, self.value\n",
    "        return v"
   ],
   "id": "3030b20949bf3be3",
   "outputs": [],
   "execution_count": 2
  },
  {
   "metadata": {
    "ExecuteTime": {
     "end_time": "2025-06-19T14:27:38.558340Z",
     "start_time": "2025-06-19T14:27:38.553421Z"
    }
   },
   "cell_type": "code",
   "source": [
    "f = FiboIter().__iter__()\n",
    "next(f)"
   ],
   "id": "a3b494c4436b2011",
   "outputs": [
    {
     "data": {
      "text/plain": [
       "1"
      ]
     },
     "execution_count": 3,
     "metadata": {},
     "output_type": "execute_result"
    }
   ],
   "execution_count": 3
  },
  {
   "metadata": {
    "ExecuteTime": {
     "end_time": "2025-06-19T14:27:49.691047Z",
     "start_time": "2025-06-19T14:27:49.570783Z"
    }
   },
   "cell_type": "code",
   "source": "next(f)",
   "id": "707462c6ff45f7e1",
   "outputs": [
    {
     "ename": "StopIteration",
     "evalue": "",
     "output_type": "error",
     "traceback": [
      "\u001B[31m---------------------------------------------------------------------------\u001B[39m",
      "\u001B[31mStopIteration\u001B[39m                             Traceback (most recent call last)",
      "\u001B[36mCell\u001B[39m\u001B[36m \u001B[39m\u001B[32mIn[11]\u001B[39m\u001B[32m, line 1\u001B[39m\n\u001B[32m----> \u001B[39m\u001B[32m1\u001B[39m \u001B[38;5;28;43mnext\u001B[39;49m\u001B[43m(\u001B[49m\u001B[43mf\u001B[49m\u001B[43m)\u001B[49m\n",
      "\u001B[36mCell\u001B[39m\u001B[36m \u001B[39m\u001B[32mIn[2]\u001B[39m\u001B[32m, line 12\u001B[39m, in \u001B[36mFiboIter.__next__\u001B[39m\u001B[34m(self)\u001B[39m\n\u001B[32m     10\u001B[39m \u001B[38;5;28;01mdef\u001B[39;00m\u001B[38;5;250m \u001B[39m\u001B[34m__next__\u001B[39m(\u001B[38;5;28mself\u001B[39m):\n\u001B[32m     11\u001B[39m     \u001B[38;5;28;01mif\u001B[39;00m \u001B[38;5;28mself\u001B[39m.value > \u001B[38;5;28mself\u001B[39m._max:\n\u001B[32m---> \u001B[39m\u001B[32m12\u001B[39m         \u001B[38;5;28;01mraise\u001B[39;00m \u001B[38;5;167;01mStopIteration\u001B[39;00m\n\u001B[32m     14\u001B[39m     v = \u001B[38;5;28mself\u001B[39m.value\n\u001B[32m     15\u001B[39m     \u001B[38;5;28mself\u001B[39m.value, \u001B[38;5;28mself\u001B[39m.previous = \u001B[38;5;28mself\u001B[39m.value + \u001B[38;5;28mself\u001B[39m.previous, \u001B[38;5;28mself\u001B[39m.value\n",
      "\u001B[31mStopIteration\u001B[39m: "
     ]
    }
   ],
   "execution_count": 11
  },
  {
   "metadata": {},
   "cell_type": "code",
   "outputs": [],
   "execution_count": null,
   "source": "",
   "id": "7127caa5a57d9dd7"
  }
 ],
 "metadata": {
  "kernelspec": {
   "display_name": "Python 3",
   "language": "python",
   "name": "python3"
  },
  "language_info": {
   "codemirror_mode": {
    "name": "ipython",
    "version": 2
   },
   "file_extension": ".py",
   "mimetype": "text/x-python",
   "name": "python",
   "nbconvert_exporter": "python",
   "pygments_lexer": "ipython2",
   "version": "2.7.6"
  }
 },
 "nbformat": 4,
 "nbformat_minor": 5
}
