{
 "cells": [
  {
   "metadata": {},
   "cell_type": "markdown",
   "source": [
    "# Les Itérateurs\n",
    "\n",
    "Un **itérateur** est un objet qui permet de retourner le prochain élément d’un **itérable**. Les exemples les plus simples d’itérateurs sont les séquences mais aussi les générateurs.\n",
    "Un **itérable** est un objet implantant la méthode spéciale `__iter__()`  qui doit retourner un itérateur. Un **itérateur** est un objet implantant la méthode spéciale `__next__()`. Cette méthode doit retourner l’élément suivant ou lever une exception de type StopIteration."
   ],
   "id": "ba7a2f87677754d6"
  },
  {
   "cell_type": "code",
   "id": "initial_id",
   "metadata": {
    "collapsed": true,
    "ExecuteTime": {
     "end_time": "2025-10-16T14:46:32.429600Z",
     "start_time": "2025-10-16T14:46:32.427183Z"
    }
   },
   "source": "camelot = [\"Arthur\", \"Merlin\", \"Lancelot\", \"Robin\", \"Perceval\", \"Karadoc\"]",
   "outputs": [],
   "execution_count": 1
  },
  {
   "metadata": {
    "ExecuteTime": {
     "end_time": "2025-10-16T14:52:08.667359Z",
     "start_time": "2025-10-16T14:52:08.663341Z"
    }
   },
   "cell_type": "code",
   "source": [
    "class IterDemo:\n",
    "    def __init__(self, kingdom):\n",
    "        self.kingdom = kingdom\n",
    "\n",
    "    def __iter__(self):\n",
    "        self._pos = 0\n",
    "        return self\n",
    "\n",
    "    def __next__(self):\n",
    "        try:\n",
    "            item = self.kingdom[self._pos]\n",
    "            self._pos += 1\n",
    "            return item\n",
    "        except IndexError:\n",
    "            raise StopIteration()\n"
   ],
   "id": "ec9df5f174f98b7f",
   "outputs": [],
   "execution_count": 7
  },
  {
   "metadata": {
    "ExecuteTime": {
     "end_time": "2025-10-16T14:52:09.855378Z",
     "start_time": "2025-10-16T14:52:09.852689Z"
    }
   },
   "cell_type": "code",
   "source": [
    "for item in IterDemo(camelot):\n",
    "    print(item)"
   ],
   "id": "51b19478249cafe4",
   "outputs": [
    {
     "name": "stdout",
     "output_type": "stream",
     "text": [
      "Arthur\n",
      "Merlin\n",
      "Lancelot\n",
      "Robin\n",
      "Perceval\n",
      "Karadoc\n"
     ]
    }
   ],
   "execution_count": 8
  },
  {
   "metadata": {},
   "cell_type": "code",
   "outputs": [],
   "execution_count": null,
   "source": "",
   "id": "7d636406c4d3fcd3"
  }
 ],
 "metadata": {
  "kernelspec": {
   "display_name": "Python 3",
   "language": "python",
   "name": "python3"
  },
  "language_info": {
   "codemirror_mode": {
    "name": "ipython",
    "version": 2
   },
   "file_extension": ".py",
   "mimetype": "text/x-python",
   "name": "python",
   "nbconvert_exporter": "python",
   "pygments_lexer": "ipython2",
   "version": "2.7.6"
  }
 },
 "nbformat": 4,
 "nbformat_minor": 5
}
