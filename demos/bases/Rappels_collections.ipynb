{
 "cells": [
  {
   "metadata": {},
   "cell_type": "markdown",
   "source": "# Collections",
   "id": "21e7d472dac857e8"
  },
  {
   "cell_type": "code",
   "id": "initial_id",
   "metadata": {
    "collapsed": true,
    "ExecuteTime": {
     "end_time": "2025-10-15T07:48:46.270623Z",
     "start_time": "2025-10-15T07:48:46.268122Z"
    }
   },
   "source": "camelot = ['Arthur', 'Merlin', 'Lancelot', 'Robin', 'Bohort', 'Perceval', 'Karadoc']",
   "outputs": [],
   "execution_count": 14
  },
  {
   "metadata": {
    "ExecuteTime": {
     "end_time": "2025-10-15T07:36:47.142387Z",
     "start_time": "2025-10-15T07:36:47.140299Z"
    }
   },
   "cell_type": "code",
   "source": "camelot[:2]",
   "id": "18bc94c6896520e6",
   "outputs": [
    {
     "data": {
      "text/plain": [
       "['Arthur', 'Merlin']"
      ]
     },
     "execution_count": 3,
     "metadata": {},
     "output_type": "execute_result"
    }
   ],
   "execution_count": 3
  },
  {
   "metadata": {
    "ExecuteTime": {
     "end_time": "2025-10-15T07:38:04.673011Z",
     "start_time": "2025-10-15T07:38:04.669195Z"
    }
   },
   "cell_type": "code",
   "source": "camelot[-2:]",
   "id": "b54fc497807372f2",
   "outputs": [
    {
     "data": {
      "text/plain": [
       "['Perceval', 'Karadoc']"
      ]
     },
     "execution_count": 5,
     "metadata": {},
     "output_type": "execute_result"
    }
   ],
   "execution_count": 5
  },
  {
   "metadata": {
    "ExecuteTime": {
     "end_time": "2025-10-15T07:38:56.085771Z",
     "start_time": "2025-10-15T07:38:56.083561Z"
    }
   },
   "cell_type": "code",
   "source": "camelot[::-1]",
   "id": "d04186bb651f3a44",
   "outputs": [
    {
     "data": {
      "text/plain": [
       "['Karadoc', 'Perceval', 'Robin', 'Lancelot', 'Merlin', 'Arthur']"
      ]
     },
     "execution_count": 8,
     "metadata": {},
     "output_type": "execute_result"
    }
   ],
   "execution_count": 8
  },
  {
   "metadata": {
    "ExecuteTime": {
     "end_time": "2025-10-15T07:46:56.432734Z",
     "start_time": "2025-10-15T07:46:56.428375Z"
    }
   },
   "cell_type": "code",
   "source": "camelot[10:100]",
   "id": "9ec781685b92214e",
   "outputs": [
    {
     "data": {
      "text/plain": [
       "[]"
      ]
     },
     "execution_count": 12,
     "metadata": {},
     "output_type": "execute_result"
    }
   ],
   "execution_count": 12
  },
  {
   "metadata": {
    "ExecuteTime": {
     "end_time": "2025-10-15T07:49:49.250113Z",
     "start_time": "2025-10-15T07:49:49.246592Z"
    }
   },
   "cell_type": "code",
   "source": [
    "start = 0\n",
    "step = 2\n",
    "\n",
    "while squad := camelot[start:start + step]:\n",
    "    print(squad)\n",
    "    start = start + step\n"
   ],
   "id": "cd9f83019c0f878d",
   "outputs": [
    {
     "name": "stdout",
     "output_type": "stream",
     "text": [
      "['Arthur', 'Merlin']\n",
      "['Lancelot', 'Robin']\n",
      "['Bohort', 'Perceval']\n",
      "['Karadoc']\n"
     ]
    }
   ],
   "execution_count": 16
  },
  {
   "metadata": {
    "ExecuteTime": {
     "end_time": "2025-10-15T07:55:37.436137Z",
     "start_time": "2025-10-15T07:55:37.432649Z"
    }
   },
   "cell_type": "code",
   "source": [
    "camelot = ['Arthur', 'Merlin', 'Lancelot', 'Robin', 'Bohort', 'Perceval', 'Karadoc']\n",
    "camelot[:] = [\"Riri\", \"Fifi\", \"Loulou\"]"
   ],
   "id": "5fc5237382c7c626",
   "outputs": [],
   "execution_count": 28
  },
  {
   "metadata": {
    "ExecuteTime": {
     "end_time": "2025-10-15T07:55:39.167119Z",
     "start_time": "2025-10-15T07:55:39.163396Z"
    }
   },
   "cell_type": "code",
   "source": "camelot",
   "id": "fc8d746dc98085c2",
   "outputs": [
    {
     "data": {
      "text/plain": [
       "['Riri', 'Fifi', 'Loulou']"
      ]
     },
     "execution_count": 29,
     "metadata": {},
     "output_type": "execute_result"
    }
   ],
   "execution_count": 29
  },
  {
   "metadata": {
    "ExecuteTime": {
     "end_time": "2025-10-15T08:00:21.450596Z",
     "start_time": "2025-10-15T08:00:21.448417Z"
    }
   },
   "cell_type": "code",
   "source": "value = 1,",
   "id": "77dbf4e63256c400",
   "outputs": [],
   "execution_count": 36
  },
  {
   "metadata": {
    "ExecuteTime": {
     "end_time": "2025-10-15T08:00:22.003334Z",
     "start_time": "2025-10-15T08:00:21.999016Z"
    }
   },
   "cell_type": "code",
   "source": "type(value)",
   "id": "40709725500bbc5",
   "outputs": [
    {
     "data": {
      "text/plain": [
       "tuple"
      ]
     },
     "execution_count": 37,
     "metadata": {},
     "output_type": "execute_result"
    }
   ],
   "execution_count": 37
  },
  {
   "metadata": {},
   "cell_type": "code",
   "outputs": [],
   "execution_count": null,
   "source": [
    "def func():\n",
    "    return 1, 2, 3"
   ],
   "id": "b2e967d2f5e4510f"
  },
  {
   "metadata": {},
   "cell_type": "markdown",
   "source": "",
   "id": "b0df93f246f4765"
  },
  {
   "metadata": {
    "ExecuteTime": {
     "end_time": "2025-10-15T08:16:40.150664Z",
     "start_time": "2025-10-15T08:16:40.148072Z"
    }
   },
   "cell_type": "code",
   "source": "question, answer = (\"Meaning of life\", 42)",
   "id": "1c8496bd93d95b08",
   "outputs": [],
   "execution_count": 41
  },
  {
   "metadata": {
    "ExecuteTime": {
     "end_time": "2025-10-15T08:15:33.541649Z",
     "start_time": "2025-10-15T08:15:33.539337Z"
    }
   },
   "cell_type": "code",
   "source": "question",
   "id": "94056a9f27930a6a",
   "outputs": [
    {
     "data": {
      "text/plain": [
       "'Meaning of life'"
      ]
     },
     "execution_count": 39,
     "metadata": {},
     "output_type": "execute_result"
    }
   ],
   "execution_count": 39
  },
  {
   "metadata": {
    "ExecuteTime": {
     "end_time": "2025-10-15T08:17:05.947210Z",
     "start_time": "2025-10-15T08:17:05.944414Z"
    }
   },
   "cell_type": "code",
   "source": [
    "answer = \"Meaning of life\"\n",
    "question = 42"
   ],
   "id": "cf1f050652d15be0",
   "outputs": [],
   "execution_count": 43
  },
  {
   "metadata": {
    "ExecuteTime": {
     "end_time": "2025-10-15T08:17:51.806745Z",
     "start_time": "2025-10-15T08:17:51.803977Z"
    }
   },
   "cell_type": "code",
   "source": "answer, question = question, answer",
   "id": "d9c6ec29146bb26",
   "outputs": [],
   "execution_count": 44
  },
  {
   "metadata": {
    "ExecuteTime": {
     "end_time": "2025-10-15T08:17:53.659907Z",
     "start_time": "2025-10-15T08:17:53.657607Z"
    }
   },
   "cell_type": "code",
   "source": "answer",
   "id": "1fab0a7c650d4ab4",
   "outputs": [
    {
     "data": {
      "text/plain": [
       "42"
      ]
     },
     "execution_count": 45,
     "metadata": {},
     "output_type": "execute_result"
    }
   ],
   "execution_count": 45
  },
  {
   "metadata": {
    "ExecuteTime": {
     "end_time": "2025-10-15T08:23:38.865362Z",
     "start_time": "2025-10-15T08:23:38.863316Z"
    }
   },
   "cell_type": "code",
   "source": "king, wizard, *knights = ['Arthur', 'Merlin', 'Lancelot', 'Robin', 'Bohort', 'Perceval', 'Karadoc']",
   "id": "8f1153489b32370e",
   "outputs": [],
   "execution_count": 52
  },
  {
   "metadata": {
    "ExecuteTime": {
     "end_time": "2025-10-15T08:23:39.083986Z",
     "start_time": "2025-10-15T08:23:39.081455Z"
    }
   },
   "cell_type": "code",
   "source": "knights",
   "id": "bdddd00b80f340ab",
   "outputs": [
    {
     "data": {
      "text/plain": [
       "['Lancelot', 'Robin', 'Bohort', 'Perceval', 'Karadoc']"
      ]
     },
     "execution_count": 53,
     "metadata": {},
     "output_type": "execute_result"
    }
   ],
   "execution_count": 53
  },
  {
   "metadata": {
    "ExecuteTime": {
     "end_time": "2025-10-15T08:25:07.662714Z",
     "start_time": "2025-10-15T08:25:07.660384Z"
    }
   },
   "cell_type": "code",
   "source": "\"Il est {}h{:02}\".format(3, 7)",
   "id": "8f115d200d82e016",
   "outputs": [
    {
     "data": {
      "text/plain": [
       "'Il est 3h07'"
      ]
     },
     "execution_count": 56,
     "metadata": {},
     "output_type": "execute_result"
    }
   ],
   "execution_count": 56
  },
  {
   "metadata": {
    "ExecuteTime": {
     "end_time": "2025-10-15T08:25:16.695867Z",
     "start_time": "2025-10-15T08:25:16.693060Z"
    }
   },
   "cell_type": "code",
   "source": [
    "hours = 3\n",
    "minutes = 7\n",
    "f\"Il est {hours}h{minutes:02}\""
   ],
   "id": "80c6c505d03e8cb0",
   "outputs": [
    {
     "data": {
      "text/plain": [
       "'Il est 3h07'"
      ]
     },
     "execution_count": 58,
     "metadata": {},
     "output_type": "execute_result"
    }
   ],
   "execution_count": 58
  },
  {
   "metadata": {
    "ExecuteTime": {
     "end_time": "2025-10-15T08:27:32.084858Z",
     "start_time": "2025-10-15T08:27:32.082084Z"
    }
   },
   "cell_type": "code",
   "source": "\"Prix {} {}\".format(100, \"€\")",
   "id": "eac6e6008bf9da0b",
   "outputs": [
    {
     "data": {
      "text/plain": [
       "'Prix 100 €'"
      ]
     },
     "execution_count": 59,
     "metadata": {},
     "output_type": "execute_result"
    }
   ],
   "execution_count": 59
  },
  {
   "metadata": {
    "ExecuteTime": {
     "end_time": "2025-10-15T08:27:55.150077Z",
     "start_time": "2025-10-15T08:27:55.146646Z"
    }
   },
   "cell_type": "code",
   "source": "\"Price {1}{0}\".format(100, \"$\")",
   "id": "ba425f43062d0958",
   "outputs": [
    {
     "data": {
      "text/plain": [
       "'Price $100'"
      ]
     },
     "execution_count": 61,
     "metadata": {},
     "output_type": "execute_result"
    }
   ],
   "execution_count": 61
  },
  {
   "metadata": {},
   "cell_type": "code",
   "outputs": [],
   "execution_count": null,
   "source": [
    "def display(template, price, currency):\n",
    "    print(template.format(price, currency))\n",
    "\n",
    "price_FR = \"Prix {} {}\"\n",
    "\n",
    "display(price_FR, 100, \"FR\")"
   ],
   "id": "b64719385f977737"
  },
  {
   "metadata": {},
   "cell_type": "code",
   "outputs": [],
   "execution_count": null,
   "source": "",
   "id": "a1c313aadd5bbe4a"
  },
  {
   "metadata": {
    "ExecuteTime": {
     "end_time": "2025-10-15T08:34:59.775615Z",
     "start_time": "2025-10-15T08:34:59.772529Z"
    }
   },
   "cell_type": "code",
   "source": [
    "instant = 254\n",
    "\n",
    "\"Il est {}h{:02}\".format(*divmod(instant, 60))"
   ],
   "id": "f9c839c1a2d11611",
   "outputs": [
    {
     "data": {
      "text/plain": [
       "'Il est 4h14'"
      ]
     },
     "execution_count": 65,
     "metadata": {},
     "output_type": "execute_result"
    }
   ],
   "execution_count": 65
  },
  {
   "metadata": {
    "ExecuteTime": {
     "end_time": "2025-10-15T08:34:14.121104Z",
     "start_time": "2025-10-15T08:34:14.118382Z"
    }
   },
   "cell_type": "code",
   "source": "divmod(instant, 60)",
   "id": "7290aa8e7aaf0c86",
   "outputs": [
    {
     "data": {
      "text/plain": [
       "(4, 14)"
      ]
     },
     "execution_count": 63,
     "metadata": {},
     "output_type": "execute_result"
    }
   ],
   "execution_count": 63
  },
  {
   "metadata": {
    "ExecuteTime": {
     "end_time": "2025-10-15T08:36:57.306110Z",
     "start_time": "2025-10-15T08:36:57.304129Z"
    }
   },
   "cell_type": "code",
   "source": [
    "def func(*args, **kargs):\n",
    "    print(args, kargs)"
   ],
   "id": "adbf0937569ffcc7",
   "outputs": [],
   "execution_count": 69
  },
  {
   "metadata": {
    "ExecuteTime": {
     "end_time": "2025-10-15T08:36:57.664861Z",
     "start_time": "2025-10-15T08:36:57.661801Z"
    }
   },
   "cell_type": "code",
   "source": "func(value=3)",
   "id": "19ca4151d70babdf",
   "outputs": [
    {
     "name": "stdout",
     "output_type": "stream",
     "text": [
      "() {'value': 3}\n"
     ]
    }
   ],
   "execution_count": 70
  },
  {
   "metadata": {
    "ExecuteTime": {
     "end_time": "2025-10-15T08:38:06.376486Z",
     "start_time": "2025-10-15T08:38:06.373641Z"
    }
   },
   "cell_type": "code",
   "source": "help(print)",
   "id": "67178c32f64b14a2",
   "outputs": [
    {
     "name": "stdout",
     "output_type": "stream",
     "text": [
      "Help on built-in function print in module builtins:\n",
      "\n",
      "print(*args, sep=' ', end='\\n', file=None, flush=False)\n",
      "    Prints the values to a stream, or to sys.stdout by default.\n",
      "\n",
      "    sep\n",
      "      string inserted between values, default a space.\n",
      "    end\n",
      "      string appended after the last value, default a newline.\n",
      "    file\n",
      "      a file-like object (stream); defaults to the current sys.stdout.\n",
      "    flush\n",
      "      whether to forcibly flush the stream.\n",
      "\n"
     ]
    }
   ],
   "execution_count": 71
  },
  {
   "metadata": {},
   "cell_type": "code",
   "outputs": [],
   "execution_count": null,
   "source": "",
   "id": "a76482c3c09aa88a"
  },
  {
   "metadata": {},
   "cell_type": "markdown",
   "source": "## List comprehension",
   "id": "a84117cbfe22927f"
  },
  {
   "metadata": {
    "ExecuteTime": {
     "end_time": "2025-10-15T09:08:26.902169Z",
     "start_time": "2025-10-15T09:08:26.897168Z"
    }
   },
   "cell_type": "code",
   "source": "camelot = [('Arthur', 'king'), ('Merlin', 'wizard'), ('Lancelot', 'knights'), ('Robin', 'knights'), ('Bohort', 'knights'), ('Perceval', 'knights'), ('Karadoc', 'knights')]",
   "id": "dfb42dcf9d9879ae",
   "outputs": [],
   "execution_count": 72
  },
  {
   "metadata": {
    "ExecuteTime": {
     "end_time": "2025-10-15T09:09:27.988675Z",
     "start_time": "2025-10-15T09:09:27.985246Z"
    }
   },
   "cell_type": "code",
   "source": "[name for name, _ in camelot]",
   "id": "facfacb51acdcf38",
   "outputs": [
    {
     "data": {
      "text/plain": [
       "['Arthur', 'Merlin', 'Lancelot', 'Robin', 'Bohort', 'Perceval', 'Karadoc']"
      ]
     },
     "execution_count": 74,
     "metadata": {},
     "output_type": "execute_result"
    }
   ],
   "execution_count": 74
  },
  {
   "metadata": {
    "ExecuteTime": {
     "end_time": "2025-10-15T09:09:53.891885Z",
     "start_time": "2025-10-15T09:09:53.889203Z"
    }
   },
   "cell_type": "code",
   "source": "[len(name) for name, _ in camelot]",
   "id": "25d51460861f128b",
   "outputs": [
    {
     "data": {
      "text/plain": [
       "[6, 6, 8, 5, 6, 8, 7]"
      ]
     },
     "execution_count": 75,
     "metadata": {},
     "output_type": "execute_result"
    }
   ],
   "execution_count": 75
  },
  {
   "metadata": {
    "ExecuteTime": {
     "end_time": "2025-10-15T09:10:32.920403Z",
     "start_time": "2025-10-15T09:10:32.917075Z"
    }
   },
   "cell_type": "code",
   "source": [
    "[peon\n",
    " for peon in camelot\n",
    " if peon[1] != \"wizard\"]"
   ],
   "id": "6f9b12d21c1beb6b",
   "outputs": [
    {
     "data": {
      "text/plain": [
       "[('Arthur', 'king'),\n",
       " ('Lancelot', 'knights'),\n",
       " ('Robin', 'knights'),\n",
       " ('Bohort', 'knights'),\n",
       " ('Perceval', 'knights'),\n",
       " ('Karadoc', 'knights')]"
      ]
     },
     "execution_count": 76,
     "metadata": {},
     "output_type": "execute_result"
    }
   ],
   "execution_count": 76
  },
  {
   "metadata": {
    "ExecuteTime": {
     "end_time": "2025-10-15T09:16:59.837983Z",
     "start_time": "2025-10-15T09:16:59.835102Z"
    }
   },
   "cell_type": "code",
   "source": [
    "for item in (name for name, _ in camelot):\n",
    "    print(item)"
   ],
   "id": "97a9f62ba3cba6d7",
   "outputs": [
    {
     "name": "stdout",
     "output_type": "stream",
     "text": [
      "Arthur\n",
      "Merlin\n",
      "Lancelot\n",
      "Robin\n",
      "Bohort\n",
      "Perceval\n",
      "Karadoc\n"
     ]
    }
   ],
   "execution_count": 83
  },
  {
   "metadata": {
    "ExecuteTime": {
     "end_time": "2025-10-15T09:24:44.473143Z",
     "start_time": "2025-10-15T09:24:44.471075Z"
    }
   },
   "cell_type": "code",
   "source": [
    "def get_names(kingdom):\n",
    "    for item in kingdom:\n",
    "        if item[1] != \"wizard\":\n",
    "            yield item[0]\n",
    "    print(\"done\")"
   ],
   "id": "af1791b537d56249",
   "outputs": [],
   "execution_count": 91
  },
  {
   "metadata": {
    "ExecuteTime": {
     "end_time": "2025-10-15T09:25:06.645334Z",
     "start_time": "2025-10-15T09:25:06.643515Z"
    }
   },
   "cell_type": "code",
   "source": [
    "for item in get_names(camelot):\n",
    "    print(item)"
   ],
   "id": "1872602f603fda6e",
   "outputs": [
    {
     "name": "stdout",
     "output_type": "stream",
     "text": [
      "Arthur\n",
      "Lancelot\n",
      "Robin\n",
      "Bohort\n",
      "Perceval\n",
      "Karadoc\n",
      "done\n"
     ]
    }
   ],
   "execution_count": 94
  },
  {
   "metadata": {
    "ExecuteTime": {
     "end_time": "2025-10-15T09:27:21.517820Z",
     "start_time": "2025-10-15T09:27:21.515487Z"
    }
   },
   "cell_type": "code",
   "source": "gen = get_names(camelot)",
   "id": "13d318aa6cb14515",
   "outputs": [],
   "execution_count": 95
  },
  {
   "metadata": {
    "ExecuteTime": {
     "end_time": "2025-10-15T09:27:47.893508Z",
     "start_time": "2025-10-15T09:27:47.875237Z"
    }
   },
   "cell_type": "code",
   "source": "next(gen)",
   "id": "537030f097433515",
   "outputs": [
    {
     "name": "stdout",
     "output_type": "stream",
     "text": [
      "done\n"
     ]
    },
    {
     "ename": "StopIteration",
     "evalue": "",
     "output_type": "error",
     "traceback": [
      "\u001B[31m---------------------------------------------------------------------------\u001B[39m",
      "\u001B[31mStopIteration\u001B[39m                             Traceback (most recent call last)",
      "\u001B[36mCell\u001B[39m\u001B[36m \u001B[39m\u001B[32mIn[102]\u001B[39m\u001B[32m, line 1\u001B[39m\n\u001B[32m----> \u001B[39m\u001B[32m1\u001B[39m \u001B[38;5;28;43mnext\u001B[39;49m\u001B[43m(\u001B[49m\u001B[43mgen\u001B[49m\u001B[43m)\u001B[49m\n",
      "\u001B[31mStopIteration\u001B[39m: "
     ]
    }
   ],
   "execution_count": 102
  },
  {
   "metadata": {
    "ExecuteTime": {
     "end_time": "2025-10-15T09:33:29.628452Z",
     "start_time": "2025-10-15T09:33:29.625628Z"
    }
   },
   "cell_type": "code",
   "source": [
    "def lunch_fr():\n",
    "    yield \"entrée\"\n",
    "    yield \"plat\"\n",
    "    yield \"dessert\"\n",
    "    yield \"café\"\n",
    "\n",
    "def lunch_normand():\n",
    "    yield \"entrée\"\n",
    "    yield \"trou normand\"\n",
    "    yield \"plat\"\n",
    "    yield \"dessert\"\n",
    "    yield \"café\""
   ],
   "id": "3ebc7dfc4dd6021a",
   "outputs": [],
   "execution_count": 103
  },
  {
   "metadata": {
    "ExecuteTime": {
     "end_time": "2025-10-15T09:33:37.929749Z",
     "start_time": "2025-10-15T09:33:37.927891Z"
    }
   },
   "cell_type": "code",
   "source": "l = lunch_normand()",
   "id": "194fd2075493454f",
   "outputs": [],
   "execution_count": 104
  },
  {
   "metadata": {
    "ExecuteTime": {
     "end_time": "2025-10-15T09:33:58.019496Z",
     "start_time": "2025-10-15T09:33:58.002507Z"
    }
   },
   "cell_type": "code",
   "source": "next(l)",
   "id": "c09531bfe0d8e96c",
   "outputs": [
    {
     "ename": "StopIteration",
     "evalue": "",
     "output_type": "error",
     "traceback": [
      "\u001B[31m---------------------------------------------------------------------------\u001B[39m",
      "\u001B[31mStopIteration\u001B[39m                             Traceback (most recent call last)",
      "\u001B[36mCell\u001B[39m\u001B[36m \u001B[39m\u001B[32mIn[109]\u001B[39m\u001B[32m, line 1\u001B[39m\n\u001B[32m----> \u001B[39m\u001B[32m1\u001B[39m \u001B[38;5;28;43mnext\u001B[39;49m\u001B[43m(\u001B[49m\u001B[43ml\u001B[49m\u001B[43m)\u001B[49m\n",
      "\u001B[31mStopIteration\u001B[39m: "
     ]
    }
   ],
   "execution_count": 109
  },
  {
   "metadata": {
    "ExecuteTime": {
     "end_time": "2025-10-15T09:37:39.883600Z",
     "start_time": "2025-10-15T09:37:39.880866Z"
    }
   },
   "cell_type": "code",
   "source": [
    "def count():\n",
    "    count = 0\n",
    "    while True:\n",
    "        count += 1\n",
    "        yield count"
   ],
   "id": "d4489424f43af127",
   "outputs": [],
   "execution_count": 111
  },
  {
   "metadata": {
    "ExecuteTime": {
     "end_time": "2025-10-15T09:37:52.402996Z",
     "start_time": "2025-10-15T09:37:52.400804Z"
    }
   },
   "cell_type": "code",
   "source": "c = count()",
   "id": "643aec5dbe2aee7c",
   "outputs": [],
   "execution_count": 112
  },
  {
   "metadata": {
    "ExecuteTime": {
     "end_time": "2025-10-15T09:38:26.976876Z",
     "start_time": "2025-10-15T09:38:26.973650Z"
    }
   },
   "cell_type": "code",
   "source": "next(c)",
   "id": "a1a27fa903862e46",
   "outputs": [
    {
     "data": {
      "text/plain": [
       "20"
      ]
     },
     "execution_count": 132,
     "metadata": {},
     "output_type": "execute_result"
    }
   ],
   "execution_count": 132
  },
  {
   "metadata": {
    "ExecuteTime": {
     "end_time": "2025-10-15T09:38:11.265386Z",
     "start_time": "2025-10-15T09:38:11.263292Z"
    }
   },
   "cell_type": "code",
   "source": "",
   "id": "751f9f7f239c70e9",
   "outputs": [],
   "execution_count": null
  },
  {
   "metadata": {
    "ExecuteTime": {
     "end_time": "2025-10-15T09:43:21.560375Z",
     "start_time": "2025-10-15T09:43:21.557464Z"
    }
   },
   "cell_type": "code",
   "source": "camelot = [('Arthur', 'king'), ('Merlin', 'wizard'), ('Lancelot', 'knights'), ('Robin', 'knights'), ('Bohort', 'knights'), ('Perceval', 'knights'), ('Karadoc', 'knights')]",
   "id": "56681c2719ce740",
   "outputs": [],
   "execution_count": 133
  },
  {
   "metadata": {
    "ExecuteTime": {
     "end_time": "2025-10-15T09:46:26.181498Z",
     "start_time": "2025-10-15T09:46:26.177372Z"
    }
   },
   "cell_type": "code",
   "source": "{name: job for name, job in camelot}\n",
   "id": "f4ff40d3273ecfb0",
   "outputs": [
    {
     "data": {
      "text/plain": [
       "{'Arthur': 'king',\n",
       " 'Merlin': 'wizard',\n",
       " 'Lancelot': 'knights',\n",
       " 'Robin': 'knights',\n",
       " 'Bohort': 'knights',\n",
       " 'Perceval': 'knights',\n",
       " 'Karadoc': 'knights'}"
      ]
     },
     "execution_count": 136,
     "metadata": {},
     "output_type": "execute_result"
    }
   ],
   "execution_count": 136
  },
  {
   "metadata": {
    "ExecuteTime": {
     "end_time": "2025-10-15T09:51:51.220624Z",
     "start_time": "2025-10-15T09:51:51.217222Z"
    }
   },
   "cell_type": "code",
   "source": [
    "names = [name for name, _ in camelot]\n",
    "jobs = [job for _, job in camelot]"
   ],
   "id": "fe525368862e935",
   "outputs": [],
   "execution_count": 140
  },
  {
   "metadata": {
    "ExecuteTime": {
     "end_time": "2025-10-15T09:51:51.393449Z",
     "start_time": "2025-10-15T09:51:51.389630Z"
    }
   },
   "cell_type": "code",
   "source": "names",
   "id": "fc70a57a3f8fcaac",
   "outputs": [
    {
     "data": {
      "text/plain": [
       "['Arthur', 'Merlin', 'Lancelot', 'Robin', 'Bohort', 'Perceval', 'Karadoc']"
      ]
     },
     "execution_count": 141,
     "metadata": {},
     "output_type": "execute_result"
    }
   ],
   "execution_count": 141
  },
  {
   "metadata": {
    "ExecuteTime": {
     "end_time": "2025-10-15T09:51:51.604246Z",
     "start_time": "2025-10-15T09:51:51.601826Z"
    }
   },
   "cell_type": "code",
   "source": "jobs",
   "id": "af844bf273c640fc",
   "outputs": [
    {
     "data": {
      "text/plain": [
       "['king', 'wizard', 'knights', 'knights', 'knights', 'knights', 'knights']"
      ]
     },
     "execution_count": 142,
     "metadata": {},
     "output_type": "execute_result"
    }
   ],
   "execution_count": 142
  },
  {
   "metadata": {
    "ExecuteTime": {
     "end_time": "2025-10-15T09:53:57.274515Z",
     "start_time": "2025-10-15T09:53:57.272498Z"
    }
   },
   "cell_type": "code",
   "source": "z = zip(names, jobs[:3])",
   "id": "51ea1d7130864c47",
   "outputs": [],
   "execution_count": 149
  },
  {
   "metadata": {
    "ExecuteTime": {
     "end_time": "2025-10-15T09:54:05.445425Z",
     "start_time": "2025-10-15T09:54:05.427486Z"
    }
   },
   "cell_type": "code",
   "source": "next(z)",
   "id": "aff2fcff7c634260",
   "outputs": [
    {
     "ename": "StopIteration",
     "evalue": "",
     "output_type": "error",
     "traceback": [
      "\u001B[31m---------------------------------------------------------------------------\u001B[39m",
      "\u001B[31mStopIteration\u001B[39m                             Traceback (most recent call last)",
      "\u001B[36mCell\u001B[39m\u001B[36m \u001B[39m\u001B[32mIn[153]\u001B[39m\u001B[32m, line 1\u001B[39m\n\u001B[32m----> \u001B[39m\u001B[32m1\u001B[39m \u001B[38;5;28;43mnext\u001B[39;49m\u001B[43m(\u001B[49m\u001B[43mz\u001B[49m\u001B[43m)\u001B[49m\n",
      "\u001B[31mStopIteration\u001B[39m: "
     ]
    }
   ],
   "execution_count": 153
  },
  {
   "metadata": {},
   "cell_type": "code",
   "outputs": [],
   "execution_count": null,
   "source": "",
   "id": "1aa8fa0985b7c25c"
  },
  {
   "metadata": {
    "ExecuteTime": {
     "end_time": "2025-10-15T10:30:28.151049Z",
     "start_time": "2025-10-15T10:30:28.148014Z"
    }
   },
   "cell_type": "code",
   "source": [
    "camelot = [('Arthur', 'king'),\n",
    "           ('Merlin', 'wizard'),\n",
    "           ('Lancelot', 'knights'),\n",
    "           ('Robin', 'knights'),\n",
    "           ('Bohort', 'knights'),\n",
    "           ('Perceval', 'knights'),\n",
    "           ('Karadoc', 'knights')]"
   ],
   "id": "c6d5899914a259ec",
   "outputs": [],
   "execution_count": 161
  },
  {
   "metadata": {
    "ExecuteTime": {
     "end_time": "2025-10-15T10:30:28.323043Z",
     "start_time": "2025-10-15T10:30:28.320313Z"
    }
   },
   "cell_type": "code",
   "source": [
    "for name, job in camelot:\n",
    "    if job == \"wizard\":\n",
    "        break\n",
    "else:\n",
    "    print(\"Oups, post a job offering !!!\")"
   ],
   "id": "fc02d91de6c0e30d",
   "outputs": [
    {
     "name": "stdout",
     "output_type": "stream",
     "text": [
      "Arthur\n",
      "Merlin\n",
      "Cool, you have a wizard\n"
     ]
    }
   ],
   "execution_count": 162
  },
  {
   "metadata": {},
   "cell_type": "code",
   "outputs": [],
   "execution_count": null,
   "source": "",
   "id": "256eb3a935a8d873"
  }
 ],
 "metadata": {
  "kernelspec": {
   "display_name": "Python 3",
   "language": "python",
   "name": "python3"
  },
  "language_info": {
   "codemirror_mode": {
    "name": "ipython",
    "version": 2
   },
   "file_extension": ".py",
   "mimetype": "text/x-python",
   "name": "python",
   "nbconvert_exporter": "python",
   "pygments_lexer": "ipython2",
   "version": "2.7.6"
  }
 },
 "nbformat": 4,
 "nbformat_minor": 5
}
