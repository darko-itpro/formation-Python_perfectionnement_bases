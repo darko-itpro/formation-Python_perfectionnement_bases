{
 "cells": [
  {
   "metadata": {},
   "cell_type": "markdown",
   "source": "# Les Fonctions",
   "id": "3c54ae7378fe451a"
  },
  {
   "cell_type": "code",
   "id": "initial_id",
   "metadata": {
    "collapsed": true,
    "ExecuteTime": {
     "end_time": "2025-10-15T11:57:27.742269Z",
     "start_time": "2025-10-15T11:57:27.739348Z"
    }
   },
   "source": [
    "def func():\n",
    "    return 42"
   ],
   "outputs": [],
   "execution_count": 1
  },
  {
   "metadata": {
    "ExecuteTime": {
     "end_time": "2025-10-15T12:00:00.955336Z",
     "start_time": "2025-10-15T12:00:00.952241Z"
    }
   },
   "cell_type": "code",
   "source": [
    "value = func()\n",
    "value"
   ],
   "id": "578193330d7fa5d6",
   "outputs": [
    {
     "data": {
      "text/plain": [
       "42"
      ]
     },
     "execution_count": 5,
     "metadata": {},
     "output_type": "execute_result"
    }
   ],
   "execution_count": 5
  },
  {
   "metadata": {
    "ExecuteTime": {
     "end_time": "2025-10-15T12:00:08.266891Z",
     "start_time": "2025-10-15T12:00:08.164358Z"
    }
   },
   "cell_type": "code",
   "source": "value()",
   "id": "c6701ccaca3bbaf2",
   "outputs": [
    {
     "ename": "TypeError",
     "evalue": "'int' object is not callable",
     "output_type": "error",
     "traceback": [
      "\u001B[31m---------------------------------------------------------------------------\u001B[39m",
      "\u001B[31mTypeError\u001B[39m                                 Traceback (most recent call last)",
      "\u001B[36mCell\u001B[39m\u001B[36m \u001B[39m\u001B[32mIn[6]\u001B[39m\u001B[32m, line 1\u001B[39m\n\u001B[32m----> \u001B[39m\u001B[32m1\u001B[39m \u001B[43mvalue\u001B[49m\u001B[43m(\u001B[49m\u001B[43m)\u001B[49m\n",
      "\u001B[31mTypeError\u001B[39m: 'int' object is not callable"
     ]
    }
   ],
   "execution_count": 6
  },
  {
   "metadata": {},
   "cell_type": "code",
   "outputs": [],
   "execution_count": null,
   "source": "",
   "id": "d4aa9569d48b0e30"
  },
  {
   "metadata": {
    "ExecuteTime": {
     "end_time": "2025-10-15T12:02:23.200857Z",
     "start_time": "2025-10-15T12:02:23.198823Z"
    }
   },
   "cell_type": "code",
   "source": "i = 10",
   "id": "e4a12b5a03b2b828",
   "outputs": [],
   "execution_count": 7
  },
  {
   "metadata": {
    "ExecuteTime": {
     "end_time": "2025-10-15T12:02:40.052145Z",
     "start_time": "2025-10-15T12:02:40.049875Z"
    }
   },
   "cell_type": "code",
   "source": "print(i)",
   "id": "84c11ad25d8d1b16",
   "outputs": [
    {
     "name": "stdout",
     "output_type": "stream",
     "text": [
      "10\n"
     ]
    }
   ],
   "execution_count": 8
  },
  {
   "metadata": {
    "ExecuteTime": {
     "end_time": "2025-10-15T12:02:48.345357Z",
     "start_time": "2025-10-15T12:02:48.343250Z"
    }
   },
   "cell_type": "code",
   "source": "print = 42",
   "id": "cab6fd932a76c21a",
   "outputs": [],
   "execution_count": 9
  },
  {
   "metadata": {
    "ExecuteTime": {
     "end_time": "2025-10-15T12:05:43.438005Z",
     "start_time": "2025-10-15T12:05:43.435008Z"
    }
   },
   "cell_type": "code",
   "source": "print(i)",
   "id": "7bbb38e36e34be81",
   "outputs": [
    {
     "name": "stdout",
     "output_type": "stream",
     "text": [
      "10\n"
     ]
    }
   ],
   "execution_count": 12
  },
  {
   "metadata": {
    "ExecuteTime": {
     "end_time": "2025-10-15T12:05:53.400012Z",
     "start_time": "2025-10-15T12:05:53.376535Z"
    }
   },
   "cell_type": "code",
   "source": "del print",
   "id": "1801e771f62c114",
   "outputs": [
    {
     "ename": "NameError",
     "evalue": "name 'print' is not defined",
     "output_type": "error",
     "traceback": [
      "\u001B[31m---------------------------------------------------------------------------\u001B[39m",
      "\u001B[31mNameError\u001B[39m                                 Traceback (most recent call last)",
      "\u001B[36mCell\u001B[39m\u001B[36m \u001B[39m\u001B[32mIn[13]\u001B[39m\u001B[32m, line 1\u001B[39m\n\u001B[32m----> \u001B[39m\u001B[32m1\u001B[39m \u001B[38;5;28;01mdel\u001B[39;00m \u001B[38;5;28;43mprint\u001B[39;49m\n",
      "\u001B[31mNameError\u001B[39m: name 'print' is not defined"
     ]
    }
   ],
   "execution_count": 13
  },
  {
   "metadata": {
    "ExecuteTime": {
     "end_time": "2025-10-15T12:08:38.421684Z",
     "start_time": "2025-10-15T12:08:38.415481Z"
    }
   },
   "cell_type": "code",
   "source": "from rich import print",
   "id": "52b301d72038b351",
   "outputs": [],
   "execution_count": 1
  },
  {
   "metadata": {
    "ExecuteTime": {
     "end_time": "2025-10-15T12:09:10.762643Z",
     "start_time": "2025-10-15T12:09:10.758772Z"
    }
   },
   "cell_type": "code",
   "source": "print(\"Hello [red]World[/red]\")",
   "id": "9c7877b8df1cc106",
   "outputs": [
    {
     "name": "stdout",
     "output_type": "stream",
     "text": [
      "Hello [red]World[/red]\n"
     ]
    }
   ],
   "execution_count": 1
  },
  {
   "metadata": {
    "ExecuteTime": {
     "end_time": "2025-10-15T12:08:55.574752Z",
     "start_time": "2025-10-15T12:08:55.571892Z"
    }
   },
   "cell_type": "code",
   "source": "help(print)",
   "id": "45a8691ccd88c263",
   "outputs": [
    {
     "name": "stdout",
     "output_type": "stream",
     "text": [
      "Help on function print in module rich:\n",
      "\n",
      "print(\n",
      "    *objects: Any,\n",
      "    sep: str = ' ',\n",
      "    end: str = '\\n',\n",
      "    file: Optional[IO[str]] = None,\n",
      "    flush: bool = False\n",
      ") -> None\n",
      "    Print object(s) supplied via positional arguments.\n",
      "    This function has an identical signature to the built-in print.\n",
      "    For more advanced features, see the :class:`~rich.console.Console` class.\n",
      "\n",
      "    Args:\n",
      "        sep (str, optional): Separator between printed objects. Defaults to \" \".\n",
      "        end (str, optional): Character to write at end of output. Defaults to \"\\\\n\".\n",
      "        file (IO[str], optional): File to write to, or None for stdout. Defaults to None.\n",
      "        flush (bool, optional): Has no effect as Rich always flushes output. Defaults to False.\n",
      "\n"
     ]
    }
   ],
   "execution_count": 3
  },
  {
   "metadata": {},
   "cell_type": "code",
   "outputs": [],
   "execution_count": null,
   "source": "",
   "id": "582c60a1407cb127"
  },
  {
   "metadata": {},
   "cell_type": "markdown",
   "source": "## Lambdas",
   "id": "bc51106634f0c792"
  },
  {
   "metadata": {
    "ExecuteTime": {
     "end_time": "2025-10-15T12:24:05.755599Z",
     "start_time": "2025-10-15T12:24:05.751486Z"
    }
   },
   "cell_type": "code",
   "source": "demo_lambda = lambda x: x * 2",
   "id": "e88c4f0ef43587d6",
   "outputs": [],
   "execution_count": 2
  },
  {
   "metadata": {
    "ExecuteTime": {
     "end_time": "2025-10-15T12:24:12.584100Z",
     "start_time": "2025-10-15T12:24:12.579387Z"
    }
   },
   "cell_type": "code",
   "source": "demo_lambda",
   "id": "462a9ae3ccea4777",
   "outputs": [
    {
     "data": {
      "text/plain": [
       "<function __main__.<lambda>(x)>"
      ]
     },
     "execution_count": 3,
     "metadata": {},
     "output_type": "execute_result"
    }
   ],
   "execution_count": 3
  },
  {
   "metadata": {
    "ExecuteTime": {
     "end_time": "2025-10-15T12:25:28.809273Z",
     "start_time": "2025-10-15T12:25:28.807344Z"
    }
   },
   "cell_type": "code",
   "source": "camelot = ['Arthur', 'Merlin', 'Lancelot', 'Robin', 'Bohort', 'Perceval', 'Karadoc']",
   "id": "f77e968d998e1177",
   "outputs": [],
   "execution_count": 4
  },
  {
   "metadata": {
    "ExecuteTime": {
     "end_time": "2025-10-15T12:27:54.314740Z",
     "start_time": "2025-10-15T12:27:54.310796Z"
    }
   },
   "cell_type": "code",
   "source": "sorted(camelot, key=len)",
   "id": "c356122904e96ea2",
   "outputs": [
    {
     "data": {
      "text/plain": [
       "['Robin', 'Arthur', 'Merlin', 'Bohort', 'Karadoc', 'Lancelot', 'Perceval']"
      ]
     },
     "execution_count": 7,
     "metadata": {},
     "output_type": "execute_result"
    }
   ],
   "execution_count": 7
  },
  {
   "metadata": {},
   "cell_type": "code",
   "outputs": [],
   "execution_count": null,
   "source": "",
   "id": "36953224819cdc2a"
  }
 ],
 "metadata": {
  "kernelspec": {
   "display_name": "Python 3",
   "language": "python",
   "name": "python3"
  },
  "language_info": {
   "codemirror_mode": {
    "name": "ipython",
    "version": 2
   },
   "file_extension": ".py",
   "mimetype": "text/x-python",
   "name": "python",
   "nbconvert_exporter": "python",
   "pygments_lexer": "ipython2",
   "version": "2.7.6"
  }
 },
 "nbformat": 4,
 "nbformat_minor": 5
}
