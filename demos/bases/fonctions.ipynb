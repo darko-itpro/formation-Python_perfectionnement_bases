{
 "cells": [
  {
   "metadata": {},
   "cell_type": "markdown",
   "source": [
    "\n",
    "# Fonctions"
   ],
   "id": "7768a5bf81b503c1"
  },
  {
   "metadata": {},
   "cell_type": "code",
   "source": [
    "from colorsys import yiq_to_rgb\n",
    "\n",
    "\n",
    "def func():\n",
    "    return 42"
   ],
   "id": "cbb2c3437e1dbcff",
   "outputs": [],
   "execution_count": null
  },
  {
   "metadata": {},
   "cell_type": "code",
   "source": [
    "value = func\n",
    "value"
   ],
   "id": "4cee54cb6e8992a5",
   "outputs": [],
   "execution_count": null
  },
  {
   "metadata": {},
   "cell_type": "code",
   "source": "value()",
   "id": "cab7917e8fcbd7dc",
   "outputs": [],
   "execution_count": null
  },
  {
   "metadata": {},
   "cell_type": "code",
   "source": [
    "from rich import print\n",
    "print(\"Une [red]information[/red]\")"
   ],
   "id": "76652a49b2d66b2a",
   "outputs": [],
   "execution_count": null
  },
  {
   "metadata": {},
   "cell_type": "code",
   "source": "",
   "id": "9b5d566aaf50849",
   "outputs": [],
   "execution_count": null
  },
  {
   "metadata": {},
   "cell_type": "markdown",
   "source": "",
   "id": "ffc46080b9b33497"
  },
  {
   "metadata": {},
   "cell_type": "code",
   "source": "camelot = [\"Arthur\", \"Merlin\", \"Lancelot\", \"Robin\", \"Perceval\", \"Karadoc\"]",
   "id": "153d28dcb3082414",
   "outputs": [],
   "execution_count": null
  },
  {
   "metadata": {},
   "cell_type": "code",
   "source": "[name.upper() for name in camelot]",
   "id": "81f40bd8053178b9",
   "outputs": [],
   "execution_count": null
  },
  {
   "metadata": {},
   "cell_type": "code",
   "source": "(name.upper() for name in camelot)",
   "id": "36cd694ab79fd2b0",
   "outputs": [],
   "execution_count": null
  },
  {
   "metadata": {},
   "cell_type": "code",
   "source": [
    "for item in (name.upper() for name in camelot):\n",
    "    print(item)"
   ],
   "id": "79f87db8930328f8",
   "outputs": [],
   "execution_count": null
  },
  {
   "metadata": {},
   "cell_type": "code",
   "source": [
    "def upperise(kingdom:list):\n",
    "    for item in kingdom:\n",
    "        yield item.upper()\n",
    "\n",
    "    print(\"done\")\n",
    "\n",
    "for i in upperise(camelot):\n",
    "    print(\" -\", i)"
   ],
   "id": "832b4a1086e1dab9",
   "outputs": [],
   "execution_count": null
  },
  {
   "metadata": {},
   "cell_type": "code",
   "source": [
    "def fibbo(max:int):\n",
    "    value = 1\n",
    "    previous = 1\n",
    "    while value < max:\n",
    "        yield value\n",
    "        previous, value = value, value + previous"
   ],
   "id": "f5321df8427d580b",
   "outputs": [],
   "execution_count": null
  },
  {
   "metadata": {},
   "cell_type": "code",
   "source": [
    "for f in  fibbo(50):\n",
    "    print(f)"
   ],
   "id": "426061fe56c63580",
   "outputs": [],
   "execution_count": null
  },
  {
   "metadata": {},
   "cell_type": "code",
   "source": "f = fibbo(50)",
   "id": "341d63675d03f6e4",
   "outputs": [],
   "execution_count": null
  },
  {
   "metadata": {},
   "cell_type": "code",
   "source": "dir(f)",
   "id": "bab6279bfc5f89da",
   "outputs": [],
   "execution_count": null
  },
  {
   "metadata": {},
   "cell_type": "code",
   "source": "next(f)",
   "id": "6de1550b5b786c5e",
   "outputs": [],
   "execution_count": null
  },
  {
   "metadata": {},
   "cell_type": "code",
   "source": "",
   "id": "bd09037d374b091",
   "outputs": [],
   "execution_count": null
  }
 ],
 "metadata": {
  "kernelspec": {
   "display_name": "Python 3",
   "language": "python",
   "name": "python3"
  },
  "language_info": {
   "codemirror_mode": {
    "name": "ipython",
    "version": 2
   },
   "file_extension": ".py",
   "mimetype": "text/x-python",
   "name": "python",
   "nbconvert_exporter": "python",
   "pygments_lexer": "ipython2",
   "version": "2.7.6"
  }
 },
 "nbformat": 4,
 "nbformat_minor": 5
}
