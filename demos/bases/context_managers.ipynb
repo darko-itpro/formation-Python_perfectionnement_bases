{
 "cells": [
  {
   "metadata": {},
   "cell_type": "markdown",
   "source": [
    "# Context managers\n",
    "## Principe"
   ],
   "id": "5537dc370ba0a1c"
  },
  {
   "metadata": {
    "ExecuteTime": {
     "end_time": "2025-10-17T07:55:04.559425Z",
     "start_time": "2025-10-17T07:55:04.556946Z"
    }
   },
   "cell_type": "code",
   "source": [
    "class DemoContextManager:\n",
    "    def __init__(self):\n",
    "        print(\"Initializing\")\n",
    "\n",
    "    def say_hello(self):\n",
    "        print(\"Hello\")\n",
    "\n",
    "    def __enter__(self):\n",
    "        print(\"entering\")\n",
    "        return self\n",
    "\n",
    "    def __exit__(self, exc_type, exc_val, exc_tb):\n",
    "        print(\"exiting\")\n",
    "        print(f\"{exc_type=}\")\n",
    "        print(f\"{exc_val=}\")\n",
    "        print(f\"{exc_tb=}\")\n",
    "        return True"
   ],
   "id": "100312b700867cc7",
   "outputs": [],
   "execution_count": 14
  },
  {
   "metadata": {
    "ExecuteTime": {
     "end_time": "2025-10-17T07:55:05.867316Z",
     "start_time": "2025-10-17T07:55:05.863840Z"
    }
   },
   "cell_type": "code",
   "source": [
    "cm = DemoContextManager()\n",
    "\n",
    "print(\"cm done\")\n",
    "\n",
    "with cm:\n",
    "    print(\"In context\")\n",
    "    cm.say_hello()"
   ],
   "id": "a44d27a14d452d35",
   "outputs": [
    {
     "name": "stdout",
     "output_type": "stream",
     "text": [
      "Initializing\n",
      "cm done\n",
      "entering\n",
      "In context\n",
      "Hello\n",
      "exiting\n",
      "exc_type=None\n",
      "exc_val=None\n",
      "exc_tb=None\n"
     ]
    }
   ],
   "execution_count": 15
  },
  {
   "metadata": {
    "ExecuteTime": {
     "end_time": "2025-10-17T07:55:08.091682Z",
     "start_time": "2025-10-17T07:55:08.089398Z"
    }
   },
   "cell_type": "code",
   "source": [
    "with DemoContextManager() as cm:\n",
    "    print(\"In context\")\n",
    "    cm.say_hello()"
   ],
   "id": "13abe8b27e07a086",
   "outputs": [
    {
     "name": "stdout",
     "output_type": "stream",
     "text": [
      "Initializing\n",
      "entering\n",
      "In context\n",
      "Hello\n",
      "exiting\n",
      "exc_type=None\n",
      "exc_val=None\n",
      "exc_tb=None\n"
     ]
    }
   ],
   "execution_count": 16
  },
  {
   "metadata": {
    "ExecuteTime": {
     "end_time": "2025-10-17T07:55:08.387819Z",
     "start_time": "2025-10-17T07:55:08.384308Z"
    }
   },
   "cell_type": "code",
   "source": [
    "with cm:\n",
    "    print(\"In context\")\n",
    "    cm.say_hello()\n",
    "    raise ValueError(\"oupe\")"
   ],
   "id": "a5e7a972b64b5955",
   "outputs": [
    {
     "name": "stdout",
     "output_type": "stream",
     "text": [
      "entering\n",
      "In context\n",
      "Hello\n",
      "exiting\n",
      "exc_type=<class 'ValueError'>\n",
      "exc_val=ValueError('oupe')\n",
      "exc_tb=<traceback object at 0x10d1c6e40>\n"
     ]
    }
   ],
   "execution_count": 17
  },
  {
   "metadata": {},
   "cell_type": "code",
   "outputs": [],
   "execution_count": null,
   "source": "",
   "id": "182504e4bd4f938a"
  },
  {
   "metadata": {},
   "cell_type": "markdown",
   "source": "## Exercice 1",
   "id": "cb7ceb911d4a19f1"
  },
  {
   "metadata": {
    "ExecuteTime": {
     "end_time": "2025-10-17T08:05:21.953047Z",
     "start_time": "2025-10-17T08:05:21.883855Z"
    }
   },
   "cell_type": "code",
   "source": [
    "import time\n",
    "\n",
    "class Timer:\n",
    "    def __enter__(self):\n",
    "        self._start = time.time()\n",
    "\n",
    "    def __exit__(self, exc_type, exc_val, exc_tb):\n",
    "        end = time.time()\n",
    "        print(end - self._start, \"secondes se sont écoulées\")\n",
    "        del self._start\n",
    "\n",
    "t = Timer()\n",
    "with t:\n",
    "    for x in range(1_000_000):\n",
    "        y = x ** 2"
   ],
   "id": "b7648a6ec9755573",
   "outputs": [
    {
     "name": "stdout",
     "output_type": "stream",
     "text": [
      "0.06636309623718262 secondes se sont écoulées\n"
     ]
    }
   ],
   "execution_count": 20
  },
  {
   "metadata": {},
   "cell_type": "markdown",
   "source": "## Exercice 2",
   "id": "982eac33a2001774"
  },
  {
   "metadata": {
    "ExecuteTime": {
     "end_time": "2025-10-17T08:19:55.435048Z",
     "start_time": "2025-10-17T08:19:55.430626Z"
    }
   },
   "cell_type": "code",
   "source": [
    "class IndentContext:\n",
    "    def __init__(self):\n",
    "        self.indent = -1\n",
    "\n",
    "    def print(self, sentence:str):\n",
    "        print(f\"{'\\t' * self.indent}{sentence}\")\n",
    "\n",
    "    def __enter__(self):\n",
    "        self.indent += 1\n",
    "        return self\n",
    "\n",
    "    def __exit__(self, exc_type, exc_val, exc_tb):\n",
    "        self.indent -= 1\n"
   ],
   "id": "9f44dd538fee2916",
   "outputs": [],
   "execution_count": 27
  },
  {
   "metadata": {
    "ExecuteTime": {
     "end_time": "2025-10-17T08:19:55.956263Z",
     "start_time": "2025-10-17T08:19:55.954087Z"
    }
   },
   "cell_type": "code",
   "source": [
    "print(\"start\")\n",
    "\n",
    "with IndentContext() as ic:\n",
    "    ic.print(\"une ligne\")\n",
    "    ic.print(\"une autre ligne\")\n",
    "    with ic:\n",
    "        ic.print(\"une ligne indentée\")\n",
    "    ic.print(\"une autre ligne\")"
   ],
   "id": "629a83c3411a1875",
   "outputs": [
    {
     "name": "stdout",
     "output_type": "stream",
     "text": [
      "start\n",
      "une ligne\n",
      "une autre ligne\n",
      "\tune ligne indentée\n",
      "une autre ligne\n"
     ]
    }
   ],
   "execution_count": 28
  },
  {
   "metadata": {},
   "cell_type": "markdown",
   "source": "## Troisième exercice",
   "id": "7d32c774611f3a03"
  },
  {
   "metadata": {
    "ExecuteTime": {
     "end_time": "2025-10-17T08:33:38.429397Z",
     "start_time": "2025-10-17T08:33:38.422173Z"
    }
   },
   "cell_type": "code",
   "source": [
    "import os\n",
    "from pathlib import Path\n",
    "\n",
    "class ChangeDir:\n",
    "    def __init__(self, target_path):\n",
    "        self.new_path = Path(target_path)\n",
    "        self._from_path = None\n",
    "\n",
    "    def __enter__(self):\n",
    "        self._from_path = Path('.').resolve()\n",
    "        os.chdir(self.new_path)\n",
    "\n",
    "    def __exit__(self, exc_type, exc_val, exc_tb):\n",
    "        os.chdir(self._from_path)\n",
    "        self._from_path = None"
   ],
   "id": "6972119ba60894d4",
   "outputs": [],
   "execution_count": 29
  },
  {
   "metadata": {
    "ExecuteTime": {
     "end_time": "2025-10-17T08:35:11.046978Z",
     "start_time": "2025-10-17T08:35:11.043202Z"
    }
   },
   "cell_type": "code",
   "source": [
    "print(os.getcwd())\n",
    "\n",
    "with ChangeDir('/bin'):\n",
    "    print(os.getcwd())\n",
    "\n",
    "print(os.getcwd())"
   ],
   "id": "76ce227d9672a765",
   "outputs": [
    {
     "name": "stdout",
     "output_type": "stream",
     "text": [
      "/Users/dad3zero/Workshop/formations/formation-Python_perfectionnement_bases/demos/bases\n",
      "/bin\n",
      "/Users/dad3zero/Workshop/formations/formation-Python_perfectionnement_bases/demos/bases\n"
     ]
    }
   ],
   "execution_count": 31
  },
  {
   "metadata": {},
   "cell_type": "code",
   "outputs": [],
   "execution_count": null,
   "source": "",
   "id": "278a1ac4ea6ebe2a"
  }
 ],
 "metadata": {
  "kernelspec": {
   "display_name": "Python 3",
   "language": "python",
   "name": "python3"
  },
  "language_info": {
   "codemirror_mode": {
    "name": "ipython",
    "version": 2
   },
   "file_extension": ".py",
   "mimetype": "text/x-python",
   "name": "python",
   "nbconvert_exporter": "python",
   "pygments_lexer": "ipython2",
   "version": "2.7.6"
  }
 },
 "nbformat": 4,
 "nbformat_minor": 5
}
