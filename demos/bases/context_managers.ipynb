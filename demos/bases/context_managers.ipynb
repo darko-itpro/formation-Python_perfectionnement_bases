{
 "cells": [
  {
   "metadata": {},
   "cell_type": "markdown",
   "source": [
    "# Context managers\n",
    "## Principe"
   ],
   "id": "5537dc370ba0a1c"
  },
  {
   "metadata": {
    "ExecuteTime": {
     "end_time": "2025-06-20T07:53:36.707675Z",
     "start_time": "2025-06-20T07:53:36.704135Z"
    }
   },
   "cell_type": "code",
   "source": [
    "class DemoContextManager:\n",
    "    def __init__(self):\n",
    "        print(\"init Demo context manager\")\n",
    "\n",
    "    def __enter__(self):\n",
    "        print('enter')\n",
    "\n",
    "        return self\n",
    "\n",
    "    def __exit__(self, exc_type, exc_val, exc_tb):\n",
    "        print(\"exit\")\n",
    "        print(exc_type)\n",
    "        print(exc_val)\n",
    "        print(exc_tb)\n",
    "\n",
    "        return True\n",
    "\n",
    "    def do_something(self):\n",
    "        print(\"Something done\")"
   ],
   "id": "100312b700867cc7",
   "outputs": [],
   "execution_count": 8
  },
  {
   "metadata": {
    "ExecuteTime": {
     "end_time": "2025-06-20T07:53:37.339828Z",
     "start_time": "2025-06-20T07:53:37.337146Z"
    }
   },
   "cell_type": "code",
   "source": [
    "\n",
    "\n",
    "with DemoContextManager() as my_cm:\n",
    "    print(\"in context\")\n",
    "    raise ValueError(\"oups\")\n",
    "    my_cm.do_something()\n",
    "\n",
    "print(\"Done\")"
   ],
   "id": "8eeb72519d2e999e",
   "outputs": [
    {
     "name": "stdout",
     "output_type": "stream",
     "text": [
      "init Demo context manager\n",
      "enter\n",
      "in context\n",
      "exit\n",
      "<class 'ValueError'>\n",
      "oups\n",
      "<traceback object at 0x11099f200>\n",
      "Done\n"
     ]
    }
   ],
   "execution_count": 9
  },
  {
   "metadata": {},
   "cell_type": "code",
   "outputs": [],
   "execution_count": null,
   "source": "",
   "id": "8ac62f4e8d99a06f"
  }
 ],
 "metadata": {
  "kernelspec": {
   "display_name": "Python 3",
   "language": "python",
   "name": "python3"
  },
  "language_info": {
   "codemirror_mode": {
    "name": "ipython",
    "version": 2
   },
   "file_extension": ".py",
   "mimetype": "text/x-python",
   "name": "python",
   "nbconvert_exporter": "python",
   "pygments_lexer": "ipython2",
   "version": "2.7.6"
  }
 },
 "nbformat": 4,
 "nbformat_minor": 5
}
