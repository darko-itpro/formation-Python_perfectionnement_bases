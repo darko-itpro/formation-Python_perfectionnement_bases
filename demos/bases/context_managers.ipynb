{
 "cells": [
  {
   "metadata": {},
   "cell_type": "markdown",
   "source": [
    "# Context managers\n",
    "## Principe"
   ],
   "id": "5537dc370ba0a1c"
  },
  {
   "metadata": {},
   "cell_type": "code",
   "source": [
    "class DemoContextManager:\n",
    "    def __init__(self):\n",
    "        print(\"init Demo context manager\")\n",
    "\n",
    "    def __enter__(self):\n",
    "        print('enter')\n",
    "\n",
    "        return self\n",
    "\n",
    "    def __exit__(self, exc_type, exc_val, exc_tb):\n",
    "        print(\"exit\")\n",
    "        print(exc_type)\n",
    "        print(exc_val)\n",
    "        print(exc_tb)\n",
    "\n",
    "        return True\n",
    "\n",
    "    def do_something(self):\n",
    "        print(\"Something done\")"
   ],
   "id": "100312b700867cc7",
   "outputs": [],
   "execution_count": null
  },
  {
   "metadata": {},
   "cell_type": "code",
   "source": [
    "with DemoContextManager() as my_cm:\n",
    "    print(\"in context\")\n",
    "    raise ValueError(\"oups\")\n",
    "    my_cm.do_something()\n",
    "\n",
    "print(\"Done\")"
   ],
   "id": "8eeb72519d2e999e",
   "outputs": [],
   "execution_count": null
  },
  {
   "metadata": {},
   "cell_type": "code",
   "source": "",
   "id": "8ac62f4e8d99a06f",
   "outputs": [],
   "execution_count": null
  },
  {
   "metadata": {},
   "cell_type": "markdown",
   "source": [
    "## Exercices\n",
    "### Exercice 1"
   ],
   "id": "a3d8ae0878feb8f3"
  },
  {
   "metadata": {},
   "cell_type": "code",
   "source": [
    "import time\n",
    "\n",
    "class Timer:\n",
    "    def __enter__(self):\n",
    "        self._start = time.time()\n",
    "\n",
    "    def __exit__(self, exc_type, exc_val, exc_tb):\n",
    "        end = time.time()\n",
    "        print(end - self._start, \"secondes se sont écoulées\")\n",
    "        del self._start\n",
    "\n",
    "with Timer():\n",
    "    for x in range(1_000_000):\n",
    "        y = x ** 2\n",
    "\n"
   ],
   "id": "6b40ea1a49208b5b",
   "outputs": [],
   "execution_count": null
  },
  {
   "metadata": {},
   "cell_type": "markdown",
   "source": "### Exercice 2",
   "id": "7be52c104d7afc83"
  },
  {
   "metadata": {},
   "cell_type": "code",
   "source": [
    "class IndentContext:\n",
    "    def __init__(self):\n",
    "        self._indent = 0\n",
    "\n",
    "    def __enter__(self):\n",
    "        self._indent += 1\n",
    "        return self\n",
    "\n",
    "    def __exit__(self, exc_type, exc_val, exc_tb):\n",
    "        self._indent -= 1\n",
    "\n",
    "    def print(self, sentence):\n",
    "        print(f\"{'    ' * self._indent}{sentence}\")\n",
    "\n",
    "with IndentContext() as ic:\n",
    "    ic.print(\"une ligne\")\n",
    "    ic.print(\"une autre ligne\")\n",
    "    with ic:\n",
    "        ic.print(\"une ligne indentée\")\n",
    "        with ic:\n",
    "            ic.print(\"une ligne SUPER indentée\")\n",
    "    ic.print(\"une autre ligne\")"
   ],
   "id": "94b3b6ed40a079f",
   "outputs": [],
   "execution_count": null
  },
  {
   "metadata": {},
   "cell_type": "code",
   "source": [
    "ic = IndentContext()\n",
    "\n",
    "ic.print(\"avant\")\n",
    "with ic:\n",
    "    ic.print(\"une ligne\")\n",
    "    ic.print(\"une autre ligne\")\n",
    "    with ic:\n",
    "        ic.print(\"une ligne indentée\")\n",
    "        with ic:\n",
    "            ic.print(\"une ligne SUPER indentée\")\n",
    "    ic.print(\"une autre ligne\")"
   ],
   "id": "f8a2f6adc80519f3",
   "outputs": [],
   "execution_count": null
  },
  {
   "metadata": {},
   "cell_type": "code",
   "source": "",
   "id": "7d072551610563f6",
   "outputs": [],
   "execution_count": null
  },
  {
   "metadata": {},
   "cell_type": "code",
   "source": "",
   "id": "d475df04b80ca8dd",
   "outputs": [],
   "execution_count": null
  },
  {
   "metadata": {},
   "cell_type": "markdown",
   "source": "### Exercice 3",
   "id": "b82e5092bf719bc1"
  },
  {
   "metadata": {},
   "cell_type": "code",
   "source": [
    "from pathlib import Path\n",
    "import os\n",
    "\n",
    "class changedir:\n",
    "    def __init__(self, target_path:str|Path):\n",
    "        self._target = Path(target_path)\n",
    "        self._source = None\n",
    "\n",
    "    def __enter__(self):\n",
    "        self._source = Path('.').resolve()\n",
    "        os.chdir(self._target)\n",
    "\n",
    "    def __exit__(self, exc_type, exc_val, exc_tb):\n",
    "        os.chdir(self._source)\n",
    "        self._source = None"
   ],
   "id": "e35471d8acc5f43d",
   "outputs": [],
   "execution_count": null
  },
  {
   "metadata": {},
   "cell_type": "code",
   "source": [
    "print(os.getcwd())\n",
    "\n",
    "with changedir('..'):\n",
    "    print(os.getcwd())\n",
    "\n",
    "print(os.getcwd())"
   ],
   "id": "2426f64f2e4ac343",
   "outputs": [],
   "execution_count": null
  },
  {
   "metadata": {},
   "cell_type": "code",
   "source": [
    "dir_changer = changedir('/tmp')\n",
    "\n",
    "os.chdir(\"..\")\n",
    "\n",
    "print(os.getcwd())\n",
    "with dir_changer:\n",
    "    print(os.getcwd())\n",
    "print(os.getcwd())"
   ],
   "id": "7d5e5258063cbe20",
   "outputs": [],
   "execution_count": null
  },
  {
   "metadata": {},
   "cell_type": "code",
   "source": "",
   "id": "d3795312a81c3762",
   "outputs": [],
   "execution_count": null
  }
 ],
 "metadata": {
  "kernelspec": {
   "display_name": "Python 3",
   "language": "python",
   "name": "python3"
  },
  "language_info": {
   "codemirror_mode": {
    "name": "ipython",
    "version": 2
   },
   "file_extension": ".py",
   "mimetype": "text/x-python",
   "name": "python",
   "nbconvert_exporter": "python",
   "pygments_lexer": "ipython2",
   "version": "2.7.6"
  }
 },
 "nbformat": 4,
 "nbformat_minor": 5
}
