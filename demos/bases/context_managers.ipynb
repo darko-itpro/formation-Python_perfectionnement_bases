{
 "cells": [
  {
   "metadata": {},
   "cell_type": "markdown",
   "source": [
    "# Context managers\n",
    "## Principe"
   ],
   "id": "5537dc370ba0a1c"
  },
  {
   "metadata": {
    "ExecuteTime": {
     "end_time": "2025-06-12T14:23:47.804408Z",
     "start_time": "2025-06-12T14:23:47.800607Z"
    }
   },
   "cell_type": "code",
   "source": [
    "class DemoContextManager:\n",
    "    def __init__(self):\n",
    "        print('Demo context manager')\n",
    "\n",
    "    def __enter__(self):\n",
    "        print('enter')\n",
    "\n",
    "        return self\n",
    "\n",
    "    def __exit__(self, exc_type, exc_val, exc_tb):\n",
    "        print(exc_type)\n",
    "        print(exc_val)\n",
    "        print(exc_tb)\n",
    "\n",
    "        return True\n",
    "\n",
    "    def say_hello(self):\n",
    "        print(\"hello\")"
   ],
   "id": "100312b700867cc7",
   "outputs": [],
   "execution_count": 14
  },
  {
   "metadata": {},
   "cell_type": "markdown",
   "source": "## Exemples",
   "id": "ca85727e2f388d1b"
  },
  {
   "metadata": {
    "ExecuteTime": {
     "end_time": "2025-06-12T14:23:48.245083Z",
     "start_time": "2025-06-12T14:23:48.242713Z"
    }
   },
   "cell_type": "code",
   "source": [
    "with DemoContextManager() as context:\n",
    "    print('in context')\n",
    "    context.say_hello()\n",
    "    raise ValueError('error')\n",
    "\n",
    "print('out context')"
   ],
   "id": "80a12a701197e0d5",
   "outputs": [
    {
     "name": "stdout",
     "output_type": "stream",
     "text": [
      "Demo context manager\n",
      "enter\n",
      "in context\n",
      "hello\n",
      "<class 'ValueError'>\n",
      "error\n",
      "<traceback object at 0x11306d600>\n",
      "out context\n"
     ]
    }
   ],
   "execution_count": 15
  },
  {
   "metadata": {
    "ExecuteTime": {
     "end_time": "2025-06-12T14:17:53.368053Z",
     "start_time": "2025-06-12T14:17:53.363721Z"
    }
   },
   "cell_type": "code",
   "source": [
    "mycm = DemoContextManager()\n",
    "\n",
    "print('before')\n",
    "\n",
    "with mycm:\n",
    "    print('in context')\n",
    "    mycm.say_hello()\n",
    "\n",
    "print('out context')"
   ],
   "id": "c3da96100453c01b",
   "outputs": [
    {
     "name": "stdout",
     "output_type": "stream",
     "text": [
      "Demo context manager\n",
      "before\n",
      "enter\n",
      "in context\n",
      "hello\n",
      "exit\n",
      "out context\n"
     ]
    }
   ],
   "execution_count": 7
  },
  {
   "metadata": {},
   "cell_type": "markdown",
   "source": [
    "## Exercices\n",
    "### Premier exercice"
   ],
   "id": "af344fdf6738a655"
  },
  {
   "metadata": {
    "ExecuteTime": {
     "end_time": "2025-06-12T14:41:04.838510Z",
     "start_time": "2025-06-12T14:39:59.715757Z"
    }
   },
   "cell_type": "code",
   "source": [
    "import time\n",
    "\n",
    "\n",
    "class Timer:\n",
    "    def __enter__(self):\n",
    "        self.start = time.time()\n",
    "\n",
    "    def __exit__(self, exc_type, exc_val, exc_tb):\n",
    "        print(\"Durée écoulée : {:.2f}\".format(time.time() - self.start))\n",
    "        del self.start\n",
    "\n",
    "with Timer():\n",
    "    for x in range(1_000_000_000):\n",
    "        y = x ** 2\n"
   ],
   "id": "c48e994c84e51a20",
   "outputs": [
    {
     "name": "stdout",
     "output_type": "stream",
     "text": [
      "Durée écoulée : 65.12\n"
     ]
    }
   ],
   "execution_count": 20
  },
  {
   "metadata": {},
   "cell_type": "markdown",
   "source": "### Second exercice",
   "id": "16ebcfba967e3d0"
  },
  {
   "metadata": {
    "ExecuteTime": {
     "end_time": "2025-06-12T14:54:21.921552Z",
     "start_time": "2025-06-12T14:54:21.918118Z"
    }
   },
   "cell_type": "code",
   "source": [
    "class IndentContext:\n",
    "    def __init__(self):\n",
    "        self._indent = -1\n",
    "\n",
    "    def __enter__(self):\n",
    "        self._indent += 1\n",
    "\n",
    "        return self\n",
    "\n",
    "    def __exit__(self, exc_type, exc_val, exc_tb):\n",
    "        self._indent -= 1\n",
    "\n",
    "    def print(self, sentence:str):\n",
    "        print(\"    \" * self._indent + sentence)"
   ],
   "id": "6d320a2c7ae4deed",
   "outputs": [],
   "execution_count": 25
  },
  {
   "metadata": {
    "ExecuteTime": {
     "end_time": "2025-06-12T14:54:22.137623Z",
     "start_time": "2025-06-12T14:54:22.134145Z"
    }
   },
   "cell_type": "code",
   "source": [
    "with IndentContext() as ic:\n",
    "    ic.print(\"une ligne\")\n",
    "    ic.print(\"une autre ligne\")\n",
    "    with ic:\n",
    "        ic.print(\"une ligne indentée\")\n",
    "        with ic:\n",
    "            ic.print(\"une ligne super indentée\")\n",
    "\n",
    "    ic.print(\"une autre ligne\")\n",
    "\n"
   ],
   "id": "c03e61f91cf9d9da",
   "outputs": [
    {
     "name": "stdout",
     "output_type": "stream",
     "text": [
      "une ligne\n",
      "une autre ligne\n",
      "    une ligne indentée\n",
      "        une ligne super indentée\n",
      "une autre ligne\n"
     ]
    }
   ],
   "execution_count": 26
  },
  {
   "metadata": {},
   "cell_type": "markdown",
   "source": "### Troisième exercice",
   "id": "7a46eff321959b97"
  },
  {
   "metadata": {
    "ExecuteTime": {
     "end_time": "2025-06-12T15:06:37.159848Z",
     "start_time": "2025-06-12T15:06:37.156718Z"
    }
   },
   "cell_type": "code",
   "source": [
    "from pathlib import Path\n",
    "import os\n",
    "\n",
    "class changedir:\n",
    "    def __init__(self, path):\n",
    "        self.target = Path(path)\n",
    "\n",
    "    def __enter__(self):\n",
    "        self._source = Path('.').resolve()\n",
    "        os.chdir(self.target)\n",
    "\n",
    "    def __exit__(self, exc_type, exc_val, exc_tb):\n",
    "        os.chdir(self._source)"
   ],
   "id": "70931304db29bbc5",
   "outputs": [],
   "execution_count": 29
  },
  {
   "metadata": {
    "ExecuteTime": {
     "end_time": "2025-06-12T15:06:37.352918Z",
     "start_time": "2025-06-12T15:06:37.349294Z"
    }
   },
   "cell_type": "code",
   "source": [
    "print(os.getcwd())\n",
    "\n",
    "with changedir('/tmp'):\n",
    "    print(os.getcwd())\n",
    "\n",
    "print(os.getcwd())"
   ],
   "id": "76e4803ddf33e436",
   "outputs": [
    {
     "name": "stdout",
     "output_type": "stream",
     "text": [
      "/Users/dad3zero/formation/250610/demos/bases\n",
      "/private/tmp\n",
      "/Users/dad3zero/formation/250610/demos/bases\n"
     ]
    }
   ],
   "execution_count": 30
  },
  {
   "metadata": {},
   "cell_type": "code",
   "outputs": [],
   "execution_count": null,
   "source": "",
   "id": "f51a9f1d0edaff3c"
  }
 ],
 "metadata": {
  "kernelspec": {
   "display_name": "Python 3",
   "language": "python",
   "name": "python3"
  },
  "language_info": {
   "codemirror_mode": {
    "name": "ipython",
    "version": 2
   },
   "file_extension": ".py",
   "mimetype": "text/x-python",
   "name": "python",
   "nbconvert_exporter": "python",
   "pygments_lexer": "ipython2",
   "version": "2.7.6"
  }
 },
 "nbformat": 4,
 "nbformat_minor": 5
}
