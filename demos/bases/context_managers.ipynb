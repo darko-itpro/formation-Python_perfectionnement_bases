{
 "cells": [
  {
   "metadata": {},
   "cell_type": "markdown",
   "source": [
    "# Context managers\n",
    "## Principe"
   ],
   "id": "5537dc370ba0a1c"
  },
  {
   "metadata": {
    "ExecuteTime": {
     "end_time": "2025-06-12T14:23:47.804408Z",
     "start_time": "2025-06-12T14:23:47.800607Z"
    }
   },
   "cell_type": "code",
   "source": [
    "class DemoContextManager:\n",
    "    def __init__(self):\n",
    "        print('Demo context manager')\n",
    "\n",
    "    def __enter__(self):\n",
    "        print('enter')\n",
    "\n",
    "        return self\n",
    "\n",
    "    def __exit__(self, exc_type, exc_val, exc_tb):\n",
    "        print(exc_type)\n",
    "        print(exc_val)\n",
    "        print(exc_tb)\n",
    "\n",
    "        return True\n",
    "\n",
    "    def say_hello(self):\n",
    "        print(\"hello\")"
   ],
   "id": "100312b700867cc7",
   "outputs": [],
   "execution_count": 14
  },
  {
   "metadata": {
    "ExecuteTime": {
     "end_time": "2025-06-12T14:23:48.245083Z",
     "start_time": "2025-06-12T14:23:48.242713Z"
    }
   },
   "cell_type": "code",
   "source": [
    "with DemoContextManager() as context:\n",
    "    print('in context')\n",
    "    context.say_hello()\n",
    "    raise ValueError('error')\n",
    "\n",
    "print('out context')"
   ],
   "id": "80a12a701197e0d5",
   "outputs": [
    {
     "name": "stdout",
     "output_type": "stream",
     "text": [
      "Demo context manager\n",
      "enter\n",
      "in context\n",
      "hello\n",
      "<class 'ValueError'>\n",
      "error\n",
      "<traceback object at 0x11306d600>\n",
      "out context\n"
     ]
    }
   ],
   "execution_count": 15
  },
  {
   "metadata": {
    "ExecuteTime": {
     "end_time": "2025-06-12T14:17:53.368053Z",
     "start_time": "2025-06-12T14:17:53.363721Z"
    }
   },
   "cell_type": "code",
   "source": [
    "mycm = DemoContextManager()\n",
    "\n",
    "print('before')\n",
    "\n",
    "with mycm:\n",
    "    print('in context')\n",
    "    mycm.say_hello()\n",
    "\n",
    "print('out context')"
   ],
   "id": "c3da96100453c01b",
   "outputs": [
    {
     "name": "stdout",
     "output_type": "stream",
     "text": [
      "Demo context manager\n",
      "before\n",
      "enter\n",
      "in context\n",
      "hello\n",
      "exit\n",
      "out context\n"
     ]
    }
   ],
   "execution_count": 7
  },
  {
   "metadata": {},
   "cell_type": "code",
   "outputs": [],
   "execution_count": null,
   "source": "",
   "id": "ae8ce3941c297a7c"
  }
 ],
 "metadata": {
  "kernelspec": {
   "display_name": "Python 3",
   "language": "python",
   "name": "python3"
  },
  "language_info": {
   "codemirror_mode": {
    "name": "ipython",
    "version": 2
   },
   "file_extension": ".py",
   "mimetype": "text/x-python",
   "name": "python",
   "nbconvert_exporter": "python",
   "pygments_lexer": "ipython2",
   "version": "2.7.6"
  }
 },
 "nbformat": 4,
 "nbformat_minor": 5
}
