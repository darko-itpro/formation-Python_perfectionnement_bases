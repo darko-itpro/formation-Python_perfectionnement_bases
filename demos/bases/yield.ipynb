{
 "cells": [
  {
   "metadata": {},
   "cell_type": "markdown",
   "source": "# Demo Yield",
   "id": "de315aec2de41d48"
  },
  {
   "cell_type": "code",
   "id": "initial_id",
   "metadata": {
    "collapsed": true,
    "ExecuteTime": {
     "end_time": "2025-06-13T11:22:54.107281Z",
     "start_time": "2025-06-13T11:22:54.104296Z"
    }
   },
   "source": [
    "def meal():\n",
    "    yield \"entrée\"\n",
    "    yield \"plat\"\n",
    "    yield \"dessert\"\n",
    "    yield \"café\""
   ],
   "outputs": [],
   "execution_count": 1
  },
  {
   "metadata": {
    "ExecuteTime": {
     "end_time": "2025-06-13T11:23:12.270478Z",
     "start_time": "2025-06-13T11:23:12.267455Z"
    }
   },
   "cell_type": "code",
   "source": "today = meal()",
   "id": "aa183c7cbdf4976e",
   "outputs": [],
   "execution_count": 2
  },
  {
   "metadata": {
    "ExecuteTime": {
     "end_time": "2025-06-13T11:23:28.043327Z",
     "start_time": "2025-06-13T11:23:27.941492Z"
    }
   },
   "cell_type": "code",
   "source": "next(today)",
   "id": "76e9fdf54b27dacf",
   "outputs": [
    {
     "ename": "StopIteration",
     "evalue": "",
     "output_type": "error",
     "traceback": [
      "\u001B[31m---------------------------------------------------------------------------\u001B[39m",
      "\u001B[31mStopIteration\u001B[39m                             Traceback (most recent call last)",
      "\u001B[36mCell\u001B[39m\u001B[36m \u001B[39m\u001B[32mIn[7]\u001B[39m\u001B[32m, line 1\u001B[39m\n\u001B[32m----> \u001B[39m\u001B[32m1\u001B[39m \u001B[38;5;28;43mnext\u001B[39;49m\u001B[43m(\u001B[49m\u001B[43mtoday\u001B[49m\u001B[43m)\u001B[49m\n",
      "\u001B[31mStopIteration\u001B[39m: "
     ]
    }
   ],
   "execution_count": 7
  },
  {
   "metadata": {
    "ExecuteTime": {
     "end_time": "2025-06-13T11:24:24.589878Z",
     "start_time": "2025-06-13T11:24:24.587157Z"
    }
   },
   "cell_type": "code",
   "source": [
    "def count():\n",
    "    count = 0\n",
    "    while True:\n",
    "        count += 1\n",
    "        yield count"
   ],
   "id": "4314360c392f656c",
   "outputs": [],
   "execution_count": 8
  },
  {
   "metadata": {
    "ExecuteTime": {
     "end_time": "2025-06-13T11:24:32.334934Z",
     "start_time": "2025-06-13T11:24:32.332117Z"
    }
   },
   "cell_type": "code",
   "source": "c = count()",
   "id": "923d61a1df043d2f",
   "outputs": [],
   "execution_count": 9
  },
  {
   "metadata": {
    "ExecuteTime": {
     "end_time": "2025-06-13T11:24:43.929515Z",
     "start_time": "2025-06-13T11:24:43.926768Z"
    }
   },
   "cell_type": "code",
   "source": "next(c)",
   "id": "be810dded360a49a",
   "outputs": [
    {
     "data": {
      "text/plain": [
       "15"
      ]
     },
     "execution_count": 24,
     "metadata": {},
     "output_type": "execute_result"
    }
   ],
   "execution_count": 24
  },
  {
   "metadata": {
    "ExecuteTime": {
     "end_time": "2025-06-13T11:27:01.459063Z",
     "start_time": "2025-06-13T11:27:01.456225Z"
    }
   },
   "cell_type": "code",
   "source": [
    "def receiver():\n",
    "    while True:\n",
    "        data = yield\n",
    "        print(f\"Got {data}\")"
   ],
   "id": "a1b04915f3cf8cf7",
   "outputs": [],
   "execution_count": 25
  },
  {
   "metadata": {
    "ExecuteTime": {
     "end_time": "2025-06-13T11:27:06.847641Z",
     "start_time": "2025-06-13T11:27:06.844826Z"
    }
   },
   "cell_type": "code",
   "source": "r = receiver()",
   "id": "395a0244e991f347",
   "outputs": [],
   "execution_count": 26
  },
  {
   "metadata": {
    "ExecuteTime": {
     "end_time": "2025-06-13T11:27:15.703402Z",
     "start_time": "2025-06-13T11:27:15.698734Z"
    }
   },
   "cell_type": "code",
   "source": "dir(r)",
   "id": "1e73e1252fad3178",
   "outputs": [
    {
     "data": {
      "text/plain": [
       "['__class__',\n",
       " '__class_getitem__',\n",
       " '__del__',\n",
       " '__delattr__',\n",
       " '__dir__',\n",
       " '__doc__',\n",
       " '__eq__',\n",
       " '__format__',\n",
       " '__ge__',\n",
       " '__getattribute__',\n",
       " '__getstate__',\n",
       " '__gt__',\n",
       " '__hash__',\n",
       " '__init__',\n",
       " '__init_subclass__',\n",
       " '__iter__',\n",
       " '__le__',\n",
       " '__lt__',\n",
       " '__name__',\n",
       " '__ne__',\n",
       " '__new__',\n",
       " '__next__',\n",
       " '__qualname__',\n",
       " '__reduce__',\n",
       " '__reduce_ex__',\n",
       " '__repr__',\n",
       " '__setattr__',\n",
       " '__sizeof__',\n",
       " '__str__',\n",
       " '__subclasshook__',\n",
       " 'close',\n",
       " 'gi_code',\n",
       " 'gi_frame',\n",
       " 'gi_running',\n",
       " 'gi_suspended',\n",
       " 'gi_yieldfrom',\n",
       " 'send',\n",
       " 'throw']"
      ]
     },
     "execution_count": 28,
     "metadata": {},
     "output_type": "execute_result"
    }
   ],
   "execution_count": 28
  },
  {
   "metadata": {
    "ExecuteTime": {
     "end_time": "2025-06-13T11:28:31.446760Z",
     "start_time": "2025-06-13T11:28:31.444376Z"
    }
   },
   "cell_type": "code",
   "source": "next(r)",
   "id": "5cf23eaff38de0e9",
   "outputs": [
    {
     "name": "stdout",
     "output_type": "stream",
     "text": [
      "Got None\n"
     ]
    }
   ],
   "execution_count": 31
  },
  {
   "metadata": {
    "ExecuteTime": {
     "end_time": "2025-06-13T11:28:42.767748Z",
     "start_time": "2025-06-13T11:28:42.764908Z"
    }
   },
   "cell_type": "code",
   "source": "r.send('value')",
   "id": "183dbc67118a562c",
   "outputs": [
    {
     "name": "stdout",
     "output_type": "stream",
     "text": [
      "Got value\n"
     ]
    }
   ],
   "execution_count": 32
  },
  {
   "metadata": {},
   "cell_type": "code",
   "outputs": [],
   "execution_count": null,
   "source": "",
   "id": "a9a7f462e9627ea5"
  }
 ],
 "metadata": {
  "kernelspec": {
   "display_name": "Python 3",
   "language": "python",
   "name": "python3"
  },
  "language_info": {
   "codemirror_mode": {
    "name": "ipython",
    "version": 2
   },
   "file_extension": ".py",
   "mimetype": "text/x-python",
   "name": "python",
   "nbconvert_exporter": "python",
   "pygments_lexer": "ipython2",
   "version": "2.7.6"
  }
 },
 "nbformat": 4,
 "nbformat_minor": 5
}
