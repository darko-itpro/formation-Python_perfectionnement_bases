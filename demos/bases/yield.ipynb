{
 "cells": [
  {
   "metadata": {},
   "cell_type": "markdown",
   "source": "# Yield",
   "id": "924660a02d004458"
  },
  {
   "cell_type": "code",
   "id": "initial_id",
   "metadata": {
    "collapsed": true,
    "ExecuteTime": {
     "end_time": "2025-06-20T09:03:13.398302Z",
     "start_time": "2025-06-20T09:03:13.395431Z"
    }
   },
   "source": [
    "def meal():\n",
    "    yield \"entrée\"\n",
    "    yield \"plat\"\n",
    "    yield \"dessert\"\n",
    "    yield \"café\""
   ],
   "outputs": [],
   "execution_count": 1
  },
  {
   "metadata": {
    "ExecuteTime": {
     "end_time": "2025-06-20T09:04:16.606261Z",
     "start_time": "2025-06-20T09:04:16.603601Z"
    }
   },
   "cell_type": "code",
   "source": "lunch = meal()",
   "id": "d903279ed0d960ef",
   "outputs": [],
   "execution_count": 3
  },
  {
   "metadata": {
    "ExecuteTime": {
     "end_time": "2025-06-20T09:04:26.134678Z",
     "start_time": "2025-06-20T09:04:26.028463Z"
    }
   },
   "cell_type": "code",
   "source": "next(lunch)",
   "id": "ef3f9f17f8049e6b",
   "outputs": [
    {
     "ename": "StopIteration",
     "evalue": "",
     "output_type": "error",
     "traceback": [
      "\u001B[31m---------------------------------------------------------------------------\u001B[39m",
      "\u001B[31mStopIteration\u001B[39m                             Traceback (most recent call last)",
      "\u001B[36mCell\u001B[39m\u001B[36m \u001B[39m\u001B[32mIn[8]\u001B[39m\u001B[32m, line 1\u001B[39m\n\u001B[32m----> \u001B[39m\u001B[32m1\u001B[39m \u001B[38;5;28;43mnext\u001B[39;49m\u001B[43m(\u001B[49m\u001B[43mlunch\u001B[49m\u001B[43m)\u001B[49m\n",
      "\u001B[31mStopIteration\u001B[39m: "
     ]
    }
   ],
   "execution_count": 8
  },
  {
   "metadata": {
    "ExecuteTime": {
     "end_time": "2025-06-20T09:05:23.641802Z",
     "start_time": "2025-06-20T09:05:23.639889Z"
    }
   },
   "cell_type": "code",
   "source": [
    "def count():\n",
    "    count = 0\n",
    "    while True:\n",
    "        count += 1\n",
    "        yield count"
   ],
   "id": "8f2a4daee987f14f",
   "outputs": [],
   "execution_count": 9
  },
  {
   "metadata": {
    "ExecuteTime": {
     "end_time": "2025-06-20T09:05:27.667922Z",
     "start_time": "2025-06-20T09:05:27.665339Z"
    }
   },
   "cell_type": "code",
   "source": "c = count()",
   "id": "8f66bcc9ce4ed7c6",
   "outputs": [],
   "execution_count": 10
  },
  {
   "metadata": {
    "ExecuteTime": {
     "end_time": "2025-06-20T09:05:40.319178Z",
     "start_time": "2025-06-20T09:05:40.316545Z"
    }
   },
   "cell_type": "code",
   "source": "next(c)",
   "id": "76114a39d83e6ecf",
   "outputs": [
    {
     "data": {
      "text/plain": [
       "12"
      ]
     },
     "execution_count": 23,
     "metadata": {},
     "output_type": "execute_result"
    }
   ],
   "execution_count": 23
  },
  {
   "metadata": {
    "ExecuteTime": {
     "end_time": "2025-06-20T09:07:33.350996Z",
     "start_time": "2025-06-20T09:07:33.348478Z"
    }
   },
   "cell_type": "code",
   "source": [
    "def receiver():\n",
    "    while True:\n",
    "        data = yield\n",
    "        print(f\"get {data}\")"
   ],
   "id": "79e4246ab5ded6a2",
   "outputs": [],
   "execution_count": 24
  },
  {
   "metadata": {
    "ExecuteTime": {
     "end_time": "2025-06-20T09:09:36.474406Z",
     "start_time": "2025-06-20T09:09:36.472428Z"
    }
   },
   "cell_type": "code",
   "source": [
    "r = receiver()\n",
    "next(r)"
   ],
   "id": "de0d4d88700d7bfa",
   "outputs": [],
   "execution_count": 28
  },
  {
   "metadata": {
    "ExecuteTime": {
     "end_time": "2025-06-20T09:09:45.397433Z",
     "start_time": "2025-06-20T09:09:45.394929Z"
    }
   },
   "cell_type": "code",
   "source": "r.send(\"something\")",
   "id": "fa3046a0e31c98dc",
   "outputs": [
    {
     "name": "stdout",
     "output_type": "stream",
     "text": [
      "get something\n"
     ]
    }
   ],
   "execution_count": 39
  },
  {
   "metadata": {},
   "cell_type": "code",
   "outputs": [],
   "execution_count": null,
   "source": "",
   "id": "b0ee6e722b86c25e"
  }
 ],
 "metadata": {
  "kernelspec": {
   "display_name": "Python 3",
   "language": "python",
   "name": "python3"
  },
  "language_info": {
   "codemirror_mode": {
    "name": "ipython",
    "version": 2
   },
   "file_extension": ".py",
   "mimetype": "text/x-python",
   "name": "python",
   "nbconvert_exporter": "python",
   "pygments_lexer": "ipython2",
   "version": "2.7.6"
  }
 },
 "nbformat": 4,
 "nbformat_minor": 5
}
