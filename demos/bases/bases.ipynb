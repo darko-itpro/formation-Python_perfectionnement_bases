{
 "cells": [
  {
   "cell_type": "markdown",
   "id": "76fe2bd7-f22c-4319-acfe-dcbbfc630d00",
   "metadata": {},
   "source": [
    "# Généralités"
   ]
  },
  {
   "cell_type": "code",
   "execution_count": 1,
   "id": "bb0c307382baeed0",
   "metadata": {},
   "outputs": [],
   "source": [
    "answer:int"
   ]
  },
  {
   "cell_type": "code",
   "execution_count": 3,
   "id": "c9d02346-7586-4951-97c7-5587f04fc030",
   "metadata": {},
   "outputs": [],
   "source": [
    "answer = \"42\""
   ]
  },
  {
   "metadata": {
    "ExecuteTime": {
     "end_time": "2025-06-17T12:42:45.360176Z",
     "start_time": "2025-06-17T12:42:45.353854Z"
    }
   },
   "cell_type": "code",
   "source": [
    "i = 10\n",
    "\n",
    "def func():\n",
    "    global i\n",
    "    i = i + 2\n",
    "    print(i)\n",
    "\n",
    "func()\n",
    "\n",
    "print(i)"
   ],
   "id": "5853f16eaff1baef",
   "outputs": [
    {
     "name": "stdout",
     "output_type": "stream",
     "text": [
      "12\n",
      "12\n"
     ]
    }
   ],
   "execution_count": 6
  },
  {
   "metadata": {
    "ExecuteTime": {
     "end_time": "2025-06-17T12:44:30.340602Z",
     "start_time": "2025-06-17T12:44:30.337691Z"
    }
   },
   "cell_type": "code",
   "source": "tup = (1, 2, 3)",
   "id": "c88cdf0013043898",
   "outputs": [],
   "execution_count": 7
  },
  {
   "metadata": {
    "ExecuteTime": {
     "end_time": "2025-06-17T12:44:38.509753Z",
     "start_time": "2025-06-17T12:44:38.486665Z"
    }
   },
   "cell_type": "code",
   "source": "tup[1] = 10",
   "id": "aa78816abe26e81d",
   "outputs": [
    {
     "ename": "TypeError",
     "evalue": "'tuple' object does not support item assignment",
     "output_type": "error",
     "traceback": [
      "\u001B[31m---------------------------------------------------------------------------\u001B[39m",
      "\u001B[31mTypeError\u001B[39m                                 Traceback (most recent call last)",
      "\u001B[36mCell\u001B[39m\u001B[36m \u001B[39m\u001B[32mIn[9]\u001B[39m\u001B[32m, line 1\u001B[39m\n\u001B[32m----> \u001B[39m\u001B[32m1\u001B[39m \u001B[43mtup\u001B[49m\u001B[43m[\u001B[49m\u001B[32;43m1\u001B[39;49m\u001B[43m]\u001B[49m = \u001B[32m10\u001B[39m\n",
      "\u001B[31mTypeError\u001B[39m: 'tuple' object does not support item assignment"
     ]
    }
   ],
   "execution_count": 9
  },
  {
   "metadata": {},
   "cell_type": "code",
   "outputs": [],
   "execution_count": null,
   "source": "",
   "id": "456ea7f73cb9f51a"
  },
  {
   "metadata": {},
   "cell_type": "markdown",
   "source": "## Fonctions",
   "id": "ae0c4608980ccc3e"
  },
  {
   "metadata": {
    "ExecuteTime": {
     "end_time": "2025-06-17T13:30:53.250127Z",
     "start_time": "2025-06-17T13:30:53.246087Z"
    }
   },
   "cell_type": "code",
   "source": [
    "def create_account(nid:str, value:float=100, overdraft:bool=False):\n",
    "    print(nid, value, overdraft)"
   ],
   "id": "c8a2e6766fdeb310",
   "outputs": [],
   "execution_count": 12
  },
  {
   "metadata": {
    "ExecuteTime": {
     "end_time": "2025-06-17T13:30:53.586322Z",
     "start_time": "2025-06-17T13:30:53.583734Z"
    }
   },
   "cell_type": "code",
   "source": "create_account(\"my id\", 100000000, True)",
   "id": "bfdb0f123cf6e37c",
   "outputs": [
    {
     "name": "stdout",
     "output_type": "stream",
     "text": [
      "my id 100000000 True\n"
     ]
    }
   ],
   "execution_count": 13
  },
  {
   "metadata": {
    "ExecuteTime": {
     "end_time": "2025-06-17T13:31:04.951537Z",
     "start_time": "2025-06-17T13:31:04.948860Z"
    }
   },
   "cell_type": "code",
   "source": "create_account(\"my id\", 100000000)",
   "id": "cb37690958d52ef4",
   "outputs": [
    {
     "name": "stdout",
     "output_type": "stream",
     "text": [
      "my id 100000000 False\n"
     ]
    }
   ],
   "execution_count": 14
  },
  {
   "metadata": {
    "ExecuteTime": {
     "end_time": "2025-06-17T13:31:12.266778Z",
     "start_time": "2025-06-17T13:31:12.264428Z"
    }
   },
   "cell_type": "code",
   "source": "create_account(\"my id\")",
   "id": "dc77275000d716c0",
   "outputs": [
    {
     "name": "stdout",
     "output_type": "stream",
     "text": [
      "my id 100 False\n"
     ]
    }
   ],
   "execution_count": 15
  },
  {
   "metadata": {
    "ExecuteTime": {
     "end_time": "2025-06-17T13:31:58.259507Z",
     "start_time": "2025-06-17T13:31:58.255104Z"
    }
   },
   "cell_type": "code",
   "source": "create_account(\"my id\", overdraft=True)",
   "id": "2ffc3869601f7014",
   "outputs": [
    {
     "name": "stdout",
     "output_type": "stream",
     "text": [
      "my id 100 True\n"
     ]
    }
   ],
   "execution_count": 16
  },
  {
   "metadata": {},
   "cell_type": "code",
   "outputs": [],
   "execution_count": null,
   "source": "",
   "id": "e75ad8c3ca7f24a2"
  },
  {
   "metadata": {},
   "cell_type": "markdown",
   "source": "## Idiome Python",
   "id": "40fc4b02c4db50c3"
  },
  {
   "metadata": {
    "ExecuteTime": {
     "end_time": "2025-06-17T14:45:53.717290Z",
     "start_time": "2025-06-17T14:45:53.710683Z"
    }
   },
   "cell_type": "code",
   "source": "camelot = [\"Arthur\", \"Merlin\", \"Lancelot\", \"Robin\", \"Perceval\", \"Karadoc\"]",
   "id": "db5fec5ff310b6bb",
   "outputs": [],
   "execution_count": 17
  },
  {
   "metadata": {
    "ExecuteTime": {
     "end_time": "2025-06-17T14:47:18.327277Z",
     "start_time": "2025-06-17T14:47:18.325283Z"
    }
   },
   "cell_type": "code",
   "source": "camelot.sort()",
   "id": "e3f910c88271ec74",
   "outputs": [],
   "execution_count": 18
  },
  {
   "metadata": {
    "ExecuteTime": {
     "end_time": "2025-06-17T14:47:36.929495Z",
     "start_time": "2025-06-17T14:47:36.926335Z"
    }
   },
   "cell_type": "code",
   "source": "camelot",
   "id": "aac2c06793260a5a",
   "outputs": [
    {
     "data": {
      "text/plain": [
       "['Arthur', 'Karadoc', 'Lancelot', 'Merlin', 'Perceval', 'Robin']"
      ]
     },
     "execution_count": 19,
     "metadata": {},
     "output_type": "execute_result"
    }
   ],
   "execution_count": 19
  },
  {
   "metadata": {
    "ExecuteTime": {
     "end_time": "2025-06-17T14:48:00.890382Z",
     "start_time": "2025-06-17T14:48:00.885039Z"
    }
   },
   "cell_type": "code",
   "source": "camelot = [\"Arthur\", \"Merlin\", \"Lancelot\", \"Robin\", \"Perceval\", \"Karadoc\"]",
   "id": "bd42fc1fcdb316a7",
   "outputs": [],
   "execution_count": 20
  },
  {
   "metadata": {
    "ExecuteTime": {
     "end_time": "2025-06-17T14:48:28.524750Z",
     "start_time": "2025-06-17T14:48:28.521493Z"
    }
   },
   "cell_type": "code",
   "source": "sorted(camelot)",
   "id": "dfecf5b9db4aea7d",
   "outputs": [
    {
     "data": {
      "text/plain": [
       "['Arthur', 'Karadoc', 'Lancelot', 'Merlin', 'Perceval', 'Robin']"
      ]
     },
     "execution_count": 21,
     "metadata": {},
     "output_type": "execute_result"
    }
   ],
   "execution_count": 21
  },
  {
   "metadata": {
    "ExecuteTime": {
     "end_time": "2025-06-17T14:48:47.638157Z",
     "start_time": "2025-06-17T14:48:47.635141Z"
    }
   },
   "cell_type": "code",
   "source": "camelot",
   "id": "6e7919d3b8587ceb",
   "outputs": [
    {
     "data": {
      "text/plain": [
       "['Arthur', 'Merlin', 'Lancelot', 'Robin', 'Perceval', 'Karadoc']"
      ]
     },
     "execution_count": 22,
     "metadata": {},
     "output_type": "execute_result"
    }
   ],
   "execution_count": 22
  },
  {
   "metadata": {},
   "cell_type": "code",
   "outputs": [],
   "execution_count": null,
   "source": "",
   "id": "4449d029525a4169"
  }
 ],
 "metadata": {
  "kernelspec": {
   "display_name": "Python 3 (ipykernel)",
   "language": "python",
   "name": "python3"
  },
  "language_info": {
   "codemirror_mode": {
    "name": "ipython",
    "version": 3
   },
   "file_extension": ".py",
   "mimetype": "text/x-python",
   "name": "python",
   "nbconvert_exporter": "python",
   "pygments_lexer": "ipython3",
   "version": "3.13.3"
  }
 },
 "nbformat": 4,
 "nbformat_minor": 5
}
