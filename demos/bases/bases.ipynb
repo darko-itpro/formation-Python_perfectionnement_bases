{
 "cells": [
  {
   "cell_type": "markdown",
   "id": "a8ed179e-23d6-4044-8735-d1f7051eca32",
   "metadata": {},
   "source": [
    "# Généralités"
   ]
  },
  {
   "cell_type": "code",
   "id": "044f45a8-f050-4fc2-a934-ce8ef5d9bb38",
   "metadata": {
    "ExecuteTime": {
     "end_time": "2025-06-10T11:57:54.777334Z",
     "start_time": "2025-06-10T11:57:54.774591Z"
    }
   },
   "source": [
    "answer = 42"
   ],
   "outputs": [],
   "execution_count": 1
  },
  {
   "cell_type": "code",
   "id": "bb16729a-9cfb-4457-9be6-4bc2ab0712d9",
   "metadata": {
    "ExecuteTime": {
     "end_time": "2025-06-10T11:57:57.125713Z",
     "start_time": "2025-06-10T11:57:57.121521Z"
    }
   },
   "source": [
    "type(answer)"
   ],
   "outputs": [
    {
     "data": {
      "text/plain": [
       "int"
      ]
     },
     "execution_count": 2,
     "metadata": {},
     "output_type": "execute_result"
    }
   ],
   "execution_count": 2
  },
  {
   "cell_type": "code",
   "id": "0ebad4c7-9d7f-4e38-a86a-410404bb1b84",
   "metadata": {
    "ExecuteTime": {
     "end_time": "2025-06-10T12:18:11.294910Z",
     "start_time": "2025-06-10T12:18:11.292589Z"
    }
   },
   "source": [
    "i:int = 10\n",
    "\n",
    "def func():\n",
    "    global i\n",
    "    i = i + 1\n",
    "\n",
    "print(i)"
   ],
   "outputs": [
    {
     "name": "stdout",
     "output_type": "stream",
     "text": [
      "10\n"
     ]
    }
   ],
   "execution_count": 3
  },
  {
   "cell_type": "code",
   "execution_count": null,
   "id": "6aa458a9-fc09-40f0-816b-4dc4cbd0ac21",
   "metadata": {},
   "outputs": [],
   "source": []
  },
  {
   "metadata": {},
   "cell_type": "markdown",
   "source": "## Exercice 1",
   "id": "a77af290a4c73400"
  },
  {
   "metadata": {
    "ExecuteTime": {
     "end_time": "2025-06-10T12:21:28.578166Z",
     "start_time": "2025-06-10T12:21:28.575784Z"
    }
   },
   "cell_type": "code",
   "source": [
    "kingdom = []\n",
    "count = 0\n",
    "\n",
    "def add_knight(knight:str) -> None:\n",
    "    \"\"\"\n",
    "    :examples:\n",
    "    >>> kingdom = []\n",
    "    >>> add_knight('whatever')\n",
    "    >>> len(kingdom)\n",
    "    1\n",
    "    \"\"\"\n",
    "    global count\n",
    "    kingdom.append(knight)\n",
    "    print(id(kingdom))\n",
    "    count += 1\n",
    "    print(id(kingdom))\n",
    "\n"
   ],
   "id": "1f8f2f2aad557f9a",
   "outputs": [],
   "execution_count": 14
  },
  {
   "metadata": {
    "ExecuteTime": {
     "end_time": "2025-06-10T12:21:28.915710Z",
     "start_time": "2025-06-10T12:21:28.913684Z"
    }
   },
   "cell_type": "code",
   "source": [
    "add_knight(\"Lancelot\")\n",
    "print(kingdom, count)"
   ],
   "id": "ab1779dd6bc2a1b5",
   "outputs": [
    {
     "name": "stdout",
     "output_type": "stream",
     "text": [
      "4417942336\n",
      "4417942336\n",
      "['Lancelot'] 1\n"
     ]
    }
   ],
   "execution_count": 15
  },
  {
   "metadata": {
    "ExecuteTime": {
     "end_time": "2025-06-10T12:21:29.241719Z",
     "start_time": "2025-06-10T12:21:29.239139Z"
    }
   },
   "cell_type": "code",
   "source": [
    "add_knight(\"Robin\")\n",
    "print(kingdom, count)"
   ],
   "id": "a927f2c55c49002b",
   "outputs": [
    {
     "name": "stdout",
     "output_type": "stream",
     "text": [
      "4417942336\n",
      "4417942336\n",
      "['Lancelot', 'Robin'] 2\n"
     ]
    }
   ],
   "execution_count": 16
  },
  {
   "metadata": {},
   "cell_type": "code",
   "outputs": [],
   "execution_count": null,
   "source": "",
   "id": "20c396d8704ca4e3"
  },
  {
   "metadata": {},
   "cell_type": "markdown",
   "source": "## Idiome Python",
   "id": "aa1a83a7a4ba2a6c"
  },
  {
   "metadata": {
    "ExecuteTime": {
     "end_time": "2025-06-10T13:21:29.343137Z",
     "start_time": "2025-06-10T13:21:29.339040Z"
    }
   },
   "cell_type": "code",
   "source": "camelot = [\"Arthur\", \"Merlin\", \"Lancelot\", \"Robin\", \"Perceval\", \"Karadoc\"]",
   "id": "46d04bb1b634b94c",
   "outputs": [],
   "execution_count": 17
  },
  {
   "metadata": {
    "ExecuteTime": {
     "end_time": "2025-06-10T13:21:44.542582Z",
     "start_time": "2025-06-10T13:21:44.539608Z"
    }
   },
   "cell_type": "code",
   "source": "camelot.sort()",
   "id": "f8c1c6043d5bc44c",
   "outputs": [],
   "execution_count": 18
  },
  {
   "metadata": {
    "ExecuteTime": {
     "end_time": "2025-06-10T13:21:56.841944Z",
     "start_time": "2025-06-10T13:21:56.835516Z"
    }
   },
   "cell_type": "code",
   "source": "camelot",
   "id": "e91c6eefed7c12f",
   "outputs": [
    {
     "data": {
      "text/plain": [
       "['Arthur', 'Karadoc', 'Lancelot', 'Merlin', 'Perceval', 'Robin']"
      ]
     },
     "execution_count": 19,
     "metadata": {},
     "output_type": "execute_result"
    }
   ],
   "execution_count": 19
  },
  {
   "metadata": {
    "ExecuteTime": {
     "end_time": "2025-06-10T13:22:25.343151Z",
     "start_time": "2025-06-10T13:22:25.340845Z"
    }
   },
   "cell_type": "code",
   "source": [
    "camelot = [\"Arthur\", \"Merlin\", \"Lancelot\", \"Robin\", \"Perceval\", \"Karadoc\"]\n",
    "sorted(camelot)"
   ],
   "id": "1418c48d33a89097",
   "outputs": [
    {
     "data": {
      "text/plain": [
       "['Arthur', 'Karadoc', 'Lancelot', 'Merlin', 'Perceval', 'Robin']"
      ]
     },
     "execution_count": 20,
     "metadata": {},
     "output_type": "execute_result"
    }
   ],
   "execution_count": 20
  },
  {
   "metadata": {
    "ExecuteTime": {
     "end_time": "2025-06-10T13:22:33.156805Z",
     "start_time": "2025-06-10T13:22:33.154253Z"
    }
   },
   "cell_type": "code",
   "source": "camelot",
   "id": "68a6b0f45537a3f4",
   "outputs": [
    {
     "data": {
      "text/plain": [
       "['Arthur', 'Merlin', 'Lancelot', 'Robin', 'Perceval', 'Karadoc']"
      ]
     },
     "execution_count": 21,
     "metadata": {},
     "output_type": "execute_result"
    }
   ],
   "execution_count": 21
  },
  {
   "metadata": {},
   "cell_type": "code",
   "outputs": [],
   "execution_count": null,
   "source": "",
   "id": "832750c377e08bed"
  },
  {
   "metadata": {},
   "cell_type": "markdown",
   "source": "## Ze Tuples",
   "id": "b00615b7a700364a"
  },
  {
   "metadata": {
    "ExecuteTime": {
     "end_time": "2025-06-10T14:58:24.472007Z",
     "start_time": "2025-06-10T14:58:24.468407Z"
    }
   },
   "cell_type": "code",
   "source": [
    "val = 1, 2, 3,\n",
    "type(val)"
   ],
   "id": "9d28b47b10a0a4fb",
   "outputs": [
    {
     "data": {
      "text/plain": [
       "tuple"
      ]
     },
     "execution_count": 25,
     "metadata": {},
     "output_type": "execute_result"
    }
   ],
   "execution_count": 25
  },
  {
   "metadata": {
    "ExecuteTime": {
     "end_time": "2025-06-10T14:58:30.346720Z",
     "start_time": "2025-06-10T14:58:30.342221Z"
    }
   },
   "cell_type": "code",
   "source": [
    "val = 1,\n",
    "type(val)"
   ],
   "id": "26ed6b5d07eed159",
   "outputs": [
    {
     "data": {
      "text/plain": [
       "tuple"
      ]
     },
     "execution_count": 26,
     "metadata": {},
     "output_type": "execute_result"
    }
   ],
   "execution_count": 26
  },
  {
   "metadata": {
    "ExecuteTime": {
     "end_time": "2025-06-10T14:59:31.149919Z",
     "start_time": "2025-06-10T14:59:31.147644Z"
    }
   },
   "cell_type": "code",
   "source": [
    "def truc():\n",
    "    return 1, 2, 3"
   ],
   "id": "fc978ee0ef8c7a42",
   "outputs": [],
   "execution_count": 27
  },
  {
   "metadata": {
    "ExecuteTime": {
     "end_time": "2025-06-10T14:59:43.428666Z",
     "start_time": "2025-06-10T14:59:43.426332Z"
    }
   },
   "cell_type": "code",
   "source": [
    "question = 42\n",
    "answer = \"Meaning of life\""
   ],
   "id": "34453279912dd30d",
   "outputs": [],
   "execution_count": 28
  },
  {
   "metadata": {
    "ExecuteTime": {
     "end_time": "2025-06-10T15:00:15.796259Z",
     "start_time": "2025-06-10T15:00:15.793151Z"
    }
   },
   "cell_type": "code",
   "source": "answer, question = question, answer",
   "id": "a881b183c2be39e2",
   "outputs": [],
   "execution_count": 29
  },
  {
   "metadata": {},
   "cell_type": "code",
   "outputs": [],
   "execution_count": null,
   "source": "answer, question = (42, \"Meaning of life\")",
   "id": "d3d8d463c3c606e9"
  }
 ],
 "metadata": {
  "kernelspec": {
   "display_name": "Python 3 (ipykernel)",
   "language": "python",
   "name": "python3"
  },
  "language_info": {
   "codemirror_mode": {
    "name": "ipython",
    "version": 3
   },
   "file_extension": ".py",
   "mimetype": "text/x-python",
   "name": "python",
   "nbconvert_exporter": "python",
   "pygments_lexer": "ipython3",
   "version": "3.13.3"
  }
 },
 "nbformat": 4,
 "nbformat_minor": 5
}
