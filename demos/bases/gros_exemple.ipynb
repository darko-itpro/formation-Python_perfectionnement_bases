{
 "cells": [
  {
   "cell_type": "code",
   "id": "initial_id",
   "metadata": {
    "collapsed": true,
    "ExecuteTime": {
     "end_time": "2025-10-15T14:43:21.259649Z",
     "start_time": "2025-10-15T14:43:21.254814Z"
    }
   },
   "source": [
    "import time\n",
    "from collections import OrderedDict\n",
    "\n",
    "def time_it(some_func):\n",
    "    def wrapper(*args, **kargs):\n",
    "        start = time.time()\n",
    "        value = some_func(*args, **kargs)\n",
    "        end = time.time()\n",
    "        print(f\"{end - start:.4f} secondes se sont écoulées\")\n",
    "        return value\n",
    "\n",
    "    return wrapper\n",
    "\n",
    "\n",
    "def long_call():\n",
    "\n",
    "    cached_values = OrderedDict()\n",
    "\n",
    "    @time_it\n",
    "    def inner(value:int):\n",
    "        try:\n",
    "            result = cached_values[value]\n",
    "            cached_values.move_to_end(value)\n",
    "        except KeyError:\n",
    "            time.sleep(2)\n",
    "            result = value**2\n",
    "            cached_values[value] = result\n",
    "            if len(cached_values) > 10:\n",
    "                cached_values.popitem(last=False)\n",
    "\n",
    "        return result\n",
    "\n",
    "    return inner\n",
    "\n"
   ],
   "outputs": [],
   "execution_count": 7
  },
  {
   "metadata": {
    "ExecuteTime": {
     "end_time": "2025-10-15T14:43:25.811671Z",
     "start_time": "2025-10-15T14:43:21.793450Z"
    }
   },
   "cell_type": "code",
   "source": [
    "cachable = long_call()\n",
    "\n",
    "print(cachable(5)) # 2 secondes\n",
    "print(cachable(6)) # 2 secondes\n",
    "print(cachable(5)) # 2 secondes\n",
    "print(cachable(5)) # instant"
   ],
   "id": "d0076ebf4e22f6f9",
   "outputs": [
    {
     "name": "stdout",
     "output_type": "stream",
     "text": [
      "2.0051 secondes se sont écoulées\n",
      "25\n",
      "2.0051 secondes se sont écoulées\n",
      "36\n",
      "0.0000 secondes se sont écoulées\n",
      "25\n",
      "0.0000 secondes se sont écoulées\n",
      "25\n"
     ]
    }
   ],
   "execution_count": 8
  },
  {
   "metadata": {},
   "cell_type": "code",
   "outputs": [],
   "execution_count": null,
   "source": "",
   "id": "57cfa7d1d062bce6"
  }
 ],
 "metadata": {
  "kernelspec": {
   "display_name": "Python 3",
   "language": "python",
   "name": "python3"
  },
  "language_info": {
   "codemirror_mode": {
    "name": "ipython",
    "version": 2
   },
   "file_extension": ".py",
   "mimetype": "text/x-python",
   "name": "python",
   "nbconvert_exporter": "python",
   "pygments_lexer": "ipython2",
   "version": "2.7.6"
  }
 },
 "nbformat": 4,
 "nbformat_minor": 5
}
