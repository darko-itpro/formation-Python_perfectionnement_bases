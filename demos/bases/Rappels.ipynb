{
 "cells": [
  {
   "cell_type": "markdown",
   "id": "91620669-b43f-4693-a7fc-653ae08b019a",
   "metadata": {},
   "source": [
    "# Rappels\n",
    "## Données et variables"
   ]
  },
  {
   "cell_type": "code",
   "execution_count": 5,
   "id": "fb88fa67-34df-4679-b3c5-51657eebf5c5",
   "metadata": {},
   "outputs": [],
   "source": [
    "king = \"Arthur\"\n",
    "id(king)"
   ]
  },
  {
   "cell_type": "code",
   "execution_count": 10,
   "id": "0d16a623-fbf9-495c-924e-25b65c9a9828",
   "metadata": {},
   "outputs": [],
   "source": [
    "other_king = \"Arthur\"\n",
    "id(king) == id(other_king)"
   ]
  },
  {
   "cell_type": "code",
   "execution_count": 12,
   "id": "e22064d3-b86c-4252-8e44-4dad8f62fd0d",
   "metadata": {},
   "outputs": [
    {
     "data": {
      "text/plain": [
       "True"
      ]
     },
     "execution_count": 12,
     "metadata": {},
     "output_type": "execute_result"
    }
   ],
   "source": [
    "king is other_king"
   ]
  },
  {
   "cell_type": "code",
   "execution_count": 19,
   "id": "5fdbcfd7-25e4-4e6f-ab8b-88cffafa39c9",
   "metadata": {},
   "outputs": [
    {
     "data": {
      "text/plain": [
       "False"
      ]
     },
     "execution_count": 19,
     "metadata": {},
     "output_type": "execute_result"
    }
   ],
   "source": [
    "answer = 300\n",
    "other_answer = 300\n",
    "answer is other_answer"
   ]
  },
  {
   "cell_type": "code",
   "execution_count": 21,
   "id": "9ca7c856-0545-45b6-afc5-17f2eb1cbe1d",
   "metadata": {},
   "outputs": [
    {
     "data": {
      "text/plain": [
       "4473270464"
      ]
     },
     "execution_count": 21,
     "metadata": {},
     "output_type": "execute_result"
    }
   ],
   "source": [
    "camelot = [\"Arthur\", \"Merlin\"]\n",
    "id(camelot)"
   ]
  },
  {
   "cell_type": "code",
   "execution_count": 23,
   "id": "f089befe-c406-472a-a4eb-aadc7baff949",
   "metadata": {},
   "outputs": [
    {
     "data": {
      "text/plain": [
       "4473270464"
      ]
     },
     "execution_count": 23,
     "metadata": {},
     "output_type": "execute_result"
    }
   ],
   "source": [
    "camelot.append(\"Lancelot\")\n",
    "print(id(camelot), camelot)"
   ]
  },
  {
   "cell_type": "markdown",
   "id": "bd9a9b85-45d3-4acf-9f5e-716a284b98f2",
   "metadata": {},
   "source": "## Visibilité des variables"
  },
  {
   "cell_type": "code",
   "execution_count": 37,
   "id": "ffcec733-7ea2-46b8-959d-76fed68f06fa",
   "metadata": {},
   "outputs": [],
   "source": [
    "i = 10\n",
    "def func():\n",
    "    global i\n",
    "    i = i + 1\n",
    "    print(i)"
   ]
  },
  {
   "cell_type": "code",
   "execution_count": 38,
   "id": "fa504bf9-6d0a-400c-8a07-1d0eeeaa341f",
   "metadata": {},
   "outputs": [
    {
     "name": "stdout",
     "output_type": "stream",
     "text": [
      "11\n"
     ]
    }
   ],
   "source": [
    "func()"
   ]
  },
  {
   "cell_type": "code",
   "execution_count": 39,
   "id": "0ee3dd91-a127-4b8f-b4f1-dd5648cb0cd0",
   "metadata": {},
   "outputs": [
    {
     "data": {
      "text/plain": [
       "11"
      ]
     },
     "execution_count": 39,
     "metadata": {},
     "output_type": "execute_result"
    }
   ],
   "source": [
    "i"
   ]
  },
  {
   "metadata": {},
   "cell_type": "markdown",
   "source": "## Paramètres optionnels et valeurs par défaut",
   "id": "8307710febebc1c0"
  },
  {
   "cell_type": "code",
   "id": "cd66717b-0fe6-45e0-a936-80b359cc1329",
   "metadata": {
    "ExecuteTime": {
     "end_time": "2025-10-14T13:59:38.813969Z",
     "start_time": "2025-10-14T13:59:38.811636Z"
    }
   },
   "source": [
    "def create_account(myid:str, value:float=100, overdraft:bool=False):\n",
    "    print(myid, value, overdraft)"
   ],
   "outputs": [],
   "execution_count": 2
  },
  {
   "metadata": {
    "ExecuteTime": {
     "end_time": "2025-10-14T13:59:59.386641Z",
     "start_time": "2025-10-14T13:59:59.384501Z"
    }
   },
   "cell_type": "code",
   "source": [
    "create_account(\"My id\", 10000, True)\n",
    "create_account(\"My id\", 10000)\n",
    "create_account(\"My id\")"
   ],
   "id": "9e9f6cddcebe896e",
   "outputs": [
    {
     "name": "stdout",
     "output_type": "stream",
     "text": [
      "My id 10000 True\n",
      "My id 10000 False\n",
      "My id 100 False\n"
     ]
    }
   ],
   "execution_count": 3
  },
  {
   "metadata": {
    "ExecuteTime": {
     "end_time": "2025-10-14T14:00:23.806354Z",
     "start_time": "2025-10-14T14:00:23.803291Z"
    }
   },
   "cell_type": "code",
   "source": "create_account(\"my id\", overdraft=True)",
   "id": "6b670e34302b96bd",
   "outputs": [
    {
     "name": "stdout",
     "output_type": "stream",
     "text": [
      "my id 100 True\n"
     ]
    }
   ],
   "execution_count": 4
  },
  {
   "metadata": {},
   "cell_type": "markdown",
   "source": [
    "## Forcer les paramètres positionnels ou nommés\n",
    "Dans l'exemple suivant, `myid` est un paramètre strictement positionnel, `overdraft` est strictement nommé et `value` positionnel ou nommé."
   ],
   "id": "85840854af39a36c"
  },
  {
   "metadata": {
    "ExecuteTime": {
     "end_time": "2025-10-14T16:29:50.894191Z",
     "start_time": "2025-10-14T16:29:50.891980Z"
    }
   },
   "cell_type": "code",
   "source": [
    "def create_account(myid:str, /, value:float=100, *, overdraft:bool=False):\n",
    "    print(myid, value, overdraft)"
   ],
   "id": "ae02fbea26e72558",
   "outputs": [],
   "execution_count": 26
  },
  {
   "metadata": {
    "ExecuteTime": {
     "end_time": "2025-10-14T16:30:52.569536Z",
     "start_time": "2025-10-14T16:30:52.567415Z"
    }
   },
   "cell_type": "code",
   "source": [
    "create_account(\"My id\", 56400, overdraft=True)\n",
    "create_account(\"My id\", value=12800, overdraft=True)"
   ],
   "id": "6d9039f69960aaea",
   "outputs": [
    {
     "name": "stdout",
     "output_type": "stream",
     "text": [
      "My id 56400 True\n",
      "My id 12800 True\n"
     ]
    }
   ],
   "execution_count": 29
  },
  {
   "metadata": {
    "ExecuteTime": {
     "end_time": "2025-10-14T16:31:42.694333Z",
     "start_time": "2025-10-14T16:31:42.676562Z"
    }
   },
   "cell_type": "markdown",
   "source": [
    "Les appels suivants provoqueront une erreur :\n",
    "```python\n",
    "create_account(myid=\"my id\", value=4500, overdraft=True)\n",
    "create_account(\"my id\", 4500, True)\n",
    "```"
   ],
   "id": "52a68565d2a4d5d0"
  },
  {
   "metadata": {},
   "cell_type": "markdown",
   "source": "## Idiome fonctions, illustration",
   "id": "fd712c165373957a"
  },
  {
   "metadata": {
    "ExecuteTime": {
     "end_time": "2025-10-14T14:40:05.502107Z",
     "start_time": "2025-10-14T14:40:05.498486Z"
    }
   },
   "cell_type": "code",
   "source": "camelot = ['Arthur', 'Merlin', 'Lancelot', 'Robin', 'Perceval', 'Karadoc']",
   "id": "445f1de16e5ac794",
   "outputs": [],
   "execution_count": 18
  },
  {
   "metadata": {
    "ExecuteTime": {
     "end_time": "2025-10-14T14:41:37.370953Z",
     "start_time": "2025-10-14T14:41:37.368399Z"
    }
   },
   "cell_type": "code",
   "source": "camelot.sort()",
   "id": "2d72f00169081823",
   "outputs": [],
   "execution_count": 20
  },
  {
   "metadata": {
    "ExecuteTime": {
     "end_time": "2025-10-14T14:41:47.071504Z",
     "start_time": "2025-10-14T14:41:47.069229Z"
    }
   },
   "cell_type": "code",
   "source": "camelot",
   "id": "d2cbdf7e8830356",
   "outputs": [
    {
     "data": {
      "text/plain": [
       "['Arthur', 'Karadoc', 'Lancelot', 'Merlin', 'Perceval', 'Robin']"
      ]
     },
     "execution_count": 21,
     "metadata": {},
     "output_type": "execute_result"
    }
   ],
   "execution_count": 21
  },
  {
   "metadata": {
    "ExecuteTime": {
     "end_time": "2025-10-14T14:41:57.760581Z",
     "start_time": "2025-10-14T14:41:57.757898Z"
    }
   },
   "cell_type": "code",
   "source": "camelot = ['Arthur', 'Merlin', 'Lancelot', 'Robin', 'Perceval', 'Karadoc']",
   "id": "c5d30b3729192593",
   "outputs": [],
   "execution_count": 22
  },
  {
   "metadata": {
    "ExecuteTime": {
     "end_time": "2025-10-14T14:42:10.336263Z",
     "start_time": "2025-10-14T14:42:10.333348Z"
    }
   },
   "cell_type": "code",
   "source": "sorted(camelot)",
   "id": "f2d0fdcd738507b6",
   "outputs": [
    {
     "data": {
      "text/plain": [
       "['Arthur', 'Karadoc', 'Lancelot', 'Merlin', 'Perceval', 'Robin']"
      ]
     },
     "execution_count": 23,
     "metadata": {},
     "output_type": "execute_result"
    }
   ],
   "execution_count": 23
  },
  {
   "metadata": {
    "ExecuteTime": {
     "end_time": "2025-10-14T14:42:18.664471Z",
     "start_time": "2025-10-14T14:42:18.661997Z"
    }
   },
   "cell_type": "code",
   "source": "camelot",
   "id": "955885828d1b12e9",
   "outputs": [
    {
     "data": {
      "text/plain": [
       "['Arthur', 'Merlin', 'Lancelot', 'Robin', 'Perceval', 'Karadoc']"
      ]
     },
     "execution_count": 24,
     "metadata": {},
     "output_type": "execute_result"
    }
   ],
   "execution_count": 24
  },
  {
   "metadata": {},
   "cell_type": "code",
   "outputs": [],
   "execution_count": null,
   "source": "",
   "id": "ba08dc176c04a9c3"
  }
 ],
 "metadata": {
  "kernelspec": {
   "display_name": "Python 3 (ipykernel)",
   "language": "python",
   "name": "python3"
  },
  "language_info": {
   "codemirror_mode": {
    "name": "ipython",
    "version": 3
   },
   "file_extension": ".py",
   "mimetype": "text/x-python",
   "name": "python",
   "nbconvert_exporter": "python",
   "pygments_lexer": "ipython3",
   "version": "3.13.7"
  }
 },
 "nbformat": 4,
 "nbformat_minor": 5
}
