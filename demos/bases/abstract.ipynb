{
 "cells": [
  {
   "metadata": {},
   "cell_type": "markdown",
   "source": "# Classes abstraites et héritage",
   "id": "24029c3a23fc2571"
  },
  {
   "cell_type": "code",
   "id": "initial_id",
   "metadata": {
    "collapsed": true,
    "ExecuteTime": {
     "end_time": "2025-06-12T09:53:47.780604Z",
     "start_time": "2025-06-12T09:53:47.778077Z"
    }
   },
   "source": "from abc import ABC, abstractmethod",
   "outputs": [],
   "execution_count": 1
  },
  {
   "metadata": {
    "ExecuteTime": {
     "end_time": "2025-06-12T10:08:34.743096Z",
     "start_time": "2025-06-12T10:08:34.740280Z"
    }
   },
   "cell_type": "code",
   "source": [
    "class Employee(ABC):\n",
    "    def __init__(self, name):\n",
    "        self.name = name\n",
    "\n",
    "    @property\n",
    "    @abstractmethod\n",
    "    def cost(self):\n",
    "        pass\n",
    "\n",
    "    @abstractmethod\n",
    "    def calculate_payroll(self):\n",
    "        print(\"préquelquechose\")\n",
    "        pass"
   ],
   "id": "90ff90cdaa49ddd1",
   "outputs": [],
   "execution_count": 10
  },
  {
   "metadata": {
    "ExecuteTime": {
     "end_time": "2025-06-12T10:08:35.224655Z",
     "start_time": "2025-06-12T10:08:35.222087Z"
    }
   },
   "cell_type": "code",
   "source": [
    "class SalaryEmployee(Employee):\n",
    "    def __init__(self, name, salary):\n",
    "        super().__init__(name)\n",
    "        self.salary = salary\n",
    "\n",
    "    @property\n",
    "    def cost(self):\n",
    "        return self.salary * 1.6\n",
    "\n",
    "    def calculate_payroll(self):\n",
    "        super().calculate_payroll()\n",
    "        return self.salary"
   ],
   "id": "ad3d950350ab9fc9",
   "outputs": [],
   "execution_count": 11
  },
  {
   "metadata": {
    "ExecuteTime": {
     "end_time": "2025-06-12T10:08:36.825462Z",
     "start_time": "2025-06-12T10:08:36.809321Z"
    }
   },
   "cell_type": "code",
   "source": "e = SalaryEmployee('John', 20000)",
   "id": "77e9d70e512229fd",
   "outputs": [
    {
     "ename": "TypeError",
     "evalue": "Can't instantiate abstract class SalaryEmployee without an implementation for abstract method 'cost'",
     "output_type": "error",
     "traceback": [
      "\u001B[31m---------------------------------------------------------------------------\u001B[39m",
      "\u001B[31mTypeError\u001B[39m                                 Traceback (most recent call last)",
      "\u001B[36mCell\u001B[39m\u001B[36m \u001B[39m\u001B[32mIn[12]\u001B[39m\u001B[32m, line 1\u001B[39m\n\u001B[32m----> \u001B[39m\u001B[32m1\u001B[39m e = \u001B[43mSalaryEmployee\u001B[49m\u001B[43m(\u001B[49m\u001B[33;43m'\u001B[39;49m\u001B[33;43mJohn\u001B[39;49m\u001B[33;43m'\u001B[39;49m\u001B[43m,\u001B[49m\u001B[43m \u001B[49m\u001B[32;43m20000\u001B[39;49m\u001B[43m)\u001B[49m\n",
      "\u001B[31mTypeError\u001B[39m: Can't instantiate abstract class SalaryEmployee without an implementation for abstract method 'cost'"
     ]
    }
   ],
   "execution_count": 12
  },
  {
   "metadata": {
    "ExecuteTime": {
     "end_time": "2025-06-12T10:11:59.210833Z",
     "start_time": "2025-06-12T10:11:59.205104Z"
    }
   },
   "cell_type": "code",
   "source": "SalaryEmployee.__mro__",
   "id": "dc231e568a5300bb",
   "outputs": [
    {
     "data": {
      "text/plain": [
       "(__main__.SalaryEmployee, __main__.Employee, abc.ABC, object)"
      ]
     },
     "execution_count": 13,
     "metadata": {},
     "output_type": "execute_result"
    }
   ],
   "execution_count": 13
  },
  {
   "metadata": {},
   "cell_type": "code",
   "outputs": [],
   "execution_count": null,
   "source": "",
   "id": "3e69a81a2d04b8cc"
  }
 ],
 "metadata": {
  "kernelspec": {
   "display_name": "Python 3",
   "language": "python",
   "name": "python3"
  },
  "language_info": {
   "codemirror_mode": {
    "name": "ipython",
    "version": 2
   },
   "file_extension": ".py",
   "mimetype": "text/x-python",
   "name": "python",
   "nbconvert_exporter": "python",
   "pygments_lexer": "ipython2",
   "version": "2.7.6"
  }
 },
 "nbformat": 4,
 "nbformat_minor": 5
}
