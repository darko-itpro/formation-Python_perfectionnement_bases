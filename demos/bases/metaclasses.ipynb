{
 "cells": [
  {
   "metadata": {},
   "cell_type": "markdown",
   "source": "# Présentation des métaclasses",
   "id": "5696663507d7a932"
  },
  {
   "metadata": {},
   "cell_type": "code",
   "outputs": [],
   "execution_count": null,
   "source": "",
   "id": "2be676645238cf7c"
  },
  {
   "metadata": {},
   "cell_type": "markdown",
   "source": "## Utilisation de la fonction type",
   "id": "64f45e53253d52ca"
  },
  {
   "cell_type": "code",
   "id": "initial_id",
   "metadata": {
    "collapsed": true,
    "ExecuteTime": {
     "end_time": "2025-06-11T18:55:37.664948Z",
     "start_time": "2025-06-11T18:55:37.661565Z"
    }
   },
   "source": [
    "def construct(self, name):\n",
    "    self.name = name\n",
    "    self.episodes = []\n",
    "\n",
    "def add_one(self, title, season_number, number):\n",
    "    self.episodes.append(title)\n"
   ],
   "outputs": [],
   "execution_count": 6
  },
  {
   "metadata": {},
   "cell_type": "code",
   "outputs": [],
   "execution_count": null,
   "source": "",
   "id": "1454e84c7d3624b7"
  },
  {
   "metadata": {},
   "cell_type": "markdown",
   "source": "## Notion de métaclasse",
   "id": "e2e1c7e32854ee46"
  },
  {
   "metadata": {
    "ExecuteTime": {
     "end_time": "2025-06-11T19:08:08.546141Z",
     "start_time": "2025-06-11T19:08:08.538739Z"
    }
   },
   "cell_type": "code",
   "source": [
    "class MyMeta(type):\n",
    "    def __new__(cls, name, bases, dict):\n",
    "        return super().__new__(cls, name, bases, dict)"
   ],
   "id": "b05bf07ac6389f41",
   "outputs": [],
   "execution_count": 12
  },
  {
   "metadata": {
    "ExecuteTime": {
     "end_time": "2025-06-11T19:08:09.764486Z",
     "start_time": "2025-06-11T19:08:09.761169Z"
    }
   },
   "cell_type": "code",
   "source": [
    "MyClass = MyMeta(\"MyClass\", (), {})\n",
    "\n",
    "class MyClass(metaclass=MyMeta):\n",
    "    pass"
   ],
   "id": "a4eb5da003cfcc23",
   "outputs": [],
   "execution_count": 13
  },
  {
   "metadata": {},
   "cell_type": "code",
   "outputs": [],
   "execution_count": null,
   "source": "",
   "id": "a9cf98cd5fbb9878"
  },
  {
   "metadata": {
    "ExecuteTime": {
     "end_time": "2025-06-12T00:00:31.791729Z",
     "start_time": "2025-06-12T00:00:31.789032Z"
    }
   },
   "cell_type": "code",
   "source": [
    "class DemoMeta(type):\n",
    "#    def __call__(cls, *args, **kwargs):\n",
    "#        print(\"Im Call\")\n",
    "#        return super().__call__(*args, **kwargs)\n",
    "\n",
    "    def __new__(cls, name, bases, attrs):\n",
    "        print(\"Im New\")\n",
    "        attrs['test'] = lambda self: print('test called')\n",
    "        return super().__new__(cls, name, bases, attrs)\n",
    "\n",
    "    def __init__(self, *args, **kwargs):\n",
    "        print(\"Im Init\")\n",
    "        super().__init__(*args, **kwargs)\n",
    "        self.truc = 42\n"
   ],
   "id": "7749afb8fa5a4d87",
   "outputs": [],
   "execution_count": 34
  },
  {
   "metadata": {
    "ExecuteTime": {
     "end_time": "2025-06-12T00:01:21.269799Z",
     "start_time": "2025-06-12T00:01:21.265978Z"
    }
   },
   "cell_type": "code",
   "source": [
    "\n",
    "class DemoClass(metaclass=DemoMeta):\n",
    "    def __init__(self):\n",
    "        super().__init__()\n",
    "        if self.truc == 42:\n",
    "            print(\"Hay\")\n",
    "        else:\n",
    "            print(\"Ney\")\n"
   ],
   "id": "8ee7ccd5126df261",
   "outputs": [
    {
     "name": "stdout",
     "output_type": "stream",
     "text": [
      "Im New\n",
      "Im Init\n"
     ]
    }
   ],
   "execution_count": 42
  },
  {
   "metadata": {
    "ExecuteTime": {
     "end_time": "2025-06-12T00:01:21.436888Z",
     "start_time": "2025-06-12T00:01:21.434841Z"
    }
   },
   "cell_type": "code",
   "source": "d = DemoClass()",
   "id": "b82977472ba95535",
   "outputs": [
    {
     "name": "stdout",
     "output_type": "stream",
     "text": [
      "Hay\n"
     ]
    }
   ],
   "execution_count": 43
  },
  {
   "metadata": {
    "ExecuteTime": {
     "end_time": "2025-06-12T00:01:22.301858Z",
     "start_time": "2025-06-12T00:01:22.298963Z"
    }
   },
   "cell_type": "code",
   "source": "d.test()",
   "id": "38ab5e224e337ffe",
   "outputs": [
    {
     "name": "stdout",
     "output_type": "stream",
     "text": [
      "test called\n"
     ]
    }
   ],
   "execution_count": 44
  },
  {
   "metadata": {
    "ExecuteTime": {
     "end_time": "2025-06-12T00:01:23.974424Z",
     "start_time": "2025-06-12T00:01:23.971440Z"
    }
   },
   "cell_type": "code",
   "source": "d.truc",
   "id": "991dae28b73b029b",
   "outputs": [
    {
     "data": {
      "text/plain": [
       "42"
      ]
     },
     "execution_count": 45,
     "metadata": {},
     "output_type": "execute_result"
    }
   ],
   "execution_count": 45
  },
  {
   "metadata": {},
   "cell_type": "code",
   "outputs": [],
   "execution_count": null,
   "source": "",
   "id": "e0c4acf17da28dee"
  }
 ],
 "metadata": {
  "kernelspec": {
   "display_name": "Python 3",
   "language": "python",
   "name": "python3"
  },
  "language_info": {
   "codemirror_mode": {
    "name": "ipython",
    "version": 2
   },
   "file_extension": ".py",
   "mimetype": "text/x-python",
   "name": "python",
   "nbconvert_exporter": "python",
   "pygments_lexer": "ipython2",
   "version": "2.7.6"
  }
 },
 "nbformat": 4,
 "nbformat_minor": 5
}
