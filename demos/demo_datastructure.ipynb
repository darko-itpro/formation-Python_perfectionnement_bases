{
 "cells": [
  {
   "cell_type": "code",
   "id": "initial_id",
   "metadata": {
    "collapsed": true,
    "ExecuteTime": {
     "end_time": "2025-06-03T13:18:04.903485Z",
     "start_time": "2025-06-03T13:18:04.900688Z"
    }
   },
   "source": "from collections import namedtuple",
   "outputs": [],
   "execution_count": 1
  },
  {
   "metadata": {
    "ExecuteTime": {
     "end_time": "2025-06-03T13:23:01.855926Z",
     "start_time": "2025-06-03T13:23:01.852538Z"
    }
   },
   "cell_type": "code",
   "source": "Point = namedtuple(\"Point\", ('x', 'y', 'z'), defaults=(1, 0))",
   "id": "850178b0f94be232",
   "outputs": [],
   "execution_count": 13
  },
  {
   "metadata": {
    "ExecuteTime": {
     "end_time": "2025-06-03T13:23:02.803142Z",
     "start_time": "2025-06-03T13:23:02.800130Z"
    }
   },
   "cell_type": "code",
   "source": "p = Point(2, 7)",
   "id": "36dfb8f70b072087",
   "outputs": [],
   "execution_count": 14
  },
  {
   "metadata": {
    "ExecuteTime": {
     "end_time": "2025-06-03T13:23:30.447041Z",
     "start_time": "2025-06-03T13:23:30.443377Z"
    }
   },
   "cell_type": "code",
   "source": "Point(3, 8, 9)",
   "id": "947446227cc22856",
   "outputs": [
    {
     "data": {
      "text/plain": [
       "Point(x=3, y=8, z=9)"
      ]
     },
     "execution_count": 15,
     "metadata": {},
     "output_type": "execute_result"
    }
   ],
   "execution_count": 15
  },
  {
   "metadata": {
    "ExecuteTime": {
     "end_time": "2025-06-03T13:23:37.489651Z",
     "start_time": "2025-06-03T13:23:37.484818Z"
    }
   },
   "cell_type": "code",
   "source": "p.z",
   "id": "234c50884d25b431",
   "outputs": [
    {
     "data": {
      "text/plain": [
       "0"
      ]
     },
     "execution_count": 16,
     "metadata": {},
     "output_type": "execute_result"
    }
   ],
   "execution_count": 16
  },
  {
   "metadata": {},
   "cell_type": "code",
   "outputs": [],
   "execution_count": null,
   "source": [
    "class EpisodeObject:\n",
    "    def __init__(self, title:str, number:int, season_number:int, duration:int=None, year:int=None):\n",
    "        self.title = title\n",
    "        self.number = number\n",
    "        self.season_number = season_number\n",
    "        self.duration = int(duration) if duration is not None else None\n",
    "        self.year = int(year) if year is not None else None\n",
    "\n",
    "    def __eq__(self, other):\n",
    "        if not isinstance(other, self.__class__):\n",
    "            return False\n",
    "\n",
    "        return (self.number, self.season_number) == (other.number, other.season_number)\n",
    "\n"
   ],
   "id": "c2d3903e659429fc"
  },
  {
   "metadata": {
    "ExecuteTime": {
     "end_time": "2025-06-03T13:28:22.664023Z",
     "start_time": "2025-06-03T13:28:22.660474Z"
    }
   },
   "cell_type": "code",
   "source": [
    "from dataclasses import dataclass, field\n",
    "\n",
    "@dataclass(frozen=True)\n",
    "class Episode:\n",
    "    title: str = field(compare=False)\n",
    "    number: int\n",
    "    season_number: int\n",
    "    duration: int = None\n",
    "    year: int = None\n",
    "\n",
    "    def do_something(self):\n",
    "        pass"
   ],
   "id": "a9308a84fa2037df",
   "outputs": [],
   "execution_count": 17
  },
  {
   "metadata": {
    "ExecuteTime": {
     "end_time": "2025-06-03T13:29:50.518661Z",
     "start_time": "2025-06-03T13:29:50.516989Z"
    }
   },
   "cell_type": "code",
   "source": "ep = Episode(\"titre\", 1, 2, 34, 2000)",
   "id": "5ee352255b617b46",
   "outputs": [],
   "execution_count": 19
  },
  {
   "metadata": {
    "ExecuteTime": {
     "end_time": "2025-06-03T13:29:53.412945Z",
     "start_time": "2025-06-03T13:29:53.410255Z"
    }
   },
   "cell_type": "code",
   "source": "print(ep)",
   "id": "5adba5c8cc15659d",
   "outputs": [
    {
     "name": "stdout",
     "output_type": "stream",
     "text": [
      "Episode(title='titre', number=1, season_number=2, duration=34, year=2000)\n"
     ]
    }
   ],
   "execution_count": 20
  },
  {
   "metadata": {
    "ExecuteTime": {
     "end_time": "2025-06-03T13:31:02.196927Z",
     "start_time": "2025-06-03T13:31:02.194566Z"
    }
   },
   "cell_type": "code",
   "source": [
    "ep1 = Episode(\"titre\", 1, 2, 34, 2000)\n",
    "ep2 = Episode(\"titre\", 1, 2, 34, 2000)"
   ],
   "id": "f197a472f4f9d983",
   "outputs": [],
   "execution_count": 21
  },
  {
   "metadata": {
    "ExecuteTime": {
     "end_time": "2025-06-03T13:31:08.753130Z",
     "start_time": "2025-06-03T13:31:08.750580Z"
    }
   },
   "cell_type": "code",
   "source": "ep1 == ep2",
   "id": "af1ac7f1ba4188e4",
   "outputs": [
    {
     "data": {
      "text/plain": [
       "True"
      ]
     },
     "execution_count": 22,
     "metadata": {},
     "output_type": "execute_result"
    }
   ],
   "execution_count": 22
  },
  {
   "metadata": {},
   "cell_type": "code",
   "outputs": [],
   "execution_count": null,
   "source": "",
   "id": "e745772568ec6391"
  }
 ],
 "metadata": {
  "kernelspec": {
   "display_name": "Python 3",
   "language": "python",
   "name": "python3"
  },
  "language_info": {
   "codemirror_mode": {
    "name": "ipython",
    "version": 2
   },
   "file_extension": ".py",
   "mimetype": "text/x-python",
   "name": "python",
   "nbconvert_exporter": "python",
   "pygments_lexer": "ipython2",
   "version": "2.7.6"
  }
 },
 "nbformat": 4,
 "nbformat_minor": 5
}
