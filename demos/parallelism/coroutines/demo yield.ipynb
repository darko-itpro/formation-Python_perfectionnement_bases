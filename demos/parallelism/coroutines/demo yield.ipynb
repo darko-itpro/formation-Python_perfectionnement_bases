{
 "cells": [
  {
   "metadata": {},
   "cell_type": "markdown",
   "source": "# Yield",
   "id": "5d326259ce9e7928"
  },
  {
   "metadata": {},
   "cell_type": "code",
   "outputs": [],
   "execution_count": null,
   "source": [
    "def repas():\n",
    "    yield \"entrée\"\n",
    "    yield \"plat\"\n",
    "    yield \"dessert\""
   ],
   "id": "80faafb2d828e94"
  },
  {
   "metadata": {},
   "cell_type": "code",
   "outputs": [],
   "execution_count": null,
   "source": "",
   "id": "40ce782620721c09"
  },
  {
   "metadata": {},
   "cell_type": "code",
   "outputs": [],
   "execution_count": null,
   "source": "",
   "id": "7bbf928db6be530e"
  },
  {
   "metadata": {},
   "cell_type": "markdown",
   "source": "## Recevoir",
   "id": "a3055ab1467b8235"
  },
  {
   "cell_type": "code",
   "id": "initial_id",
   "metadata": {
    "collapsed": true,
    "ExecuteTime": {
     "end_time": "2025-06-06T07:48:36.597768Z",
     "start_time": "2025-06-06T07:48:36.594989Z"
    }
   },
   "source": [
    "def echo():\n",
    "    while True:\n",
    "        value = yield\n",
    "        print(f\"Received: {value}\")"
   ],
   "outputs": [],
   "execution_count": 11
  },
  {
   "metadata": {
    "ExecuteTime": {
     "end_time": "2025-06-06T07:49:54.890715Z",
     "start_time": "2025-06-06T07:49:54.888287Z"
    }
   },
   "cell_type": "code",
   "source": "gen = echo()",
   "id": "3357c32a5817de72",
   "outputs": [],
   "execution_count": 12
  },
  {
   "metadata": {
    "ExecuteTime": {
     "end_time": "2025-06-06T07:50:44.091575Z",
     "start_time": "2025-06-06T07:50:44.089351Z"
    }
   },
   "cell_type": "code",
   "source": "next(gen)",
   "id": "7089114405117a4",
   "outputs": [],
   "execution_count": 14
  },
  {
   "metadata": {
    "ExecuteTime": {
     "end_time": "2025-06-06T07:50:52.733839Z",
     "start_time": "2025-06-06T07:50:52.731797Z"
    }
   },
   "cell_type": "code",
   "source": "gen.send('hello')",
   "id": "b0556111ec67868c",
   "outputs": [
    {
     "name": "stdout",
     "output_type": "stream",
     "text": [
      "Received: hello\n"
     ]
    }
   ],
   "execution_count": 16
  },
  {
   "metadata": {},
   "cell_type": "code",
   "source": "",
   "id": "7c9590a7587262c",
   "outputs": [],
   "execution_count": null
  }
 ],
 "metadata": {
  "kernelspec": {
   "display_name": "Python 3",
   "language": "python",
   "name": "python3"
  },
  "language_info": {
   "codemirror_mode": {
    "name": "ipython",
    "version": 2
   },
   "file_extension": ".py",
   "mimetype": "text/x-python",
   "name": "python",
   "nbconvert_exporter": "python",
   "pygments_lexer": "ipython2",
   "version": "2.7.6"
  }
 },
 "nbformat": 4,
 "nbformat_minor": 5
}
