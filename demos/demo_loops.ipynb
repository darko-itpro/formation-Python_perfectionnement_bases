{
 "cells": [
  {
   "cell_type": "code",
   "id": "initial_id",
   "metadata": {
    "collapsed": true,
    "ExecuteTime": {
     "end_time": "2025-06-02T14:39:06.844959Z",
     "start_time": "2025-06-02T14:39:06.842890Z"
    }
   },
   "source": [
    "camelot = [\"Arthur\", \"Merlin\", \"Lancelot\", \"Robin\", \"Perceval\", \"Karadoc\"]\n",
    "jobs = [\"king\", \"wizard\", \"knight\", \"knight\", \"knight\", \"knight\",]"
   ],
   "outputs": [],
   "execution_count": 6
  },
  {
   "metadata": {
    "ExecuteTime": {
     "end_time": "2025-06-02T14:39:07.051502Z",
     "start_time": "2025-06-02T14:39:07.049308Z"
    }
   },
   "cell_type": "code",
   "source": [
    "for i in zip(camelot, jobs):\n",
    "    print(i)"
   ],
   "id": "6f4ff6f697aa087c",
   "outputs": [
    {
     "name": "stdout",
     "output_type": "stream",
     "text": [
      "('Arthur', 'king')\n",
      "('Merlin', 'wizard')\n",
      "('Lancelot', 'knight')\n",
      "('Robin', 'knight')\n",
      "('Perceval', 'knight')\n",
      "('Karadoc', 'knight')\n"
     ]
    }
   ],
   "execution_count": 7
  },
  {
   "metadata": {
    "ExecuteTime": {
     "end_time": "2025-06-02T14:40:15.564303Z",
     "start_time": "2025-06-02T14:40:15.561461Z"
    }
   },
   "cell_type": "code",
   "source": "[item for item in zip(camelot, jobs)]",
   "id": "a92ab7c38b7e7f43",
   "outputs": [
    {
     "data": {
      "text/plain": [
       "[('Arthur', 'king'),\n",
       " ('Merlin', 'wizard'),\n",
       " ('Lancelot', 'knight'),\n",
       " ('Robin', 'knight'),\n",
       " ('Perceval', 'knight'),\n",
       " ('Karadoc', 'knight')]"
      ]
     },
     "execution_count": 8,
     "metadata": {},
     "output_type": "execute_result"
    }
   ],
   "execution_count": 8
  },
  {
   "metadata": {
    "ExecuteTime": {
     "end_time": "2025-06-02T14:41:49.822299Z",
     "start_time": "2025-06-02T14:41:49.818178Z"
    }
   },
   "cell_type": "code",
   "source": "{name:job for name, job in zip(camelot, jobs)}",
   "id": "9150503699c45c",
   "outputs": [
    {
     "data": {
      "text/plain": [
       "{'Arthur': 'king',\n",
       " 'Merlin': 'wizard',\n",
       " 'Lancelot': 'knight',\n",
       " 'Robin': 'knight',\n",
       " 'Perceval': 'knight',\n",
       " 'Karadoc': 'knight'}"
      ]
     },
     "execution_count": 10,
     "metadata": {},
     "output_type": "execute_result"
    }
   ],
   "execution_count": 10
  },
  {
   "metadata": {
    "ExecuteTime": {
     "end_time": "2025-06-02T14:42:35.969392Z",
     "start_time": "2025-06-02T14:42:35.967205Z"
    }
   },
   "cell_type": "code",
   "source": "kingdom = [item for item in zip(camelot, jobs)]",
   "id": "9d69609cae73147b",
   "outputs": [],
   "execution_count": 11
  },
  {
   "metadata": {
    "ExecuteTime": {
     "end_time": "2025-06-02T14:54:30.679215Z",
     "start_time": "2025-06-02T14:54:30.677137Z"
    }
   },
   "cell_type": "code",
   "source": [
    "kingdom = [('Arthur', 'king'),\n",
    " ('Merlin', 'wizard'),\n",
    " ('Lancelot', 'knight'),\n",
    " ('Robin', 'knight'),\n",
    " ('Perceval', 'knight'),\n",
    " ('Karadoc', 'knight')]"
   ],
   "id": "18994c8bf5e5a018",
   "outputs": [],
   "execution_count": 23
  },
  {
   "metadata": {
    "ExecuteTime": {
     "end_time": "2025-06-02T14:54:31.102797Z",
     "start_time": "2025-06-02T14:54:31.100820Z"
    }
   },
   "cell_type": "code",
   "source": [
    "\n",
    "for name, job in kingdom:\n",
    "    if job == \"wizard\":\n",
    "        print(\"ok you have a wizard, \", name)\n",
    "        break\n",
    "\n",
    "else:\n",
    "    print(\"no wizard\")"
   ],
   "id": "4581572df0430c84",
   "outputs": [
    {
     "name": "stdout",
     "output_type": "stream",
     "text": [
      "ok you have a wizard,  Merlin\n"
     ]
    }
   ],
   "execution_count": 24
  },
  {
   "metadata": {},
   "cell_type": "code",
   "outputs": [],
   "execution_count": null,
   "source": "",
   "id": "189c692cec230d79"
  }
 ],
 "metadata": {
  "kernelspec": {
   "display_name": "Python 3",
   "language": "python",
   "name": "python3"
  },
  "language_info": {
   "codemirror_mode": {
    "name": "ipython",
    "version": 2
   },
   "file_extension": ".py",
   "mimetype": "text/x-python",
   "name": "python",
   "nbconvert_exporter": "python",
   "pygments_lexer": "ipython2",
   "version": "2.7.6"
  }
 },
 "nbformat": 4,
 "nbformat_minor": 5
}
