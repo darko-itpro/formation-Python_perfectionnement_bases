{
 "cells": [
  {
   "cell_type": "code",
   "execution_count": null,
   "id": "initial_id",
   "metadata": {
    "collapsed": true
   },
   "outputs": [],
   "source": [
    ""
   ]
  },
  {
   "metadata": {
    "ExecuteTime": {
     "end_time": "2025-06-03T09:20:17.692889Z",
     "start_time": "2025-06-03T09:20:17.688166Z"
    }
   },
   "cell_type": "code",
   "source": [
    "class Student:\n",
    "    def __init__(self, name, last_name, company_name):\n",
    "        self.name = name\n",
    "        self.last_name = last_name\n",
    "        self.company_name = company_name\n",
    "\n",
    "\n",
    "class TrainingSession:\n",
    "    def __init__(self, subject: str, duration: int, max_seats: int):\n",
    "        self.subject = subject\n",
    "        self.duration = duration\n",
    "        self.students = []\n",
    "        self.max_seats = max_seats\n",
    "\n",
    "        if self.duration < 1:\n",
    "            raise ValueError(f\"Training duration must be greater than or equal to 1, got {self.duration}\")\n",
    "\n",
    "\n",
    "    @classmethod\n",
    "    def with_students(cls, subject: str, duration: int, max_seats: int, students:list):\n",
    "        training = cls.__init__(subject, duration, max_seats)\n",
    "        for student in students:\n",
    "            training.add_student(student)\n",
    "\n",
    "        return training\n",
    "\n",
    "\n",
    "    def add_student(self, student: Student):\n",
    "        self.students.append(student)\n",
    "\n",
    "    def __str__(self):\n",
    "        return f\"{self.subject} {self.duration} seats {self.max_seats}\"\n",
    "\n",
    "    def __repr__(self):\n",
    "        return f\"TrainingSession({self.subject}, {self.duration}, {self.max_seats})\"\n"
   ],
   "id": "ca02203abd4afcff",
   "outputs": [],
   "execution_count": 3
  }
 ],
 "metadata": {
  "kernelspec": {
   "display_name": "Python 3",
   "language": "python",
   "name": "python3"
  },
  "language_info": {
   "codemirror_mode": {
    "name": "ipython",
    "version": 2
   },
   "file_extension": ".py",
   "mimetype": "text/x-python",
   "name": "python",
   "nbconvert_exporter": "python",
   "pygments_lexer": "ipython2",
   "version": "2.7.6"
  }
 },
 "nbformat": 4,
 "nbformat_minor": 5
}
