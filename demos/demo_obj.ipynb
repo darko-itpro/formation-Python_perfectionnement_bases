{
 "cells": [
  {
   "cell_type": "code",
   "id": "initial_id",
   "metadata": {
    "collapsed": true
   },
   "source": [
    ""
   ],
   "outputs": [],
   "execution_count": null
  },
  {
   "metadata": {},
   "cell_type": "code",
   "source": [
    "class Student:\n",
    "    def __init__(self, name, last_name, company_name):\n",
    "        self.name = name\n",
    "        self.last_name = last_name\n",
    "        self.company_name = company_name\n",
    "\n",
    "\n",
    "class TrainingSession:\n",
    "    def __init__(self, subject: str, duration: int, max_seats: int):\n",
    "        self.subject = subject\n",
    "        self.duration = duration\n",
    "        self.students = []\n",
    "        self.max_seats = max_seats\n",
    "\n",
    "        if self.duration < 1:\n",
    "            raise ValueError(f\"Training duration must be greater than or equal to 1, got {self.duration}\")\n",
    "\n",
    "\n",
    "    @classmethod\n",
    "    def with_students(cls, subject: str, duration: int, max_seats: int, students:list):\n",
    "        training = cls.__init__(subject, duration, max_seats)\n",
    "        for student in students:\n",
    "            training.add_student(student)\n",
    "\n",
    "        return training\n",
    "\n",
    "\n",
    "    def add_student(self, student: Student):\n",
    "        self.students.append(student)\n",
    "\n",
    "    def __str__(self):\n",
    "        return f\"{self.subject} {self.duration} seats {self.max_seats}\"\n",
    "\n",
    "    def __repr__(self):\n",
    "        return f\"TrainingSession({self.subject}, {self.duration}, {self.max_seats})\"\n"
   ],
   "id": "ca02203abd4afcff",
   "outputs": [],
   "execution_count": null
  },
  {
   "metadata": {},
   "cell_type": "code",
   "source": [
    "class SpecialTraining(TrainingSession):\n",
    "    def __init__(self, subject: str, duration: int, max_seats: int):\n",
    "        super().__init__(subject, duration, max_seats)\n"
   ],
   "id": "a11fb37b5716c145",
   "outputs": [],
   "execution_count": null
  },
  {
   "metadata": {},
   "cell_type": "code",
   "source": "s = SpecialTraining(\"toto\", 4, 12)",
   "id": "95a5845a1326845e",
   "outputs": [],
   "execution_count": null
  },
  {
   "metadata": {},
   "cell_type": "code",
   "source": "SpecialTraining.__mro__",
   "id": "5f53f3f2c5656012",
   "outputs": [],
   "execution_count": null
  },
  {
   "metadata": {},
   "cell_type": "code",
   "source": [
    "class Other_SpecialTraining(TrainingSession):\n",
    "    def __init__(self, subject: str, duration: int, max_seats: int):\n",
    "        super().__init__(subject, duration, max_seats)"
   ],
   "id": "afca2c7648bd4d60",
   "outputs": [],
   "execution_count": null
  },
  {
   "metadata": {},
   "cell_type": "code",
   "source": [
    "class ChaosTraining(Other_SpecialTraining, SpecialTraining):\n",
    "    def __init__(self, subject: str, duration: int, max_seats: int):\n",
    "        Other_SpecialTraining.__init__()"
   ],
   "id": "6e18d3a0f5f3b044",
   "outputs": [],
   "execution_count": null
  },
  {
   "metadata": {},
   "cell_type": "code",
   "source": "ChaosTraining.__mro__",
   "id": "330b8e8f049b830f",
   "outputs": [],
   "execution_count": null
  },
  {
   "metadata": {},
   "cell_type": "markdown",
   "source": "## ABC",
   "id": "8bb2d282714087dc"
  },
  {
   "metadata": {},
   "cell_type": "code",
   "source": "",
   "id": "7718d81e8d11d26f",
   "outputs": [],
   "execution_count": null
  },
  {
   "metadata": {},
   "cell_type": "code",
   "source": [
    "from abc import ABC, abstractmethod\n",
    "\n",
    "class DemoAbstract(ABC):\n",
    "    @abstractmethod\n",
    "    def demo_method(self):\n",
    "        print(\"do something but not all\")\n"
   ],
   "id": "1e15a63ad25ff0ca",
   "outputs": [],
   "execution_count": null
  },
  {
   "metadata": {},
   "cell_type": "code",
   "source": [
    "class DemoConcerete(DemoAbstract):\n",
    "\n",
    "    @abstractmethod\n",
    "    def demo_method(self):\n",
    "        super().demo_method()"
   ],
   "id": "2584a8a144e57249",
   "outputs": [],
   "execution_count": null
  },
  {
   "metadata": {},
   "cell_type": "code",
   "source": "DemoConcerete()",
   "id": "502c21d77d8d06d3",
   "outputs": [],
   "execution_count": null
  },
  {
   "metadata": {},
   "cell_type": "code",
   "source": "",
   "id": "8585576f269b198",
   "outputs": [],
   "execution_count": null
  }
 ],
 "metadata": {
  "kernelspec": {
   "display_name": "Python 3",
   "language": "python",
   "name": "python3"
  },
  "language_info": {
   "codemirror_mode": {
    "name": "ipython",
    "version": 2
   },
   "file_extension": ".py",
   "mimetype": "text/x-python",
   "name": "python",
   "nbconvert_exporter": "python",
   "pygments_lexer": "ipython2",
   "version": "2.7.6"
  }
 },
 "nbformat": 4,
 "nbformat_minor": 5
}
