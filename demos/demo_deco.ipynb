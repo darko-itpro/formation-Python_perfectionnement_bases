{
 "cells": [
  {
   "metadata": {},
   "cell_type": "markdown",
   "source": "# Décorateurs",
   "id": "4c73924d92cf9825"
  },
  {
   "cell_type": "code",
   "id": "initial_id",
   "metadata": {
    "collapsed": true,
    "ExecuteTime": {
     "end_time": "2025-06-04T10:00:57.490244Z",
     "start_time": "2025-06-04T10:00:57.487766Z"
    }
   },
   "source": [
    "def sandwich(garniture):\n",
    "    def wrapper(*args, **kwargs):\n",
    "        print(\"/TTTTTTTT\\\\\")\n",
    "        price = garniture(*args, **kwargs)\n",
    "        print(\"\\\\________/\")\n",
    "\n",
    "        return price + 2\n",
    "\n",
    "    return wrapper"
   ],
   "outputs": [],
   "execution_count": 18
  },
  {
   "metadata": {
    "ExecuteTime": {
     "end_time": "2025-06-04T10:01:26.418551Z",
     "start_time": "2025-06-04T10:01:26.413666Z"
    }
   },
   "cell_type": "code",
   "source": [
    "@sandwich\n",
    "def parisien():\n",
    "    print(\"Jambon\")\n",
    "    print(\"Beurre\")\n",
    "\n",
    "    return 8\n",
    "\n",
    "@sandwich\n",
    "def kebab(salade_tomate_oignons:bool=True):\n",
    "    if salade_tomate_oignons:\n",
    "        print(\"salade\")\n",
    "        print(\"tomates\")\n",
    "        print(\"oignons\")\n",
    "    print(\"viande\")\n",
    "    return 5.5\n",
    "\n",
    "parisien()\n",
    "print(parisien())\n",
    "kebab(salade_tomate_oignons=True)"
   ],
   "id": "47deda8c32461899",
   "outputs": [
    {
     "name": "stdout",
     "output_type": "stream",
     "text": [
      "/TTTTTTTT\\\n",
      "Jambon\n",
      "Beurre\n",
      "\\________/\n",
      "/TTTTTTTT\\\n",
      "Jambon\n",
      "Beurre\n",
      "\\________/\n",
      "10\n",
      "/TTTTTTTT\\\n",
      "salade\n",
      "tomates\n",
      "oignons\n",
      "viande\n",
      "\\________/\n"
     ]
    },
    {
     "data": {
      "text/plain": [
       "7.5"
      ]
     },
     "execution_count": 21,
     "metadata": {},
     "output_type": "execute_result"
    }
   ],
   "execution_count": 21
  },
  {
   "metadata": {},
   "cell_type": "markdown",
   "source": [
    "## Exercices\n",
    "### Premier, timeit"
   ],
   "id": "1aea8c44977c528d"
  },
  {
   "metadata": {
    "ExecuteTime": {
     "end_time": "2025-06-04T12:46:00.561781Z",
     "start_time": "2025-06-04T12:46:00.558190Z"
    }
   },
   "cell_type": "code",
   "source": [
    "import time\n",
    "\n",
    "def time_it(func):\n",
    "    def wrapper(*args, **kwargs):\n",
    "        start = time.time()\n",
    "        value = func(*args, **kwargs)\n",
    "        end = time.time()\n",
    "        print(end - start, \"secondes se sont écoulées\")\n",
    "\n",
    "        return value\n",
    "\n",
    "    return wrapper\n",
    "\n",
    "@time_it\n",
    "def do_something():\n",
    "    for x in range(1_000_000_0):\n",
    "        y = x ** 2\n"
   ],
   "id": "164f92bdbdd55d3f",
   "outputs": [],
   "execution_count": 39
  },
  {
   "metadata": {
    "ExecuteTime": {
     "end_time": "2025-06-04T10:20:23.342985Z",
     "start_time": "2025-06-04T10:20:22.988219Z"
    }
   },
   "cell_type": "code",
   "source": "do_something()",
   "id": "539424b66823958a",
   "outputs": [
    {
     "name": "stdout",
     "output_type": "stream",
     "text": [
      "0.35279369354248047 secondes se sont écoulées\n"
     ]
    }
   ],
   "execution_count": 27
  },
  {
   "metadata": {},
   "cell_type": "markdown",
   "source": "## Second exercice",
   "id": "9b59f503da9f56b1"
  },
  {
   "metadata": {
    "ExecuteTime": {
     "end_time": "2025-06-04T12:13:20.873498Z",
     "start_time": "2025-06-04T12:13:20.857764Z"
    }
   },
   "cell_type": "code",
   "source": [
    "def count_calls(func):\n",
    "    count = 0\n",
    "\n",
    "    def inner(*args, **kwargs):\n",
    "        nonlocal count\n",
    "        func(*args, **kwargs)\n",
    "        count += 1\n",
    "\n",
    "    def get_count():\n",
    "        return count\n",
    "\n",
    "    inner.nb_counts = get_count\n",
    "\n",
    "    return inner"
   ],
   "id": "c405c30844b3a0e0",
   "outputs": [],
   "execution_count": 28
  },
  {
   "metadata": {
    "ExecuteTime": {
     "end_time": "2025-06-04T12:13:39.152553Z",
     "start_time": "2025-06-04T12:13:39.150777Z"
    }
   },
   "cell_type": "code",
   "source": [
    "@count_calls\n",
    "def do_something2():\n",
    "    print(\"done\")"
   ],
   "id": "e9f27f8b56ba3ba2",
   "outputs": [],
   "execution_count": 29
  },
  {
   "metadata": {
    "ExecuteTime": {
     "end_time": "2025-06-04T12:14:30.153045Z",
     "start_time": "2025-06-04T12:14:30.150727Z"
    }
   },
   "cell_type": "code",
   "source": [
    "do_something2()\n",
    "do_something2()\n",
    "print(do_something2.nb_counts())\n",
    "do_something2()\n",
    "do_something2()\n",
    "do_something2()\n",
    "print(do_something2.nb_counts())"
   ],
   "id": "7ad521856e374c98",
   "outputs": [
    {
     "name": "stdout",
     "output_type": "stream",
     "text": [
      "done\n",
      "done\n",
      "2\n",
      "done\n",
      "done\n",
      "done\n",
      "5\n"
     ]
    }
   ],
   "execution_count": 30
  },
  {
   "metadata": {},
   "cell_type": "markdown",
   "source": "## Troisième exercice",
   "id": "7d4808d0fae2f579"
  },
  {
   "metadata": {
    "ExecuteTime": {
     "end_time": "2025-06-04T12:44:52.817268Z",
     "start_time": "2025-06-04T12:44:52.814951Z"
    }
   },
   "cell_type": "code",
   "source": [
    "from collections import OrderedDict\n",
    "\n",
    "def cachable(func):\n",
    "\n",
    "    cached_values = OrderedDict()\n",
    "\n",
    "    def inner(value):\n",
    "        if value not in cached_values:\n",
    "            cached_values[value] = func(value)\n",
    "\n",
    "        cached_values.move_to_end(value)\n",
    "\n",
    "        if len(cached_values) > 4:\n",
    "            cached_values.popitem(last=False)\n",
    "\n",
    "        return cached_values[value]\n",
    "\n",
    "    return inner"
   ],
   "id": "4331ddd1f4cce53e",
   "outputs": [],
   "execution_count": 35
  },
  {
   "metadata": {
    "ExecuteTime": {
     "end_time": "2025-06-04T12:46:04.881923Z",
     "start_time": "2025-06-04T12:46:04.879766Z"
    }
   },
   "cell_type": "code",
   "source": [
    "@time_it\n",
    "@cachable\n",
    "def long_call(value:int):\n",
    "    time.sleep(2)\n",
    "    return value**2\n"
   ],
   "id": "c99c98f1eb5e907",
   "outputs": [],
   "execution_count": 40
  },
  {
   "metadata": {
    "ExecuteTime": {
     "end_time": "2025-06-04T12:48:42.710850Z",
     "start_time": "2025-06-04T12:48:42.708334Z"
    }
   },
   "cell_type": "code",
   "source": [
    "print(long_call(2))\n",
    "print(long_call(2))\n",
    "print(long_call(5))\n",
    "print(long_call(8))\n",
    "print(long_call(5))"
   ],
   "id": "7602a0e0b907e51a",
   "outputs": [
    {
     "name": "stdout",
     "output_type": "stream",
     "text": [
      "2.1457672119140625e-06 secondes se sont écoulées\n",
      "4\n",
      "9.5367431640625e-07 secondes se sont écoulées\n",
      "4\n",
      "9.5367431640625e-07 secondes se sont écoulées\n",
      "25\n",
      "0.0 secondes se sont écoulées\n",
      "64\n",
      "9.5367431640625e-07 secondes se sont écoulées\n",
      "25\n",
      "wrapper\n"
     ]
    }
   ],
   "execution_count": 42
  },
  {
   "metadata": {},
   "cell_type": "markdown",
   "source": "### Notifications",
   "id": "bb3d7ccc8c6668f9"
  },
  {
   "metadata": {
    "ExecuteTime": {
     "end_time": "2025-06-04T13:37:13.832591Z",
     "start_time": "2025-06-04T13:37:13.828889Z"
    }
   },
   "cell_type": "code",
   "source": [
    "def register(level=2):\n",
    "    def inner(notification):\n",
    "        to_notify.append((level, notification))\n",
    "        return notification\n",
    "    return inner\n",
    "\n",
    "to_notify = []\n",
    "\n",
    "@register(level=1)\n",
    "def notify1():\n",
    "    print(\"notification from first\")\n",
    "\n",
    "def notify2():\n",
    "    print(\"notification from second\")\n",
    "\n",
    "@register(level=2)\n",
    "def notify3():\n",
    "    print(\"notification from third\")\n",
    "\n",
    "def send_notifications(level):\n",
    "    for notification_level, notification in to_notify:\n",
    "        if notification_level >= level:\n",
    "            notification()"
   ],
   "id": "48e176f8295c4614",
   "outputs": [],
   "execution_count": 50
  },
  {
   "metadata": {
    "ExecuteTime": {
     "end_time": "2025-06-04T13:37:14.303305Z",
     "start_time": "2025-06-04T13:37:14.301407Z"
    }
   },
   "cell_type": "code",
   "source": "send_notifications(1)",
   "id": "cd5d2b96c821769b",
   "outputs": [
    {
     "name": "stdout",
     "output_type": "stream",
     "text": [
      "notification from first\n",
      "notification from third\n"
     ]
    }
   ],
   "execution_count": 51
  },
  {
   "metadata": {},
   "cell_type": "code",
   "outputs": [],
   "execution_count": null,
   "source": "",
   "id": "4ae856fb78a88e17"
  }
 ],
 "metadata": {
  "kernelspec": {
   "display_name": "Python 3",
   "language": "python",
   "name": "python3"
  },
  "language_info": {
   "codemirror_mode": {
    "name": "ipython",
    "version": 2
   },
   "file_extension": ".py",
   "mimetype": "text/x-python",
   "name": "python",
   "nbconvert_exporter": "python",
   "pygments_lexer": "ipython2",
   "version": "2.7.6"
  }
 },
 "nbformat": 4,
 "nbformat_minor": 5
}
