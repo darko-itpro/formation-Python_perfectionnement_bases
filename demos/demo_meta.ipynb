{
 "cells": [
  {
   "metadata": {},
   "cell_type": "markdown",
   "source": "# Metaclasses",
   "id": "94235117aa70c814"
  },
  {
   "cell_type": "code",
   "id": "initial_id",
   "metadata": {
    "collapsed": true,
    "ExecuteTime": {
     "end_time": "2025-06-05T08:04:45.325478Z",
     "start_time": "2025-06-05T08:04:45.322575Z"
    }
   },
   "source": "king = \"Arthur\"",
   "outputs": [],
   "execution_count": 2
  },
  {
   "metadata": {
    "ExecuteTime": {
     "end_time": "2025-06-05T08:05:00.060684Z",
     "start_time": "2025-06-05T08:05:00.054173Z"
    }
   },
   "cell_type": "code",
   "source": "king.__class__",
   "id": "7151c9d2de8ab9d",
   "outputs": [
    {
     "data": {
      "text/plain": [
       "str"
      ]
     },
     "execution_count": 3,
     "metadata": {},
     "output_type": "execute_result"
    }
   ],
   "execution_count": 3
  },
  {
   "metadata": {
    "ExecuteTime": {
     "end_time": "2025-06-05T08:06:38.676188Z",
     "start_time": "2025-06-05T08:06:38.673054Z"
    }
   },
   "cell_type": "code",
   "source": "king.__class__.__class__",
   "id": "479c3d9d4c2bfa32",
   "outputs": [
    {
     "data": {
      "text/plain": [
       "type"
      ]
     },
     "execution_count": 6,
     "metadata": {},
     "output_type": "execute_result"
    }
   ],
   "execution_count": 6
  },
  {
   "metadata": {
    "ExecuteTime": {
     "end_time": "2025-06-05T08:10:46.064341Z",
     "start_time": "2025-06-05T08:10:46.062285Z"
    }
   },
   "cell_type": "code",
   "source": "Point = type(\"Point\", (), {\"x\": 5, \"y\": 8, \"calcul\":lambda self:self.x + self.y})",
   "id": "f849aa8d25056887",
   "outputs": [],
   "execution_count": 15
  },
  {
   "metadata": {
    "ExecuteTime": {
     "end_time": "2025-06-05T08:10:46.353188Z",
     "start_time": "2025-06-05T08:10:46.350028Z"
    }
   },
   "cell_type": "code",
   "source": "p = Point()",
   "id": "1be384f08732bf5",
   "outputs": [],
   "execution_count": 16
  },
  {
   "metadata": {
    "ExecuteTime": {
     "end_time": "2025-06-05T08:10:46.781774Z",
     "start_time": "2025-06-05T08:10:46.778317Z"
    }
   },
   "cell_type": "code",
   "source": "p.x",
   "id": "b8c9f13f9d9ff54a",
   "outputs": [
    {
     "data": {
      "text/plain": [
       "5"
      ]
     },
     "execution_count": 17,
     "metadata": {},
     "output_type": "execute_result"
    }
   ],
   "execution_count": 17
  },
  {
   "metadata": {
    "ExecuteTime": {
     "end_time": "2025-06-05T08:10:49.262964Z",
     "start_time": "2025-06-05T08:10:49.260590Z"
    }
   },
   "cell_type": "code",
   "source": "p.calcul()",
   "id": "7dbcfa5ffe248dd6",
   "outputs": [
    {
     "data": {
      "text/plain": [
       "13"
      ]
     },
     "execution_count": 18,
     "metadata": {},
     "output_type": "execute_result"
    }
   ],
   "execution_count": 18
  },
  {
   "metadata": {
    "ExecuteTime": {
     "end_time": "2025-06-05T08:12:03.703198Z",
     "start_time": "2025-06-05T08:12:03.701589Z"
    }
   },
   "cell_type": "code",
   "source": "l = lambda x:x**2",
   "id": "94da960257c8fc98",
   "outputs": [],
   "execution_count": 19
  },
  {
   "metadata": {
    "ExecuteTime": {
     "end_time": "2025-06-05T08:12:10.690254Z",
     "start_time": "2025-06-05T08:12:10.686818Z"
    }
   },
   "cell_type": "code",
   "source": "type(l)",
   "id": "338c69541df230bd",
   "outputs": [
    {
     "data": {
      "text/plain": [
       "function"
      ]
     },
     "execution_count": 20,
     "metadata": {},
     "output_type": "execute_result"
    }
   ],
   "execution_count": 20
  },
  {
   "metadata": {
    "ExecuteTime": {
     "end_time": "2025-06-05T08:12:25.602936Z",
     "start_time": "2025-06-05T08:12:25.599035Z"
    }
   },
   "cell_type": "code",
   "source": "l(3)",
   "id": "27b9a5ab29df5b26",
   "outputs": [
    {
     "data": {
      "text/plain": [
       "9"
      ]
     },
     "execution_count": 21,
     "metadata": {},
     "output_type": "execute_result"
    }
   ],
   "execution_count": 21
  },
  {
   "metadata": {
    "ExecuteTime": {
     "end_time": "2025-06-05T08:25:15.492828Z",
     "start_time": "2025-06-05T08:25:15.488483Z"
    }
   },
   "cell_type": "code",
   "source": [
    "class DemoMeta(type):\n",
    "    def __call__(cls, *args, **kwargs):\n",
    "        print(\"Im Call\")\n",
    "        return super().__call__(*args, **kwargs)\n",
    "\n",
    "    def __new__(cls, name, bases, attrs):\n",
    "        print(\"Im New\")\n",
    "        return super().__new__(cls, name, bases, attrs)\n",
    "    def __init__(self, *args, **kwargs):\n",
    "        print(\"Im Init\")\n",
    "        super().__init__(*args, **kwargs)\n",
    "\n",
    "\n",
    "class DemoClass(metaclass=DemoMeta):\n",
    "    pass"
   ],
   "id": "d6dc2c2fbd5a3232",
   "outputs": [
    {
     "name": "stdout",
     "output_type": "stream",
     "text": [
      "Im New\n",
      "Im Init\n"
     ]
    }
   ],
   "execution_count": 27
  },
  {
   "metadata": {
    "ExecuteTime": {
     "end_time": "2025-06-05T08:25:48.982205Z",
     "start_time": "2025-06-05T08:25:48.977958Z"
    }
   },
   "cell_type": "code",
   "source": "DemoClass()",
   "id": "efc89640a309d295",
   "outputs": [
    {
     "name": "stdout",
     "output_type": "stream",
     "text": [
      "Im Call\n"
     ]
    },
    {
     "data": {
      "text/plain": [
       "<__main__.DemoClass at 0x11127b770>"
      ]
     },
     "execution_count": 29,
     "metadata": {},
     "output_type": "execute_result"
    }
   ],
   "execution_count": 29
  },
  {
   "metadata": {},
   "cell_type": "code",
   "outputs": [],
   "execution_count": null,
   "source": "",
   "id": "435bb6c7c8e190fd"
  }
 ],
 "metadata": {
  "kernelspec": {
   "display_name": "Python 3",
   "language": "python",
   "name": "python3"
  },
  "language_info": {
   "codemirror_mode": {
    "name": "ipython",
    "version": 2
   },
   "file_extension": ".py",
   "mimetype": "text/x-python",
   "name": "python",
   "nbconvert_exporter": "python",
   "pygments_lexer": "ipython2",
   "version": "2.7.6"
  }
 },
 "nbformat": 4,
 "nbformat_minor": 5
}
